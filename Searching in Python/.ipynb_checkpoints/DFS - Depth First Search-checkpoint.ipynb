{
 "cells": [
  {
   "cell_type": "markdown",
   "id": "57433798",
   "metadata": {},
   "source": [
    "# Depth First Search\n",
    "\n",
    "Depth First Search (DFS) is a fundamental algorithm used to traverse or search tree or graph data structures. It explores as far as possible along each branch before backtracking. This method uses a stack (explicitly or implicitly through recursion) to keep track of the vertices to be visited, diving deep into a graph by moving to an adjacent, unvisited vertex whenever possible, and backtracking when it reaches a vertex with no unvisited adjacent vertices. DFS is utilized in many applications, including solving puzzles, maze problems, and analyzing network connectivity."
   ]
  },
  {
   "cell_type": "code",
   "execution_count": 53,
   "id": "c5130ce6",
   "metadata": {},
   "outputs": [],
   "source": [
    "graph = {\n",
    "    'A': ['B', 'C'],\n",
    "    'B': ['D', 'E'],\n",
    "    'C': ['F'],\n",
    "    'D': [],\n",
    "    'E': ['F'],\n",
    "    'F': []\n",
    "}"
   ]
  },
  {
   "cell_type": "markdown",
   "id": "9f8fbc85",
   "metadata": {},
   "source": [
    "Graph of above data:\n",
    "\n",
    "```  \n",
    "\n",
    "    A\n",
    "   / \\\n",
    "  B   C\n",
    " / \\   \\\n",
    "D   E   F\n",
    "     \\\n",
    "      F\n",
    "\n",
    "```"
   ]
  },
  {
   "cell_type": "code",
   "execution_count": 54,
   "id": "532cabbe",
   "metadata": {},
   "outputs": [],
   "source": [
    "visited = set() # set to keep track of visited nodes"
   ]
  },
  {
   "cell_type": "code",
   "execution_count": 55,
   "id": "3701446b",
   "metadata": {},
   "outputs": [],
   "source": [
    "def dfs(visited, graph, node):\n",
    "    if node not in visited:\n",
    "        print(node)\n",
    "        visited.add(node)\n",
    "        for neighbour in graph[node]:\n",
    "            dfs(visited, graph, neighbour)"
   ]
  },
  {
   "cell_type": "code",
   "execution_count": 56,
   "id": "9abab7e8",
   "metadata": {},
   "outputs": [
    {
     "name": "stdout",
     "output_type": "stream",
     "text": [
      "E\n",
      "F\n"
     ]
    }
   ],
   "source": [
    "dfs(visited, graph, 'E')"
   ]
  }
 ],
 "metadata": {
  "kernelspec": {
   "display_name": "Python 3.10 (nn)",
   "language": "python",
   "name": "nn"
  },
  "language_info": {
   "codemirror_mode": {
    "name": "ipython",
    "version": 3
   },
   "file_extension": ".py",
   "mimetype": "text/x-python",
   "name": "python",
   "nbconvert_exporter": "python",
   "pygments_lexer": "ipython3",
   "version": "3.10.11"
  }
 },
 "nbformat": 4,
 "nbformat_minor": 5
}

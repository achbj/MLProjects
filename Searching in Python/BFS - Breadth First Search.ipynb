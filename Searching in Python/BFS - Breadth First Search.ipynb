{
 "cells": [
  {
   "cell_type": "markdown",
   "id": "d4174cdd",
   "metadata": {},
   "source": [
    "# Breadth First Search\n",
    "Breadth First Search (BFS) is a graph traversal algorithm that starts at a selected node and explores its neighbors at the present depth prior to moving on to the nodes at the next depth level. It uses a queue to keep track of the next node to visit. BFS is particularly useful for finding the shortest path on unweighted graphs, as it guarantees the minimum number of edges that must be traversed to reach a node from the starting point."
   ]
  },
  {
   "cell_type": "code",
   "execution_count": 1,
   "id": "fc5dd33e",
   "metadata": {},
   "outputs": [],
   "source": [
    "from collections import deque\n",
    "\n",
    "\n",
    "graph = {\n",
    "    'A': ['B', 'C'],\n",
    "    'B': ['D', 'E'],\n",
    "    'C': ['F'],\n",
    "    'D': [],\n",
    "    'E': ['F'],\n",
    "    'F': []\n",
    "}\n",
    "\n",
    "\n"
   ]
  },
  {
   "cell_type": "markdown",
   "id": "c40c8e88",
   "metadata": {},
   "source": [
    "Graph of above data:\n",
    "\n",
    "```  \n",
    "\n",
    "    A\n",
    "   / \\\n",
    "  B   C\n",
    " / \\   \\\n",
    "D   E   F\n",
    "     \\\n",
    "      F\n",
    "\n",
    "```"
   ]
  },
  {
   "cell_type": "code",
   "execution_count": 2,
   "id": "60483bdc",
   "metadata": {},
   "outputs": [],
   "source": [
    "def bfs(visited, graph, node):\n",
    "    visited.add(node)\n",
    "    queue = deque([node])\n",
    "    \n",
    "    while queue:\n",
    "        s = queue.popleft()\n",
    "        print(s)\n",
    "        for neighbour in graph[s]:\n",
    "            if neighbour not in visited:\n",
    "                visited.add(neighbour)\n",
    "                queue.append(neighbour)\n",
    "\n"
   ]
  },
  {
   "cell_type": "code",
   "execution_count": 6,
   "id": "61bffd01",
   "metadata": {},
   "outputs": [
    {
     "name": "stdout",
     "output_type": "stream",
     "text": [
      "A\n",
      "B\n",
      "C\n",
      "D\n",
      "E\n",
      "F\n"
     ]
    }
   ],
   "source": [
    "visited = set()\n",
    "bfs(visited, graph, 'A')"
   ]
  },
  {
   "cell_type": "code",
   "execution_count": null,
   "id": "0d5aad1a",
   "metadata": {},
   "outputs": [],
   "source": []
  }
 ],
 "metadata": {
  "kernelspec": {
   "display_name": "Python 3.10 (nn)",
   "language": "python",
   "name": "nn"
  },
  "language_info": {
   "codemirror_mode": {
    "name": "ipython",
    "version": 3
   },
   "file_extension": ".py",
   "mimetype": "text/x-python",
   "name": "python",
   "nbconvert_exporter": "python",
   "pygments_lexer": "ipython3",
   "version": "3.10.11"
  }
 },
 "nbformat": 4,
 "nbformat_minor": 5
}

{
 "cells": [
  {
   "cell_type": "code",
   "execution_count": 1,
   "id": "f2789472",
   "metadata": {},
   "outputs": [],
   "source": [
    "import numpy as np\n",
    "import pandas as pd\n",
    "import matplotlib.pyplot as plt\n",
    "import seaborn as sns"
   ]
  },
  {
   "cell_type": "code",
   "execution_count": 2,
   "id": "cf5bdec7",
   "metadata": {},
   "outputs": [
    {
     "data": {
      "text/html": [
       "<div>\n",
       "<style scoped>\n",
       "    .dataframe tbody tr th:only-of-type {\n",
       "        vertical-align: middle;\n",
       "    }\n",
       "\n",
       "    .dataframe tbody tr th {\n",
       "        vertical-align: top;\n",
       "    }\n",
       "\n",
       "    .dataframe thead th {\n",
       "        text-align: right;\n",
       "    }\n",
       "</style>\n",
       "<table border=\"1\" class=\"dataframe\">\n",
       "  <thead>\n",
       "    <tr style=\"text-align: right;\">\n",
       "      <th></th>\n",
       "      <th>Make</th>\n",
       "      <th>Model</th>\n",
       "      <th>Price</th>\n",
       "      <th>Year</th>\n",
       "      <th>Kilometer</th>\n",
       "      <th>Fuel Type</th>\n",
       "      <th>Transmission</th>\n",
       "      <th>Location</th>\n",
       "      <th>Color</th>\n",
       "      <th>Owner</th>\n",
       "      <th>Seller Type</th>\n",
       "      <th>Engine</th>\n",
       "      <th>Max Power</th>\n",
       "      <th>Max Torque</th>\n",
       "      <th>Drivetrain</th>\n",
       "      <th>Length</th>\n",
       "      <th>Width</th>\n",
       "      <th>Height</th>\n",
       "      <th>Seating Capacity</th>\n",
       "      <th>Fuel Tank Capacity</th>\n",
       "    </tr>\n",
       "  </thead>\n",
       "  <tbody>\n",
       "    <tr>\n",
       "      <th>0</th>\n",
       "      <td>Honda</td>\n",
       "      <td>Amaze 1.2 VX i-VTEC</td>\n",
       "      <td>505000</td>\n",
       "      <td>2017</td>\n",
       "      <td>87150</td>\n",
       "      <td>Petrol</td>\n",
       "      <td>Manual</td>\n",
       "      <td>Pune</td>\n",
       "      <td>Grey</td>\n",
       "      <td>First</td>\n",
       "      <td>Corporate</td>\n",
       "      <td>1198 cc</td>\n",
       "      <td>87 bhp @ 6000 rpm</td>\n",
       "      <td>109 Nm @ 4500 rpm</td>\n",
       "      <td>FWD</td>\n",
       "      <td>3990.0</td>\n",
       "      <td>1680.0</td>\n",
       "      <td>1505.0</td>\n",
       "      <td>5.0</td>\n",
       "      <td>35.0</td>\n",
       "    </tr>\n",
       "    <tr>\n",
       "      <th>1</th>\n",
       "      <td>Maruti Suzuki</td>\n",
       "      <td>Swift DZire VDI</td>\n",
       "      <td>450000</td>\n",
       "      <td>2014</td>\n",
       "      <td>75000</td>\n",
       "      <td>Diesel</td>\n",
       "      <td>Manual</td>\n",
       "      <td>Ludhiana</td>\n",
       "      <td>White</td>\n",
       "      <td>Second</td>\n",
       "      <td>Individual</td>\n",
       "      <td>1248 cc</td>\n",
       "      <td>74 bhp @ 4000 rpm</td>\n",
       "      <td>190 Nm @ 2000 rpm</td>\n",
       "      <td>FWD</td>\n",
       "      <td>3995.0</td>\n",
       "      <td>1695.0</td>\n",
       "      <td>1555.0</td>\n",
       "      <td>5.0</td>\n",
       "      <td>42.0</td>\n",
       "    </tr>\n",
       "    <tr>\n",
       "      <th>2</th>\n",
       "      <td>Hyundai</td>\n",
       "      <td>i10 Magna 1.2 Kappa2</td>\n",
       "      <td>220000</td>\n",
       "      <td>2011</td>\n",
       "      <td>67000</td>\n",
       "      <td>Petrol</td>\n",
       "      <td>Manual</td>\n",
       "      <td>Lucknow</td>\n",
       "      <td>Maroon</td>\n",
       "      <td>First</td>\n",
       "      <td>Individual</td>\n",
       "      <td>1197 cc</td>\n",
       "      <td>79 bhp @ 6000 rpm</td>\n",
       "      <td>112.7619 Nm @ 4000 rpm</td>\n",
       "      <td>FWD</td>\n",
       "      <td>3585.0</td>\n",
       "      <td>1595.0</td>\n",
       "      <td>1550.0</td>\n",
       "      <td>5.0</td>\n",
       "      <td>35.0</td>\n",
       "    </tr>\n",
       "    <tr>\n",
       "      <th>3</th>\n",
       "      <td>Toyota</td>\n",
       "      <td>Glanza G</td>\n",
       "      <td>799000</td>\n",
       "      <td>2019</td>\n",
       "      <td>37500</td>\n",
       "      <td>Petrol</td>\n",
       "      <td>Manual</td>\n",
       "      <td>Mangalore</td>\n",
       "      <td>Red</td>\n",
       "      <td>First</td>\n",
       "      <td>Individual</td>\n",
       "      <td>1197 cc</td>\n",
       "      <td>82 bhp @ 6000 rpm</td>\n",
       "      <td>113 Nm @ 4200 rpm</td>\n",
       "      <td>FWD</td>\n",
       "      <td>3995.0</td>\n",
       "      <td>1745.0</td>\n",
       "      <td>1510.0</td>\n",
       "      <td>5.0</td>\n",
       "      <td>37.0</td>\n",
       "    </tr>\n",
       "    <tr>\n",
       "      <th>4</th>\n",
       "      <td>Toyota</td>\n",
       "      <td>Innova 2.4 VX 7 STR [2016-2020]</td>\n",
       "      <td>1950000</td>\n",
       "      <td>2018</td>\n",
       "      <td>69000</td>\n",
       "      <td>Diesel</td>\n",
       "      <td>Manual</td>\n",
       "      <td>Mumbai</td>\n",
       "      <td>Grey</td>\n",
       "      <td>First</td>\n",
       "      <td>Individual</td>\n",
       "      <td>2393 cc</td>\n",
       "      <td>148 bhp @ 3400 rpm</td>\n",
       "      <td>343 Nm @ 1400 rpm</td>\n",
       "      <td>RWD</td>\n",
       "      <td>4735.0</td>\n",
       "      <td>1830.0</td>\n",
       "      <td>1795.0</td>\n",
       "      <td>7.0</td>\n",
       "      <td>55.0</td>\n",
       "    </tr>\n",
       "  </tbody>\n",
       "</table>\n",
       "</div>"
      ],
      "text/plain": [
       "            Make                            Model    Price  Year  Kilometer  \\\n",
       "0          Honda              Amaze 1.2 VX i-VTEC   505000  2017      87150   \n",
       "1  Maruti Suzuki                  Swift DZire VDI   450000  2014      75000   \n",
       "2        Hyundai             i10 Magna 1.2 Kappa2   220000  2011      67000   \n",
       "3         Toyota                         Glanza G   799000  2019      37500   \n",
       "4         Toyota  Innova 2.4 VX 7 STR [2016-2020]  1950000  2018      69000   \n",
       "\n",
       "  Fuel Type Transmission   Location   Color   Owner Seller Type   Engine  \\\n",
       "0    Petrol       Manual       Pune    Grey   First   Corporate  1198 cc   \n",
       "1    Diesel       Manual   Ludhiana   White  Second  Individual  1248 cc   \n",
       "2    Petrol       Manual    Lucknow  Maroon   First  Individual  1197 cc   \n",
       "3    Petrol       Manual  Mangalore     Red   First  Individual  1197 cc   \n",
       "4    Diesel       Manual     Mumbai    Grey   First  Individual  2393 cc   \n",
       "\n",
       "            Max Power              Max Torque Drivetrain  Length   Width  \\\n",
       "0   87 bhp @ 6000 rpm       109 Nm @ 4500 rpm        FWD  3990.0  1680.0   \n",
       "1   74 bhp @ 4000 rpm       190 Nm @ 2000 rpm        FWD  3995.0  1695.0   \n",
       "2   79 bhp @ 6000 rpm  112.7619 Nm @ 4000 rpm        FWD  3585.0  1595.0   \n",
       "3   82 bhp @ 6000 rpm       113 Nm @ 4200 rpm        FWD  3995.0  1745.0   \n",
       "4  148 bhp @ 3400 rpm       343 Nm @ 1400 rpm        RWD  4735.0  1830.0   \n",
       "\n",
       "   Height  Seating Capacity  Fuel Tank Capacity  \n",
       "0  1505.0               5.0                35.0  \n",
       "1  1555.0               5.0                42.0  \n",
       "2  1550.0               5.0                35.0  \n",
       "3  1510.0               5.0                37.0  \n",
       "4  1795.0               7.0                55.0  "
      ]
     },
     "execution_count": 2,
     "metadata": {},
     "output_type": "execute_result"
    }
   ],
   "source": [
    "df = pd.read_csv('./car details v4.csv')\n",
    "df.head()"
   ]
  },
  {
   "cell_type": "code",
   "execution_count": 3,
   "id": "bc278d6f",
   "metadata": {},
   "outputs": [
    {
     "data": {
      "text/plain": [
       "X1 sDrive20d xLine                 15\n",
       "Swift DZire VDI                    14\n",
       "City V                             13\n",
       "Fortuner 2.8 4x2 AT [2016-2020]    13\n",
       "Swift DZire VXI                    12\n",
       "                                   ..\n",
       "XF R 5.0 V8 Supercharged            1\n",
       "Pajero SFX 2.8                      1\n",
       "Etios G                             1\n",
       "Marazzo M6 Plus 8 STR               1\n",
       "Figo Duratec Petrol ZXI 1.2         1\n",
       "Name: Model, Length: 1050, dtype: int64"
      ]
     },
     "execution_count": 3,
     "metadata": {},
     "output_type": "execute_result"
    }
   ],
   "source": [
    "df['Model'].value_counts()"
   ]
  },
  {
   "cell_type": "code",
   "execution_count": 4,
   "id": "47e9c63b",
   "metadata": {},
   "outputs": [
    {
     "name": "stdout",
     "output_type": "stream",
     "text": [
      "<class 'pandas.core.frame.DataFrame'>\n",
      "RangeIndex: 2059 entries, 0 to 2058\n",
      "Data columns (total 20 columns):\n",
      " #   Column              Non-Null Count  Dtype  \n",
      "---  ------              --------------  -----  \n",
      " 0   Make                2059 non-null   object \n",
      " 1   Model               2059 non-null   object \n",
      " 2   Price               2059 non-null   int64  \n",
      " 3   Year                2059 non-null   int64  \n",
      " 4   Kilometer           2059 non-null   int64  \n",
      " 5   Fuel Type           2059 non-null   object \n",
      " 6   Transmission        2059 non-null   object \n",
      " 7   Location            2059 non-null   object \n",
      " 8   Color               2059 non-null   object \n",
      " 9   Owner               2059 non-null   object \n",
      " 10  Seller Type         2059 non-null   object \n",
      " 11  Engine              1979 non-null   object \n",
      " 12  Max Power           1979 non-null   object \n",
      " 13  Max Torque          1979 non-null   object \n",
      " 14  Drivetrain          1923 non-null   object \n",
      " 15  Length              1995 non-null   float64\n",
      " 16  Width               1995 non-null   float64\n",
      " 17  Height              1995 non-null   float64\n",
      " 18  Seating Capacity    1995 non-null   float64\n",
      " 19  Fuel Tank Capacity  1946 non-null   float64\n",
      "dtypes: float64(5), int64(3), object(12)\n",
      "memory usage: 321.8+ KB\n"
     ]
    }
   ],
   "source": [
    "df.info()"
   ]
  },
  {
   "cell_type": "markdown",
   "id": "2a9cf70f",
   "metadata": {},
   "source": [
    "There are too many features with object datatype, so let's see how many unique values do we have in object data types features"
   ]
  },
  {
   "cell_type": "code",
   "execution_count": 5,
   "id": "48814ebf",
   "metadata": {},
   "outputs": [
    {
     "data": {
      "text/plain": [
       "Make                  0.000000\n",
       "Model                 0.000000\n",
       "Price                 0.000000\n",
       "Year                  0.000000\n",
       "Kilometer             0.000000\n",
       "Fuel Type             0.000000\n",
       "Transmission          0.000000\n",
       "Location              0.000000\n",
       "Color                 0.000000\n",
       "Owner                 0.000000\n",
       "Seller Type           0.000000\n",
       "Engine                3.885381\n",
       "Max Power             3.885381\n",
       "Max Torque            3.885381\n",
       "Drivetrain            6.605148\n",
       "Length                3.108305\n",
       "Width                 3.108305\n",
       "Height                3.108305\n",
       "Seating Capacity      3.108305\n",
       "Fuel Tank Capacity    5.488101\n",
       "dtype: float64"
      ]
     },
     "execution_count": 5,
     "metadata": {},
     "output_type": "execute_result"
    }
   ],
   "source": [
    "df.isnull().mean() * 100"
   ]
  },
  {
   "cell_type": "code",
   "execution_count": 6,
   "id": "90630b28",
   "metadata": {},
   "outputs": [
    {
     "data": {
      "text/plain": [
       "Make                    0\n",
       "Model                   0\n",
       "Price                   0\n",
       "Year                    0\n",
       "Kilometer               0\n",
       "Fuel Type               0\n",
       "Transmission            0\n",
       "Location                0\n",
       "Color                   0\n",
       "Owner                   0\n",
       "Seller Type             0\n",
       "Engine                 80\n",
       "Max Power              80\n",
       "Max Torque             80\n",
       "Drivetrain            136\n",
       "Length                 64\n",
       "Width                  64\n",
       "Height                 64\n",
       "Seating Capacity       64\n",
       "Fuel Tank Capacity    113\n",
       "dtype: int64"
      ]
     },
     "execution_count": 6,
     "metadata": {},
     "output_type": "execute_result"
    }
   ],
   "source": [
    "df.isnull().sum()"
   ]
  },
  {
   "cell_type": "code",
   "execution_count": 7,
   "id": "27d0e88a",
   "metadata": {},
   "outputs": [],
   "source": [
    "df = df.dropna(axis=0)"
   ]
  },
  {
   "cell_type": "code",
   "execution_count": 8,
   "id": "bfe44ea6",
   "metadata": {},
   "outputs": [],
   "source": [
    "# function to count unique values in object column\n",
    "def object_count_unique(df):\n",
    "    for column in df.columns:\n",
    "        if df[column].dtypes == 'object':\n",
    "            print(f'{column}: {df[column].nunique()} | dtype: {df[column].dtype}')"
   ]
  },
  {
   "cell_type": "code",
   "execution_count": 9,
   "id": "51d620c9",
   "metadata": {},
   "outputs": [
    {
     "name": "stdout",
     "output_type": "stream",
     "text": [
      "Make: 32 | dtype: object\n",
      "Model: 955 | dtype: object\n",
      "Fuel Type: 7 | dtype: object\n",
      "Transmission: 2 | dtype: object\n",
      "Location: 75 | dtype: object\n",
      "Color: 16 | dtype: object\n",
      "Owner: 4 | dtype: object\n",
      "Seller Type: 3 | dtype: object\n",
      "Engine: 104 | dtype: object\n",
      "Max Power: 309 | dtype: object\n",
      "Max Torque: 264 | dtype: object\n",
      "Drivetrain: 3 | dtype: object\n"
     ]
    }
   ],
   "source": [
    "object_count_unique(df)"
   ]
  },
  {
   "cell_type": "code",
   "execution_count": 10,
   "id": "79a7eace",
   "metadata": {},
   "outputs": [
    {
     "data": {
      "text/html": [
       "<div>\n",
       "<style scoped>\n",
       "    .dataframe tbody tr th:only-of-type {\n",
       "        vertical-align: middle;\n",
       "    }\n",
       "\n",
       "    .dataframe tbody tr th {\n",
       "        vertical-align: top;\n",
       "    }\n",
       "\n",
       "    .dataframe thead th {\n",
       "        text-align: right;\n",
       "    }\n",
       "</style>\n",
       "<table border=\"1\" class=\"dataframe\">\n",
       "  <thead>\n",
       "    <tr style=\"text-align: right;\">\n",
       "      <th></th>\n",
       "      <th>Make</th>\n",
       "      <th>Model</th>\n",
       "      <th>Price</th>\n",
       "      <th>Year</th>\n",
       "      <th>Kilometer</th>\n",
       "      <th>Fuel Type</th>\n",
       "      <th>Transmission</th>\n",
       "      <th>Location</th>\n",
       "      <th>Color</th>\n",
       "      <th>Owner</th>\n",
       "      <th>Seller Type</th>\n",
       "      <th>Engine</th>\n",
       "      <th>Max Power</th>\n",
       "      <th>Max Torque</th>\n",
       "      <th>Drivetrain</th>\n",
       "      <th>Length</th>\n",
       "      <th>Width</th>\n",
       "      <th>Height</th>\n",
       "      <th>Seating Capacity</th>\n",
       "      <th>Fuel Tank Capacity</th>\n",
       "    </tr>\n",
       "  </thead>\n",
       "  <tbody>\n",
       "    <tr>\n",
       "      <th>0</th>\n",
       "      <td>Honda</td>\n",
       "      <td>Amaze 1.2 VX i-VTEC</td>\n",
       "      <td>505000</td>\n",
       "      <td>2017</td>\n",
       "      <td>87150</td>\n",
       "      <td>Petrol</td>\n",
       "      <td>Manual</td>\n",
       "      <td>Pune</td>\n",
       "      <td>Grey</td>\n",
       "      <td>First</td>\n",
       "      <td>Corporate</td>\n",
       "      <td>1198 cc</td>\n",
       "      <td>87 bhp @ 6000 rpm</td>\n",
       "      <td>109 Nm @ 4500 rpm</td>\n",
       "      <td>FWD</td>\n",
       "      <td>3990.0</td>\n",
       "      <td>1680.0</td>\n",
       "      <td>1505.0</td>\n",
       "      <td>5.0</td>\n",
       "      <td>35.0</td>\n",
       "    </tr>\n",
       "    <tr>\n",
       "      <th>1</th>\n",
       "      <td>Maruti Suzuki</td>\n",
       "      <td>Swift DZire VDI</td>\n",
       "      <td>450000</td>\n",
       "      <td>2014</td>\n",
       "      <td>75000</td>\n",
       "      <td>Diesel</td>\n",
       "      <td>Manual</td>\n",
       "      <td>Ludhiana</td>\n",
       "      <td>White</td>\n",
       "      <td>Second</td>\n",
       "      <td>Individual</td>\n",
       "      <td>1248 cc</td>\n",
       "      <td>74 bhp @ 4000 rpm</td>\n",
       "      <td>190 Nm @ 2000 rpm</td>\n",
       "      <td>FWD</td>\n",
       "      <td>3995.0</td>\n",
       "      <td>1695.0</td>\n",
       "      <td>1555.0</td>\n",
       "      <td>5.0</td>\n",
       "      <td>42.0</td>\n",
       "    </tr>\n",
       "    <tr>\n",
       "      <th>2</th>\n",
       "      <td>Hyundai</td>\n",
       "      <td>i10 Magna 1.2 Kappa2</td>\n",
       "      <td>220000</td>\n",
       "      <td>2011</td>\n",
       "      <td>67000</td>\n",
       "      <td>Petrol</td>\n",
       "      <td>Manual</td>\n",
       "      <td>Lucknow</td>\n",
       "      <td>Maroon</td>\n",
       "      <td>First</td>\n",
       "      <td>Individual</td>\n",
       "      <td>1197 cc</td>\n",
       "      <td>79 bhp @ 6000 rpm</td>\n",
       "      <td>112.7619 Nm @ 4000 rpm</td>\n",
       "      <td>FWD</td>\n",
       "      <td>3585.0</td>\n",
       "      <td>1595.0</td>\n",
       "      <td>1550.0</td>\n",
       "      <td>5.0</td>\n",
       "      <td>35.0</td>\n",
       "    </tr>\n",
       "    <tr>\n",
       "      <th>3</th>\n",
       "      <td>Toyota</td>\n",
       "      <td>Glanza G</td>\n",
       "      <td>799000</td>\n",
       "      <td>2019</td>\n",
       "      <td>37500</td>\n",
       "      <td>Petrol</td>\n",
       "      <td>Manual</td>\n",
       "      <td>Mangalore</td>\n",
       "      <td>Red</td>\n",
       "      <td>First</td>\n",
       "      <td>Individual</td>\n",
       "      <td>1197 cc</td>\n",
       "      <td>82 bhp @ 6000 rpm</td>\n",
       "      <td>113 Nm @ 4200 rpm</td>\n",
       "      <td>FWD</td>\n",
       "      <td>3995.0</td>\n",
       "      <td>1745.0</td>\n",
       "      <td>1510.0</td>\n",
       "      <td>5.0</td>\n",
       "      <td>37.0</td>\n",
       "    </tr>\n",
       "    <tr>\n",
       "      <th>4</th>\n",
       "      <td>Toyota</td>\n",
       "      <td>Innova 2.4 VX 7 STR [2016-2020]</td>\n",
       "      <td>1950000</td>\n",
       "      <td>2018</td>\n",
       "      <td>69000</td>\n",
       "      <td>Diesel</td>\n",
       "      <td>Manual</td>\n",
       "      <td>Mumbai</td>\n",
       "      <td>Grey</td>\n",
       "      <td>First</td>\n",
       "      <td>Individual</td>\n",
       "      <td>2393 cc</td>\n",
       "      <td>148 bhp @ 3400 rpm</td>\n",
       "      <td>343 Nm @ 1400 rpm</td>\n",
       "      <td>RWD</td>\n",
       "      <td>4735.0</td>\n",
       "      <td>1830.0</td>\n",
       "      <td>1795.0</td>\n",
       "      <td>7.0</td>\n",
       "      <td>55.0</td>\n",
       "    </tr>\n",
       "  </tbody>\n",
       "</table>\n",
       "</div>"
      ],
      "text/plain": [
       "            Make                            Model    Price  Year  Kilometer  \\\n",
       "0          Honda              Amaze 1.2 VX i-VTEC   505000  2017      87150   \n",
       "1  Maruti Suzuki                  Swift DZire VDI   450000  2014      75000   \n",
       "2        Hyundai             i10 Magna 1.2 Kappa2   220000  2011      67000   \n",
       "3         Toyota                         Glanza G   799000  2019      37500   \n",
       "4         Toyota  Innova 2.4 VX 7 STR [2016-2020]  1950000  2018      69000   \n",
       "\n",
       "  Fuel Type Transmission   Location   Color   Owner Seller Type   Engine  \\\n",
       "0    Petrol       Manual       Pune    Grey   First   Corporate  1198 cc   \n",
       "1    Diesel       Manual   Ludhiana   White  Second  Individual  1248 cc   \n",
       "2    Petrol       Manual    Lucknow  Maroon   First  Individual  1197 cc   \n",
       "3    Petrol       Manual  Mangalore     Red   First  Individual  1197 cc   \n",
       "4    Diesel       Manual     Mumbai    Grey   First  Individual  2393 cc   \n",
       "\n",
       "            Max Power              Max Torque Drivetrain  Length   Width  \\\n",
       "0   87 bhp @ 6000 rpm       109 Nm @ 4500 rpm        FWD  3990.0  1680.0   \n",
       "1   74 bhp @ 4000 rpm       190 Nm @ 2000 rpm        FWD  3995.0  1695.0   \n",
       "2   79 bhp @ 6000 rpm  112.7619 Nm @ 4000 rpm        FWD  3585.0  1595.0   \n",
       "3   82 bhp @ 6000 rpm       113 Nm @ 4200 rpm        FWD  3995.0  1745.0   \n",
       "4  148 bhp @ 3400 rpm       343 Nm @ 1400 rpm        RWD  4735.0  1830.0   \n",
       "\n",
       "   Height  Seating Capacity  Fuel Tank Capacity  \n",
       "0  1505.0               5.0                35.0  \n",
       "1  1555.0               5.0                42.0  \n",
       "2  1550.0               5.0                35.0  \n",
       "3  1510.0               5.0                37.0  \n",
       "4  1795.0               7.0                55.0  "
      ]
     },
     "execution_count": 10,
     "metadata": {},
     "output_type": "execute_result"
    }
   ],
   "source": [
    "df.head()"
   ]
  },
  {
   "cell_type": "code",
   "execution_count": 11,
   "id": "53c047e7",
   "metadata": {},
   "outputs": [
    {
     "data": {
      "text/plain": [
       "array(['Petrol', 'Diesel', 'CNG', 'CNG + CNG', 'LPG', 'Hybrid',\n",
       "       'Petrol + CNG'], dtype=object)"
      ]
     },
     "execution_count": 11,
     "metadata": {},
     "output_type": "execute_result"
    }
   ],
   "source": [
    "df['Fuel Type'].unique()"
   ]
  },
  {
   "cell_type": "code",
   "execution_count": 12,
   "id": "9d837291",
   "metadata": {},
   "outputs": [],
   "source": [
    "new = df[['Max Power', 'Max Torque']]"
   ]
  },
  {
   "cell_type": "code",
   "execution_count": 13,
   "id": "78bc6422",
   "metadata": {},
   "outputs": [
    {
     "data": {
      "text/plain": [
       "Make                  0\n",
       "Model                 0\n",
       "Price                 0\n",
       "Year                  0\n",
       "Kilometer             0\n",
       "Fuel Type             0\n",
       "Transmission          0\n",
       "Location              0\n",
       "Color                 0\n",
       "Owner                 0\n",
       "Seller Type           0\n",
       "Engine                0\n",
       "Max Power             0\n",
       "Max Torque            0\n",
       "Drivetrain            0\n",
       "Length                0\n",
       "Width                 0\n",
       "Height                0\n",
       "Seating Capacity      0\n",
       "Fuel Tank Capacity    0\n",
       "dtype: int64"
      ]
     },
     "execution_count": 13,
     "metadata": {},
     "output_type": "execute_result"
    }
   ],
   "source": [
    "df.isnull().sum()"
   ]
  },
  {
   "cell_type": "code",
   "execution_count": null,
   "id": "248d584e",
   "metadata": {},
   "outputs": [],
   "source": [
    "\n"
   ]
  },
  {
   "cell_type": "code",
   "execution_count": 14,
   "id": "b3b3ed35",
   "metadata": {},
   "outputs": [],
   "source": [
    "pattern_pw = r'(\\d+)(?:\\s*bhp)?\\s*@\\s*(\\d+)(?:\\s*rpm)?'\n",
    "df[['Power', 'Power RPM']] = df['Max Power'].str.extract(pattern_pw).astype(float)"
   ]
  },
  {
   "cell_type": "code",
   "execution_count": 15,
   "id": "9dc25009",
   "metadata": {},
   "outputs": [],
   "source": [
    "pattern_trq = r'(\\d+)(?:\\s*Nm)?\\s*@\\s*(\\d+)(?:\\s*rpm)?'\n",
    "df[['Torque', 'Torque RPM']] = df['Max Torque'].str.extract(pattern_trq).astype(float)"
   ]
  },
  {
   "cell_type": "code",
   "execution_count": 16,
   "id": "4aa8cdea",
   "metadata": {},
   "outputs": [],
   "source": [
    "df = df.drop(columns=['Max Power', 'Max Torque'], axis=1)"
   ]
  },
  {
   "cell_type": "code",
   "execution_count": 17,
   "id": "6600bf76",
   "metadata": {},
   "outputs": [
    {
     "data": {
      "text/plain": [
       "Make                  0\n",
       "Model                 0\n",
       "Price                 0\n",
       "Year                  0\n",
       "Kilometer             0\n",
       "Fuel Type             0\n",
       "Transmission          0\n",
       "Location              0\n",
       "Color                 0\n",
       "Owner                 0\n",
       "Seller Type           0\n",
       "Engine                0\n",
       "Drivetrain            0\n",
       "Length                0\n",
       "Width                 0\n",
       "Height                0\n",
       "Seating Capacity      0\n",
       "Fuel Tank Capacity    0\n",
       "Power                 0\n",
       "Power RPM             0\n",
       "Torque                0\n",
       "Torque RPM            0\n",
       "dtype: int64"
      ]
     },
     "execution_count": 17,
     "metadata": {},
     "output_type": "execute_result"
    }
   ],
   "source": [
    "df.isnull().sum()"
   ]
  },
  {
   "cell_type": "code",
   "execution_count": 18,
   "id": "3c791f94",
   "metadata": {},
   "outputs": [
    {
     "data": {
      "text/html": [
       "<div>\n",
       "<style scoped>\n",
       "    .dataframe tbody tr th:only-of-type {\n",
       "        vertical-align: middle;\n",
       "    }\n",
       "\n",
       "    .dataframe tbody tr th {\n",
       "        vertical-align: top;\n",
       "    }\n",
       "\n",
       "    .dataframe thead th {\n",
       "        text-align: right;\n",
       "    }\n",
       "</style>\n",
       "<table border=\"1\" class=\"dataframe\">\n",
       "  <thead>\n",
       "    <tr style=\"text-align: right;\">\n",
       "      <th></th>\n",
       "      <th>Make</th>\n",
       "      <th>Model</th>\n",
       "      <th>Price</th>\n",
       "      <th>Year</th>\n",
       "      <th>Kilometer</th>\n",
       "      <th>Fuel Type</th>\n",
       "      <th>Transmission</th>\n",
       "      <th>Location</th>\n",
       "      <th>Color</th>\n",
       "      <th>Owner</th>\n",
       "      <th>...</th>\n",
       "      <th>Drivetrain</th>\n",
       "      <th>Length</th>\n",
       "      <th>Width</th>\n",
       "      <th>Height</th>\n",
       "      <th>Seating Capacity</th>\n",
       "      <th>Fuel Tank Capacity</th>\n",
       "      <th>Power</th>\n",
       "      <th>Power RPM</th>\n",
       "      <th>Torque</th>\n",
       "      <th>Torque RPM</th>\n",
       "    </tr>\n",
       "  </thead>\n",
       "  <tbody>\n",
       "  </tbody>\n",
       "</table>\n",
       "<p>0 rows × 22 columns</p>\n",
       "</div>"
      ],
      "text/plain": [
       "Empty DataFrame\n",
       "Columns: [Make, Model, Price, Year, Kilometer, Fuel Type, Transmission, Location, Color, Owner, Seller Type, Engine, Drivetrain, Length, Width, Height, Seating Capacity, Fuel Tank Capacity, Power, Power RPM, Torque, Torque RPM]\n",
       "Index: []\n",
       "\n",
       "[0 rows x 22 columns]"
      ]
     },
     "execution_count": 18,
     "metadata": {},
     "output_type": "execute_result"
    }
   ],
   "source": [
    "df[df.isna().any(axis=1)]"
   ]
  },
  {
   "cell_type": "code",
   "execution_count": 19,
   "id": "672ba74d",
   "metadata": {},
   "outputs": [
    {
     "name": "stdout",
     "output_type": "stream",
     "text": [
      "Make: 32 | dtype: object\n",
      "Model: 955 | dtype: object\n",
      "Fuel Type: 7 | dtype: object\n",
      "Transmission: 2 | dtype: object\n",
      "Location: 75 | dtype: object\n",
      "Color: 16 | dtype: object\n",
      "Owner: 4 | dtype: object\n",
      "Seller Type: 3 | dtype: object\n",
      "Engine: 104 | dtype: object\n",
      "Drivetrain: 3 | dtype: object\n"
     ]
    }
   ],
   "source": [
    "object_count_unique(df)"
   ]
  },
  {
   "cell_type": "code",
   "execution_count": 20,
   "id": "4f5875f2",
   "metadata": {},
   "outputs": [
    {
     "data": {
      "text/plain": [
       "array(['Manual', 'Automatic'], dtype=object)"
      ]
     },
     "execution_count": 20,
     "metadata": {},
     "output_type": "execute_result"
    }
   ],
   "source": [
    "df['Transmission'].unique()"
   ]
  },
  {
   "cell_type": "code",
   "execution_count": 21,
   "id": "e3e2c5ed",
   "metadata": {},
   "outputs": [],
   "source": [
    "obj_column = df.select_dtypes(include=['object']).columns.tolist()"
   ]
  },
  {
   "cell_type": "code",
   "execution_count": 22,
   "id": "10aa70e2",
   "metadata": {},
   "outputs": [],
   "source": [
    "from sklearn.preprocessing import LabelEncoder\n",
    "\n",
    "def encode_categorical_columns(df):\n",
    "    # Initialize a LabelEncoder\n",
    "    label_encoder = LabelEncoder()\n",
    "    \n",
    "    # List of object type columns with missing values\n",
    "    object_columns = df.select_dtypes(include=['object']).columns.tolist()\n",
    "    \n",
    "    # Encode each object column\n",
    "    for column in object_columns:\n",
    "        df[column] = label_encoder.fit_transform(df[column])\n",
    "    \n",
    "    return df"
   ]
  },
  {
   "cell_type": "code",
   "execution_count": 23,
   "id": "fda93e13",
   "metadata": {},
   "outputs": [],
   "source": [
    "encoded_df = encode_categorical_columns(df)"
   ]
  },
  {
   "cell_type": "code",
   "execution_count": 24,
   "id": "9451e3e6",
   "metadata": {},
   "outputs": [
    {
     "data": {
      "text/html": [
       "<div>\n",
       "<style scoped>\n",
       "    .dataframe tbody tr th:only-of-type {\n",
       "        vertical-align: middle;\n",
       "    }\n",
       "\n",
       "    .dataframe tbody tr th {\n",
       "        vertical-align: top;\n",
       "    }\n",
       "\n",
       "    .dataframe thead th {\n",
       "        text-align: right;\n",
       "    }\n",
       "</style>\n",
       "<table border=\"1\" class=\"dataframe\">\n",
       "  <thead>\n",
       "    <tr style=\"text-align: right;\">\n",
       "      <th></th>\n",
       "      <th>Make</th>\n",
       "      <th>Model</th>\n",
       "      <th>Price</th>\n",
       "      <th>Year</th>\n",
       "      <th>Kilometer</th>\n",
       "      <th>Fuel Type</th>\n",
       "      <th>Transmission</th>\n",
       "      <th>Location</th>\n",
       "      <th>Color</th>\n",
       "      <th>Owner</th>\n",
       "      <th>...</th>\n",
       "      <th>Drivetrain</th>\n",
       "      <th>Length</th>\n",
       "      <th>Width</th>\n",
       "      <th>Height</th>\n",
       "      <th>Seating Capacity</th>\n",
       "      <th>Fuel Tank Capacity</th>\n",
       "      <th>Power</th>\n",
       "      <th>Power RPM</th>\n",
       "      <th>Torque</th>\n",
       "      <th>Torque RPM</th>\n",
       "    </tr>\n",
       "  </thead>\n",
       "  <tbody>\n",
       "    <tr>\n",
       "      <th>0</th>\n",
       "      <td>7</td>\n",
       "      <td>92</td>\n",
       "      <td>505000</td>\n",
       "      <td>2017</td>\n",
       "      <td>87150</td>\n",
       "      <td>5</td>\n",
       "      <td>1</td>\n",
       "      <td>56</td>\n",
       "      <td>7</td>\n",
       "      <td>0</td>\n",
       "      <td>...</td>\n",
       "      <td>1</td>\n",
       "      <td>3990.0</td>\n",
       "      <td>1680.0</td>\n",
       "      <td>1505.0</td>\n",
       "      <td>5.0</td>\n",
       "      <td>35.0</td>\n",
       "      <td>87.0</td>\n",
       "      <td>6000.0</td>\n",
       "      <td>109.0</td>\n",
       "      <td>4500.0</td>\n",
       "    </tr>\n",
       "    <tr>\n",
       "      <th>1</th>\n",
       "      <td>18</td>\n",
       "      <td>731</td>\n",
       "      <td>450000</td>\n",
       "      <td>2014</td>\n",
       "      <td>75000</td>\n",
       "      <td>2</td>\n",
       "      <td>1</td>\n",
       "      <td>40</td>\n",
       "      <td>14</td>\n",
       "      <td>1</td>\n",
       "      <td>...</td>\n",
       "      <td>1</td>\n",
       "      <td>3995.0</td>\n",
       "      <td>1695.0</td>\n",
       "      <td>1555.0</td>\n",
       "      <td>5.0</td>\n",
       "      <td>42.0</td>\n",
       "      <td>74.0</td>\n",
       "      <td>4000.0</td>\n",
       "      <td>190.0</td>\n",
       "      <td>2000.0</td>\n",
       "    </tr>\n",
       "    <tr>\n",
       "      <th>2</th>\n",
       "      <td>8</td>\n",
       "      <td>940</td>\n",
       "      <td>220000</td>\n",
       "      <td>2011</td>\n",
       "      <td>67000</td>\n",
       "      <td>5</td>\n",
       "      <td>1</td>\n",
       "      <td>39</td>\n",
       "      <td>8</td>\n",
       "      <td>0</td>\n",
       "      <td>...</td>\n",
       "      <td>1</td>\n",
       "      <td>3585.0</td>\n",
       "      <td>1595.0</td>\n",
       "      <td>1550.0</td>\n",
       "      <td>5.0</td>\n",
       "      <td>35.0</td>\n",
       "      <td>79.0</td>\n",
       "      <td>6000.0</td>\n",
       "      <td>7619.0</td>\n",
       "      <td>4000.0</td>\n",
       "    </tr>\n",
       "    <tr>\n",
       "      <th>3</th>\n",
       "      <td>29</td>\n",
       "      <td>453</td>\n",
       "      <td>799000</td>\n",
       "      <td>2019</td>\n",
       "      <td>37500</td>\n",
       "      <td>5</td>\n",
       "      <td>1</td>\n",
       "      <td>41</td>\n",
       "      <td>12</td>\n",
       "      <td>0</td>\n",
       "      <td>...</td>\n",
       "      <td>1</td>\n",
       "      <td>3995.0</td>\n",
       "      <td>1745.0</td>\n",
       "      <td>1510.0</td>\n",
       "      <td>5.0</td>\n",
       "      <td>37.0</td>\n",
       "      <td>82.0</td>\n",
       "      <td>6000.0</td>\n",
       "      <td>113.0</td>\n",
       "      <td>4200.0</td>\n",
       "    </tr>\n",
       "    <tr>\n",
       "      <th>4</th>\n",
       "      <td>29</td>\n",
       "      <td>503</td>\n",
       "      <td>1950000</td>\n",
       "      <td>2018</td>\n",
       "      <td>69000</td>\n",
       "      <td>2</td>\n",
       "      <td>1</td>\n",
       "      <td>45</td>\n",
       "      <td>7</td>\n",
       "      <td>0</td>\n",
       "      <td>...</td>\n",
       "      <td>2</td>\n",
       "      <td>4735.0</td>\n",
       "      <td>1830.0</td>\n",
       "      <td>1795.0</td>\n",
       "      <td>7.0</td>\n",
       "      <td>55.0</td>\n",
       "      <td>148.0</td>\n",
       "      <td>3400.0</td>\n",
       "      <td>343.0</td>\n",
       "      <td>1400.0</td>\n",
       "    </tr>\n",
       "    <tr>\n",
       "      <th>...</th>\n",
       "      <td>...</td>\n",
       "      <td>...</td>\n",
       "      <td>...</td>\n",
       "      <td>...</td>\n",
       "      <td>...</td>\n",
       "      <td>...</td>\n",
       "      <td>...</td>\n",
       "      <td>...</td>\n",
       "      <td>...</td>\n",
       "      <td>...</td>\n",
       "      <td>...</td>\n",
       "      <td>...</td>\n",
       "      <td>...</td>\n",
       "      <td>...</td>\n",
       "      <td>...</td>\n",
       "      <td>...</td>\n",
       "      <td>...</td>\n",
       "      <td>...</td>\n",
       "      <td>...</td>\n",
       "      <td>...</td>\n",
       "      <td>...</td>\n",
       "    </tr>\n",
       "    <tr>\n",
       "      <th>2053</th>\n",
       "      <td>18</td>\n",
       "      <td>641</td>\n",
       "      <td>245000</td>\n",
       "      <td>2014</td>\n",
       "      <td>79000</td>\n",
       "      <td>5</td>\n",
       "      <td>1</td>\n",
       "      <td>20</td>\n",
       "      <td>14</td>\n",
       "      <td>1</td>\n",
       "      <td>...</td>\n",
       "      <td>1</td>\n",
       "      <td>3775.0</td>\n",
       "      <td>1680.0</td>\n",
       "      <td>1620.0</td>\n",
       "      <td>5.0</td>\n",
       "      <td>43.0</td>\n",
       "      <td>85.0</td>\n",
       "      <td>6000.0</td>\n",
       "      <td>113.0</td>\n",
       "      <td>4500.0</td>\n",
       "    </tr>\n",
       "    <tr>\n",
       "      <th>2054</th>\n",
       "      <td>17</td>\n",
       "      <td>914</td>\n",
       "      <td>850000</td>\n",
       "      <td>2016</td>\n",
       "      <td>90300</td>\n",
       "      <td>2</td>\n",
       "      <td>1</td>\n",
       "      <td>66</td>\n",
       "      <td>14</td>\n",
       "      <td>0</td>\n",
       "      <td>...</td>\n",
       "      <td>1</td>\n",
       "      <td>4585.0</td>\n",
       "      <td>1890.0</td>\n",
       "      <td>1785.0</td>\n",
       "      <td>7.0</td>\n",
       "      <td>70.0</td>\n",
       "      <td>138.0</td>\n",
       "      <td>3750.0</td>\n",
       "      <td>330.0</td>\n",
       "      <td>1600.0</td>\n",
       "    </tr>\n",
       "    <tr>\n",
       "      <th>2055</th>\n",
       "      <td>8</td>\n",
       "      <td>379</td>\n",
       "      <td>275000</td>\n",
       "      <td>2014</td>\n",
       "      <td>83000</td>\n",
       "      <td>5</td>\n",
       "      <td>1</td>\n",
       "      <td>1</td>\n",
       "      <td>14</td>\n",
       "      <td>1</td>\n",
       "      <td>...</td>\n",
       "      <td>1</td>\n",
       "      <td>3495.0</td>\n",
       "      <td>1550.0</td>\n",
       "      <td>1500.0</td>\n",
       "      <td>5.0</td>\n",
       "      <td>32.0</td>\n",
       "      <td>55.0</td>\n",
       "      <td>5500.0</td>\n",
       "      <td>75.0</td>\n",
       "      <td>4000.0</td>\n",
       "    </tr>\n",
       "    <tr>\n",
       "      <th>2056</th>\n",
       "      <td>6</td>\n",
       "      <td>418</td>\n",
       "      <td>240000</td>\n",
       "      <td>2013</td>\n",
       "      <td>73000</td>\n",
       "      <td>5</td>\n",
       "      <td>1</td>\n",
       "      <td>67</td>\n",
       "      <td>13</td>\n",
       "      <td>0</td>\n",
       "      <td>...</td>\n",
       "      <td>1</td>\n",
       "      <td>3795.0</td>\n",
       "      <td>1680.0</td>\n",
       "      <td>1427.0</td>\n",
       "      <td>5.0</td>\n",
       "      <td>45.0</td>\n",
       "      <td>70.0</td>\n",
       "      <td>6250.0</td>\n",
       "      <td>102.0</td>\n",
       "      <td>4000.0</td>\n",
       "    </tr>\n",
       "    <tr>\n",
       "      <th>2057</th>\n",
       "      <td>1</td>\n",
       "      <td>9</td>\n",
       "      <td>4290000</td>\n",
       "      <td>2018</td>\n",
       "      <td>60474</td>\n",
       "      <td>2</td>\n",
       "      <td>0</td>\n",
       "      <td>12</td>\n",
       "      <td>14</td>\n",
       "      <td>0</td>\n",
       "      <td>...</td>\n",
       "      <td>2</td>\n",
       "      <td>4936.0</td>\n",
       "      <td>1868.0</td>\n",
       "      <td>1479.0</td>\n",
       "      <td>5.0</td>\n",
       "      <td>65.0</td>\n",
       "      <td>188.0</td>\n",
       "      <td>4000.0</td>\n",
       "      <td>400.0</td>\n",
       "      <td>1750.0</td>\n",
       "    </tr>\n",
       "  </tbody>\n",
       "</table>\n",
       "<p>1874 rows × 22 columns</p>\n",
       "</div>"
      ],
      "text/plain": [
       "      Make  Model    Price  Year  Kilometer  Fuel Type  Transmission  \\\n",
       "0        7     92   505000  2017      87150          5             1   \n",
       "1       18    731   450000  2014      75000          2             1   \n",
       "2        8    940   220000  2011      67000          5             1   \n",
       "3       29    453   799000  2019      37500          5             1   \n",
       "4       29    503  1950000  2018      69000          2             1   \n",
       "...    ...    ...      ...   ...        ...        ...           ...   \n",
       "2053    18    641   245000  2014      79000          5             1   \n",
       "2054    17    914   850000  2016      90300          2             1   \n",
       "2055     8    379   275000  2014      83000          5             1   \n",
       "2056     6    418   240000  2013      73000          5             1   \n",
       "2057     1      9  4290000  2018      60474          2             0   \n",
       "\n",
       "      Location  Color  Owner  ...  Drivetrain  Length   Width  Height  \\\n",
       "0           56      7      0  ...           1  3990.0  1680.0  1505.0   \n",
       "1           40     14      1  ...           1  3995.0  1695.0  1555.0   \n",
       "2           39      8      0  ...           1  3585.0  1595.0  1550.0   \n",
       "3           41     12      0  ...           1  3995.0  1745.0  1510.0   \n",
       "4           45      7      0  ...           2  4735.0  1830.0  1795.0   \n",
       "...        ...    ...    ...  ...         ...     ...     ...     ...   \n",
       "2053        20     14      1  ...           1  3775.0  1680.0  1620.0   \n",
       "2054        66     14      0  ...           1  4585.0  1890.0  1785.0   \n",
       "2055         1     14      1  ...           1  3495.0  1550.0  1500.0   \n",
       "2056        67     13      0  ...           1  3795.0  1680.0  1427.0   \n",
       "2057        12     14      0  ...           2  4936.0  1868.0  1479.0   \n",
       "\n",
       "      Seating Capacity  Fuel Tank Capacity  Power  Power RPM  Torque  \\\n",
       "0                  5.0                35.0   87.0     6000.0   109.0   \n",
       "1                  5.0                42.0   74.0     4000.0   190.0   \n",
       "2                  5.0                35.0   79.0     6000.0  7619.0   \n",
       "3                  5.0                37.0   82.0     6000.0   113.0   \n",
       "4                  7.0                55.0  148.0     3400.0   343.0   \n",
       "...                ...                 ...    ...        ...     ...   \n",
       "2053               5.0                43.0   85.0     6000.0   113.0   \n",
       "2054               7.0                70.0  138.0     3750.0   330.0   \n",
       "2055               5.0                32.0   55.0     5500.0    75.0   \n",
       "2056               5.0                45.0   70.0     6250.0   102.0   \n",
       "2057               5.0                65.0  188.0     4000.0   400.0   \n",
       "\n",
       "      Torque RPM  \n",
       "0         4500.0  \n",
       "1         2000.0  \n",
       "2         4000.0  \n",
       "3         4200.0  \n",
       "4         1400.0  \n",
       "...          ...  \n",
       "2053      4500.0  \n",
       "2054      1600.0  \n",
       "2055      4000.0  \n",
       "2056      4000.0  \n",
       "2057      1750.0  \n",
       "\n",
       "[1874 rows x 22 columns]"
      ]
     },
     "execution_count": 24,
     "metadata": {},
     "output_type": "execute_result"
    }
   ],
   "source": [
    "encoded_df"
   ]
  },
  {
   "cell_type": "code",
   "execution_count": 25,
   "id": "3b68f479",
   "metadata": {},
   "outputs": [
    {
     "data": {
      "text/plain": [
       "Index(['Make', 'Model', 'Price', 'Year', 'Kilometer', 'Fuel Type',\n",
       "       'Transmission', 'Location', 'Color', 'Owner', 'Seller Type', 'Engine',\n",
       "       'Drivetrain', 'Length', 'Width', 'Height', 'Seating Capacity',\n",
       "       'Fuel Tank Capacity', 'Power', 'Power RPM', 'Torque', 'Torque RPM'],\n",
       "      dtype='object')"
      ]
     },
     "execution_count": 25,
     "metadata": {},
     "output_type": "execute_result"
    }
   ],
   "source": [
    "df.columns"
   ]
  },
  {
   "cell_type": "code",
   "execution_count": 26,
   "id": "777e8f21",
   "metadata": {},
   "outputs": [],
   "source": [
    "X = encoded_df.drop(columns=['Price'], axis=1)\n",
    "y = np.log1p(encoded_df['Price'])"
   ]
  },
  {
   "cell_type": "code",
   "execution_count": 27,
   "id": "d1f9d62f",
   "metadata": {},
   "outputs": [
    {
     "data": {
      "text/plain": [
       "<Axes: >"
      ]
     },
     "execution_count": 27,
     "metadata": {},
     "output_type": "execute_result"
    },
    {
     "data": {
      "image/png": "[encoded data removed]",
      "text/plain": [
       "<Figure size 640x480 with 1 Axes>"
      ]
     },
     "metadata": {},
     "output_type": "display_data"
    }
   ],
   "source": [
    "encoded_df['Price'].hist(bins=40)"
   ]
  },
  {
   "cell_type": "code",
   "execution_count": 28,
   "id": "0de1808f",
   "metadata": {},
   "outputs": [
    {
     "data": {
      "text/plain": [
       "<Axes: >"
      ]
     },
     "execution_count": 28,
     "metadata": {},
     "output_type": "execute_result"
    },
    {
     "data": {
      "image/png": "[encoded data removed]",
      "text/plain": [
       "<Figure size 640x480 with 1 Axes>"
      ]
     },
     "metadata": {},
     "output_type": "display_data"
    }
   ],
   "source": [
    "y.hist(bins=40)"
   ]
  },
  {
   "cell_type": "code",
   "execution_count": 29,
   "id": "101c61db",
   "metadata": {},
   "outputs": [
    {
     "name": "stdout",
     "output_type": "stream",
     "text": [
      "Data Distribution of Price\n",
      "skewness: 4.937428915019126\n",
      "kurtosis: 40.03794809895493\n"
     ]
    }
   ],
   "source": [
    "print('Data Distribution of Price')\n",
    "skew = encoded_df['Price'].skew()\n",
    "kurt = encoded_df['Price'].kurt()\n",
    "print(f'skewness: {skew}')\n",
    "print(f'kurtosis: {kurt}')"
   ]
  },
  {
   "cell_type": "code",
   "execution_count": 30,
   "id": "253b7be0",
   "metadata": {},
   "outputs": [
    {
     "name": "stdout",
     "output_type": "stream",
     "text": [
      "Data Distribution of Price after log\n",
      "skewness: 0.5675368200020122\n",
      "kurtosis: -0.141564877207772\n"
     ]
    }
   ],
   "source": [
    "print('Data Distribution of Price after log')\n",
    "skew = y.skew()\n",
    "kurt = y.kurt()\n",
    "print(f'skewness: {skew}')\n",
    "print(f'kurtosis: {kurt}')"
   ]
  },
  {
   "cell_type": "code",
   "execution_count": 31,
   "id": "07c71574",
   "metadata": {},
   "outputs": [
    {
     "data": {
      "image/png": "[encoded data removed]",
      "text/plain": [
       "<Figure size 1200x500 with 2 Axes>"
      ]
     },
     "metadata": {},
     "output_type": "display_data"
    }
   ],
   "source": [
    "# Create a figure with two subplots\n",
    "plt.figure(figsize=(12, 5))\n",
    "\n",
    "# First subplot: Histogram of y_train\n",
    "plt.subplot(1, 2, 1)  # 1 row, 2 columns, first subplot\n",
    "plt.hist(encoded_df['Price'], bins=40, color='blue', alpha=0.7)\n",
    "plt.title(\"Histogram of Price\")\n",
    "plt.xlabel(\"Value\")\n",
    "plt.ylabel(\"Frequency\")\n",
    "\n",
    "# Second subplot: Histogram of train['LogPrice']\n",
    "plt.subplot(1, 2, 2)  # 1 row, 2 columns, second subplot\n",
    "plt.hist(y, bins=40, color='green', alpha=0.7)\n",
    "plt.title(\"Histogram of log(Price)\")\n",
    "plt.xlabel(\"Value\")\n",
    "plt.ylabel(\"Frequency\")\n",
    "\n",
    "# Adjust spacing between subplots\n",
    "plt.tight_layout()\n",
    "\n",
    "# Show the plots\n",
    "plt.show()"
   ]
  },
  {
   "cell_type": "code",
   "execution_count": 32,
   "id": "8851ac96",
   "metadata": {},
   "outputs": [],
   "source": [
    "from sklearn.preprocessing import StandardScaler\n",
    "\n",
    "scaler = StandardScaler()\n",
    "X_scaled = scaler.fit_transform(X)\n",
    "X_scaled = pd.DataFrame(X_scaled, columns=X.columns)"
   ]
  },
  {
   "cell_type": "code",
   "execution_count": 33,
   "id": "8c415aa3",
   "metadata": {},
   "outputs": [],
   "source": [
    "from sklearn.model_selection import train_test_split\n",
    "\n",
    "X_train, X_test, y_train, y_test = train_test_split(X_scaled, y, test_size=0.2, random_state=42)\n"
   ]
  },
  {
   "cell_type": "code",
   "execution_count": 34,
   "id": "b4ac4688",
   "metadata": {},
   "outputs": [],
   "source": [
    "from pycaret import *\n",
    "from pycaret.regression import *"
   ]
  },
  {
   "cell_type": "code",
   "execution_count": 35,
   "id": "3a98adfc",
   "metadata": {},
   "outputs": [
    {
     "data": {
      "text/html": [
       "<style type=\"text/css\">\n",
       "#T_e56e1_row8_col1 {\n",
       "  background-color: lightgreen;\n",
       "}\n",
       "</style>\n",
       "<table id=\"T_e56e1\">\n",
       "  <thead>\n",
       "    <tr>\n",
       "      <th class=\"blank level0\" >&nbsp;</th>\n",
       "      <th id=\"T_e56e1_level0_col0\" class=\"col_heading level0 col0\" >Description</th>\n",
       "      <th id=\"T_e56e1_level0_col1\" class=\"col_heading level0 col1\" >Value</th>\n",
       "    </tr>\n",
       "  </thead>\n",
       "  <tbody>\n",
       "    <tr>\n",
       "      <th id=\"T_e56e1_level0_row0\" class=\"row_heading level0 row0\" >0</th>\n",
       "      <td id=\"T_e56e1_row0_col0\" class=\"data row0 col0\" >Session id</td>\n",
       "      <td id=\"T_e56e1_row0_col1\" class=\"data row0 col1\" >3446</td>\n",
       "    </tr>\n",
       "    <tr>\n",
       "      <th id=\"T_e56e1_level0_row1\" class=\"row_heading level0 row1\" >1</th>\n",
       "      <td id=\"T_e56e1_row1_col0\" class=\"data row1 col0\" >Target</td>\n",
       "      <td id=\"T_e56e1_row1_col1\" class=\"data row1 col1\" >Price</td>\n",
       "    </tr>\n",
       "    <tr>\n",
       "      <th id=\"T_e56e1_level0_row2\" class=\"row_heading level0 row2\" >2</th>\n",
       "      <td id=\"T_e56e1_row2_col0\" class=\"data row2 col0\" >Target type</td>\n",
       "      <td id=\"T_e56e1_row2_col1\" class=\"data row2 col1\" >Regression</td>\n",
       "    </tr>\n",
       "    <tr>\n",
       "      <th id=\"T_e56e1_level0_row3\" class=\"row_heading level0 row3\" >3</th>\n",
       "      <td id=\"T_e56e1_row3_col0\" class=\"data row3 col0\" >Original data shape</td>\n",
       "      <td id=\"T_e56e1_row3_col1\" class=\"data row3 col1\" >(1874, 22)</td>\n",
       "    </tr>\n",
       "    <tr>\n",
       "      <th id=\"T_e56e1_level0_row4\" class=\"row_heading level0 row4\" >4</th>\n",
       "      <td id=\"T_e56e1_row4_col0\" class=\"data row4 col0\" >Transformed data shape</td>\n",
       "      <td id=\"T_e56e1_row4_col1\" class=\"data row4 col1\" >(1874, 22)</td>\n",
       "    </tr>\n",
       "    <tr>\n",
       "      <th id=\"T_e56e1_level0_row5\" class=\"row_heading level0 row5\" >5</th>\n",
       "      <td id=\"T_e56e1_row5_col0\" class=\"data row5 col0\" >Transformed train set shape</td>\n",
       "      <td id=\"T_e56e1_row5_col1\" class=\"data row5 col1\" >(1311, 22)</td>\n",
       "    </tr>\n",
       "    <tr>\n",
       "      <th id=\"T_e56e1_level0_row6\" class=\"row_heading level0 row6\" >6</th>\n",
       "      <td id=\"T_e56e1_row6_col0\" class=\"data row6 col0\" >Transformed test set shape</td>\n",
       "      <td id=\"T_e56e1_row6_col1\" class=\"data row6 col1\" >(563, 22)</td>\n",
       "    </tr>\n",
       "    <tr>\n",
       "      <th id=\"T_e56e1_level0_row7\" class=\"row_heading level0 row7\" >7</th>\n",
       "      <td id=\"T_e56e1_row7_col0\" class=\"data row7 col0\" >Numeric features</td>\n",
       "      <td id=\"T_e56e1_row7_col1\" class=\"data row7 col1\" >21</td>\n",
       "    </tr>\n",
       "    <tr>\n",
       "      <th id=\"T_e56e1_level0_row8\" class=\"row_heading level0 row8\" >8</th>\n",
       "      <td id=\"T_e56e1_row8_col0\" class=\"data row8 col0\" >Preprocess</td>\n",
       "      <td id=\"T_e56e1_row8_col1\" class=\"data row8 col1\" >True</td>\n",
       "    </tr>\n",
       "    <tr>\n",
       "      <th id=\"T_e56e1_level0_row9\" class=\"row_heading level0 row9\" >9</th>\n",
       "      <td id=\"T_e56e1_row9_col0\" class=\"data row9 col0\" >Imputation type</td>\n",
       "      <td id=\"T_e56e1_row9_col1\" class=\"data row9 col1\" >simple</td>\n",
       "    </tr>\n",
       "    <tr>\n",
       "      <th id=\"T_e56e1_level0_row10\" class=\"row_heading level0 row10\" >10</th>\n",
       "      <td id=\"T_e56e1_row10_col0\" class=\"data row10 col0\" >Numeric imputation</td>\n",
       "      <td id=\"T_e56e1_row10_col1\" class=\"data row10 col1\" >mean</td>\n",
       "    </tr>\n",
       "    <tr>\n",
       "      <th id=\"T_e56e1_level0_row11\" class=\"row_heading level0 row11\" >11</th>\n",
       "      <td id=\"T_e56e1_row11_col0\" class=\"data row11 col0\" >Categorical imputation</td>\n",
       "      <td id=\"T_e56e1_row11_col1\" class=\"data row11 col1\" >mode</td>\n",
       "    </tr>\n",
       "    <tr>\n",
       "      <th id=\"T_e56e1_level0_row12\" class=\"row_heading level0 row12\" >12</th>\n",
       "      <td id=\"T_e56e1_row12_col0\" class=\"data row12 col0\" >Fold Generator</td>\n",
       "      <td id=\"T_e56e1_row12_col1\" class=\"data row12 col1\" >KFold</td>\n",
       "    </tr>\n",
       "    <tr>\n",
       "      <th id=\"T_e56e1_level0_row13\" class=\"row_heading level0 row13\" >13</th>\n",
       "      <td id=\"T_e56e1_row13_col0\" class=\"data row13 col0\" >Fold Number</td>\n",
       "      <td id=\"T_e56e1_row13_col1\" class=\"data row13 col1\" >10</td>\n",
       "    </tr>\n",
       "    <tr>\n",
       "      <th id=\"T_e56e1_level0_row14\" class=\"row_heading level0 row14\" >14</th>\n",
       "      <td id=\"T_e56e1_row14_col0\" class=\"data row14 col0\" >CPU Jobs</td>\n",
       "      <td id=\"T_e56e1_row14_col1\" class=\"data row14 col1\" >-1</td>\n",
       "    </tr>\n",
       "    <tr>\n",
       "      <th id=\"T_e56e1_level0_row15\" class=\"row_heading level0 row15\" >15</th>\n",
       "      <td id=\"T_e56e1_row15_col0\" class=\"data row15 col0\" >Use GPU</td>\n",
       "      <td id=\"T_e56e1_row15_col1\" class=\"data row15 col1\" >False</td>\n",
       "    </tr>\n",
       "    <tr>\n",
       "      <th id=\"T_e56e1_level0_row16\" class=\"row_heading level0 row16\" >16</th>\n",
       "      <td id=\"T_e56e1_row16_col0\" class=\"data row16 col0\" >Log Experiment</td>\n",
       "      <td id=\"T_e56e1_row16_col1\" class=\"data row16 col1\" >False</td>\n",
       "    </tr>\n",
       "    <tr>\n",
       "      <th id=\"T_e56e1_level0_row17\" class=\"row_heading level0 row17\" >17</th>\n",
       "      <td id=\"T_e56e1_row17_col0\" class=\"data row17 col0\" >Experiment Name</td>\n",
       "      <td id=\"T_e56e1_row17_col1\" class=\"data row17 col1\" >reg-default-name</td>\n",
       "    </tr>\n",
       "    <tr>\n",
       "      <th id=\"T_e56e1_level0_row18\" class=\"row_heading level0 row18\" >18</th>\n",
       "      <td id=\"T_e56e1_row18_col0\" class=\"data row18 col0\" >USI</td>\n",
       "      <td id=\"T_e56e1_row18_col1\" class=\"data row18 col1\" >61b5</td>\n",
       "    </tr>\n",
       "  </tbody>\n",
       "</table>\n"
      ],
      "text/plain": [
       "<pandas.io.formats.style.Styler at 0x167271360>"
      ]
     },
     "metadata": {},
     "output_type": "display_data"
    },
    {
     "data": {
      "text/html": [],
      "text/plain": [
       "<IPython.core.display.HTML object>"
      ]
     },
     "metadata": {},
     "output_type": "display_data"
    },
    {
     "data": {
      "text/html": [
       "<style type=\"text/css\">\n",
       "#T_b8c63 th {\n",
       "  text-align: left;\n",
       "}\n",
       "#T_b8c63_row0_col0, #T_b8c63_row1_col0, #T_b8c63_row1_col1, #T_b8c63_row1_col2, #T_b8c63_row1_col3, #T_b8c63_row1_col4, #T_b8c63_row1_col5, #T_b8c63_row1_col6, #T_b8c63_row2_col0, #T_b8c63_row2_col1, #T_b8c63_row2_col2, #T_b8c63_row2_col3, #T_b8c63_row2_col4, #T_b8c63_row2_col5, #T_b8c63_row2_col6, #T_b8c63_row3_col0, #T_b8c63_row3_col1, #T_b8c63_row3_col2, #T_b8c63_row3_col3, #T_b8c63_row3_col4, #T_b8c63_row3_col5, #T_b8c63_row3_col6, #T_b8c63_row4_col0, #T_b8c63_row4_col1, #T_b8c63_row4_col2, #T_b8c63_row4_col3, #T_b8c63_row4_col4, #T_b8c63_row4_col5, #T_b8c63_row4_col6, #T_b8c63_row5_col0, #T_b8c63_row5_col1, #T_b8c63_row5_col2, #T_b8c63_row5_col3, #T_b8c63_row5_col4, #T_b8c63_row5_col5, #T_b8c63_row5_col6, #T_b8c63_row6_col0, #T_b8c63_row6_col1, #T_b8c63_row6_col2, #T_b8c63_row6_col3, #T_b8c63_row6_col4, #T_b8c63_row6_col5, #T_b8c63_row6_col6, #T_b8c63_row7_col0, #T_b8c63_row7_col1, #T_b8c63_row7_col2, #T_b8c63_row7_col3, #T_b8c63_row7_col4, #T_b8c63_row7_col5, #T_b8c63_row7_col6, #T_b8c63_row8_col0, #T_b8c63_row8_col1, #T_b8c63_row8_col2, #T_b8c63_row8_col3, #T_b8c63_row8_col4, #T_b8c63_row8_col5, #T_b8c63_row8_col6, #T_b8c63_row9_col0, #T_b8c63_row9_col1, #T_b8c63_row9_col2, #T_b8c63_row9_col3, #T_b8c63_row9_col4, #T_b8c63_row9_col5, #T_b8c63_row9_col6, #T_b8c63_row10_col0, #T_b8c63_row10_col1, #T_b8c63_row10_col2, #T_b8c63_row10_col3, #T_b8c63_row10_col4, #T_b8c63_row10_col5, #T_b8c63_row10_col6, #T_b8c63_row11_col0, #T_b8c63_row11_col1, #T_b8c63_row11_col2, #T_b8c63_row11_col3, #T_b8c63_row11_col4, #T_b8c63_row11_col5, #T_b8c63_row11_col6, #T_b8c63_row12_col0, #T_b8c63_row12_col1, #T_b8c63_row12_col2, #T_b8c63_row12_col3, #T_b8c63_row12_col4, #T_b8c63_row12_col5, #T_b8c63_row12_col6, #T_b8c63_row13_col0, #T_b8c63_row13_col1, #T_b8c63_row13_col2, #T_b8c63_row13_col3, #T_b8c63_row13_col4, #T_b8c63_row13_col5, #T_b8c63_row13_col6, #T_b8c63_row14_col0, #T_b8c63_row14_col1, #T_b8c63_row14_col2, #T_b8c63_row14_col3, #T_b8c63_row14_col4, #T_b8c63_row14_col5, #T_b8c63_row14_col6, #T_b8c63_row15_col0, #T_b8c63_row15_col1, #T_b8c63_row15_col2, #T_b8c63_row15_col3, #T_b8c63_row15_col4, #T_b8c63_row15_col5, #T_b8c63_row15_col6, #T_b8c63_row16_col0, #T_b8c63_row16_col1, #T_b8c63_row16_col2, #T_b8c63_row16_col3, #T_b8c63_row16_col4, #T_b8c63_row16_col5, #T_b8c63_row16_col6, #T_b8c63_row17_col0, #T_b8c63_row17_col1, #T_b8c63_row17_col2, #T_b8c63_row17_col3, #T_b8c63_row17_col4, #T_b8c63_row17_col5, #T_b8c63_row17_col6 {\n",
       "  text-align: left;\n",
       "}\n",
       "#T_b8c63_row0_col1, #T_b8c63_row0_col2, #T_b8c63_row0_col3, #T_b8c63_row0_col4, #T_b8c63_row0_col5, #T_b8c63_row0_col6 {\n",
       "  text-align: left;\n",
       "  background-color: yellow;\n",
       "}\n",
       "#T_b8c63_row0_col7, #T_b8c63_row1_col7, #T_b8c63_row2_col7, #T_b8c63_row3_col7, #T_b8c63_row4_col7, #T_b8c63_row7_col7, #T_b8c63_row8_col7, #T_b8c63_row12_col7, #T_b8c63_row13_col7, #T_b8c63_row17_col7 {\n",
       "  text-align: left;\n",
       "  background-color: lightgrey;\n",
       "}\n",
       "#T_b8c63_row5_col7, #T_b8c63_row6_col7, #T_b8c63_row9_col7, #T_b8c63_row10_col7, #T_b8c63_row11_col7, #T_b8c63_row14_col7, #T_b8c63_row15_col7, #T_b8c63_row16_col7 {\n",
       "  text-align: left;\n",
       "  background-color: yellow;\n",
       "  background-color: lightgrey;\n",
       "}\n",
       "</style>\n",
       "<table id=\"T_b8c63\">\n",
       "  <thead>\n",
       "    <tr>\n",
       "      <th class=\"blank level0\" >&nbsp;</th>\n",
       "      <th id=\"T_b8c63_level0_col0\" class=\"col_heading level0 col0\" >Model</th>\n",
       "      <th id=\"T_b8c63_level0_col1\" class=\"col_heading level0 col1\" >MAE</th>\n",
       "      <th id=\"T_b8c63_level0_col2\" class=\"col_heading level0 col2\" >MSE</th>\n",
       "      <th id=\"T_b8c63_level0_col3\" class=\"col_heading level0 col3\" >RMSE</th>\n",
       "      <th id=\"T_b8c63_level0_col4\" class=\"col_heading level0 col4\" >R2</th>\n",
       "      <th id=\"T_b8c63_level0_col5\" class=\"col_heading level0 col5\" >RMSLE</th>\n",
       "      <th id=\"T_b8c63_level0_col6\" class=\"col_heading level0 col6\" >MAPE</th>\n",
       "      <th id=\"T_b8c63_level0_col7\" class=\"col_heading level0 col7\" >TT (Sec)</th>\n",
       "    </tr>\n",
       "  </thead>\n",
       "  <tbody>\n",
       "    <tr>\n",
       "      <th id=\"T_b8c63_level0_row0\" class=\"row_heading level0 row0\" >xgboost</th>\n",
       "      <td id=\"T_b8c63_row0_col0\" class=\"data row0 col0\" >Extreme Gradient Boosting</td>\n",
       "      <td id=\"T_b8c63_row0_col1\" class=\"data row0 col1\" >0.1347</td>\n",
       "      <td id=\"T_b8c63_row0_col2\" class=\"data row0 col2\" >0.0431</td>\n",
       "      <td id=\"T_b8c63_row0_col3\" class=\"data row0 col3\" >0.2041</td>\n",
       "      <td id=\"T_b8c63_row0_col4\" class=\"data row0 col4\" >0.9506</td>\n",
       "      <td id=\"T_b8c63_row0_col5\" class=\"data row0 col5\" >0.0136</td>\n",
       "      <td id=\"T_b8c63_row0_col6\" class=\"data row0 col6\" >0.0097</td>\n",
       "      <td id=\"T_b8c63_row0_col7\" class=\"data row0 col7\" >0.0220</td>\n",
       "    </tr>\n",
       "    <tr>\n",
       "      <th id=\"T_b8c63_level0_row1\" class=\"row_heading level0 row1\" >et</th>\n",
       "      <td id=\"T_b8c63_row1_col0\" class=\"data row1 col0\" >Extra Trees Regressor</td>\n",
       "      <td id=\"T_b8c63_row1_col1\" class=\"data row1 col1\" >0.1407</td>\n",
       "      <td id=\"T_b8c63_row1_col2\" class=\"data row1 col2\" >0.0438</td>\n",
       "      <td id=\"T_b8c63_row1_col3\" class=\"data row1 col3\" >0.2070</td>\n",
       "      <td id=\"T_b8c63_row1_col4\" class=\"data row1 col4\" >0.9500</td>\n",
       "      <td id=\"T_b8c63_row1_col5\" class=\"data row1 col5\" >0.0139</td>\n",
       "      <td id=\"T_b8c63_row1_col6\" class=\"data row1 col6\" >0.0102</td>\n",
       "      <td id=\"T_b8c63_row1_col7\" class=\"data row1 col7\" >0.0450</td>\n",
       "    </tr>\n",
       "    <tr>\n",
       "      <th id=\"T_b8c63_level0_row2\" class=\"row_heading level0 row2\" >gbr</th>\n",
       "      <td id=\"T_b8c63_row2_col0\" class=\"data row2 col0\" >Gradient Boosting Regressor</td>\n",
       "      <td id=\"T_b8c63_row2_col1\" class=\"data row2 col1\" >0.1458</td>\n",
       "      <td id=\"T_b8c63_row2_col2\" class=\"data row2 col2\" >0.0451</td>\n",
       "      <td id=\"T_b8c63_row2_col3\" class=\"data row2 col3\" >0.2104</td>\n",
       "      <td id=\"T_b8c63_row2_col4\" class=\"data row2 col4\" >0.9487</td>\n",
       "      <td id=\"T_b8c63_row2_col5\" class=\"data row2 col5\" >0.0140</td>\n",
       "      <td id=\"T_b8c63_row2_col6\" class=\"data row2 col6\" >0.0105</td>\n",
       "      <td id=\"T_b8c63_row2_col7\" class=\"data row2 col7\" >0.0280</td>\n",
       "    </tr>\n",
       "    <tr>\n",
       "      <th id=\"T_b8c63_level0_row3\" class=\"row_heading level0 row3\" >rf</th>\n",
       "      <td id=\"T_b8c63_row3_col0\" class=\"data row3 col0\" >Random Forest Regressor</td>\n",
       "      <td id=\"T_b8c63_row3_col1\" class=\"data row3 col1\" >0.1473</td>\n",
       "      <td id=\"T_b8c63_row3_col2\" class=\"data row3 col2\" >0.0505</td>\n",
       "      <td id=\"T_b8c63_row3_col3\" class=\"data row3 col3\" >0.2225</td>\n",
       "      <td id=\"T_b8c63_row3_col4\" class=\"data row3 col4\" >0.9429</td>\n",
       "      <td id=\"T_b8c63_row3_col5\" class=\"data row3 col5\" >0.0148</td>\n",
       "      <td id=\"T_b8c63_row3_col6\" class=\"data row3 col6\" >0.0106</td>\n",
       "      <td id=\"T_b8c63_row3_col7\" class=\"data row3 col7\" >0.0610</td>\n",
       "    </tr>\n",
       "    <tr>\n",
       "      <th id=\"T_b8c63_level0_row4\" class=\"row_heading level0 row4\" >lr</th>\n",
       "      <td id=\"T_b8c63_row4_col0\" class=\"data row4 col0\" >Linear Regression</td>\n",
       "      <td id=\"T_b8c63_row4_col1\" class=\"data row4 col1\" >0.1983</td>\n",
       "      <td id=\"T_b8c63_row4_col2\" class=\"data row4 col2\" >0.0713</td>\n",
       "      <td id=\"T_b8c63_row4_col3\" class=\"data row4 col3\" >0.2665</td>\n",
       "      <td id=\"T_b8c63_row4_col4\" class=\"data row4 col4\" >0.9180</td>\n",
       "      <td id=\"T_b8c63_row4_col5\" class=\"data row4 col5\" >0.0179</td>\n",
       "      <td id=\"T_b8c63_row4_col6\" class=\"data row4 col6\" >0.0143</td>\n",
       "      <td id=\"T_b8c63_row4_col7\" class=\"data row4 col7\" >0.1470</td>\n",
       "    </tr>\n",
       "    <tr>\n",
       "      <th id=\"T_b8c63_level0_row5\" class=\"row_heading level0 row5\" >ridge</th>\n",
       "      <td id=\"T_b8c63_row5_col0\" class=\"data row5 col0\" >Ridge Regression</td>\n",
       "      <td id=\"T_b8c63_row5_col1\" class=\"data row5 col1\" >0.1982</td>\n",
       "      <td id=\"T_b8c63_row5_col2\" class=\"data row5 col2\" >0.0713</td>\n",
       "      <td id=\"T_b8c63_row5_col3\" class=\"data row5 col3\" >0.2665</td>\n",
       "      <td id=\"T_b8c63_row5_col4\" class=\"data row5 col4\" >0.9180</td>\n",
       "      <td id=\"T_b8c63_row5_col5\" class=\"data row5 col5\" >0.0179</td>\n",
       "      <td id=\"T_b8c63_row5_col6\" class=\"data row5 col6\" >0.0143</td>\n",
       "      <td id=\"T_b8c63_row5_col7\" class=\"data row5 col7\" >0.0040</td>\n",
       "    </tr>\n",
       "    <tr>\n",
       "      <th id=\"T_b8c63_level0_row6\" class=\"row_heading level0 row6\" >br</th>\n",
       "      <td id=\"T_b8c63_row6_col0\" class=\"data row6 col0\" >Bayesian Ridge</td>\n",
       "      <td id=\"T_b8c63_row6_col1\" class=\"data row6 col1\" >0.1976</td>\n",
       "      <td id=\"T_b8c63_row6_col2\" class=\"data row6 col2\" >0.0715</td>\n",
       "      <td id=\"T_b8c63_row6_col3\" class=\"data row6 col3\" >0.2668</td>\n",
       "      <td id=\"T_b8c63_row6_col4\" class=\"data row6 col4\" >0.9179</td>\n",
       "      <td id=\"T_b8c63_row6_col5\" class=\"data row6 col5\" >0.0179</td>\n",
       "      <td id=\"T_b8c63_row6_col6\" class=\"data row6 col6\" >0.0143</td>\n",
       "      <td id=\"T_b8c63_row6_col7\" class=\"data row6 col7\" >0.0040</td>\n",
       "    </tr>\n",
       "    <tr>\n",
       "      <th id=\"T_b8c63_level0_row7\" class=\"row_heading level0 row7\" >ada</th>\n",
       "      <td id=\"T_b8c63_row7_col0\" class=\"data row7 col0\" >AdaBoost Regressor</td>\n",
       "      <td id=\"T_b8c63_row7_col1\" class=\"data row7 col1\" >0.2242</td>\n",
       "      <td id=\"T_b8c63_row7_col2\" class=\"data row7 col2\" >0.0917</td>\n",
       "      <td id=\"T_b8c63_row7_col3\" class=\"data row7 col3\" >0.3017</td>\n",
       "      <td id=\"T_b8c63_row7_col4\" class=\"data row7 col4\" >0.8962</td>\n",
       "      <td id=\"T_b8c63_row7_col5\" class=\"data row7 col5\" >0.0201</td>\n",
       "      <td id=\"T_b8c63_row7_col6\" class=\"data row7 col6\" >0.0162</td>\n",
       "      <td id=\"T_b8c63_row7_col7\" class=\"data row7 col7\" >0.0200</td>\n",
       "    </tr>\n",
       "    <tr>\n",
       "      <th id=\"T_b8c63_level0_row8\" class=\"row_heading level0 row8\" >dt</th>\n",
       "      <td id=\"T_b8c63_row8_col0\" class=\"data row8 col0\" >Decision Tree Regressor</td>\n",
       "      <td id=\"T_b8c63_row8_col1\" class=\"data row8 col1\" >0.2060</td>\n",
       "      <td id=\"T_b8c63_row8_col2\" class=\"data row8 col2\" >0.0950</td>\n",
       "      <td id=\"T_b8c63_row8_col3\" class=\"data row8 col3\" >0.3044</td>\n",
       "      <td id=\"T_b8c63_row8_col4\" class=\"data row8 col4\" >0.8932</td>\n",
       "      <td id=\"T_b8c63_row8_col5\" class=\"data row8 col5\" >0.0203</td>\n",
       "      <td id=\"T_b8c63_row8_col6\" class=\"data row8 col6\" >0.0149</td>\n",
       "      <td id=\"T_b8c63_row8_col7\" class=\"data row8 col7\" >0.0070</td>\n",
       "    </tr>\n",
       "    <tr>\n",
       "      <th id=\"T_b8c63_level0_row9\" class=\"row_heading level0 row9\" >en</th>\n",
       "      <td id=\"T_b8c63_row9_col0\" class=\"data row9 col0\" >Elastic Net</td>\n",
       "      <td id=\"T_b8c63_row9_col1\" class=\"data row9 col1\" >0.2567</td>\n",
       "      <td id=\"T_b8c63_row9_col2\" class=\"data row9 col2\" >0.1478</td>\n",
       "      <td id=\"T_b8c63_row9_col3\" class=\"data row9 col3\" >0.3727</td>\n",
       "      <td id=\"T_b8c63_row9_col4\" class=\"data row9 col4\" >0.8273</td>\n",
       "      <td id=\"T_b8c63_row9_col5\" class=\"data row9 col5\" >0.0261</td>\n",
       "      <td id=\"T_b8c63_row9_col6\" class=\"data row9 col6\" >0.0185</td>\n",
       "      <td id=\"T_b8c63_row9_col7\" class=\"data row9 col7\" >0.0040</td>\n",
       "    </tr>\n",
       "    <tr>\n",
       "      <th id=\"T_b8c63_level0_row10\" class=\"row_heading level0 row10\" >llar</th>\n",
       "      <td id=\"T_b8c63_row10_col0\" class=\"data row10 col0\" >Lasso Least Angle Regression</td>\n",
       "      <td id=\"T_b8c63_row10_col1\" class=\"data row10 col1\" >0.3315</td>\n",
       "      <td id=\"T_b8c63_row10_col2\" class=\"data row10 col2\" >0.2432</td>\n",
       "      <td id=\"T_b8c63_row10_col3\" class=\"data row10 col3\" >0.4759</td>\n",
       "      <td id=\"T_b8c63_row10_col4\" class=\"data row10 col4\" >0.7151</td>\n",
       "      <td id=\"T_b8c63_row10_col5\" class=\"data row10 col5\" >0.0347</td>\n",
       "      <td id=\"T_b8c63_row10_col6\" class=\"data row10 col6\" >0.0240</td>\n",
       "      <td id=\"T_b8c63_row10_col7\" class=\"data row10 col7\" >0.0040</td>\n",
       "    </tr>\n",
       "    <tr>\n",
       "      <th id=\"T_b8c63_level0_row11\" class=\"row_heading level0 row11\" >lasso</th>\n",
       "      <td id=\"T_b8c63_row11_col0\" class=\"data row11 col0\" >Lasso Regression</td>\n",
       "      <td id=\"T_b8c63_row11_col1\" class=\"data row11 col1\" >0.3315</td>\n",
       "      <td id=\"T_b8c63_row11_col2\" class=\"data row11 col2\" >0.2433</td>\n",
       "      <td id=\"T_b8c63_row11_col3\" class=\"data row11 col3\" >0.4759</td>\n",
       "      <td id=\"T_b8c63_row11_col4\" class=\"data row11 col4\" >0.7150</td>\n",
       "      <td id=\"T_b8c63_row11_col5\" class=\"data row11 col5\" >0.0347</td>\n",
       "      <td id=\"T_b8c63_row11_col6\" class=\"data row11 col6\" >0.0240</td>\n",
       "      <td id=\"T_b8c63_row11_col7\" class=\"data row11 col7\" >0.0040</td>\n",
       "    </tr>\n",
       "    <tr>\n",
       "      <th id=\"T_b8c63_level0_row12\" class=\"row_heading level0 row12\" >huber</th>\n",
       "      <td id=\"T_b8c63_row12_col0\" class=\"data row12 col0\" >Huber Regressor</td>\n",
       "      <td id=\"T_b8c63_row12_col1\" class=\"data row12 col1\" >0.3439</td>\n",
       "      <td id=\"T_b8c63_row12_col2\" class=\"data row12 col2\" >0.3702</td>\n",
       "      <td id=\"T_b8c63_row12_col3\" class=\"data row12 col3\" >0.5399</td>\n",
       "      <td id=\"T_b8c63_row12_col4\" class=\"data row12 col4\" >0.5568</td>\n",
       "      <td id=\"T_b8c63_row12_col5\" class=\"data row12 col5\" >0.0425</td>\n",
       "      <td id=\"T_b8c63_row12_col6\" class=\"data row12 col6\" >0.0249</td>\n",
       "      <td id=\"T_b8c63_row12_col7\" class=\"data row12 col7\" >0.0060</td>\n",
       "    </tr>\n",
       "    <tr>\n",
       "      <th id=\"T_b8c63_level0_row13\" class=\"row_heading level0 row13\" >knn</th>\n",
       "      <td id=\"T_b8c63_row13_col0\" class=\"data row13 col0\" >K Neighbors Regressor</td>\n",
       "      <td id=\"T_b8c63_row13_col1\" class=\"data row13 col1\" >0.4800</td>\n",
       "      <td id=\"T_b8c63_row13_col2\" class=\"data row13 col2\" >0.3901</td>\n",
       "      <td id=\"T_b8c63_row13_col3\" class=\"data row13 col3\" >0.6224</td>\n",
       "      <td id=\"T_b8c63_row13_col4\" class=\"data row13 col4\" >0.5566</td>\n",
       "      <td id=\"T_b8c63_row13_col5\" class=\"data row13 col5\" >0.0414</td>\n",
       "      <td id=\"T_b8c63_row13_col6\" class=\"data row13 col6\" >0.0345</td>\n",
       "      <td id=\"T_b8c63_row13_col7\" class=\"data row13 col7\" >0.0130</td>\n",
       "    </tr>\n",
       "    <tr>\n",
       "      <th id=\"T_b8c63_level0_row14\" class=\"row_heading level0 row14\" >lar</th>\n",
       "      <td id=\"T_b8c63_row14_col0\" class=\"data row14 col0\" >Least Angle Regression</td>\n",
       "      <td id=\"T_b8c63_row14_col1\" class=\"data row14 col1\" >0.3747</td>\n",
       "      <td id=\"T_b8c63_row14_col2\" class=\"data row14 col2\" >0.4537</td>\n",
       "      <td id=\"T_b8c63_row14_col3\" class=\"data row14 col3\" >0.4747</td>\n",
       "      <td id=\"T_b8c63_row14_col4\" class=\"data row14 col4\" >0.3779</td>\n",
       "      <td id=\"T_b8c63_row14_col5\" class=\"data row14 col5\" >0.0323</td>\n",
       "      <td id=\"T_b8c63_row14_col6\" class=\"data row14 col6\" >0.0273</td>\n",
       "      <td id=\"T_b8c63_row14_col7\" class=\"data row14 col7\" >0.0040</td>\n",
       "    </tr>\n",
       "    <tr>\n",
       "      <th id=\"T_b8c63_level0_row15\" class=\"row_heading level0 row15\" >par</th>\n",
       "      <td id=\"T_b8c63_row15_col0\" class=\"data row15 col0\" >Passive Aggressive Regressor</td>\n",
       "      <td id=\"T_b8c63_row15_col1\" class=\"data row15 col1\" >0.6053</td>\n",
       "      <td id=\"T_b8c63_row15_col2\" class=\"data row15 col2\" >0.6571</td>\n",
       "      <td id=\"T_b8c63_row15_col3\" class=\"data row15 col3\" >0.7589</td>\n",
       "      <td id=\"T_b8c63_row15_col4\" class=\"data row15 col4\" >0.2673</td>\n",
       "      <td id=\"T_b8c63_row15_col5\" class=\"data row15 col5\" >0.0521</td>\n",
       "      <td id=\"T_b8c63_row15_col6\" class=\"data row15 col6\" >0.0442</td>\n",
       "      <td id=\"T_b8c63_row15_col7\" class=\"data row15 col7\" >0.0040</td>\n",
       "    </tr>\n",
       "    <tr>\n",
       "      <th id=\"T_b8c63_level0_row16\" class=\"row_heading level0 row16\" >omp</th>\n",
       "      <td id=\"T_b8c63_row16_col0\" class=\"data row16 col0\" >Orthogonal Matching Pursuit</td>\n",
       "      <td id=\"T_b8c63_row16_col1\" class=\"data row16 col1\" >0.6358</td>\n",
       "      <td id=\"T_b8c63_row16_col2\" class=\"data row16 col2\" >0.6912</td>\n",
       "      <td id=\"T_b8c63_row16_col3\" class=\"data row16 col3\" >0.8208</td>\n",
       "      <td id=\"T_b8c63_row16_col4\" class=\"data row16 col4\" >0.2073</td>\n",
       "      <td id=\"T_b8c63_row16_col5\" class=\"data row16 col5\" >0.0598</td>\n",
       "      <td id=\"T_b8c63_row16_col6\" class=\"data row16 col6\" >0.0459</td>\n",
       "      <td id=\"T_b8c63_row16_col7\" class=\"data row16 col7\" >0.0040</td>\n",
       "    </tr>\n",
       "    <tr>\n",
       "      <th id=\"T_b8c63_level0_row17\" class=\"row_heading level0 row17\" >dummy</th>\n",
       "      <td id=\"T_b8c63_row17_col0\" class=\"data row17 col0\" >Dummy Regressor</td>\n",
       "      <td id=\"T_b8c63_row17_col1\" class=\"data row17 col1\" >0.7755</td>\n",
       "      <td id=\"T_b8c63_row17_col2\" class=\"data row17 col2\" >0.8948</td>\n",
       "      <td id=\"T_b8c63_row17_col3\" class=\"data row17 col3\" >0.9431</td>\n",
       "      <td id=\"T_b8c63_row17_col4\" class=\"data row17 col4\" >-0.0058</td>\n",
       "      <td id=\"T_b8c63_row17_col5\" class=\"data row17 col5\" >0.0629</td>\n",
       "      <td id=\"T_b8c63_row17_col6\" class=\"data row17 col6\" >0.0558</td>\n",
       "      <td id=\"T_b8c63_row17_col7\" class=\"data row17 col7\" >0.1330</td>\n",
       "    </tr>\n",
       "  </tbody>\n",
       "</table>\n"
      ],
      "text/plain": [
       "<pandas.io.formats.style.Styler at 0x167743430>"
      ]
     },
     "metadata": {},
     "output_type": "display_data"
    },
    {
     "data": {
      "text/html": [],
      "text/plain": [
       "<IPython.core.display.HTML object>"
      ]
     },
     "metadata": {},
     "output_type": "display_data"
    }
   ],
   "source": [
    "exp_1 = setup(data=X, target=y)\n",
    "best_model = compare_models()"
   ]
  },
  {
   "cell_type": "code",
   "execution_count": 36,
   "id": "b9c82278",
   "metadata": {},
   "outputs": [],
   "source": [
    "import xgboost as xgb"
   ]
  },
  {
   "cell_type": "code",
   "execution_count": 37,
   "id": "18117a05",
   "metadata": {},
   "outputs": [
    {
     "data": {
      "text/html": [
       "<style>#sk-container-id-1 {color: black;background-color: white;}#sk-container-id-1 pre{padding: 0;}#sk-container-id-1 div.sk-toggleable {background-color: white;}#sk-container-id-1 label.sk-toggleable__label {cursor: pointer;display: block;width: 100%;margin-bottom: 0;padding: 0.3em;box-sizing: border-box;text-align: center;}#sk-container-id-1 label.sk-toggleable__label-arrow:before {content: \"▸\";float: left;margin-right: 0.25em;color: #696969;}#sk-container-id-1 label.sk-toggleable__label-arrow:hover:before {color: black;}#sk-container-id-1 div.sk-estimator:hover label.sk-toggleable__label-arrow:before {color: black;}#sk-container-id-1 div.sk-toggleable__content {max-height: 0;max-width: 0;overflow: hidden;text-align: left;background-color: #f0f8ff;}#sk-container-id-1 div.sk-toggleable__content pre {margin: 0.2em;color: black;border-radius: 0.25em;background-color: #f0f8ff;}#sk-container-id-1 input.sk-toggleable__control:checked~div.sk-toggleable__content {max-height: 200px;max-width: 100%;overflow: auto;}#sk-container-id-1 input.sk-toggleable__control:checked~label.sk-toggleable__label-arrow:before {content: \"▾\";}#sk-container-id-1 div.sk-estimator input.sk-toggleable__control:checked~label.sk-toggleable__label {background-color: #d4ebff;}#sk-container-id-1 div.sk-label input.sk-toggleable__control:checked~label.sk-toggleable__label {background-color: #d4ebff;}#sk-container-id-1 input.sk-hidden--visually {border: 0;clip: rect(1px 1px 1px 1px);clip: rect(1px, 1px, 1px, 1px);height: 1px;margin: -1px;overflow: hidden;padding: 0;position: absolute;width: 1px;}#sk-container-id-1 div.sk-estimator {font-family: monospace;background-color: #f0f8ff;border: 1px dotted black;border-radius: 0.25em;box-sizing: border-box;margin-bottom: 0.5em;}#sk-container-id-1 div.sk-estimator:hover {background-color: #d4ebff;}#sk-container-id-1 div.sk-parallel-item::after {content: \"\";width: 100%;border-bottom: 1px solid gray;flex-grow: 1;}#sk-container-id-1 div.sk-label:hover label.sk-toggleable__label {background-color: #d4ebff;}#sk-container-id-1 div.sk-serial::before {content: \"\";position: absolute;border-left: 1px solid gray;box-sizing: border-box;top: 0;bottom: 0;left: 50%;z-index: 0;}#sk-container-id-1 div.sk-serial {display: flex;flex-direction: column;align-items: center;background-color: white;padding-right: 0.2em;padding-left: 0.2em;position: relative;}#sk-container-id-1 div.sk-item {position: relative;z-index: 1;}#sk-container-id-1 div.sk-parallel {display: flex;align-items: stretch;justify-content: center;background-color: white;position: relative;}#sk-container-id-1 div.sk-item::before, #sk-container-id-1 div.sk-parallel-item::before {content: \"\";position: absolute;border-left: 1px solid gray;box-sizing: border-box;top: 0;bottom: 0;left: 50%;z-index: -1;}#sk-container-id-1 div.sk-parallel-item {display: flex;flex-direction: column;z-index: 1;position: relative;background-color: white;}#sk-container-id-1 div.sk-parallel-item:first-child::after {align-self: flex-end;width: 50%;}#sk-container-id-1 div.sk-parallel-item:last-child::after {align-self: flex-start;width: 50%;}#sk-container-id-1 div.sk-parallel-item:only-child::after {width: 0;}#sk-container-id-1 div.sk-dashed-wrapped {border: 1px dashed gray;margin: 0 0.4em 0.5em 0.4em;box-sizing: border-box;padding-bottom: 0.4em;background-color: white;}#sk-container-id-1 div.sk-label label {font-family: monospace;font-weight: bold;display: inline-block;line-height: 1.2em;}#sk-container-id-1 div.sk-label-container {text-align: center;}#sk-container-id-1 div.sk-container {/* jupyter's `normalize.less` sets `[hidden] { display: none; }` but bootstrap.min.css set `[hidden] { display: none !important; }` so we also need the `!important` here to be able to override the default hidden behavior on the sphinx rendered scikit-learn.org. See: https://github.com/scikit-learn/scikit-learn/issues/21755 */display: inline-block !important;position: relative;}#sk-container-id-1 div.sk-text-repr-fallback {display: none;}</style><div id=\"sk-container-id-1\" class=\"sk-top-container\"><div class=\"sk-text-repr-fallback\"><pre>XGBRegressor(base_score=None, booster=None, callbacks=None,\n",
       "             colsample_bylevel=None, colsample_bynode=None,\n",
       "             colsample_bytree=None, early_stopping_rounds=None,\n",
       "             enable_categorical=False, eval_metric=None, feature_types=None,\n",
       "             gamma=None, gpu_id=None, grow_policy=None, importance_type=None,\n",
       "             interaction_constraints=None, learning_rate=None, max_bin=None,\n",
       "             max_cat_threshold=None, max_cat_to_onehot=None,\n",
       "             max_delta_step=None, max_depth=None, max_leaves=None,\n",
       "             min_child_weight=None, missing=nan, monotone_constraints=None,\n",
       "             n_estimators=100, n_jobs=None, num_parallel_tree=None,\n",
       "             predictor=None, random_state=None, ...)</pre><b>In a Jupyter environment, please rerun this cell to show the HTML representation or trust the notebook. <br />On GitHub, the HTML representation is unable to render, please try loading this page with nbviewer.org.</b></div><div class=\"sk-container\" hidden><div class=\"sk-item\"><div class=\"sk-estimator sk-toggleable\"><input class=\"sk-toggleable__control sk-hidden--visually\" id=\"sk-estimator-id-1\" type=\"checkbox\" checked><label for=\"sk-estimator-id-1\" class=\"sk-toggleable__label sk-toggleable__label-arrow\">XGBRegressor</label><div class=\"sk-toggleable__content\"><pre>XGBRegressor(base_score=None, booster=None, callbacks=None,\n",
       "             colsample_bylevel=None, colsample_bynode=None,\n",
       "             colsample_bytree=None, early_stopping_rounds=None,\n",
       "             enable_categorical=False, eval_metric=None, feature_types=None,\n",
       "             gamma=None, gpu_id=None, grow_policy=None, importance_type=None,\n",
       "             interaction_constraints=None, learning_rate=None, max_bin=None,\n",
       "             max_cat_threshold=None, max_cat_to_onehot=None,\n",
       "             max_delta_step=None, max_depth=None, max_leaves=None,\n",
       "             min_child_weight=None, missing=nan, monotone_constraints=None,\n",
       "             n_estimators=100, n_jobs=None, num_parallel_tree=None,\n",
       "             predictor=None, random_state=None, ...)</pre></div></div></div></div></div>"
      ],
      "text/plain": [
       "XGBRegressor(base_score=None, booster=None, callbacks=None,\n",
       "             colsample_bylevel=None, colsample_bynode=None,\n",
       "             colsample_bytree=None, early_stopping_rounds=None,\n",
       "             enable_categorical=False, eval_metric=None, feature_types=None,\n",
       "             gamma=None, gpu_id=None, grow_policy=None, importance_type=None,\n",
       "             interaction_constraints=None, learning_rate=None, max_bin=None,\n",
       "             max_cat_threshold=None, max_cat_to_onehot=None,\n",
       "             max_delta_step=None, max_depth=None, max_leaves=None,\n",
       "             min_child_weight=None, missing=nan, monotone_constraints=None,\n",
       "             n_estimators=100, n_jobs=None, num_parallel_tree=None,\n",
       "             predictor=None, random_state=None, ...)"
      ]
     },
     "execution_count": 37,
     "metadata": {},
     "output_type": "execute_result"
    }
   ],
   "source": [
    "xg_reg = xgb.XGBRegressor(objective='reg:squarederror')\n",
    "# Prepare evaluation data sets\n",
    "eval_set = [(X_train, y_train), (X_test, y_test)]\n",
    "\n",
    "# Fit the regressor to the training set and evaluate on both training and testing sets\n",
    "xg_reg.fit(X_train, y_train, eval_metric=[\"mae\", \"rmse\"], eval_set=eval_set, verbose=False)"
   ]
  },
  {
   "cell_type": "code",
   "execution_count": 38,
   "id": "24ac25f9",
   "metadata": {},
   "outputs": [
    {
     "name": "stdout",
     "output_type": "stream",
     "text": [
      "Mean Absolute Error: 0.14202545272955186\n",
      "Mean Squared Error: 0.05342336170257264\n",
      "R-squared: 0.9502429029177799\n"
     ]
    }
   ],
   "source": [
    "from sklearn.metrics import mean_squared_error, r2_score, mean_absolute_error\n",
    "\n",
    "# Predict the labels of the test set\n",
    "y_pred = xg_reg.predict(X_test)\n",
    "\n",
    "# Model Evaluatoin\n",
    "mae = mean_absolute_error(y_test, y_pred)\n",
    "mse = mean_squared_error(y_test, y_pred)\n",
    "r2 = r2_score(y_test, y_pred)\n",
    "\n",
    "print(f'Mean Absolute Error: {mae}')\n",
    "print(f'Mean Squared Error: {mse}')\n",
    "print(f'R-squared: {r2}')"
   ]
  },
  {
   "cell_type": "code",
   "execution_count": 39,
   "id": "5c35a9d2",
   "metadata": {},
   "outputs": [
    {
     "data": {
      "image/png": "[encoded data removed]",
      "text/plain": [
       "<Figure size 800x550 with 1 Axes>"
      ]
     },
     "metadata": {},
     "output_type": "display_data"
    }
   ],
   "source": [
    "# Retrieve evaluation results\n",
    "results = xg_reg.evals_result()\n",
    "\n",
    "epochs = len(results['validation_0']['mae'])\n",
    "x_axis = range(0, epochs)\n",
    "\n",
    "fig, ax = plt.subplots()\n",
    "ax.plot(x_axis, results['validation_0']['rmse'], label='Train')\n",
    "ax.plot(x_axis, results['validation_1']['rmse'], label='Test')\n",
    "ax.legend()\n",
    "plt.ylabel('Root Mean Squared Error')\n",
    "plt.title('XGBoost Root Mean Squared Error')\n",
    "plt.show()\n"
   ]
  },
  {
   "cell_type": "code",
   "execution_count": 40,
   "id": "17747c10",
   "metadata": {},
   "outputs": [
    {
     "data": {
      "image/png": "[encoded data removed]",
      "text/plain": [
       "<Figure size 800x550 with 1 Axes>"
      ]
     },
     "metadata": {},
     "output_type": "display_data"
    }
   ],
   "source": [
    "import matplotlib.pyplot as plt\n",
    "\n",
    "# Scatter plot of true vs. predicted values\n",
    "plt.scatter(y_test, y_pred, color='blue')\n",
    "plt.plot([min(y_test), max(y_test)], [min(y_test), max(y_test)], color='red')  # Diagonal line\n",
    "plt.xlabel('True Values')\n",
    "plt.ylabel('Predicted Values')\n",
    "plt.title('True vs Predicted Values')\n",
    "plt.show()\n"
   ]
  },
  {
   "cell_type": "code",
   "execution_count": 41,
   "id": "dc0151be",
   "metadata": {},
   "outputs": [
    {
     "data": {
      "image/png": "[encoded data removed]",
      "text/plain": [
       "<Figure size 800x550 with 1 Axes>"
      ]
     },
     "metadata": {},
     "output_type": "display_data"
    }
   ],
   "source": [
    "# Scatter plot of Kilometer vs. predicted values\n",
    "plt.scatter(X_test['Kilometer'], y_pred, color='blue')\n",
    "plt.xlabel('Kilometer')\n",
    "plt.ylabel('Predicted Values')\n",
    "plt.title('Kilometer vs Predicted Values')\n",
    "plt.show()\n"
   ]
  },
  {
   "cell_type": "code",
   "execution_count": 42,
   "id": "62896013",
   "metadata": {},
   "outputs": [
    {
     "data": {
      "text/plain": [
       "<matplotlib.collections.PathCollection at 0x1666ad360>"
      ]
     },
     "execution_count": 42,
     "metadata": {},
     "output_type": "execute_result"
    },
    {
     "data": {
      "image/png": "[encoded data removed]",
      "text/plain": [
       "<Figure size 800x550 with 1 Axes>"
      ]
     },
     "metadata": {},
     "output_type": "display_data"
    }
   ],
   "source": [
    "plt.scatter(y, X['Kilometer'])"
   ]
  },
  {
   "cell_type": "code",
   "execution_count": 43,
   "id": "75868e6d",
   "metadata": {},
   "outputs": [
    {
     "ename": "ValueError",
     "evalue": "method must be either 'pearson', 'spearman', 'kendall', or a callable, 'Price' was supplied",
     "output_type": "error",
     "traceback": [
      "\u001b[0;31m---------------------------------------------------------------------------\u001b[0m",
      "\u001b[0;31mValueError\u001b[0m                                Traceback (most recent call last)",
      "\u001b[0;32m/var/folders/jh/_q3zsphn00z4nwx2cszyw4mc0000gn/T/ipykernel_89940/3387337785.py\u001b[0m in \u001b[0;36m?\u001b[0;34m()\u001b[0m\n\u001b[0;32m----> 1\u001b[0;31m \u001b[0mencoded_df\u001b[0m\u001b[0;34m.\u001b[0m\u001b[0mcorr\u001b[0m\u001b[0;34m(\u001b[0m\u001b[0;34m'Price'\u001b[0m\u001b[0;34m)\u001b[0m\u001b[0;34m\u001b[0m\u001b[0;34m\u001b[0m\u001b[0m\n\u001b[0m",
      "\u001b[0;32m~/opt/miniconda3/envs/nn/lib/python3.10/site-packages/pandas/core/frame.py\u001b[0m in \u001b[0;36m?\u001b[0;34m(self, method, min_periods, numeric_only)\u001b[0m\n\u001b[1;32m  10334\u001b[0m                         \u001b[0mc\u001b[0m \u001b[0;34m=\u001b[0m \u001b[0mcorrf\u001b[0m\u001b[0;34m(\u001b[0m\u001b[0mac\u001b[0m\u001b[0;34m,\u001b[0m \u001b[0mbc\u001b[0m\u001b[0;34m)\u001b[0m\u001b[0;34m\u001b[0m\u001b[0;34m\u001b[0m\u001b[0m\n\u001b[1;32m  10335\u001b[0m                     \u001b[0mcorrel\u001b[0m\u001b[0;34m[\u001b[0m\u001b[0mi\u001b[0m\u001b[0;34m,\u001b[0m \u001b[0mj\u001b[0m\u001b[0;34m]\u001b[0m \u001b[0;34m=\u001b[0m \u001b[0mc\u001b[0m\u001b[0;34m\u001b[0m\u001b[0;34m\u001b[0m\u001b[0m\n\u001b[1;32m  10336\u001b[0m                     \u001b[0mcorrel\u001b[0m\u001b[0;34m[\u001b[0m\u001b[0mj\u001b[0m\u001b[0;34m,\u001b[0m \u001b[0mi\u001b[0m\u001b[0;34m]\u001b[0m \u001b[0;34m=\u001b[0m \u001b[0mc\u001b[0m\u001b[0;34m\u001b[0m\u001b[0;34m\u001b[0m\u001b[0m\n\u001b[1;32m  10337\u001b[0m         \u001b[0;32melse\u001b[0m\u001b[0;34m:\u001b[0m\u001b[0;34m\u001b[0m\u001b[0;34m\u001b[0m\u001b[0m\n\u001b[0;32m> 10338\u001b[0;31m             raise ValueError(\n\u001b[0m\u001b[1;32m  10339\u001b[0m                 \u001b[0;34m\"method must be either 'pearson', \"\u001b[0m\u001b[0;34m\u001b[0m\u001b[0;34m\u001b[0m\u001b[0m\n\u001b[1;32m  10340\u001b[0m                 \u001b[0;34m\"'spearman', 'kendall', or a callable, \"\u001b[0m\u001b[0;34m\u001b[0m\u001b[0;34m\u001b[0m\u001b[0m\n\u001b[1;32m  10341\u001b[0m                 \u001b[0;34mf\"'{method}' was supplied\"\u001b[0m\u001b[0;34m\u001b[0m\u001b[0;34m\u001b[0m\u001b[0m\n",
      "\u001b[0;31mValueError\u001b[0m: method must be either 'pearson', 'spearman', 'kendall', or a callable, 'Price' was supplied"
     ]
    }
   ],
   "source": []
  },
  {
   "cell_type": "code",
   "execution_count": null,
   "id": "6bf00fe7",
   "metadata": {},
   "outputs": [],
   "source": []
  }
 ],
 "metadata": {
  "kernelspec": {
   "display_name": "Python 3.10 (nn)",
   "language": "python",
   "name": "nn"
  },
  "language_info": {
   "codemirror_mode": {
    "name": "ipython",
    "version": 3
   },
   "file_extension": ".py",
   "mimetype": "text/x-python",
   "name": "python",
   "nbconvert_exporter": "python",
   "pygments_lexer": "ipython3",
   "version": "3.10.11"
  }
 },
 "nbformat": 4,
 "nbformat_minor": 5
}

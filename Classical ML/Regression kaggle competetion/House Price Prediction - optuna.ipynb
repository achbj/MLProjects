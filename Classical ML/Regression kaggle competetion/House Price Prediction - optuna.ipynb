{
 "cells": [
  {
   "cell_type": "code",
   "execution_count": 1,
   "id": "8fb07f3b",
   "metadata": {},
   "outputs": [],
   "source": [
    "import numpy as np\n",
    "import pandas as pd\n",
    "import matplotlib.pyplot as plt\n",
    "import seaborn as sns"
   ]
  },
  {
   "cell_type": "code",
   "execution_count": 2,
   "id": "a71f981c",
   "metadata": {},
   "outputs": [],
   "source": [
    "train = pd.read_csv('./train.csv')\n",
    "test = pd.read_csv('./test.csv')"
   ]
  },
  {
   "cell_type": "code",
   "execution_count": 3,
   "id": "3fa80158",
   "metadata": {},
   "outputs": [],
   "source": [
    "def miss_values_info(df):\n",
    "    # Assuming your DataFrame is named 'train'\n",
    "    # Calculate the percentage of missing values for each column\n",
    "    missing_percentage = (df.isnull().sum() / len(df)) * 100\n",
    "\n",
    "    # Create a DataFrame to store the missing value information\n",
    "    missing_info = pd.DataFrame({\n",
    "        'Column': df.columns,\n",
    "        'Missing Values': df.isnull().sum(),\n",
    "        'Percentage': missing_percentage\n",
    "    })\n",
    "\n",
    "    # Filter the DataFrame to include only columns with missing values\n",
    "    missing_info = missing_info[missing_info['Missing Values'] > 0]\n",
    "    \n",
    "    # Sort the DataFrame by the percentage of missing values in descending order\n",
    "    missing_info = missing_info.sort_values(by='Percentage', ascending=False)\n",
    "\n",
    "    # Display the columns with the most missing values\n",
    "    return missing_info"
   ]
  },
  {
   "cell_type": "code",
   "execution_count": 4,
   "id": "fb26b0c9",
   "metadata": {},
   "outputs": [
    {
     "name": "stdout",
     "output_type": "stream",
     "text": [
      "train missing info: \n",
      "                     Column  Missing Values  Percentage\n",
      "PoolQC              PoolQC            1453   99.520548\n",
      "MiscFeature    MiscFeature            1406   96.301370\n",
      "Alley                Alley            1369   93.767123\n",
      "Fence                Fence            1179   80.753425\n",
      "FireplaceQu    FireplaceQu             690   47.260274\n",
      "LotFrontage    LotFrontage             259   17.739726\n",
      "GarageType      GarageType              81    5.547945\n",
      "GarageYrBlt    GarageYrBlt              81    5.547945\n",
      "GarageFinish  GarageFinish              81    5.547945\n",
      "GarageQual      GarageQual              81    5.547945\n",
      "GarageCond      GarageCond              81    5.547945\n",
      "BsmtExposure  BsmtExposure              38    2.602740\n",
      "BsmtFinType2  BsmtFinType2              38    2.602740\n",
      "BsmtFinType1  BsmtFinType1              37    2.534247\n",
      "BsmtCond          BsmtCond              37    2.534247\n",
      "BsmtQual          BsmtQual              37    2.534247\n",
      "MasVnrArea      MasVnrArea               8    0.547945\n",
      "MasVnrType      MasVnrType               8    0.547945\n",
      "Electrical      Electrical               1    0.068493\n"
     ]
    }
   ],
   "source": [
    "train_missing = miss_values_info(train)\n",
    "print('train missing info: \\n', train_missing)"
   ]
  },
  {
   "cell_type": "code",
   "execution_count": 5,
   "id": "5949e7b4",
   "metadata": {},
   "outputs": [],
   "source": [
    "train.drop(columns=['PoolQC', 'MiscFeature', 'Alley', 'Fence', 'FireplaceQu'], axis=0, inplace=True)\n",
    "test.drop(columns=['PoolQC', 'MiscFeature', 'Alley', 'Fence', 'FireplaceQu'], axis=0, inplace=True)"
   ]
  },
  {
   "cell_type": "code",
   "execution_count": 6,
   "id": "964de05a",
   "metadata": {},
   "outputs": [],
   "source": [
    "from sklearn.impute import SimpleImputer\n",
    "\n",
    "def impute_missing_values(df):\n",
    "    # List of float type columns with missing values\n",
    "    float_columns = df.select_dtypes(include=['float64']).columns.tolist()\n",
    "\n",
    "    # List of object type columns with missing values\n",
    "    object_columns = df.select_dtypes(include=['object']).columns.tolist()\n",
    "\n",
    "    # Impute missing values for float type columns with the median\n",
    "    float_imputer = SimpleImputer(strategy='median')\n",
    "    df[float_columns] = float_imputer.fit_transform(df[float_columns])\n",
    "\n",
    "    # Impute missing values for object type columns with the most frequent category ('mode')\n",
    "    object_imputer = SimpleImputer(strategy='most_frequent')\n",
    "    df[object_columns] = object_imputer.fit_transform(df[object_columns])\n",
    "\n",
    "    return df"
   ]
  },
  {
   "cell_type": "code",
   "execution_count": 7,
   "id": "b01b25ef",
   "metadata": {},
   "outputs": [],
   "source": [
    "train = impute_missing_values(train)\n",
    "test = impute_missing_values(test)"
   ]
  },
  {
   "cell_type": "code",
   "execution_count": 8,
   "id": "3feb82ac",
   "metadata": {},
   "outputs": [],
   "source": [
    "from sklearn.preprocessing import LabelEncoder\n",
    "\n",
    "def encode_categorical_columns(df):\n",
    "    # Identify categorical columns\n",
    "    categorical_columns = df.select_dtypes(include=['object']).columns.tolist()\n",
    "    \n",
    "    # Initialize a LabelEncoder\n",
    "    label_encoder = LabelEncoder()\n",
    "    \n",
    "    # List of object type columns with missing values\n",
    "    object_columns = df.select_dtypes(include=['object']).columns.tolist()\n",
    "    \n",
    "    # Encode each object column\n",
    "    for column in object_columns:\n",
    "        df[column] = label_encoder.fit_transform(df[column])\n",
    "    \n",
    "    return df"
   ]
  },
  {
   "cell_type": "code",
   "execution_count": 9,
   "id": "f231f96c",
   "metadata": {},
   "outputs": [],
   "source": [
    "encoded_train = encode_categorical_columns(train)\n",
    "encoded_test = encode_categorical_columns(test)"
   ]
  },
  {
   "cell_type": "code",
   "execution_count": 10,
   "id": "8f01ffe6",
   "metadata": {},
   "outputs": [],
   "source": [
    "# Specify the correlation threshold\n",
    "correlation_threshold = -0.01\n",
    "\n",
    "# Create a list of columns with high correlation to 'SalePrice' in the training set\n",
    "high_corr_columns_train = encoded_train.columns[encoded_train.corr()['SalePrice'] > correlation_threshold]\n",
    "\n",
    "# Filter the training set to include only the selected columns\n",
    "filtered_encoded_train = encoded_train[high_corr_columns_train.drop('SalePrice', errors='ignore')]\n",
    "\n",
    "# Filter the test set to include only the selected columns\n",
    "filtered_encoded_test = encoded_test[high_corr_columns_train.drop('SalePrice', errors='ignore')]\n"
   ]
  },
  {
   "cell_type": "code",
   "execution_count": 11,
   "id": "31e055ed",
   "metadata": {},
   "outputs": [],
   "source": [
    "encoded_trains = encoded_train.drop(columns=['SalePrice'], axis=0)"
   ]
  },
  {
   "cell_type": "code",
   "execution_count": 12,
   "id": "b3d75db3",
   "metadata": {},
   "outputs": [],
   "source": [
    "from sklearn.preprocessing import StandardScaler\n",
    "\n",
    "scaler = StandardScaler()\n",
    "\n",
    "# Fit and transform on the training data\n",
    "train_scaled = scaler.fit_transform(encoded_trains)\n",
    "\n",
    "# Transform the test data using the same scaler\n",
    "test_scaled = scaler.transform(encoded_test)"
   ]
  },
  {
   "cell_type": "code",
   "execution_count": 13,
   "id": "3adf09f2",
   "metadata": {},
   "outputs": [],
   "source": [
    "y_trains = encoded_train['SalePrice']"
   ]
  },
  {
   "cell_type": "code",
   "execution_count": 14,
   "id": "42917c0e",
   "metadata": {},
   "outputs": [],
   "source": [
    "from sklearn.model_selection import train_test_split\n",
    "\n",
    "# Split the data into training and validation sets\n",
    "X_train, X_val, y_train, y_val = train_test_split(train_scaled, y_trains, test_size=0.2, random_state=42)"
   ]
  },
  {
   "cell_type": "markdown",
   "id": "0800bbe2",
   "metadata": {},
   "source": [
    "# optuna"
   ]
  },
  {
   "cell_type": "code",
   "execution_count": 15,
   "id": "1369a2ef",
   "metadata": {},
   "outputs": [],
   "source": [
    "import optuna\n",
    "import numpy as np\n",
    "import tensorflow as tf\n",
    "from tensorflow import keras\n",
    "from sklearn.model_selection import train_test_split\n",
    "\n",
    "# Define a function to create and compile the deep learning model\n",
    "def create_model(trial):\n",
    "    # Define hyperparameters to optimize\n",
    "    learning_rate = trial.suggest_float(\"learning_rate\", 1e-5, 1e-2, log=True)\n",
    "    num_hidden_layers = trial.suggest_int(\"num_hidden_layers\", 1, 5)\n",
    "    num_units = trial.suggest_int(\"num_units\", 32, 512, log=True)\n",
    "    dropout_rate = trial.suggest_float(\"dropout_rate\", 0.0, 0.5)\n",
    "\n",
    "    # Create a Sequential model\n",
    "    model = keras.Sequential()\n",
    "\n",
    "    # Input layer\n",
    "    model.add(keras.layers.Input(shape=(input_dim,)))\n",
    "\n",
    "    # Add hidden layers\n",
    "    for _ in range(num_hidden_layers):\n",
    "        model.add(keras.layers.Dense(num_units, activation=\"relu\"))\n",
    "        model.add(keras.layers.Dropout(dropout_rate))\n",
    "\n",
    "    # Output layer\n",
    "    model.add(keras.layers.Dense(1, activation=\"linear\"))\n",
    "\n",
    "    # Compile the model\n",
    "    model.compile(\n",
    "        optimizer=keras.optimizers.legacy.Adam(learning_rate),\n",
    "        loss=\"mean_squared_error\",  # You can change the loss function as needed\n",
    "        metrics=[\"mean_absolute_error\"],\n",
    "    )\n",
    "\n",
    "    return model"
   ]
  },
  {
   "cell_type": "code",
   "execution_count": 16,
   "id": "ada396e3",
   "metadata": {},
   "outputs": [],
   "source": [
    "# Define a function to optimize the model using Optuna\n",
    "def objective(trial):\n",
    "    # Create the model\n",
    "    model = create_model(trial)\n",
    "\n",
    "    # Train the model\n",
    "    model.fit(\n",
    "        X_train,\n",
    "        y_train,\n",
    "        epochs=num_epochs,\n",
    "        batch_size=batch_size,\n",
    "        verbose=0,\n",
    "        validation_data=(X_val, y_val),\n",
    "    )\n",
    "\n",
    "    # Evaluate the model on the validation set\n",
    "    score = model.evaluate(X_val, y_val, verbose=0)\n",
    "\n",
    "    # Return the negative mean absolute error as the objective to minimize\n",
    "    return -score[1]\n"
   ]
  },
  {
   "cell_type": "code",
   "execution_count": 17,
   "id": "bcad87c5",
   "metadata": {},
   "outputs": [],
   "source": [
    "# Define the number of epochs and batch size\n",
    "num_epochs = 50\n",
    "batch_size = 32"
   ]
  },
  {
   "cell_type": "code",
   "execution_count": 18,
   "id": "4a5abe10",
   "metadata": {},
   "outputs": [],
   "source": [
    "# Get the input dimension\n",
    "input_dim = X_train.shape[1]"
   ]
  },
  {
   "cell_type": "code",
   "execution_count": 19,
   "id": "e86376a8",
   "metadata": {},
   "outputs": [
    {
     "name": "stderr",
     "output_type": "stream",
     "text": [
      "[I 2023-10-08 12:55:19,398] A new study created in memory with name: no-name-effe5512-cd91-45f2-a124-746c6f622d0a\n",
      "2023-10-08 12:55:19.542284: W tensorflow/tsl/platform/profile_utils/cpu_utils.cc:128] Failed to get CPU frequency: 0 Hz\n",
      "[I 2023-10-08 12:55:30,725] Trial 0 finished with value: -178792.21875 and parameters: {'learning_rate': 0.000760894942184973, 'num_hidden_layers': 1, 'num_units': 150, 'dropout_rate': 0.17890882747417575}. Best is trial 0 with value: -178792.21875.\n",
      "[I 2023-10-08 12:55:41,791] Trial 1 finished with value: -178839.4375 and parameters: {'learning_rate': 4.18887020922146e-05, 'num_hidden_layers': 1, 'num_units': 36, 'dropout_rate': 0.381878009841682}. Best is trial 1 with value: -178839.4375.\n",
      "[I 2023-10-08 12:55:58,595] Trial 2 finished with value: -182202.328125 and parameters: {'learning_rate': 0.0008085752689945035, 'num_hidden_layers': 4, 'num_units': 216, 'dropout_rate': 0.4745177401391444}. Best is trial 2 with value: -182202.328125.\n",
      "[I 2023-10-08 12:56:15,116] Trial 3 finished with value: -275057.78125 and parameters: {'learning_rate': 0.0060047808866047865, 'num_hidden_layers': 4, 'num_units': 43, 'dropout_rate': 0.09723980388470849}. Best is trial 3 with value: -275057.78125.\n",
      "[I 2023-10-08 12:56:33,378] Trial 4 finished with value: -5781409.5 and parameters: {'learning_rate': 0.0018299212139700066, 'num_hidden_layers': 5, 'num_units': 98, 'dropout_rate': 0.2444962111886037}. Best is trial 4 with value: -5781409.5.\n",
      "[I 2023-10-08 12:56:47,208] Trial 5 finished with value: -178399.5625 and parameters: {'learning_rate': 0.00015755205439545495, 'num_hidden_layers': 2, 'num_units': 212, 'dropout_rate': 0.3874565183047068}. Best is trial 4 with value: -5781409.5.\n",
      "[I 2023-10-08 12:57:01,731] Trial 6 finished with value: -178838.75 and parameters: {'learning_rate': 2.3930298278286435e-05, 'num_hidden_layers': 3, 'num_units': 66, 'dropout_rate': 0.47544670763729924}. Best is trial 4 with value: -5781409.5.\n",
      "[I 2023-10-08 12:57:16,036] Trial 7 finished with value: -171701.375 and parameters: {'learning_rate': 0.0018761153848279974, 'num_hidden_layers': 2, 'num_units': 77, 'dropout_rate': 0.4955643785451641}. Best is trial 4 with value: -5781409.5.\n",
      "[I 2023-10-08 12:57:27,903] Trial 8 finished with value: -178834.515625 and parameters: {'learning_rate': 0.0001235341195589506, 'num_hidden_layers': 1, 'num_units': 177, 'dropout_rate': 0.2841076025275835}. Best is trial 4 with value: -5781409.5.\n",
      "[I 2023-10-08 12:57:41,372] Trial 9 finished with value: -178832.609375 and parameters: {'learning_rate': 8.570515631907314e-05, 'num_hidden_layers': 2, 'num_units': 49, 'dropout_rate': 0.02381799818184749}. Best is trial 4 with value: -5781409.5.\n",
      "[I 2023-10-08 12:57:59,440] Trial 10 finished with value: -2448757.75 and parameters: {'learning_rate': 0.009742239529704067, 'num_hidden_layers': 5, 'num_units': 427, 'dropout_rate': 0.220558998065494}. Best is trial 4 with value: -5781409.5.\n",
      "[I 2023-10-08 12:58:17,857] Trial 11 finished with value: -1742320.875 and parameters: {'learning_rate': 0.007260651955193509, 'num_hidden_layers': 5, 'num_units': 489, 'dropout_rate': 0.22047008668099483}. Best is trial 4 with value: -5781409.5.\n",
      "[I 2023-10-08 12:58:36,424] Trial 12 finished with value: -30379856.0 and parameters: {'learning_rate': 0.009475493948646881, 'num_hidden_layers': 5, 'num_units': 104, 'dropout_rate': 0.2739530242607108}. Best is trial 12 with value: -30379856.0.\n",
      "[I 2023-10-08 12:58:54,088] Trial 13 finished with value: -1197207.875 and parameters: {'learning_rate': 0.0025429682713694157, 'num_hidden_layers': 4, 'num_units': 98, 'dropout_rate': 0.27801623160837824}. Best is trial 12 with value: -30379856.0.\n",
      "[I 2023-10-08 12:59:12,821] Trial 14 finished with value: -9703470.0 and parameters: {'learning_rate': 0.0034526260772327465, 'num_hidden_layers': 5, 'num_units': 112, 'dropout_rate': 0.15238559102024377}. Best is trial 12 with value: -30379856.0.\n",
      "[I 2023-10-08 12:59:29,943] Trial 15 finished with value: -1767009.375 and parameters: {'learning_rate': 0.0037265456107422996, 'num_hidden_layers': 4, 'num_units': 124, 'dropout_rate': 0.13780040397861487}. Best is trial 12 with value: -30379856.0.\n",
      "[I 2023-10-08 12:59:48,130] Trial 16 finished with value: -11782602.0 and parameters: {'learning_rate': 0.008917557999692979, 'num_hidden_layers': 5, 'num_units': 74, 'dropout_rate': 0.07244848349176941}. Best is trial 12 with value: -30379856.0.\n",
      "[I 2023-10-08 13:00:03,042] Trial 17 finished with value: -108989.25 and parameters: {'learning_rate': 0.009556684143517024, 'num_hidden_layers': 3, 'num_units': 62, 'dropout_rate': 0.004801613573836946}. Best is trial 12 with value: -30379856.0.\n",
      "[I 2023-10-08 13:00:22,224] Trial 18 finished with value: -2975446.5 and parameters: {'learning_rate': 0.000418767936385115, 'num_hidden_layers': 5, 'num_units': 82, 'dropout_rate': 0.07490280376804324}. Best is trial 12 with value: -30379856.0.\n",
      "[I 2023-10-08 13:00:40,906] Trial 19 finished with value: -631450.875 and parameters: {'learning_rate': 0.004567039289781217, 'num_hidden_layers': 4, 'num_units': 56, 'dropout_rate': 0.06854434366148072}. Best is trial 12 with value: -30379856.0.\n",
      "[I 2023-10-08 13:00:56,885] Trial 20 finished with value: -169773.71875 and parameters: {'learning_rate': 0.0011899193130067273, 'num_hidden_layers': 3, 'num_units': 32, 'dropout_rate': 0.11285852940272278}. Best is trial 12 with value: -30379856.0.\n",
      "[I 2023-10-08 13:01:16,288] Trial 21 finished with value: -5730397.0 and parameters: {'learning_rate': 0.0035829461218266578, 'num_hidden_layers': 5, 'num_units': 111, 'dropout_rate': 0.15468434312837426}. Best is trial 12 with value: -30379856.0.\n",
      "[I 2023-10-08 13:01:35,925] Trial 22 finished with value: -21363416.0 and parameters: {'learning_rate': 0.005608026025451784, 'num_hidden_layers': 5, 'num_units': 79, 'dropout_rate': 0.1816992890006427}. Best is trial 12 with value: -30379856.0.\n",
      "[I 2023-10-08 13:01:54,763] Trial 23 finished with value: -1202294.375 and parameters: {'learning_rate': 0.009529663187854288, 'num_hidden_layers': 5, 'num_units': 74, 'dropout_rate': 0.18952937215844395}. Best is trial 12 with value: -30379856.0.\n",
      "[I 2023-10-08 13:02:12,286] Trial 24 finished with value: -348343.0 and parameters: {'learning_rate': 0.0059178236679232115, 'num_hidden_layers': 4, 'num_units': 86, 'dropout_rate': 0.030890134592631152}. Best is trial 12 with value: -30379856.0.\n",
      "[I 2023-10-08 13:02:32,257] Trial 25 finished with value: -4988952.5 and parameters: {'learning_rate': 0.0050416592658126475, 'num_hidden_layers': 5, 'num_units': 56, 'dropout_rate': 0.10382567064414755}. Best is trial 12 with value: -30379856.0.\n",
      "[I 2023-10-08 13:02:49,430] Trial 26 finished with value: -317489.375 and parameters: {'learning_rate': 0.0022000509997351257, 'num_hidden_layers': 4, 'num_units': 44, 'dropout_rate': 0.057583164516986245}. Best is trial 12 with value: -30379856.0.\n",
      "[I 2023-10-08 13:03:08,504] Trial 27 finished with value: -4268105.0 and parameters: {'learning_rate': 0.005893474502551089, 'num_hidden_layers': 5, 'num_units': 67, 'dropout_rate': 0.1250046750753494}. Best is trial 12 with value: -30379856.0.\n",
      "[I 2023-10-08 13:03:24,228] Trial 28 finished with value: -42060.86328125 and parameters: {'learning_rate': 0.0031767756442736645, 'num_hidden_layers': 3, 'num_units': 93, 'dropout_rate': 0.17954840387188672}. Best is trial 12 with value: -30379856.0.\n",
      "[I 2023-10-08 13:03:43,582] Trial 29 finished with value: -1752099.5 and parameters: {'learning_rate': 0.0013894974562290328, 'num_hidden_layers': 5, 'num_units': 144, 'dropout_rate': 0.18291358665061958}. Best is trial 12 with value: -30379856.0.\n",
      "[I 2023-10-08 13:04:01,490] Trial 30 finished with value: -3994582.75 and parameters: {'learning_rate': 0.0005813895073166926, 'num_hidden_layers': 4, 'num_units': 127, 'dropout_rate': 0.3036663265028563}. Best is trial 12 with value: -30379856.0.\n",
      "[I 2023-10-08 13:04:21,156] Trial 31 finished with value: -3621237.0 and parameters: {'learning_rate': 0.0033855376492387406, 'num_hidden_layers': 5, 'num_units': 116, 'dropout_rate': 0.15330808620419803}. Best is trial 12 with value: -30379856.0.\n",
      "[I 2023-10-08 13:04:42,033] Trial 32 finished with value: -1550712.375 and parameters: {'learning_rate': 0.004845782238049206, 'num_hidden_layers': 5, 'num_units': 78, 'dropout_rate': 0.16261694123782755}. Best is trial 12 with value: -30379856.0.\n"
     ]
    },
    {
     "name": "stderr",
     "output_type": "stream",
     "text": [
      "[I 2023-10-08 13:05:02,014] Trial 33 finished with value: -1420374.0 and parameters: {'learning_rate': 0.00748337781225453, 'num_hidden_layers': 5, 'num_units': 110, 'dropout_rate': 0.13321975299046535}. Best is trial 12 with value: -30379856.0.\n",
      "[I 2023-10-08 13:05:19,527] Trial 34 finished with value: -3359887.0 and parameters: {'learning_rate': 0.002849529022095809, 'num_hidden_layers': 4, 'num_units': 91, 'dropout_rate': 0.09585588936930857}. Best is trial 12 with value: -30379856.0.\n",
      "[I 2023-10-08 13:05:39,673] Trial 35 finished with value: -8156718.5 and parameters: {'learning_rate': 0.000996773072665463, 'num_hidden_layers': 5, 'num_units': 150, 'dropout_rate': 0.2100128631121636}. Best is trial 12 with value: -30379856.0.\n",
      "[I 2023-10-08 13:06:00,301] Trial 36 finished with value: -3056856.0 and parameters: {'learning_rate': 0.00176888127287974, 'num_hidden_layers': 5, 'num_units': 73, 'dropout_rate': 0.2605044265731341}. Best is trial 12 with value: -30379856.0.\n",
      "[I 2023-10-08 13:06:18,719] Trial 37 finished with value: -3931833.5 and parameters: {'learning_rate': 0.004476085524809981, 'num_hidden_layers': 4, 'num_units': 102, 'dropout_rate': 0.2413138077435112}. Best is trial 12 with value: -30379856.0.\n",
      "[I 2023-10-08 13:06:38,177] Trial 38 finished with value: -2702258.25 and parameters: {'learning_rate': 0.007153048284866946, 'num_hidden_layers': 4, 'num_units': 87, 'dropout_rate': 0.08919893518890655}. Best is trial 12 with value: -30379856.0.\n",
      "[I 2023-10-08 13:06:58,058] Trial 39 finished with value: -11266592.0 and parameters: {'learning_rate': 0.002326625202241377, 'num_hidden_layers': 5, 'num_units': 106, 'dropout_rate': 0.31789365651149587}. Best is trial 12 with value: -30379856.0.\n",
      "[I 2023-10-08 13:07:19,527] Trial 40 finished with value: -15248433.0 and parameters: {'learning_rate': 0.0023575513619488865, 'num_hidden_layers': 5, 'num_units': 135, 'dropout_rate': 0.32612972678619856}. Best is trial 12 with value: -30379856.0.\n",
      "[I 2023-10-08 13:07:42,841] Trial 41 finished with value: -8786802.0 and parameters: {'learning_rate': 0.0016105353950442698, 'num_hidden_layers': 5, 'num_units': 164, 'dropout_rate': 0.31812361682895635}. Best is trial 12 with value: -30379856.0.\n",
      "[I 2023-10-08 13:08:04,163] Trial 42 finished with value: -29879216.0 and parameters: {'learning_rate': 0.002222654213611475, 'num_hidden_layers': 5, 'num_units': 136, 'dropout_rate': 0.3403017471166419}. Best is trial 12 with value: -30379856.0.\n",
      "[I 2023-10-08 13:08:16,430] Trial 43 finished with value: -178771.5 and parameters: {'learning_rate': 0.0008019641572236004, 'num_hidden_layers': 1, 'num_units': 136, 'dropout_rate': 0.3434501256723276}. Best is trial 12 with value: -30379856.0.\n",
      "[I 2023-10-08 13:08:36,471] Trial 44 finished with value: -11721757.0 and parameters: {'learning_rate': 0.006800624819642423, 'num_hidden_layers': 5, 'num_units': 182, 'dropout_rate': 0.38575206787922034}. Best is trial 12 with value: -30379856.0.\n",
      "[I 2023-10-08 13:08:58,219] Trial 45 finished with value: -47572852.0 and parameters: {'learning_rate': 0.0023382716942837627, 'num_hidden_layers': 5, 'num_units': 122, 'dropout_rate': 0.3469344226855262}. Best is trial 45 with value: -47572852.0.\n",
      "[I 2023-10-08 13:09:13,672] Trial 46 finished with value: -161862.5 and parameters: {'learning_rate': 0.001977094904133711, 'num_hidden_layers': 2, 'num_units': 133, 'dropout_rate': 0.35706669619943965}. Best is trial 45 with value: -47572852.0.\n",
      "[I 2023-10-08 13:09:33,234] Trial 47 finished with value: -3000412.75 and parameters: {'learning_rate': 0.0013984116567771702, 'num_hidden_layers': 4, 'num_units': 124, 'dropout_rate': 0.41808768760148884}. Best is trial 45 with value: -47572852.0.\n",
      "[I 2023-10-08 13:09:54,300] Trial 48 finished with value: -4882463.0 and parameters: {'learning_rate': 0.0023903843936693087, 'num_hidden_layers': 5, 'num_units': 158, 'dropout_rate': 0.2828028682247135}. Best is trial 45 with value: -47572852.0.\n",
      "[I 2023-10-08 13:10:14,423] Trial 49 finished with value: -9185548.0 and parameters: {'learning_rate': 0.0010243385340955784, 'num_hidden_layers': 5, 'num_units': 194, 'dropout_rate': 0.2652230205595778}. Best is trial 45 with value: -47572852.0.\n",
      "[I 2023-10-08 13:10:32,864] Trial 50 finished with value: -4690559.0 and parameters: {'learning_rate': 0.0039978221125384905, 'num_hidden_layers': 4, 'num_units': 221, 'dropout_rate': 0.4071707875239803}. Best is trial 45 with value: -47572852.0.\n",
      "[I 2023-10-08 13:10:53,332] Trial 51 finished with value: -13778469.0 and parameters: {'learning_rate': 0.009457702834830078, 'num_hidden_layers': 5, 'num_units': 95, 'dropout_rate': 0.3534712092575697}. Best is trial 45 with value: -47572852.0.\n",
      "[I 2023-10-08 13:11:13,217] Trial 52 finished with value: -9448417.0 and parameters: {'learning_rate': 0.005880585621219787, 'num_hidden_layers': 5, 'num_units': 97, 'dropout_rate': 0.3593588917206938}. Best is trial 45 with value: -47572852.0.\n",
      "[I 2023-10-08 13:11:33,736] Trial 53 finished with value: -350767.03125 and parameters: {'learning_rate': 0.009883841335399435, 'num_hidden_layers': 5, 'num_units': 120, 'dropout_rate': 0.3066030650774213}. Best is trial 45 with value: -47572852.0.\n",
      "[I 2023-10-08 13:11:53,231] Trial 54 finished with value: -372158.53125 and parameters: {'learning_rate': 0.0026149237222570913, 'num_hidden_layers': 5, 'num_units': 100, 'dropout_rate': 0.33668493035700486}. Best is trial 45 with value: -47572852.0.\n",
      "[I 2023-10-08 13:12:12,449] Trial 55 finished with value: -4904802.5 and parameters: {'learning_rate': 0.00468437126316309, 'num_hidden_layers': 5, 'num_units': 82, 'dropout_rate': 0.2971101067337141}. Best is trial 45 with value: -47572852.0.\n",
      "[I 2023-10-08 13:12:33,121] Trial 56 finished with value: -19079516.0 and parameters: {'learning_rate': 0.002986507874582428, 'num_hidden_layers': 5, 'num_units': 133, 'dropout_rate': 0.331492660256753}. Best is trial 45 with value: -47572852.0.\n",
      "[I 2023-10-08 13:12:54,548] Trial 57 finished with value: -4465074.5 and parameters: {'learning_rate': 0.003054099035822491, 'num_hidden_layers': 5, 'num_units': 141, 'dropout_rate': 0.3315852179828287}. Best is trial 45 with value: -47572852.0.\n",
      "[I 2023-10-08 13:13:14,436] Trial 58 finished with value: -1855009.375 and parameters: {'learning_rate': 0.0019757680454476497, 'num_hidden_layers': 4, 'num_units': 116, 'dropout_rate': 0.2886253508057945}. Best is trial 45 with value: -47572852.0.\n",
      "[I 2023-10-08 13:13:36,989] Trial 59 finished with value: -42570728.0 and parameters: {'learning_rate': 0.003177716125278458, 'num_hidden_layers': 5, 'num_units': 166, 'dropout_rate': 0.2706565635801698}. Best is trial 45 with value: -47572852.0.\n",
      "[I 2023-10-08 13:13:52,126] Trial 60 finished with value: -46005.15234375 and parameters: {'learning_rate': 0.004313034349239484, 'num_hidden_layers': 2, 'num_units': 162, 'dropout_rate': 0.24191849232415605}. Best is trial 45 with value: -47572852.0.\n",
      "[I 2023-10-08 13:14:12,405] Trial 61 finished with value: -33547302.0 and parameters: {'learning_rate': 0.0027971996160738527, 'num_hidden_layers': 5, 'num_units': 139, 'dropout_rate': 0.2815664606827555}. Best is trial 45 with value: -47572852.0.\n",
      "[I 2023-10-08 13:14:32,857] Trial 62 finished with value: -611919.375 and parameters: {'learning_rate': 0.0033817159976936573, 'num_hidden_layers': 5, 'num_units': 154, 'dropout_rate': 0.2720021954350788}. Best is trial 45 with value: -47572852.0.\n",
      "[I 2023-10-08 13:14:54,143] Trial 63 finished with value: -182993.0625 and parameters: {'learning_rate': 0.005350986470056649, 'num_hidden_layers': 5, 'num_units': 126, 'dropout_rate': 0.2897351818752538}. Best is trial 45 with value: -47572852.0.\n",
      "[I 2023-10-08 13:15:14,294] Trial 64 finished with value: -28669934.0 and parameters: {'learning_rate': 0.003905313644242929, 'num_hidden_layers': 5, 'num_units': 106, 'dropout_rate': 0.25390793657841604}. Best is trial 45 with value: -47572852.0.\n",
      "[I 2023-10-08 13:15:34,723] Trial 65 finished with value: -6046686.0 and parameters: {'learning_rate': 0.008071916625821315, 'num_hidden_layers': 5, 'num_units': 108, 'dropout_rate': 0.25426382984557405}. Best is trial 45 with value: -47572852.0.\n",
      "[I 2023-10-08 13:15:55,247] Trial 66 finished with value: -978150.875 and parameters: {'learning_rate': 0.006424510424097926, 'num_hidden_layers': 5, 'num_units': 104, 'dropout_rate': 0.23396871285420806}. Best is trial 45 with value: -47572852.0.\n"
     ]
    },
    {
     "name": "stderr",
     "output_type": "stream",
     "text": [
      "[I 2023-10-08 13:16:15,736] Trial 67 finished with value: -4886988.5 and parameters: {'learning_rate': 0.003986284924039692, 'num_hidden_layers': 4, 'num_units': 86, 'dropout_rate': 0.2684267102270502}. Best is trial 45 with value: -47572852.0.\n",
      "[I 2023-10-08 13:16:38,564] Trial 68 finished with value: -7928075.5 and parameters: {'learning_rate': 0.005555190341507684, 'num_hidden_layers': 5, 'num_units': 176, 'dropout_rate': 0.22795706724055764}. Best is trial 45 with value: -47572852.0.\n",
      "[I 2023-10-08 13:16:58,737] Trial 69 finished with value: -1573340.375 and parameters: {'learning_rate': 0.0015694172527248725, 'num_hidden_layers': 5, 'num_units': 120, 'dropout_rate': 0.27772741155097797}. Best is trial 45 with value: -47572852.0.\n",
      "[I 2023-10-08 13:17:16,089] Trial 70 finished with value: -38044.28125 and parameters: {'learning_rate': 0.007613525062234885, 'num_hidden_layers': 3, 'num_units': 148, 'dropout_rate': 0.20570604038477502}. Best is trial 45 with value: -47572852.0.\n",
      "[I 2023-10-08 13:18:06,878] Trial 71 finished with value: -7838568.5 and parameters: {'learning_rate': 0.0029148662195846854, 'num_hidden_layers': 5, 'num_units': 133, 'dropout_rate': 0.2538528557777353}. Best is trial 45 with value: -47572852.0.\n",
      "[I 2023-10-08 13:18:29,681] Trial 72 finished with value: -17289166.0 and parameters: {'learning_rate': 0.00362541917855865, 'num_hidden_layers': 5, 'num_units': 143, 'dropout_rate': 0.3051204380293605}. Best is trial 45 with value: -47572852.0.\n",
      "[I 2023-10-08 13:18:55,167] Trial 73 finished with value: -13101308.0 and parameters: {'learning_rate': 0.002752328986789929, 'num_hidden_layers': 5, 'num_units': 113, 'dropout_rate': 0.3176279074658862}. Best is trial 45 with value: -47572852.0.\n",
      "[I 2023-10-08 13:19:21,499] Trial 74 finished with value: -4028201.25 and parameters: {'learning_rate': 0.002027700154621795, 'num_hidden_layers': 5, 'num_units': 93, 'dropout_rate': 0.24793917252639885}. Best is trial 45 with value: -47572852.0.\n",
      "[I 2023-10-08 13:19:48,001] Trial 75 finished with value: -5406564.0 and parameters: {'learning_rate': 0.0048936056718146635, 'num_hidden_layers': 5, 'num_units': 126, 'dropout_rate': 0.29729597113351836}. Best is trial 45 with value: -47572852.0.\n",
      "[I 2023-10-08 13:20:11,709] Trial 76 finished with value: -5497424.0 and parameters: {'learning_rate': 0.0039160157124231, 'num_hidden_layers': 5, 'num_units': 104, 'dropout_rate': 0.2644026414866057}. Best is trial 45 with value: -47572852.0.\n",
      "[I 2023-10-08 13:20:35,084] Trial 77 finished with value: -39055080.0 and parameters: {'learning_rate': 0.003171880518830687, 'num_hidden_layers': 5, 'num_units': 117, 'dropout_rate': 0.21863077884463622}. Best is trial 45 with value: -47572852.0.\n",
      "[I 2023-10-08 13:21:00,023] Trial 78 finished with value: -322501.9375 and parameters: {'learning_rate': 0.006255769888246472, 'num_hidden_layers': 5, 'num_units': 109, 'dropout_rate': 0.21860589726536406}. Best is trial 45 with value: -47572852.0.\n",
      "[I 2023-10-08 13:21:20,768] Trial 79 finished with value: -251790.71875 and parameters: {'learning_rate': 0.001694822110005018, 'num_hidden_layers': 4, 'num_units': 119, 'dropout_rate': 0.19549686630980473}. Best is trial 45 with value: -47572852.0.\n",
      "[I 2023-10-08 13:22:27,422] Trial 80 finished with value: -4793486.0 and parameters: {'learning_rate': 0.007842524654682454, 'num_hidden_layers': 5, 'num_units': 88, 'dropout_rate': 0.23328127049389374}. Best is trial 45 with value: -47572852.0.\n",
      "[I 2023-10-08 13:24:48,149] Trial 81 finished with value: -13680906.0 and parameters: {'learning_rate': 0.0032295909176390547, 'num_hidden_layers': 5, 'num_units': 133, 'dropout_rate': 0.28290113898821784}. Best is trial 45 with value: -47572852.0.\n",
      "[I 2023-10-08 13:25:15,542] Trial 82 finished with value: -23136624.0 and parameters: {'learning_rate': 0.0024669714796401072, 'num_hidden_layers': 5, 'num_units': 113, 'dropout_rate': 0.17147779023335563}. Best is trial 45 with value: -47572852.0.\n",
      "[I 2023-10-08 13:26:56,563] Trial 83 finished with value: -2794418.75 and parameters: {'learning_rate': 0.0024079476388471827, 'num_hidden_layers': 5, 'num_units': 98, 'dropout_rate': 0.19579151264756672}. Best is trial 45 with value: -47572852.0.\n",
      "[I 2023-10-08 13:27:26,429] Trial 84 finished with value: -5043070.5 and parameters: {'learning_rate': 0.0021171222042882442, 'num_hidden_layers': 5, 'num_units': 114, 'dropout_rate': 0.22183198514047797}. Best is trial 45 with value: -47572852.0.\n",
      "[I 2023-10-08 13:27:51,785] Trial 85 finished with value: -4041982.75 and parameters: {'learning_rate': 0.004619113727820764, 'num_hidden_layers': 5, 'num_units': 150, 'dropout_rate': 0.20581711029561117}. Best is trial 45 with value: -47572852.0.\n",
      "[I 2023-10-08 13:29:46,608] Trial 86 finished with value: -19112492.0 and parameters: {'learning_rate': 0.0026166541220572037, 'num_hidden_layers': 5, 'num_units': 103, 'dropout_rate': 0.17343578446555102}. Best is trial 45 with value: -47572852.0.\n",
      "[I 2023-10-08 13:34:35,163] Trial 87 finished with value: -2416949.5 and parameters: {'learning_rate': 0.003679469462501843, 'num_hidden_layers': 5, 'num_units': 79, 'dropout_rate': 0.23748493375949886}. Best is trial 45 with value: -47572852.0.\n",
      "[I 2023-10-08 13:35:10,727] Trial 88 finished with value: -13604440.0 and parameters: {'learning_rate': 0.005221590520948759, 'num_hidden_layers': 5, 'num_units': 93, 'dropout_rate': 0.2537000424304794}. Best is trial 45 with value: -47572852.0.\n",
      "[I 2023-10-08 13:38:25,592] Trial 89 finished with value: -2148314.0 and parameters: {'learning_rate': 0.0013111692279073061, 'num_hidden_layers': 4, 'num_units': 142, 'dropout_rate': 0.27308007782507354}. Best is trial 45 with value: -47572852.0.\n",
      "[I 2023-10-08 13:55:07,127] Trial 90 finished with value: -2174872.5 and parameters: {'learning_rate': 0.0016914074412995082, 'num_hidden_layers': 5, 'num_units': 121, 'dropout_rate': 0.1776476435194385}. Best is trial 45 with value: -47572852.0.\n",
      "[I 2023-10-08 14:11:09,090] Trial 91 finished with value: -4431584.0 and parameters: {'learning_rate': 0.002505942244040332, 'num_hidden_layers': 5, 'num_units': 102, 'dropout_rate': 0.16966909785104167}. Best is trial 45 with value: -47572852.0.\n",
      "[I 2023-10-08 14:15:38,584] Trial 92 finished with value: -9007527.0 and parameters: {'learning_rate': 0.004197244801885659, 'num_hidden_layers': 5, 'num_units': 111, 'dropout_rate': 0.17127160981156933}. Best is trial 45 with value: -47572852.0.\n",
      "[I 2023-10-08 14:22:23,531] Trial 93 finished with value: -4994329.5 and parameters: {'learning_rate': 0.0027290818444013153, 'num_hidden_layers': 5, 'num_units': 99, 'dropout_rate': 0.15379336775637498}. Best is trial 45 with value: -47572852.0.\n",
      "[I 2023-10-08 14:23:05,875] Trial 94 finished with value: -33850024.0 and parameters: {'learning_rate': 0.002177128418716853, 'num_hidden_layers': 5, 'num_units': 126, 'dropout_rate': 0.18853895998947126}. Best is trial 45 with value: -47572852.0.\n",
      "[I 2023-10-08 14:23:49,542] Trial 95 finished with value: -22695656.0 and parameters: {'learning_rate': 0.0021719546290247162, 'num_hidden_layers': 5, 'num_units': 124, 'dropout_rate': 0.21294999856819993}. Best is trial 45 with value: -47572852.0.\n",
      "[I 2023-10-08 14:24:30,095] Trial 96 finished with value: -218581.8125 and parameters: {'learning_rate': 0.002106372021139563, 'num_hidden_layers': 5, 'num_units': 126, 'dropout_rate': 0.21731569935047476}. Best is trial 45 with value: -47572852.0.\n",
      "[I 2023-10-08 14:25:15,148] Trial 97 finished with value: -19811952.0 and parameters: {'learning_rate': 0.001894582338129242, 'num_hidden_layers': 5, 'num_units': 139, 'dropout_rate': 0.24440300017884653}. Best is trial 45 with value: -47572852.0.\n",
      "[I 2023-10-08 14:29:08,673] Trial 98 finished with value: -99923.390625 and parameters: {'learning_rate': 0.0031504781503340594, 'num_hidden_layers': 3, 'num_units': 117, 'dropout_rate': 0.1852949985246618}. Best is trial 45 with value: -47572852.0.\n",
      "[I 2023-10-08 14:39:34,121] Trial 99 finished with value: -3078190.75 and parameters: {'learning_rate': 0.0014186662531845285, 'num_hidden_layers': 5, 'num_units': 130, 'dropout_rate': 0.22877999229528376}. Best is trial 45 with value: -47572852.0.\n"
     ]
    }
   ],
   "source": [
    "# Create a study and optimize the model\n",
    "study = optuna.create_study(direction=\"minimize\")\n",
    "study.optimize(objective, n_trials=100)"
   ]
  },
  {
   "cell_type": "code",
   "execution_count": 20,
   "id": "345d84b3",
   "metadata": {},
   "outputs": [
    {
     "name": "stdout",
     "output_type": "stream",
     "text": [
      "Best Parameters: {'learning_rate': 0.0023382716942837627, 'num_hidden_layers': 5, 'num_units': 122, 'dropout_rate': 0.3469344226855262}\n",
      "Best Value: -47572852.0\n"
     ]
    }
   ],
   "source": [
    "# Print the best parameters and their value\n",
    "best_params = study.best_params\n",
    "best_value = study.best_value\n",
    "print(f\"Best Parameters: {best_params}\")\n",
    "print(f\"Best Value: {best_value}\")"
   ]
  },
  {
   "cell_type": "code",
   "execution_count": null,
   "id": "1623ca24",
   "metadata": {},
   "outputs": [],
   "source": [
    "# Evaluate the final model on the test set\n",
    "test_loss, test_accuracy = final_model.evaluate(X_test, y_test, verbose=1)\n",
    "print(f\"Test Loss: {test_loss}\")\n",
    "print(f\"Test Mean Absolute Error: {test_accuracy}\")"
   ]
  },
  {
   "cell_type": "code",
   "execution_count": null,
   "id": "f6b0a11b",
   "metadata": {},
   "outputs": [],
   "source": []
  },
  {
   "cell_type": "code",
   "execution_count": null,
   "id": "91a9fc20",
   "metadata": {},
   "outputs": [],
   "source": []
  },
  {
   "cell_type": "code",
   "execution_count": 21,
   "id": "6bdf4065",
   "metadata": {},
   "outputs": [
    {
     "ename": "NameError",
     "evalue": "name 'y_pred' is not defined",
     "output_type": "error",
     "traceback": [
      "\u001b[0;31m---------------------------------------------------------------------------\u001b[0m",
      "\u001b[0;31mNameError\u001b[0m                                 Traceback (most recent call last)",
      "Cell \u001b[0;32mIn[21], line 2\u001b[0m\n\u001b[1;32m      1\u001b[0m \u001b[38;5;66;03m# Create a DataFrame for submission\u001b[39;00m\n\u001b[0;32m----> 2\u001b[0m submission_df \u001b[38;5;241m=\u001b[39m pd\u001b[38;5;241m.\u001b[39mDataFrame({\u001b[38;5;124m'\u001b[39m\u001b[38;5;124mId\u001b[39m\u001b[38;5;124m'\u001b[39m: test[\u001b[38;5;124m'\u001b[39m\u001b[38;5;124mId\u001b[39m\u001b[38;5;124m'\u001b[39m], \u001b[38;5;124m'\u001b[39m\u001b[38;5;124mSalePrice\u001b[39m\u001b[38;5;124m'\u001b[39m: \u001b[43my_pred\u001b[49m})\n\u001b[1;32m      4\u001b[0m \u001b[38;5;66;03m# Save the submission DataFrame to a CSV file\u001b[39;00m\n\u001b[1;32m      5\u001b[0m submission_df\u001b[38;5;241m.\u001b[39mto_csv(\u001b[38;5;124m'\u001b[39m\u001b[38;5;124msample_submission.csv\u001b[39m\u001b[38;5;124m'\u001b[39m, index\u001b[38;5;241m=\u001b[39m\u001b[38;5;28;01mFalse\u001b[39;00m)\n",
      "\u001b[0;31mNameError\u001b[0m: name 'y_pred' is not defined"
     ]
    }
   ],
   "source": [
    "# Create a DataFrame for submission\n",
    "submission_df = pd.DataFrame({'Id': test['Id'], 'SalePrice': y_pred})\n",
    "\n",
    "# Save the submission DataFrame to a CSV file\n",
    "submission_df.to_csv('sample_submission.csv', index=False)"
   ]
  },
  {
   "cell_type": "code",
   "execution_count": null,
   "id": "bbcfa28a",
   "metadata": {},
   "outputs": [],
   "source": []
  },
  {
   "cell_type": "code",
   "execution_count": null,
   "id": "0ee479b1",
   "metadata": {},
   "outputs": [],
   "source": []
  }
 ],
 "metadata": {
  "kernelspec": {
   "display_name": "Python 3.10 (nn)",
   "language": "python",
   "name": "nn"
  },
  "language_info": {
   "codemirror_mode": {
    "name": "ipython",
    "version": 3
   },
   "file_extension": ".py",
   "mimetype": "text/x-python",
   "name": "python",
   "nbconvert_exporter": "python",
   "pygments_lexer": "ipython3",
   "version": "3.10.11"
  }
 },
 "nbformat": 4,
 "nbformat_minor": 5
}

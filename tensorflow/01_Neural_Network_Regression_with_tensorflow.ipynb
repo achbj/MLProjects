{
 "cells": [
  {
   "cell_type": "markdown",
   "id": "70d8bebf",
   "metadata": {},
   "source": [
    "# Introduction to Regression with Neural Network in Tensorflow\n",
    "\n",
    "There are many definitions for a regression problem but in our case, we're going to simplify it: predicting a numerical variable based on some other combination of variables, even shorter .... predicting a number"
   ]
  },
  {
   "cell_type": "code",
   "execution_count": 1,
   "id": "aa27df1b",
   "metadata": {},
   "outputs": [
    {
     "name": "stdout",
     "output_type": "stream",
     "text": [
      "2.12.0\n"
     ]
    }
   ],
   "source": [
    "# Import Tensorflow\n",
    "import tensorflow as tf\n",
    "print(tf.__version__)"
   ]
  },
  {
   "cell_type": "markdown",
   "id": "3a80bd01",
   "metadata": {},
   "source": [
    "## Creating data to view and fit"
   ]
  },
  {
   "cell_type": "code",
   "execution_count": 2,
   "id": "dcdb3b65",
   "metadata": {},
   "outputs": [
    {
     "data": {
      "text/plain": [
       "<matplotlib.collections.PathCollection at 0x284e82980>"
      ]
     },
     "execution_count": 2,
     "metadata": {},
     "output_type": "execute_result"
    },
    {
     "data": {
      "image/png": "[encoded data removed]",
      "text/plain": [
       "<Figure size 640x480 with 1 Axes>"
      ]
     },
     "metadata": {},
     "output_type": "display_data"
    }
   ],
   "source": [
    "import numpy as np\n",
    "import matplotlib.pyplot as plt\n",
    "\n",
    "# Create Features\n",
    "X = np.array([-7.0, -4.0, -1.0, 2.0, 5.0, 8.0, 11.0, 14.0])\n",
    "\n",
    "# Create labels\n",
    "y = np.array([3.0, 6.0, 9.0, 12.0, 15.0, 18.0, 21.0, 24.0])\n",
    "\n",
    "\n",
    "# Visualize it\n",
    "plt.scatter(X, y)"
   ]
  },
  {
   "cell_type": "markdown",
   "id": "f3e58649",
   "metadata": {},
   "source": [
    "## Input and output shapes"
   ]
  },
  {
   "cell_type": "code",
   "execution_count": 3,
   "id": "227cba15",
   "metadata": {},
   "outputs": [
    {
     "data": {
      "text/plain": [
       "(<tf.Tensor: shape=(3,), dtype=string, numpy=array([b'bedroom', b'bathroom', b'garage'], dtype=object)>,\n",
       " <tf.Tensor: shape=(), dtype=int32, numpy=939700>)"
      ]
     },
     "execution_count": 3,
     "metadata": {},
     "output_type": "execute_result"
    }
   ],
   "source": [
    "# Create a demo tensor for our housing price prediction problem\n",
    "house_info = tf.constant(['bedroom', 'bathroom', 'garage'])\n",
    "house_price =tf.constant(939700)\n",
    "house_info, house_price"
   ]
  },
  {
   "cell_type": "code",
   "execution_count": 4,
   "id": "12cf62aa",
   "metadata": {},
   "outputs": [
    {
     "data": {
      "text/plain": [
       "(-7.0, 3.0)"
      ]
     },
     "execution_count": 4,
     "metadata": {},
     "output_type": "execute_result"
    }
   ],
   "source": [
    "X[0], y[0]"
   ]
  },
  {
   "cell_type": "code",
   "execution_count": 5,
   "id": "649cd1a7",
   "metadata": {},
   "outputs": [
    {
     "data": {
      "text/plain": [
       "(-4.0, 6.0)"
      ]
     },
     "execution_count": 5,
     "metadata": {},
     "output_type": "execute_result"
    }
   ],
   "source": [
    "X[1], y[1]"
   ]
  },
  {
   "cell_type": "code",
   "execution_count": 6,
   "id": "00b95a2c",
   "metadata": {},
   "outputs": [
    {
     "data": {
      "text/plain": [
       "((8,), (8,))"
      ]
     },
     "execution_count": 6,
     "metadata": {},
     "output_type": "execute_result"
    }
   ],
   "source": [
    "input_shape = X.shape\n",
    "output_shape = y.shape\n",
    "\n",
    "input_shape, output_shape"
   ]
  },
  {
   "cell_type": "code",
   "execution_count": 7,
   "id": "98e75992",
   "metadata": {},
   "outputs": [
    {
     "data": {
      "text/plain": [
       "0"
      ]
     },
     "execution_count": 7,
     "metadata": {},
     "output_type": "execute_result"
    }
   ],
   "source": [
    "X[0].ndim"
   ]
  },
  {
   "cell_type": "code",
   "execution_count": 8,
   "id": "dd9e4483",
   "metadata": {},
   "outputs": [
    {
     "data": {
      "text/plain": [
       "(-7.0, 3.0)"
      ]
     },
     "execution_count": 8,
     "metadata": {},
     "output_type": "execute_result"
    }
   ],
   "source": [
    "X[0], y[0]"
   ]
  },
  {
   "cell_type": "code",
   "execution_count": 9,
   "id": "936a4d86",
   "metadata": {},
   "outputs": [
    {
     "data": {
      "text/plain": [
       "(<tf.Tensor: shape=(8,), dtype=float32, numpy=array([-7., -4., -1.,  2.,  5.,  8., 11., 14.], dtype=float32)>,\n",
       " <tf.Tensor: shape=(8,), dtype=float32, numpy=array([ 3.,  6.,  9., 12., 15., 18., 21., 24.], dtype=float32)>)"
      ]
     },
     "execution_count": 9,
     "metadata": {},
     "output_type": "execute_result"
    }
   ],
   "source": [
    "# Turn our Numpy arrays into tensors\n",
    "X = tf.cast(tf.constant(X), dtype=tf.float32)\n",
    "y = tf.cast(tf.constant(y), dtype=tf.float32)\n",
    "X , y"
   ]
  },
  {
   "cell_type": "code",
   "execution_count": 10,
   "id": "267f0d0d",
   "metadata": {},
   "outputs": [
    {
     "data": {
      "text/plain": [
       "(TensorShape([]), TensorShape([]))"
      ]
     },
     "execution_count": 10,
     "metadata": {},
     "output_type": "execute_result"
    }
   ],
   "source": [
    "input_shape = X[0].shape\n",
    "output_shape = y[0].shape\n",
    "input_shape, output_shape"
   ]
  },
  {
   "cell_type": "code",
   "execution_count": 11,
   "id": "0481f216",
   "metadata": {},
   "outputs": [
    {
     "data": {
      "text/plain": [
       "<matplotlib.collections.PathCollection at 0x284f7a0e0>"
      ]
     },
     "execution_count": 11,
     "metadata": {},
     "output_type": "execute_result"
    },
    {
     "data": {
      "image/png": "[encoded data removed]",
      "text/plain": [
       "<Figure size 640x480 with 1 Axes>"
      ]
     },
     "metadata": {},
     "output_type": "display_data"
    }
   ],
   "source": [
    "plt.scatter(X, y)"
   ]
  },
  {
   "cell_type": "code",
   "execution_count": 12,
   "id": "17ee405e",
   "metadata": {},
   "outputs": [
    {
     "data": {
      "text/plain": [
       "TensorShape([8])"
      ]
     },
     "execution_count": 12,
     "metadata": {},
     "output_type": "execute_result"
    }
   ],
   "source": [
    "X.shape"
   ]
  },
  {
   "cell_type": "markdown",
   "id": "9ab77952",
   "metadata": {},
   "source": [
    "## steps in modelling with tensorflow\n",
    "\n",
    "1. **Creating a model** - define the input and output layers, as well as the hidden layers of a deep learning model.\n",
    "2. **Compile a model** - define the loss function (in other words, the function which tells our model how wrong it is) and the optimizer (tells our model how to improve the patterns the patters its learning) and evaluation metrics (waht we can use to intepret the performance of our model).\n",
    "3. **Fitting a model** - letting the model try to find patterns between X & y (features and labels)."
   ]
  },
  {
   "cell_type": "code",
   "execution_count": 13,
   "id": "7e4c05a3",
   "metadata": {},
   "outputs": [
    {
     "name": "stderr",
     "output_type": "stream",
     "text": [
      "WARNING:absl:At this time, the v2.11+ optimizer `tf.keras.optimizers.SGD` runs slowly on M1/M2 Macs, please use the legacy Keras optimizer instead, located at `tf.keras.optimizers.legacy.SGD`.\n",
      "WARNING:absl:There is a known slowdown when using v2.11+ Keras optimizers on M1/M2 Macs. Falling back to the legacy Keras optimizer, i.e., `tf.keras.optimizers.legacy.SGD`.\n"
     ]
    },
    {
     "name": "stdout",
     "output_type": "stream",
     "text": [
      "Epoch 1/5\n"
     ]
    },
    {
     "name": "stderr",
     "output_type": "stream",
     "text": [
      "2023-06-30 14:22:59.250998: W tensorflow/tsl/platform/profile_utils/cpu_utils.cc:128] Failed to get CPU frequency: 0 Hz\n"
     ]
    },
    {
     "name": "stdout",
     "output_type": "stream",
     "text": [
      "1/1 [==============================] - 0s 210ms/step - loss: 10.3631 - mae: 10.3631\n",
      "Epoch 2/5\n",
      "1/1 [==============================] - 0s 10ms/step - loss: 10.2306 - mae: 10.2306\n",
      "Epoch 3/5\n",
      "1/1 [==============================] - 0s 11ms/step - loss: 10.0981 - mae: 10.0981\n",
      "Epoch 4/5\n",
      "1/1 [==============================] - 0s 10ms/step - loss: 9.9656 - mae: 9.9656\n",
      "Epoch 5/5\n",
      "1/1 [==============================] - 0s 9ms/step - loss: 9.8331 - mae: 9.8331\n"
     ]
    },
    {
     "data": {
      "text/plain": [
       "<keras.callbacks.History at 0x28714d240>"
      ]
     },
     "execution_count": 13,
     "metadata": {},
     "output_type": "execute_result"
    }
   ],
   "source": [
    "# set random seed\n",
    "tf.random.set_seed(42)\n",
    "\n",
    "# 1. Create a model using the Sequential API\n",
    "model = tf.keras.Sequential([\n",
    "    tf.keras.Input(shape=(1,)),\n",
    "    tf.keras.layers.Dense(1)\n",
    "])\n",
    "\n",
    "\n",
    "# 2. Compile the model\n",
    "model.compile(loss=tf.keras.losses.mae, # mae = mean absolute error\n",
    "             optimizer=tf.keras.optimizers.SGD(), # SGD is short Stochastic Gradient Descent\n",
    "             metrics=['mae']\n",
    "             )\n",
    "\n",
    "# 3. Fit the model\n",
    "model.fit(X, y, epochs=5)  # problem with current version if not set sequential Input above\n",
    "# model.fit(tf.expand_dims(X, axis=-1), y, epochs=5)"
   ]
  },
  {
   "cell_type": "code",
   "execution_count": 14,
   "id": "c38984ec",
   "metadata": {},
   "outputs": [
    {
     "data": {
      "text/plain": [
       "(<tf.Tensor: shape=(8,), dtype=float32, numpy=array([-7., -4., -1.,  2.,  5.,  8., 11., 14.], dtype=float32)>,\n",
       " <tf.Tensor: shape=(8,), dtype=float32, numpy=array([ 3.,  6.,  9., 12., 15., 18., 21., 24.], dtype=float32)>)"
      ]
     },
     "execution_count": 14,
     "metadata": {},
     "output_type": "execute_result"
    }
   ],
   "source": [
    "# Check out X and y\n",
    "X, y"
   ]
  },
  {
   "cell_type": "code",
   "execution_count": 15,
   "id": "c974f636",
   "metadata": {},
   "outputs": [
    {
     "name": "stdout",
     "output_type": "stream",
     "text": [
      "1/1 [==============================] - 0s 47ms/step\n"
     ]
    },
    {
     "data": {
      "text/plain": [
       "array([[18.261353]], dtype=float32)"
      ]
     },
     "execution_count": 15,
     "metadata": {},
     "output_type": "execute_result"
    }
   ],
   "source": [
    "# Try and make a prediction using or model\n",
    "model.predict([17.0])"
   ]
  },
  {
   "cell_type": "markdown",
   "id": "62110e79",
   "metadata": {},
   "source": [
    "### Improving our model\n",
    "\n",
    "We can improve our model, by altering the steps we took to create a model.\n",
    "\n",
    "1. **Creating a model** - here we might add more leayers, increase the number of hiddern units (all called neurons) within each of the hidden layers, change the activatoin function of each layers.\n",
    "2. **Compiling a model** - here we might change optimization function or perhaps the **learning rate** of the optimization function.\n",
    "3. **Fitting a model** = here we might fit a model for more **epochs** (leave it trainin for longer( or on more data (give the model more example to learn from)"
   ]
  },
  {
   "cell_type": "code",
   "execution_count": 16,
   "id": "234f5961",
   "metadata": {},
   "outputs": [
    {
     "name": "stderr",
     "output_type": "stream",
     "text": [
      "WARNING:absl:At this time, the v2.11+ optimizer `tf.keras.optimizers.SGD` runs slowly on M1/M2 Macs, please use the legacy Keras optimizer instead, located at `tf.keras.optimizers.legacy.SGD`.\n",
      "WARNING:absl:There is a known slowdown when using v2.11+ Keras optimizers on M1/M2 Macs. Falling back to the legacy Keras optimizer, i.e., `tf.keras.optimizers.legacy.SGD`.\n"
     ]
    },
    {
     "name": "stdout",
     "output_type": "stream",
     "text": [
      "Epoch 1/100\n",
      "1/1 [==============================] - 0s 147ms/step - loss: 16.1716 - mae: 16.1716\n",
      "Epoch 2/100\n",
      "1/1 [==============================] - 0s 10ms/step - loss: 15.8904 - mae: 15.8904\n",
      "Epoch 3/100\n",
      "1/1 [==============================] - 0s 9ms/step - loss: 15.6091 - mae: 15.6091\n",
      "Epoch 4/100\n",
      "1/1 [==============================] - 0s 10ms/step - loss: 15.3279 - mae: 15.3279\n",
      "Epoch 5/100\n",
      "1/1 [==============================] - 0s 11ms/step - loss: 15.0466 - mae: 15.0466\n",
      "Epoch 6/100\n",
      "1/1 [==============================] - 0s 11ms/step - loss: 14.8248 - mae: 14.8248\n",
      "Epoch 7/100\n",
      "1/1 [==============================] - 0s 11ms/step - loss: 14.6923 - mae: 14.6923\n",
      "Epoch 8/100\n",
      "1/1 [==============================] - 0s 10ms/step - loss: 14.5598 - mae: 14.5598\n",
      "Epoch 9/100\n",
      "1/1 [==============================] - 0s 11ms/step - loss: 14.4273 - mae: 14.4273\n",
      "Epoch 10/100\n",
      "1/1 [==============================] - 0s 11ms/step - loss: 14.2948 - mae: 14.2948\n",
      "Epoch 11/100\n",
      "1/1 [==============================] - 0s 10ms/step - loss: 14.1623 - mae: 14.1623\n",
      "Epoch 12/100\n",
      "1/1 [==============================] - 0s 10ms/step - loss: 14.0298 - mae: 14.0298\n",
      "Epoch 13/100\n",
      "1/1 [==============================] - 0s 11ms/step - loss: 13.8973 - mae: 13.8973\n",
      "Epoch 14/100\n",
      "1/1 [==============================] - 0s 11ms/step - loss: 13.7648 - mae: 13.7648\n",
      "Epoch 15/100\n",
      "1/1 [==============================] - 0s 11ms/step - loss: 13.6323 - mae: 13.6323\n",
      "Epoch 16/100\n",
      "1/1 [==============================] - 0s 9ms/step - loss: 13.4998 - mae: 13.4998\n",
      "Epoch 17/100\n",
      "1/1 [==============================] - 0s 13ms/step - loss: 13.3673 - mae: 13.3673\n",
      "Epoch 18/100\n",
      "1/1 [==============================] - 0s 11ms/step - loss: 13.2348 - mae: 13.2348\n",
      "Epoch 19/100\n",
      "1/1 [==============================] - 0s 11ms/step - loss: 13.1023 - mae: 13.1023\n",
      "Epoch 20/100\n",
      "1/1 [==============================] - 0s 10ms/step - loss: 12.9698 - mae: 12.9698\n",
      "Epoch 21/100\n",
      "1/1 [==============================] - 0s 12ms/step - loss: 12.8373 - mae: 12.8373\n",
      "Epoch 22/100\n",
      "1/1 [==============================] - 0s 11ms/step - loss: 12.7048 - mae: 12.7048\n",
      "Epoch 23/100\n",
      "1/1 [==============================] - 0s 9ms/step - loss: 12.5723 - mae: 12.5723\n",
      "Epoch 24/100\n",
      "1/1 [==============================] - 0s 10ms/step - loss: 12.4398 - mae: 12.4398\n",
      "Epoch 25/100\n",
      "1/1 [==============================] - 0s 10ms/step - loss: 12.3073 - mae: 12.3073\n",
      "Epoch 26/100\n",
      "1/1 [==============================] - 0s 10ms/step - loss: 12.1748 - mae: 12.1748\n",
      "Epoch 27/100\n",
      "1/1 [==============================] - 0s 10ms/step - loss: 12.0423 - mae: 12.0423\n",
      "Epoch 28/100\n",
      "1/1 [==============================] - 0s 10ms/step - loss: 11.9098 - mae: 11.9098\n",
      "Epoch 29/100\n",
      "1/1 [==============================] - 0s 11ms/step - loss: 11.7773 - mae: 11.7773\n",
      "Epoch 30/100\n",
      "1/1 [==============================] - 0s 12ms/step - loss: 11.6448 - mae: 11.6448\n",
      "Epoch 31/100\n",
      "1/1 [==============================] - 0s 11ms/step - loss: 11.5123 - mae: 11.5123\n",
      "Epoch 32/100\n",
      "1/1 [==============================] - 0s 12ms/step - loss: 11.3798 - mae: 11.3798\n",
      "Epoch 33/100\n",
      "1/1 [==============================] - 0s 11ms/step - loss: 11.2473 - mae: 11.2473\n",
      "Epoch 34/100\n",
      "1/1 [==============================] - 0s 11ms/step - loss: 11.1148 - mae: 11.1148\n",
      "Epoch 35/100\n",
      "1/1 [==============================] - 0s 11ms/step - loss: 10.9823 - mae: 10.9823\n",
      "Epoch 36/100\n",
      "1/1 [==============================] - 0s 10ms/step - loss: 10.8498 - mae: 10.8498\n",
      "Epoch 37/100\n",
      "1/1 [==============================] - 0s 11ms/step - loss: 10.7173 - mae: 10.7173\n",
      "Epoch 38/100\n",
      "1/1 [==============================] - 0s 11ms/step - loss: 10.5848 - mae: 10.5848\n",
      "Epoch 39/100\n",
      "1/1 [==============================] - 0s 10ms/step - loss: 10.4523 - mae: 10.4523\n",
      "Epoch 40/100\n",
      "1/1 [==============================] - 0s 10ms/step - loss: 10.3198 - mae: 10.3198\n",
      "Epoch 41/100\n",
      "1/1 [==============================] - 0s 10ms/step - loss: 10.1873 - mae: 10.1873\n",
      "Epoch 42/100\n",
      "1/1 [==============================] - 0s 12ms/step - loss: 10.0548 - mae: 10.0548\n",
      "Epoch 43/100\n",
      "1/1 [==============================] - 0s 10ms/step - loss: 9.9223 - mae: 9.9223\n",
      "Epoch 44/100\n",
      "1/1 [==============================] - 0s 12ms/step - loss: 9.7898 - mae: 9.7898\n",
      "Epoch 45/100\n",
      "1/1 [==============================] - 0s 12ms/step - loss: 9.6573 - mae: 9.6573\n",
      "Epoch 46/100\n",
      "1/1 [==============================] - 0s 11ms/step - loss: 9.5248 - mae: 9.5248\n",
      "Epoch 47/100\n",
      "1/1 [==============================] - 0s 10ms/step - loss: 9.3923 - mae: 9.3923\n",
      "Epoch 48/100\n",
      "1/1 [==============================] - 0s 9ms/step - loss: 9.2598 - mae: 9.2598\n",
      "Epoch 49/100\n",
      "1/1 [==============================] - 0s 11ms/step - loss: 9.1273 - mae: 9.1273\n",
      "Epoch 50/100\n",
      "1/1 [==============================] - 0s 10ms/step - loss: 8.9948 - mae: 8.9948\n",
      "Epoch 51/100\n",
      "1/1 [==============================] - 0s 11ms/step - loss: 8.8623 - mae: 8.8623\n",
      "Epoch 52/100\n",
      "1/1 [==============================] - 0s 11ms/step - loss: 8.7298 - mae: 8.7298\n",
      "Epoch 53/100\n",
      "1/1 [==============================] - 0s 9ms/step - loss: 8.5973 - mae: 8.5973\n",
      "Epoch 54/100\n",
      "1/1 [==============================] - 0s 10ms/step - loss: 8.4648 - mae: 8.4648\n",
      "Epoch 55/100\n",
      "1/1 [==============================] - 0s 11ms/step - loss: 8.3323 - mae: 8.3323\n",
      "Epoch 56/100\n",
      "1/1 [==============================] - 0s 10ms/step - loss: 8.1998 - mae: 8.1998\n",
      "Epoch 57/100\n",
      "1/1 [==============================] - 0s 10ms/step - loss: 8.0673 - mae: 8.0673\n",
      "Epoch 58/100\n",
      "1/1 [==============================] - 0s 10ms/step - loss: 7.9348 - mae: 7.9348\n",
      "Epoch 59/100\n",
      "1/1 [==============================] - 0s 10ms/step - loss: 7.8023 - mae: 7.8023\n",
      "Epoch 60/100\n",
      "1/1 [==============================] - 0s 10ms/step - loss: 7.6698 - mae: 7.6698\n",
      "Epoch 61/100\n",
      "1/1 [==============================] - 0s 9ms/step - loss: 7.5373 - mae: 7.5373\n",
      "Epoch 62/100\n",
      "1/1 [==============================] - 0s 9ms/step - loss: 7.4048 - mae: 7.4048\n",
      "Epoch 63/100\n",
      "1/1 [==============================] - 0s 10ms/step - loss: 7.2723 - mae: 7.2723\n",
      "Epoch 64/100\n",
      "1/1 [==============================] - 0s 10ms/step - loss: 7.1398 - mae: 7.1398\n",
      "Epoch 65/100\n",
      "1/1 [==============================] - 0s 10ms/step - loss: 7.0294 - mae: 7.0294\n",
      "Epoch 66/100\n",
      "1/1 [==============================] - 0s 10ms/step - loss: 7.0238 - mae: 7.0238\n",
      "Epoch 67/100\n",
      "1/1 [==============================] - 0s 9ms/step - loss: 7.0181 - mae: 7.0181\n",
      "Epoch 68/100\n",
      "1/1 [==============================] - 0s 10ms/step - loss: 7.0125 - mae: 7.0125\n",
      "Epoch 69/100\n",
      "1/1 [==============================] - 0s 9ms/step - loss: 7.0069 - mae: 7.0069\n",
      "Epoch 70/100\n",
      "1/1 [==============================] - 0s 11ms/step - loss: 7.0013 - mae: 7.0013\n",
      "Epoch 71/100\n",
      "1/1 [==============================] - 0s 10ms/step - loss: 6.9956 - mae: 6.9956\n",
      "Epoch 72/100\n",
      "1/1 [==============================] - 0s 9ms/step - loss: 6.9900 - mae: 6.9900\n",
      "Epoch 73/100\n",
      "1/1 [==============================] - 0s 11ms/step - loss: 6.9844 - mae: 6.9844\n",
      "Epoch 74/100\n",
      "1/1 [==============================] - 0s 10ms/step - loss: 6.9788 - mae: 6.9788\n",
      "Epoch 75/100\n",
      "1/1 [==============================] - 0s 10ms/step - loss: 6.9731 - mae: 6.9731\n",
      "Epoch 76/100\n",
      "1/1 [==============================] - 0s 9ms/step - loss: 6.9675 - mae: 6.9675\n",
      "Epoch 77/100\n",
      "1/1 [==============================] - 0s 10ms/step - loss: 6.9619 - mae: 6.9619\n",
      "Epoch 78/100\n",
      "1/1 [==============================] - 0s 10ms/step - loss: 6.9563 - mae: 6.9563\n",
      "Epoch 79/100\n",
      "1/1 [==============================] - 0s 10ms/step - loss: 6.9506 - mae: 6.9506\n",
      "Epoch 80/100\n",
      "1/1 [==============================] - 0s 10ms/step - loss: 6.9450 - mae: 6.9450\n",
      "Epoch 81/100\n",
      "1/1 [==============================] - 0s 11ms/step - loss: 6.9394 - mae: 6.9394\n",
      "Epoch 82/100\n",
      "1/1 [==============================] - 0s 10ms/step - loss: 6.9338 - mae: 6.9338\n",
      "Epoch 83/100\n",
      "1/1 [==============================] - 0s 9ms/step - loss: 6.9281 - mae: 6.9281\n",
      "Epoch 84/100\n",
      "1/1 [==============================] - 0s 11ms/step - loss: 6.9225 - mae: 6.9225\n",
      "Epoch 85/100\n",
      "1/1 [==============================] - 0s 10ms/step - loss: 6.9169 - mae: 6.9169\n",
      "Epoch 86/100\n",
      "1/1 [==============================] - 0s 10ms/step - loss: 6.9113 - mae: 6.9113\n",
      "Epoch 87/100\n",
      "1/1 [==============================] - 0s 9ms/step - loss: 6.9056 - mae: 6.9056\n",
      "Epoch 88/100\n",
      "1/1 [==============================] - 0s 11ms/step - loss: 6.9000 - mae: 6.9000\n",
      "Epoch 89/100\n",
      "1/1 [==============================] - 0s 10ms/step - loss: 6.8944 - mae: 6.8944\n",
      "Epoch 90/100\n",
      "1/1 [==============================] - 0s 10ms/step - loss: 6.8888 - mae: 6.8888\n",
      "Epoch 91/100\n",
      "1/1 [==============================] - 0s 9ms/step - loss: 6.8831 - mae: 6.8831\n",
      "Epoch 92/100\n",
      "1/1 [==============================] - 0s 12ms/step - loss: 6.8775 - mae: 6.8775\n",
      "Epoch 93/100\n",
      "1/1 [==============================] - 0s 10ms/step - loss: 6.8719 - mae: 6.8719\n",
      "Epoch 94/100\n",
      "1/1 [==============================] - 0s 11ms/step - loss: 6.8663 - mae: 6.8663\n",
      "Epoch 95/100\n",
      "1/1 [==============================] - 0s 10ms/step - loss: 6.8606 - mae: 6.8606\n",
      "Epoch 96/100\n",
      "1/1 [==============================] - 0s 10ms/step - loss: 6.8550 - mae: 6.8550\n",
      "Epoch 97/100\n",
      "1/1 [==============================] - 0s 11ms/step - loss: 6.8494 - mae: 6.8494\n",
      "Epoch 98/100\n",
      "1/1 [==============================] - 0s 10ms/step - loss: 6.8438 - mae: 6.8438\n",
      "Epoch 99/100\n",
      "1/1 [==============================] - 0s 16ms/step - loss: 6.8381 - mae: 6.8381\n",
      "Epoch 100/100\n",
      "1/1 [==============================] - 0s 13ms/step - loss: 6.8325 - mae: 6.8325\n"
     ]
    },
    {
     "data": {
      "text/plain": [
       "<keras.callbacks.History at 0x2885a7e80>"
      ]
     },
     "execution_count": 16,
     "metadata": {},
     "output_type": "execute_result"
    }
   ],
   "source": [
    "# lets rebuild our model\n",
    "# 1. create the model\n",
    "model = tf.keras.Sequential([\n",
    "    tf.keras.Input(shape=(1,)),\n",
    "    tf.keras.layers.Dense(1)\n",
    "])\n",
    "\n",
    "# 2. compile the model\n",
    "model.compile(loss=tf.keras.losses.mae,\n",
    "             optimizer=tf.keras.optimizers.SGD(),\n",
    "             metrics=['mae']\n",
    "             )\n",
    "\n",
    "# 3. Fit the model (this time we'll train the model for longer)\n",
    "model.fit(X, y, epochs=100)"
   ]
  },
  {
   "cell_type": "code",
   "execution_count": 17,
   "id": "50b9feba",
   "metadata": {},
   "outputs": [
    {
     "name": "stdout",
     "output_type": "stream",
     "text": [
      "1/1 [==============================] - 0s 33ms/step\n"
     ]
    },
    {
     "data": {
      "text/plain": [
       "array([[29.38552]], dtype=float32)"
      ]
     },
     "execution_count": 17,
     "metadata": {},
     "output_type": "execute_result"
    }
   ],
   "source": [
    "# Let's see if our model's prediction has improved\n",
    "model.predict([17.0])"
   ]
  },
  {
   "cell_type": "code",
   "execution_count": 18,
   "id": "8c96521c",
   "metadata": {},
   "outputs": [
    {
     "name": "stderr",
     "output_type": "stream",
     "text": [
      "WARNING:absl:At this time, the v2.11+ optimizer `tf.keras.optimizers.Adam` runs slowly on M1/M2 Macs, please use the legacy Keras optimizer instead, located at `tf.keras.optimizers.legacy.Adam`.\n",
      "WARNING:absl:`lr` is deprecated in Keras optimizer, please use `learning_rate` or use the legacy optimizer, e.g.,tf.keras.optimizers.legacy.Adam.\n",
      "WARNING:absl:There is a known slowdown when using v2.11+ Keras optimizers on M1/M2 Macs. Falling back to the legacy Keras optimizer, i.e., `tf.keras.optimizers.legacy.Adam`.\n"
     ]
    },
    {
     "name": "stdout",
     "output_type": "stream",
     "text": [
      "Epoch 1/100\n",
      "1/1 [==============================] - 0s 376ms/step - loss: 12.4190 - mae: 12.4190\n",
      "Epoch 2/100\n",
      "1/1 [==============================] - 0s 13ms/step - loss: 11.2548 - mae: 11.2548\n",
      "Epoch 3/100\n",
      "1/1 [==============================] - 0s 12ms/step - loss: 10.0621 - mae: 10.0621\n",
      "Epoch 4/100\n",
      "1/1 [==============================] - 0s 17ms/step - loss: 8.8269 - mae: 8.8269\n",
      "Epoch 5/100\n",
      "1/1 [==============================] - 0s 12ms/step - loss: 7.5349 - mae: 7.5349\n",
      "Epoch 6/100\n",
      "1/1 [==============================] - 0s 13ms/step - loss: 7.7322 - mae: 7.7322\n",
      "Epoch 7/100\n",
      "1/1 [==============================] - 0s 11ms/step - loss: 8.4058 - mae: 8.4058\n",
      "Epoch 8/100\n",
      "1/1 [==============================] - 0s 12ms/step - loss: 8.6023 - mae: 8.6023\n",
      "Epoch 9/100\n",
      "1/1 [==============================] - 0s 12ms/step - loss: 8.2888 - mae: 8.2888\n",
      "Epoch 10/100\n",
      "1/1 [==============================] - 0s 12ms/step - loss: 7.8608 - mae: 7.8608\n",
      "Epoch 11/100\n",
      "1/1 [==============================] - 0s 13ms/step - loss: 7.4366 - mae: 7.4366\n",
      "Epoch 12/100\n",
      "1/1 [==============================] - 0s 13ms/step - loss: 7.1959 - mae: 7.1959\n",
      "Epoch 13/100\n",
      "1/1 [==============================] - 0s 12ms/step - loss: 7.2756 - mae: 7.2756\n",
      "Epoch 14/100\n",
      "1/1 [==============================] - 0s 13ms/step - loss: 7.5104 - mae: 7.5104\n",
      "Epoch 15/100\n",
      "1/1 [==============================] - 0s 13ms/step - loss: 7.5692 - mae: 7.5692\n",
      "Epoch 16/100\n",
      "1/1 [==============================] - 0s 12ms/step - loss: 7.4837 - mae: 7.4837\n",
      "Epoch 17/100\n",
      "1/1 [==============================] - 0s 13ms/step - loss: 7.2739 - mae: 7.2739\n",
      "Epoch 18/100\n",
      "1/1 [==============================] - 0s 12ms/step - loss: 7.0398 - mae: 7.0398\n",
      "Epoch 19/100\n",
      "1/1 [==============================] - 0s 14ms/step - loss: 7.0033 - mae: 7.0033\n",
      "Epoch 20/100\n",
      "1/1 [==============================] - 0s 12ms/step - loss: 6.9661 - mae: 6.9661\n",
      "Epoch 21/100\n",
      "1/1 [==============================] - 0s 13ms/step - loss: 7.0945 - mae: 7.0945\n",
      "Epoch 22/100\n",
      "1/1 [==============================] - 0s 11ms/step - loss: 7.1461 - mae: 7.1461\n",
      "Epoch 23/100\n",
      "1/1 [==============================] - 0s 14ms/step - loss: 7.1093 - mae: 7.1093\n",
      "Epoch 24/100\n",
      "1/1 [==============================] - 0s 12ms/step - loss: 6.9956 - mae: 6.9956\n",
      "Epoch 25/100\n",
      "1/1 [==============================] - 0s 13ms/step - loss: 6.8186 - mae: 6.8186\n",
      "Epoch 26/100\n",
      "1/1 [==============================] - 0s 13ms/step - loss: 6.7964 - mae: 6.7964\n",
      "Epoch 27/100\n",
      "1/1 [==============================] - 0s 12ms/step - loss: 6.7731 - mae: 6.7731\n",
      "Epoch 28/100\n",
      "1/1 [==============================] - 0s 12ms/step - loss: 6.7487 - mae: 6.7487\n",
      "Epoch 29/100\n",
      "1/1 [==============================] - 0s 14ms/step - loss: 6.7232 - mae: 6.7232\n",
      "Epoch 30/100\n",
      "1/1 [==============================] - 0s 13ms/step - loss: 6.7322 - mae: 6.7322\n",
      "Epoch 31/100\n",
      "1/1 [==============================] - 0s 12ms/step - loss: 6.6619 - mae: 6.6619\n",
      "Epoch 32/100\n",
      "1/1 [==============================] - 0s 13ms/step - loss: 6.6261 - mae: 6.6261\n",
      "Epoch 33/100\n",
      "1/1 [==============================] - 0s 13ms/step - loss: 6.5893 - mae: 6.5893\n",
      "Epoch 34/100\n",
      "1/1 [==============================] - 0s 13ms/step - loss: 6.5513 - mae: 6.5513\n",
      "Epoch 35/100\n",
      "1/1 [==============================] - 0s 12ms/step - loss: 6.5120 - mae: 6.5120\n",
      "Epoch 36/100\n",
      "1/1 [==============================] - 0s 13ms/step - loss: 6.4714 - mae: 6.4714\n",
      "Epoch 37/100\n",
      "1/1 [==============================] - 0s 12ms/step - loss: 6.4294 - mae: 6.4294\n",
      "Epoch 38/100\n",
      "1/1 [==============================] - 0s 13ms/step - loss: 6.3858 - mae: 6.3858\n",
      "Epoch 39/100\n",
      "1/1 [==============================] - 0s 11ms/step - loss: 6.3405 - mae: 6.3405\n",
      "Epoch 40/100\n",
      "1/1 [==============================] - 0s 14ms/step - loss: 6.3413 - mae: 6.3413\n",
      "Epoch 41/100\n",
      "1/1 [==============================] - 0s 12ms/step - loss: 6.2761 - mae: 6.2761\n",
      "Epoch 42/100\n",
      "1/1 [==============================] - 0s 14ms/step - loss: 6.2224 - mae: 6.2224\n",
      "Epoch 43/100\n",
      "1/1 [==============================] - 0s 13ms/step - loss: 6.1877 - mae: 6.1877\n",
      "Epoch 44/100\n",
      "1/1 [==============================] - 0s 12ms/step - loss: 6.1501 - mae: 6.1501\n",
      "Epoch 45/100\n",
      "1/1 [==============================] - 0s 13ms/step - loss: 6.1095 - mae: 6.1095\n",
      "Epoch 46/100\n",
      "1/1 [==============================] - 0s 11ms/step - loss: 6.0657 - mae: 6.0657\n",
      "Epoch 47/100\n",
      "1/1 [==============================] - 0s 12ms/step - loss: 6.0186 - mae: 6.0186\n",
      "Epoch 48/100\n",
      "1/1 [==============================] - 0s 12ms/step - loss: 5.9681 - mae: 5.9681\n",
      "Epoch 49/100\n",
      "1/1 [==============================] - 0s 13ms/step - loss: 5.9140 - mae: 5.9140\n",
      "Epoch 50/100\n",
      "1/1 [==============================] - 0s 11ms/step - loss: 5.8560 - mae: 5.8560\n",
      "Epoch 51/100\n",
      "1/1 [==============================] - 0s 13ms/step - loss: 5.7940 - mae: 5.7940\n",
      "Epoch 52/100\n",
      "1/1 [==============================] - 0s 13ms/step - loss: 5.7276 - mae: 5.7276\n",
      "Epoch 53/100\n",
      "1/1 [==============================] - 0s 12ms/step - loss: 5.6566 - mae: 5.6566\n",
      "Epoch 54/100\n",
      "1/1 [==============================] - 0s 12ms/step - loss: 5.5805 - mae: 5.5805\n",
      "Epoch 55/100\n",
      "1/1 [==============================] - 0s 12ms/step - loss: 5.4991 - mae: 5.4991\n",
      "Epoch 56/100\n",
      "1/1 [==============================] - 0s 12ms/step - loss: 5.4117 - mae: 5.4117\n",
      "Epoch 57/100\n",
      "1/1 [==============================] - 0s 12ms/step - loss: 5.3181 - mae: 5.3181\n",
      "Epoch 58/100\n",
      "1/1 [==============================] - 0s 12ms/step - loss: 5.2721 - mae: 5.2721\n",
      "Epoch 59/100\n",
      "1/1 [==============================] - 0s 12ms/step - loss: 5.1289 - mae: 5.1289\n",
      "Epoch 60/100\n",
      "1/1 [==============================] - 0s 12ms/step - loss: 5.0316 - mae: 5.0316\n",
      "Epoch 61/100\n",
      "1/1 [==============================] - 0s 12ms/step - loss: 4.9251 - mae: 4.9251\n",
      "Epoch 62/100\n",
      "1/1 [==============================] - 0s 12ms/step - loss: 4.8088 - mae: 4.8088\n",
      "Epoch 63/100\n",
      "1/1 [==============================] - 0s 13ms/step - loss: 4.6820 - mae: 4.6820\n",
      "Epoch 64/100\n",
      "1/1 [==============================] - 0s 11ms/step - loss: 4.5502 - mae: 4.5502\n",
      "Epoch 65/100\n",
      "1/1 [==============================] - 0s 13ms/step - loss: 4.4177 - mae: 4.4177\n",
      "Epoch 66/100\n",
      "1/1 [==============================] - 0s 12ms/step - loss: 4.2778 - mae: 4.2778\n",
      "Epoch 67/100\n",
      "1/1 [==============================] - 0s 13ms/step - loss: 4.2167 - mae: 4.2167\n",
      "Epoch 68/100\n",
      "1/1 [==============================] - 0s 11ms/step - loss: 3.9279 - mae: 3.9279\n",
      "Epoch 69/100\n",
      "1/1 [==============================] - 0s 11ms/step - loss: 3.8250 - mae: 3.8250\n",
      "Epoch 70/100\n",
      "1/1 [==============================] - 0s 12ms/step - loss: 3.6274 - mae: 3.6274\n",
      "Epoch 71/100\n",
      "1/1 [==============================] - 0s 13ms/step - loss: 3.3294 - mae: 3.3294\n",
      "Epoch 72/100\n",
      "1/1 [==============================] - 0s 12ms/step - loss: 3.2305 - mae: 3.2305\n",
      "Epoch 73/100\n",
      "1/1 [==============================] - 0s 12ms/step - loss: 2.8584 - mae: 2.8584\n",
      "Epoch 74/100\n",
      "1/1 [==============================] - 0s 12ms/step - loss: 2.6808 - mae: 2.6808\n",
      "Epoch 75/100\n",
      "1/1 [==============================] - 0s 12ms/step - loss: 2.3432 - mae: 2.3432\n",
      "Epoch 76/100\n",
      "1/1 [==============================] - 0s 43ms/step - loss: 2.2105 - mae: 2.2105\n",
      "Epoch 77/100\n",
      "1/1 [==============================] - 0s 13ms/step - loss: 1.7566 - mae: 1.7566\n",
      "Epoch 78/100\n",
      "1/1 [==============================] - 0s 12ms/step - loss: 1.8179 - mae: 1.8179\n",
      "Epoch 79/100\n",
      "1/1 [==============================] - 0s 10ms/step - loss: 1.4742 - mae: 1.4742\n",
      "Epoch 80/100\n",
      "1/1 [==============================] - 0s 12ms/step - loss: 0.7665 - mae: 0.7665\n",
      "Epoch 81/100\n",
      "1/1 [==============================] - 0s 13ms/step - loss: 0.4607 - mae: 0.4607\n",
      "Epoch 82/100\n",
      "1/1 [==============================] - 0s 12ms/step - loss: 0.4771 - mae: 0.4771\n",
      "Epoch 83/100\n",
      "1/1 [==============================] - 0s 11ms/step - loss: 0.5424 - mae: 0.5424\n",
      "Epoch 84/100\n",
      "1/1 [==============================] - 0s 13ms/step - loss: 0.7565 - mae: 0.7565\n",
      "Epoch 85/100\n",
      "1/1 [==============================] - 0s 11ms/step - loss: 0.9036 - mae: 0.9036\n",
      "Epoch 86/100\n",
      "1/1 [==============================] - 0s 11ms/step - loss: 0.9833 - mae: 0.9833\n",
      "Epoch 87/100\n",
      "1/1 [==============================] - 0s 12ms/step - loss: 1.1646 - mae: 1.1646\n",
      "Epoch 88/100\n",
      "1/1 [==============================] - 0s 12ms/step - loss: 0.8626 - mae: 0.8626\n",
      "Epoch 89/100\n",
      "1/1 [==============================] - 0s 12ms/step - loss: 0.9954 - mae: 0.9954\n",
      "Epoch 90/100\n",
      "1/1 [==============================] - 0s 13ms/step - loss: 0.5728 - mae: 0.5728\n",
      "Epoch 91/100\n",
      "1/1 [==============================] - 0s 11ms/step - loss: 0.4552 - mae: 0.4552\n",
      "Epoch 92/100\n",
      "1/1 [==============================] - 0s 13ms/step - loss: 0.3982 - mae: 0.3982\n",
      "Epoch 93/100\n",
      "1/1 [==============================] - 0s 12ms/step - loss: 0.2505 - mae: 0.2505\n",
      "Epoch 94/100\n",
      "1/1 [==============================] - 0s 14ms/step - loss: 0.3070 - mae: 0.3070\n",
      "Epoch 95/100\n",
      "1/1 [==============================] - 0s 12ms/step - loss: 0.4874 - mae: 0.4874\n",
      "Epoch 96/100\n",
      "1/1 [==============================] - 0s 14ms/step - loss: 0.3785 - mae: 0.3785\n",
      "Epoch 97/100\n",
      "1/1 [==============================] - 0s 21ms/step - loss: 0.5198 - mae: 0.5198\n",
      "Epoch 98/100\n",
      "1/1 [==============================] - 0s 13ms/step - loss: 0.3974 - mae: 0.3974\n",
      "Epoch 99/100\n",
      "1/1 [==============================] - 0s 12ms/step - loss: 0.2481 - mae: 0.2481\n",
      "Epoch 100/100\n",
      "1/1 [==============================] - 0s 13ms/step - loss: 0.1832 - mae: 0.1832\n"
     ]
    },
    {
     "data": {
      "text/plain": [
       "<keras.callbacks.History at 0x2880ab160>"
      ]
     },
     "execution_count": 18,
     "metadata": {},
     "output_type": "execute_result"
    }
   ],
   "source": [
    "# again let's rebuild our model\n",
    "model = tf.keras.Sequential([\n",
    "    tf.keras.Input(shape=(1,)),\n",
    "    tf.keras.layers.Dense(100, activation=None),\n",
    "    tf.keras.layers.Dense(100, activation=None),\n",
    "    tf.keras.layers.Dense(100, activation=None),\n",
    "    tf.keras.layers.Dense(1)\n",
    "])\n",
    "\n",
    "# compile the model\n",
    "model.compile(loss=tf.keras.losses.mae,\n",
    "             optimizer=tf.keras.optimizers.Adam(lr=0.001),\n",
    "             metrics=['mae'])\n",
    "\n",
    "# Fit the model\n",
    "model.fit(X, y, epochs=100)\n"
   ]
  },
  {
   "cell_type": "code",
   "execution_count": 19,
   "id": "7c60d804",
   "metadata": {},
   "outputs": [
    {
     "name": "stdout",
     "output_type": "stream",
     "text": [
      "1/1 [==============================] - 0s 51ms/step\n"
     ]
    },
    {
     "data": {
      "text/plain": [
       "array([[27.845528]], dtype=float32)"
      ]
     },
     "execution_count": 19,
     "metadata": {},
     "output_type": "execute_result"
    }
   ],
   "source": [
    "# let's predict\n",
    "model.predict([17.0])"
   ]
  },
  {
   "cell_type": "markdown",
   "id": "613b0711",
   "metadata": {},
   "source": [
    "## Evaluating a model\n",
    "\n",
    "In practice, a typical workflow you'll go through when building neural network is:\n",
    "\n",
    "```\n",
    "Build a model -> fit it -. evaluate it -> tweak a model -> fit it -> evaluate it -> tweak a model -> fit it -> evaluate it\n",
    "```"
   ]
  },
  {
   "cell_type": "markdown",
   "id": "ec904539",
   "metadata": {},
   "source": [
    "When it comes ot evaluation... there are 3 words you should memorize:\n",
    "\n",
    "\"Visualize, visualize, visualize\"\n",
    "\n",
    "It's a good idea to visualize:\n",
    "* The data - what data are we working with what does it look like?\n",
    "* The model itself - what does our model look like/\n",
    "* The training of a model - how does a model perform while it learns?\n",
    "* The predictions of the modle - how do the predictions of a model line up against ground truth (the original labels)"
   ]
  },
  {
   "cell_type": "code",
   "execution_count": 20,
   "id": "aa99d71d",
   "metadata": {},
   "outputs": [
    {
     "data": {
      "text/plain": [
       "<tf.Tensor: shape=(50,), dtype=int32, numpy=\n",
       "array([-100,  -96,  -92,  -88,  -84,  -80,  -76,  -72,  -68,  -64,  -60,\n",
       "        -56,  -52,  -48,  -44,  -40,  -36,  -32,  -28,  -24,  -20,  -16,\n",
       "        -12,   -8,   -4,    0,    4,    8,   12,   16,   20,   24,   28,\n",
       "         32,   36,   40,   44,   48,   52,   56,   60,   64,   68,   72,\n",
       "         76,   80,   84,   88,   92,   96], dtype=int32)>"
      ]
     },
     "execution_count": 20,
     "metadata": {},
     "output_type": "execute_result"
    }
   ],
   "source": [
    "# make a bigger dataset\n",
    "\n",
    "X = tf.range(-100, 100, 4)\n",
    "X"
   ]
  },
  {
   "cell_type": "code",
   "execution_count": 21,
   "id": "49be39e2",
   "metadata": {},
   "outputs": [
    {
     "data": {
      "text/plain": [
       "<tf.Tensor: shape=(50,), dtype=int32, numpy=\n",
       "array([-90, -86, -82, -78, -74, -70, -66, -62, -58, -54, -50, -46, -42,\n",
       "       -38, -34, -30, -26, -22, -18, -14, -10,  -6,  -2,   2,   6,  10,\n",
       "        14,  18,  22,  26,  30,  34,  38,  42,  46,  50,  54,  58,  62,\n",
       "        66,  70,  74,  78,  82,  86,  90,  94,  98, 102, 106], dtype=int32)>"
      ]
     },
     "execution_count": 21,
     "metadata": {},
     "output_type": "execute_result"
    }
   ],
   "source": [
    "# Make labels for the dataset\n",
    "y = X + 10\n",
    "y"
   ]
  },
  {
   "cell_type": "code",
   "execution_count": 22,
   "id": "ff3d0e00",
   "metadata": {},
   "outputs": [
    {
     "data": {
      "text/plain": [
       "<matplotlib.collections.PathCollection at 0x287752cb0>"
      ]
     },
     "execution_count": 22,
     "metadata": {},
     "output_type": "execute_result"
    },
    {
     "data": {
      "image/png": "[encoded data removed]",
      "text/plain": [
       "<Figure size 640x480 with 1 Axes>"
      ]
     },
     "metadata": {},
     "output_type": "display_data"
    }
   ],
   "source": [
    "# visualize the data\n",
    "import matplotlib.pyplot as plt\n",
    "\n",
    "plt.scatter(X, y)"
   ]
  },
  {
   "cell_type": "markdown",
   "id": "73aea9f3",
   "metadata": {},
   "source": [
    "### The 3 sets...\n",
    "\n",
    "* **Training set** - the model learns from this data, which is typically 70-80% of the total data you have available.\n",
    "* **Validation set** - the model gets tuned on this data, which is typically 10-15% of the data available.\n",
    "* **Test set** -the model gets evaluated on this data to test what it has learned, this set is typically 10-15% of the total data available"
   ]
  },
  {
   "cell_type": "code",
   "execution_count": 23,
   "id": "f9da6075",
   "metadata": {},
   "outputs": [
    {
     "data": {
      "text/plain": [
       "50"
      ]
     },
     "execution_count": 23,
     "metadata": {},
     "output_type": "execute_result"
    }
   ],
   "source": [
    "# Check the lenght of how many samples we have\n",
    "len(X)"
   ]
  },
  {
   "cell_type": "code",
   "execution_count": 24,
   "id": "2ea37186",
   "metadata": {},
   "outputs": [
    {
     "data": {
      "text/plain": [
       "(40, 10, 40, 10)"
      ]
     },
     "execution_count": 24,
     "metadata": {},
     "output_type": "execute_result"
    }
   ],
   "source": [
    "# Split the data into train and test sets\n",
    "X_train = X[:40] # first 40 are training sample (80% of the data)\n",
    "y_train = y[:40]\n",
    "\n",
    "X_test = X[40:] # last 10 are the testing samples (20% of the data)\n",
    "y_test = y[40:]\n",
    "\n",
    "len(X_train), len(X_test), len(y_train), len(y_test)"
   ]
  },
  {
   "cell_type": "code",
   "execution_count": 25,
   "id": "4e98041c",
   "metadata": {},
   "outputs": [
    {
     "data": {
      "text/plain": [
       "TensorShape([50])"
      ]
     },
     "execution_count": 25,
     "metadata": {},
     "output_type": "execute_result"
    }
   ],
   "source": [
    "X.shape"
   ]
  },
  {
   "cell_type": "markdown",
   "id": "da17b05c",
   "metadata": {},
   "source": [
    "### Visualizing the data\n",
    "Now we've got our data in training and test sets... let's visualize it again!"
   ]
  },
  {
   "cell_type": "code",
   "execution_count": 26,
   "id": "a7809316",
   "metadata": {},
   "outputs": [
    {
     "data": {
      "image/png": "[encoded data removed]",
      "text/plain": [
       "<Figure size 1000x700 with 1 Axes>"
      ]
     },
     "metadata": {},
     "output_type": "display_data"
    }
   ],
   "source": [
    "plt.figure(figsize=(10, 7))\n",
    "# plot training data in blue\n",
    "plt.scatter(X_train, y_train, c='b', label=\"Training data\")\n",
    "#plot test data in green\n",
    "plt.scatter(X_test, y_test, c='g', label=\"Testing Data\")\n",
    "plt.show()"
   ]
  },
  {
   "cell_type": "code",
   "execution_count": 27,
   "id": "e8ea6e2f",
   "metadata": {},
   "outputs": [
    {
     "name": "stderr",
     "output_type": "stream",
     "text": [
      "WARNING:absl:At this time, the v2.11+ optimizer `tf.keras.optimizers.SGD` runs slowly on M1/M2 Macs, please use the legacy Keras optimizer instead, located at `tf.keras.optimizers.legacy.SGD`.\n",
      "WARNING:absl:There is a known slowdown when using v2.11+ Keras optimizers on M1/M2 Macs. Falling back to the legacy Keras optimizer, i.e., `tf.keras.optimizers.legacy.SGD`.\n"
     ]
    }
   ],
   "source": [
    "# Let's have a loot at how to build a neural network for out data\n",
    "\n",
    "# 1. Create a model\n",
    "model = tf.keras.Sequential([\n",
    "#     tf.keras.Input(shape=(1,)),\n",
    "    tf.keras.layers.Dense(1)\n",
    "    \n",
    "])\n",
    "\n",
    "# 2. Compile the model\n",
    "model.compile(loss=tf.keras.losses.mae,\n",
    "             optimizer=tf.keras.optimizers.SGD(),\n",
    "             metrics=['mae'])\n",
    "\n",
    "# # 3. Fit the model\n",
    "# model.fit(X_train, y_train, epochs=100)"
   ]
  },
  {
   "cell_type": "code",
   "execution_count": 28,
   "id": "aa2b9151",
   "metadata": {},
   "outputs": [],
   "source": [
    "### Visualizing the model"
   ]
  },
  {
   "cell_type": "code",
   "execution_count": 29,
   "id": "08bb9252",
   "metadata": {},
   "outputs": [],
   "source": [
    "# model.summary() # throws value error"
   ]
  },
  {
   "cell_type": "code",
   "execution_count": 30,
   "id": "1c8930df",
   "metadata": {},
   "outputs": [
    {
     "name": "stderr",
     "output_type": "stream",
     "text": [
      "WARNING:absl:At this time, the v2.11+ optimizer `tf.keras.optimizers.SGD` runs slowly on M1/M2 Macs, please use the legacy Keras optimizer instead, located at `tf.keras.optimizers.legacy.SGD`.\n",
      "WARNING:absl:There is a known slowdown when using v2.11+ Keras optimizers on M1/M2 Macs. Falling back to the legacy Keras optimizer, i.e., `tf.keras.optimizers.legacy.SGD`.\n"
     ]
    }
   ],
   "source": [
    "# let's create a model which builds automatically by defing the input_shape argument in the first layer\n",
    "\n",
    "tf.random.set_seed(42)\n",
    "\n",
    "# 1. Create a model (same as above)\n",
    "model = tf.keras.Sequential([\n",
    "    tf.keras.layers.Dense(10, input_shape=[1], name=\"input-layer\"),\n",
    "    tf.keras.layers.Dense(1, name=\"output_layer\")\n",
    "], name=\"model_1\")\n",
    "\n",
    "# 2. Compile the model\n",
    "model.compile(loss=tf.keras.losses.mae,\n",
    "             optimizer=tf.keras.optimizers.SGD(),\n",
    "             metrics=['mae'])\n"
   ]
  },
  {
   "cell_type": "code",
   "execution_count": 31,
   "id": "d9dddf4e",
   "metadata": {},
   "outputs": [
    {
     "name": "stdout",
     "output_type": "stream",
     "text": [
      "Model: \"model_1\"\n",
      "_________________________________________________________________\n",
      " Layer (type)                Output Shape              Param #   \n",
      "=================================================================\n",
      " input-layer (Dense)         (None, 10)                20        \n",
      "                                                                 \n",
      " output_layer (Dense)        (None, 1)                 11        \n",
      "                                                                 \n",
      "=================================================================\n",
      "Total params: 31\n",
      "Trainable params: 31\n",
      "Non-trainable params: 0\n",
      "_________________________________________________________________\n"
     ]
    }
   ],
   "source": [
    "model.summary()"
   ]
  },
  {
   "cell_type": "markdown",
   "id": "e91ca7fa",
   "metadata": {},
   "source": [
    "* Total params - total number of parameters in the model.\n",
    "* Trainable paramaters - these are the paramaters (patterns) the model can pudate as it trains.\n",
    "* Non-trainable params - these parameters aren't updated during training (this is typical when you bring in already learn patters or parameters from other models during **transfer learning**).\n",
    "\n",
    "📖 **Resource:** For a more in-depth overview of the trainable parameters within a layer, check out MIT's introduction to deep learning video.\n",
    "\n",
    "🛠️ **Exercise:** Try playing around with the number of hidden units inthe dense layer, see how that effects the number of parameters (total and trainable) by calling `model.summary()`."
   ]
  },
  {
   "cell_type": "code",
   "execution_count": 32,
   "id": "3164932e",
   "metadata": {},
   "outputs": [
    {
     "data": {
      "text/plain": [
       "<keras.callbacks.History at 0x28b8feef0>"
      ]
     },
     "execution_count": 32,
     "metadata": {},
     "output_type": "execute_result"
    }
   ],
   "source": [
    "# Let's fit our model to the training data\n",
    "model.fit(X_train, y_train, epochs=100, verbose=0)"
   ]
  },
  {
   "cell_type": "code",
   "execution_count": 33,
   "id": "252956e0",
   "metadata": {},
   "outputs": [
    {
     "name": "stdout",
     "output_type": "stream",
     "text": [
      "Model: \"model_1\"\n",
      "_________________________________________________________________\n",
      " Layer (type)                Output Shape              Param #   \n",
      "=================================================================\n",
      " input-layer (Dense)         (None, 10)                20        \n",
      "                                                                 \n",
      " output_layer (Dense)        (None, 1)                 11        \n",
      "                                                                 \n",
      "=================================================================\n",
      "Total params: 31\n",
      "Trainable params: 31\n",
      "Non-trainable params: 0\n",
      "_________________________________________________________________\n"
     ]
    }
   ],
   "source": [
    "# Get a summary of our model\n",
    "model.summary()"
   ]
  },
  {
   "cell_type": "code",
   "execution_count": 34,
   "id": "051dd8b7",
   "metadata": {},
   "outputs": [
    {
     "data": {
      "image/png": "[encoded data removed]",
      "text/plain": [
       "<IPython.core.display.Image object>"
      ]
     },
     "execution_count": 34,
     "metadata": {},
     "output_type": "execute_result"
    }
   ],
   "source": [
    "from tensorflow.keras.utils import plot_model\n",
    "\n",
    "plot_model(model=model, show_shapes=True)"
   ]
  },
  {
   "cell_type": "markdown",
   "id": "99388e63",
   "metadata": {},
   "source": [
    "### Visualizing our model's predictions\n",
    "\n",
    "To visualize predictions, it's a good idea to plot them against the groud truth labels.\n",
    "\n",
    "Ofter you'll see this in the form of `y_test` or `y_pred` (ground truth versus your model's predictions)"
   ]
  },
  {
   "cell_type": "code",
   "execution_count": 35,
   "id": "c40a3d51",
   "metadata": {},
   "outputs": [
    {
     "name": "stdout",
     "output_type": "stream",
     "text": [
      "1/1 [==============================] - 0s 40ms/step\n"
     ]
    },
    {
     "data": {
      "text/plain": [
       "array([[ 78.16021 ],\n",
       "       [ 83.25637 ],\n",
       "       [ 88.35253 ],\n",
       "       [ 93.44871 ],\n",
       "       [ 98.544876],\n",
       "       [103.64104 ],\n",
       "       [108.7372  ],\n",
       "       [113.83337 ],\n",
       "       [118.929535],\n",
       "       [124.02571 ]], dtype=float32)"
      ]
     },
     "execution_count": 35,
     "metadata": {},
     "output_type": "execute_result"
    }
   ],
   "source": [
    "# Make some predictions\n",
    "y_pred = model.predict(X_test)\n",
    "y_pred"
   ]
  },
  {
   "cell_type": "code",
   "execution_count": 36,
   "id": "d94c6368",
   "metadata": {},
   "outputs": [
    {
     "data": {
      "text/plain": [
       "<tf.Tensor: shape=(10,), dtype=int32, numpy=array([ 70,  74,  78,  82,  86,  90,  94,  98, 102, 106], dtype=int32)>"
      ]
     },
     "execution_count": 36,
     "metadata": {},
     "output_type": "execute_result"
    }
   ],
   "source": [
    "y_test"
   ]
  },
  {
   "cell_type": "markdown",
   "id": "85a270ec",
   "metadata": {},
   "source": [
    "🔑 **Note:** If you feel like you're going to reuse some kind of functionality in the future, it's a good idea to turn it into function."
   ]
  },
  {
   "cell_type": "code",
   "execution_count": 37,
   "id": "7ca877ed",
   "metadata": {},
   "outputs": [],
   "source": [
    "# Let's create a plotting function\n",
    "\n",
    "def plot_preictios(train_data=X_train,\n",
    "                  train_labels=y_train,\n",
    "                  test_data=X_test,\n",
    "                  test_labels=y_test,\n",
    "                  predictions=y_pred):\n",
    "    \"\"\"\n",
    "    Plots training data, test data and compares predictions to ground truth labels\n",
    "    \"\"\"\n",
    "    \n",
    "    plt.figure(figsize=(10, 7))\n",
    "    # Plot training data in blue\n",
    "    plt.scatter(train_data, train_labels, c=\"b\", label=\"Training data\")\n",
    "    # Plot testing data in green\n",
    "    plt.scatter(test_data, test_labels, c=\"g\", label=\"Testing data\")\n",
    "    # Plot model's prediction in red\n",
    "    plt.scatter(test_data, predictions, c=\"r\", label=\"Predictions\")\n",
    "    # show the legend\n",
    "    plt.legend();\n",
    "    "
   ]
  },
  {
   "cell_type": "code",
   "execution_count": 38,
   "id": "6e8a174e",
   "metadata": {},
   "outputs": [
    {
     "data": {
      "image/png": "[encoded data removed]",
      "text/plain": [
       "<Figure size 1000x700 with 1 Axes>"
      ]
     },
     "metadata": {},
     "output_type": "display_data"
    }
   ],
   "source": [
    "plot_preictios()"
   ]
  },
  {
   "cell_type": "markdown",
   "id": "6b2e00d5",
   "metadata": {},
   "source": [
    "### Evaluating our model's predictions with regression evluation matrics\n",
    "\n",
    "Depending on the problem you're working on, there will be different evaluation metrics to evaluate your model's performance.\n",
    "\n",
    "Since we're working on a regression, two of the main metrics:\n",
    "* MAE - mean absolute error, \"on average, how wrong is each of my model's predictions\"\n",
    "* MSE - mean square error, \"square the average errors\""
   ]
  },
  {
   "cell_type": "code",
   "execution_count": 39,
   "id": "f23cc200",
   "metadata": {},
   "outputs": [
    {
     "name": "stdout",
     "output_type": "stream",
     "text": [
      "1/1 [==============================] - 0s 101ms/step - loss: 13.0930 - mae: 13.0930\n"
     ]
    },
    {
     "data": {
      "text/plain": [
       "[13.0929536819458, 13.0929536819458]"
      ]
     },
     "execution_count": 39,
     "metadata": {},
     "output_type": "execute_result"
    }
   ],
   "source": [
    "# Evaluate the model on the test\n",
    "model.evaluate(X_test, y_test)"
   ]
  },
  {
   "cell_type": "code",
   "execution_count": 40,
   "id": "673e9b30",
   "metadata": {},
   "outputs": [
    {
     "data": {
      "text/plain": [
       "(array([[ 78.16021 ],\n",
       "        [ 83.25637 ],\n",
       "        [ 88.35253 ],\n",
       "        [ 93.44871 ],\n",
       "        [ 98.544876],\n",
       "        [103.64104 ],\n",
       "        [108.7372  ],\n",
       "        [113.83337 ],\n",
       "        [118.929535],\n",
       "        [124.02571 ]], dtype=float32),\n",
       " <tf.Tensor: shape=(10,), dtype=int32, numpy=array([ 70,  74,  78,  82,  86,  90,  94,  98, 102, 106], dtype=int32)>)"
      ]
     },
     "execution_count": 40,
     "metadata": {},
     "output_type": "execute_result"
    }
   ],
   "source": [
    "y_pred, y_test"
   ]
  },
  {
   "cell_type": "code",
   "execution_count": 41,
   "id": "20cc6a30",
   "metadata": {},
   "outputs": [
    {
     "data": {
      "text/plain": [
       "<tf.Tensor: shape=(10,), dtype=float32, numpy=\n",
       "array([12.3359165, 10.548726 , 10.       , 10.689742 , 12.726926 ,\n",
       "       16.11283  , 20.737198 , 25.833368 , 30.929535 , 36.02571  ],\n",
       "      dtype=float32)>"
      ]
     },
     "execution_count": 41,
     "metadata": {},
     "output_type": "execute_result"
    }
   ],
   "source": [
    "# Calculate the mean absolute error\n",
    "mae = tf.metrics.mean_absolute_error(y_test, tf.constant(y_pred))\n",
    "mae"
   ]
  },
  {
   "cell_type": "code",
   "execution_count": 42,
   "id": "163beaa2",
   "metadata": {},
   "outputs": [
    {
     "data": {
      "text/plain": [
       "<tf.Tensor: shape=(10,), dtype=float32, numpy=\n",
       "array([ 78.16021 ,  83.25637 ,  88.35253 ,  93.44871 ,  98.544876,\n",
       "       103.64104 , 108.7372  , 113.83337 , 118.929535, 124.02571 ],\n",
       "      dtype=float32)>"
      ]
     },
     "execution_count": 42,
     "metadata": {},
     "output_type": "execute_result"
    }
   ],
   "source": [
    "tf.squeeze(y_pred)"
   ]
  },
  {
   "cell_type": "code",
   "execution_count": 43,
   "id": "fe92f6a4",
   "metadata": {},
   "outputs": [
    {
     "data": {
      "text/plain": [
       "<tf.Tensor: shape=(), dtype=float32, numpy=13.092954>"
      ]
     },
     "execution_count": 43,
     "metadata": {},
     "output_type": "execute_result"
    }
   ],
   "source": [
    "# Calculate the man abosolute error\n",
    "mae = tf.metrics.mean_absolute_error(y_true=y_test, y_pred=tf.squeeze(y_pred))\n",
    "mae"
   ]
  },
  {
   "cell_type": "code",
   "execution_count": 44,
   "id": "561b0d7d",
   "metadata": {},
   "outputs": [
    {
     "data": {
      "text/plain": [
       "<tf.Tensor: shape=(), dtype=float32, numpy=181.3385>"
      ]
     },
     "execution_count": 44,
     "metadata": {},
     "output_type": "execute_result"
    }
   ],
   "source": [
    "# Calculate the mean squared error\n",
    "mse = tf.metrics.mean_squared_error(y_true=y_test, y_pred=tf.squeeze(y_pred))\n",
    "mse"
   ]
  },
  {
   "cell_type": "code",
   "execution_count": 45,
   "id": "cf80897d",
   "metadata": {},
   "outputs": [],
   "source": [
    "# Make some functions to reuse MAE and MSE\n",
    "\n",
    "def mae(y_true, y_pred):\n",
    "    return tf.metrics.mean_absolute_error(y_true=y_true, y_pred=tf.squeeze(y_pred))\n",
    "\n",
    "def mse(y_true, y_pred):\n",
    "    return tf.metrics.mean_squared_error(y_true=y_true, y_pred=tf.squeeze(y_pred))"
   ]
  },
  {
   "cell_type": "markdown",
   "id": "949faa29",
   "metadata": {},
   "source": [
    "### Running experiemnts to improve our model\n",
    "\n",
    "```\n",
    "Build a model -> fit it -> evaluate it -> tweak it -> fit it -> evaluate it -> tweak it -> fit it -> evaluate it ....\n",
    "```\n",
    "\n",
    "1. Get more data - get more examples for your model to train on (more opportunities to learn patterns or relationships between feature and labels).\n",
    "2. Make your model larger (using a more complex model) - this might come in the form or more layers of more hidden units in each layers.\n",
    "3. Train for longer - give your model more of a chance to find patterns in the data.\n",
    "\n",
    "\n",
    "Let's do 3 modelling experiments:\n",
    "1. `model_1` - same as the original model, 1 layer, trained for 100 epochs.\n",
    "2. `model_2` - 2 layers, trained ofr 100 epochs\n",
    "3. `model_3` - 2 layers, trained for 500 epochs"
   ]
  },
  {
   "cell_type": "markdown",
   "id": "beeaddad",
   "metadata": {},
   "source": [
    "**Build model_1**"
   ]
  },
  {
   "cell_type": "code",
   "execution_count": 46,
   "id": "ad4b1a1a",
   "metadata": {},
   "outputs": [
    {
     "name": "stderr",
     "output_type": "stream",
     "text": [
      "WARNING:absl:At this time, the v2.11+ optimizer `tf.keras.optimizers.SGD` runs slowly on M1/M2 Macs, please use the legacy Keras optimizer instead, located at `tf.keras.optimizers.legacy.SGD`.\n",
      "WARNING:absl:There is a known slowdown when using v2.11+ Keras optimizers on M1/M2 Macs. Falling back to the legacy Keras optimizer, i.e., `tf.keras.optimizers.legacy.SGD`.\n"
     ]
    },
    {
     "name": "stdout",
     "output_type": "stream",
     "text": [
      "Epoch 1/100\n",
      "2/2 [==============================] - 0s 36ms/step - loss: 8.1974 - mae: 8.1974\n",
      "Epoch 2/100\n",
      "2/2 [==============================] - 0s 11ms/step - loss: 10.8087 - mae: 10.8087\n",
      "Epoch 3/100\n",
      "2/2 [==============================] - 0s 10ms/step - loss: 11.4779 - mae: 11.4779\n",
      "Epoch 4/100\n",
      "2/2 [==============================] - 0s 10ms/step - loss: 9.4462 - mae: 9.4462\n",
      "Epoch 5/100\n",
      "2/2 [==============================] - 0s 10ms/step - loss: 10.3382 - mae: 10.3382\n",
      "Epoch 6/100\n",
      "2/2 [==============================] - 0s 10ms/step - loss: 9.5796 - mae: 9.5796\n",
      "Epoch 7/100\n",
      "2/2 [==============================] - 0s 9ms/step - loss: 8.6945 - mae: 8.6945\n",
      "Epoch 8/100\n",
      "2/2 [==============================] - 0s 9ms/step - loss: 9.0501 - mae: 9.0501\n",
      "Epoch 9/100\n",
      "2/2 [==============================] - 0s 10ms/step - loss: 19.0713 - mae: 19.0713\n",
      "Epoch 10/100\n",
      "2/2 [==============================] - 0s 10ms/step - loss: 10.2886 - mae: 10.2886\n",
      "Epoch 11/100\n",
      "2/2 [==============================] - 0s 10ms/step - loss: 8.4630 - mae: 8.4630\n",
      "Epoch 12/100\n",
      "2/2 [==============================] - 0s 10ms/step - loss: 10.8025 - mae: 10.8025\n",
      "Epoch 13/100\n",
      "2/2 [==============================] - 0s 9ms/step - loss: 9.8621 - mae: 9.8621\n",
      "Epoch 14/100\n",
      "2/2 [==============================] - 0s 9ms/step - loss: 12.0416 - mae: 12.0416\n",
      "Epoch 15/100\n",
      "2/2 [==============================] - 0s 10ms/step - loss: 12.4387 - mae: 12.4387\n",
      "Epoch 16/100\n",
      "2/2 [==============================] - 0s 10ms/step - loss: 7.9094 - mae: 7.9094\n",
      "Epoch 17/100\n",
      "2/2 [==============================] - 0s 10ms/step - loss: 12.8410 - mae: 12.8410\n",
      "Epoch 18/100\n",
      "2/2 [==============================] - 0s 10ms/step - loss: 10.4732 - mae: 10.4732\n",
      "Epoch 19/100\n",
      "2/2 [==============================] - 0s 10ms/step - loss: 19.2240 - mae: 19.2240\n",
      "Epoch 20/100\n",
      "2/2 [==============================] - 0s 10ms/step - loss: 15.8889 - mae: 15.8889\n",
      "Epoch 21/100\n",
      "2/2 [==============================] - 0s 9ms/step - loss: 11.7188 - mae: 11.7188\n",
      "Epoch 22/100\n",
      "2/2 [==============================] - 0s 10ms/step - loss: 8.9199 - mae: 8.9199\n",
      "Epoch 23/100\n",
      "2/2 [==============================] - 0s 9ms/step - loss: 10.0551 - mae: 10.0551\n",
      "Epoch 24/100\n",
      "2/2 [==============================] - 0s 10ms/step - loss: 15.6163 - mae: 15.6163\n",
      "Epoch 25/100\n",
      "2/2 [==============================] - 0s 10ms/step - loss: 12.0857 - mae: 12.0857\n",
      "Epoch 26/100\n",
      "2/2 [==============================] - 0s 9ms/step - loss: 13.1963 - mae: 13.1963\n",
      "Epoch 27/100\n",
      "2/2 [==============================] - 0s 10ms/step - loss: 10.6636 - mae: 10.6636\n",
      "Epoch 28/100\n",
      "2/2 [==============================] - 0s 9ms/step - loss: 12.8877 - mae: 12.8877\n",
      "Epoch 29/100\n",
      "2/2 [==============================] - 0s 10ms/step - loss: 9.5034 - mae: 9.5034\n",
      "Epoch 30/100\n",
      "2/2 [==============================] - 0s 9ms/step - loss: 16.4192 - mae: 16.4192\n",
      "Epoch 31/100\n",
      "2/2 [==============================] - 0s 9ms/step - loss: 23.5654 - mae: 23.5654\n",
      "Epoch 32/100\n",
      "2/2 [==============================] - 0s 11ms/step - loss: 7.5994 - mae: 7.5994\n",
      "Epoch 33/100\n",
      "2/2 [==============================] - 0s 9ms/step - loss: 9.2962 - mae: 9.2962\n",
      "Epoch 34/100\n",
      "2/2 [==============================] - 0s 10ms/step - loss: 13.6669 - mae: 13.6669\n",
      "Epoch 35/100\n",
      "2/2 [==============================] - 0s 9ms/step - loss: 11.1515 - mae: 11.1515\n",
      "Epoch 36/100\n",
      "2/2 [==============================] - 0s 10ms/step - loss: 13.3806 - mae: 13.3806\n",
      "Epoch 37/100\n",
      "2/2 [==============================] - 0s 9ms/step - loss: 9.4413 - mae: 9.4413\n",
      "Epoch 38/100\n",
      "2/2 [==============================] - 0s 10ms/step - loss: 10.0916 - mae: 10.0916\n",
      "Epoch 39/100\n",
      "2/2 [==============================] - 0s 10ms/step - loss: 10.2035 - mae: 10.2035\n",
      "Epoch 40/100\n",
      "2/2 [==============================] - 0s 9ms/step - loss: 10.9510 - mae: 10.9510\n",
      "Epoch 41/100\n",
      "2/2 [==============================] - 0s 9ms/step - loss: 7.9251 - mae: 7.9251\n",
      "Epoch 42/100\n",
      "2/2 [==============================] - 0s 9ms/step - loss: 10.5695 - mae: 10.5695\n",
      "Epoch 43/100\n",
      "2/2 [==============================] - 0s 8ms/step - loss: 7.2018 - mae: 7.2018\n",
      "Epoch 44/100\n",
      "2/2 [==============================] - 0s 12ms/step - loss: 7.9862 - mae: 7.9862\n",
      "Epoch 45/100\n",
      "2/2 [==============================] - 0s 10ms/step - loss: 9.7773 - mae: 9.7773\n",
      "Epoch 46/100\n",
      "2/2 [==============================] - 0s 10ms/step - loss: 8.8530 - mae: 8.8530\n",
      "Epoch 47/100\n",
      "2/2 [==============================] - 0s 9ms/step - loss: 7.5656 - mae: 7.5656\n",
      "Epoch 48/100\n",
      "2/2 [==============================] - 0s 9ms/step - loss: 8.5737 - mae: 8.5737\n",
      "Epoch 49/100\n",
      "2/2 [==============================] - 0s 15ms/step - loss: 9.9814 - mae: 9.9814\n",
      "Epoch 50/100\n",
      "2/2 [==============================] - 0s 16ms/step - loss: 9.0267 - mae: 9.0267\n",
      "Epoch 51/100\n",
      "2/2 [==============================] - 0s 12ms/step - loss: 10.6496 - mae: 10.6496\n",
      "Epoch 52/100\n",
      "2/2 [==============================] - 0s 9ms/step - loss: 15.2978 - mae: 15.2978\n",
      "Epoch 53/100\n",
      "2/2 [==============================] - 0s 10ms/step - loss: 14.3174 - mae: 14.3174\n",
      "Epoch 54/100\n",
      "2/2 [==============================] - 0s 10ms/step - loss: 21.6246 - mae: 21.6246\n",
      "Epoch 55/100\n",
      "2/2 [==============================] - 0s 9ms/step - loss: 15.9731 - mae: 15.9731\n",
      "Epoch 56/100\n",
      "2/2 [==============================] - 0s 10ms/step - loss: 10.2922 - mae: 10.2922\n",
      "Epoch 57/100\n",
      "2/2 [==============================] - 0s 10ms/step - loss: 9.7522 - mae: 9.7522\n",
      "Epoch 58/100\n",
      "2/2 [==============================] - 0s 10ms/step - loss: 9.0386 - mae: 9.0386\n",
      "Epoch 59/100\n",
      "2/2 [==============================] - 0s 9ms/step - loss: 8.2444 - mae: 8.2444\n",
      "Epoch 60/100\n",
      "2/2 [==============================] - 0s 9ms/step - loss: 9.3417 - mae: 9.3417\n",
      "Epoch 61/100\n",
      "2/2 [==============================] - 0s 9ms/step - loss: 11.1457 - mae: 11.1457\n",
      "Epoch 62/100\n",
      "2/2 [==============================] - 0s 9ms/step - loss: 12.0813 - mae: 12.0813\n",
      "Epoch 63/100\n",
      "2/2 [==============================] - 0s 9ms/step - loss: 7.2601 - mae: 7.2601\n",
      "Epoch 64/100\n",
      "2/2 [==============================] - 0s 9ms/step - loss: 12.4152 - mae: 12.4152\n",
      "Epoch 65/100\n",
      "2/2 [==============================] - 0s 9ms/step - loss: 10.4816 - mae: 10.4816\n",
      "Epoch 66/100\n",
      "2/2 [==============================] - 0s 9ms/step - loss: 15.6148 - mae: 15.6148\n",
      "Epoch 67/100\n",
      "2/2 [==============================] - 0s 9ms/step - loss: 10.0118 - mae: 10.0118\n",
      "Epoch 68/100\n",
      "2/2 [==============================] - 0s 12ms/step - loss: 8.9934 - mae: 8.9934\n",
      "Epoch 69/100\n",
      "2/2 [==============================] - 0s 10ms/step - loss: 12.4832 - mae: 12.4832\n",
      "Epoch 70/100\n",
      "2/2 [==============================] - 0s 17ms/step - loss: 8.9717 - mae: 8.9717\n",
      "Epoch 71/100\n",
      "2/2 [==============================] - 0s 16ms/step - loss: 9.9509 - mae: 9.9509\n",
      "Epoch 72/100\n",
      "2/2 [==============================] - 0s 16ms/step - loss: 9.9818 - mae: 9.9818\n",
      "Epoch 73/100\n",
      "2/2 [==============================] - 0s 13ms/step - loss: 12.4821 - mae: 12.4821\n",
      "Epoch 74/100\n",
      "2/2 [==============================] - 0s 16ms/step - loss: 10.4979 - mae: 10.4979\n",
      "Epoch 75/100\n",
      "2/2 [==============================] - 0s 11ms/step - loss: 9.6452 - mae: 9.6452\n",
      "Epoch 76/100\n",
      "2/2 [==============================] - 0s 11ms/step - loss: 11.1221 - mae: 11.1221\n",
      "Epoch 77/100\n",
      "2/2 [==============================] - 0s 8ms/step - loss: 8.2923 - mae: 8.2923\n",
      "Epoch 78/100\n",
      "2/2 [==============================] - 0s 10ms/step - loss: 9.0046 - mae: 9.0046\n",
      "Epoch 79/100\n",
      "2/2 [==============================] - 0s 20ms/step - loss: 19.6852 - mae: 19.6852\n",
      "Epoch 80/100\n",
      "2/2 [==============================] - 0s 16ms/step - loss: 17.8851 - mae: 17.8851\n",
      "Epoch 81/100\n",
      "2/2 [==============================] - 0s 9ms/step - loss: 7.0286 - mae: 7.0286\n",
      "Epoch 82/100\n",
      "2/2 [==============================] - 0s 11ms/step - loss: 10.4284 - mae: 10.4284\n",
      "Epoch 83/100\n",
      "2/2 [==============================] - 0s 17ms/step - loss: 9.8610 - mae: 9.8610\n",
      "Epoch 84/100\n",
      "2/2 [==============================] - 0s 12ms/step - loss: 7.8978 - mae: 7.8978\n",
      "Epoch 85/100\n",
      "2/2 [==============================] - 0s 10ms/step - loss: 9.3931 - mae: 9.3931\n",
      "Epoch 86/100\n",
      "2/2 [==============================] - 0s 9ms/step - loss: 9.2211 - mae: 9.2211\n",
      "Epoch 87/100\n",
      "2/2 [==============================] - 0s 9ms/step - loss: 11.9998 - mae: 11.9998\n",
      "Epoch 88/100\n",
      "2/2 [==============================] - 0s 11ms/step - loss: 10.6156 - mae: 10.6156\n",
      "Epoch 89/100\n",
      "2/2 [==============================] - 0s 9ms/step - loss: 7.2449 - mae: 7.2449\n",
      "Epoch 90/100\n",
      "2/2 [==============================] - 0s 11ms/step - loss: 12.7551 - mae: 12.7551\n",
      "Epoch 91/100\n",
      "2/2 [==============================] - 0s 10ms/step - loss: 7.3247 - mae: 7.3247\n",
      "Epoch 92/100\n",
      "2/2 [==============================] - 0s 13ms/step - loss: 7.6928 - mae: 7.6928\n",
      "Epoch 93/100\n",
      "2/2 [==============================] - 0s 11ms/step - loss: 7.1045 - mae: 7.1045\n",
      "Epoch 94/100\n",
      "2/2 [==============================] - 0s 11ms/step - loss: 12.5956 - mae: 12.5956\n",
      "Epoch 95/100\n",
      "2/2 [==============================] - 0s 10ms/step - loss: 10.0657 - mae: 10.0657\n",
      "Epoch 96/100\n",
      "2/2 [==============================] - 0s 9ms/step - loss: 9.3370 - mae: 9.3370\n",
      "Epoch 97/100\n",
      "2/2 [==============================] - 0s 10ms/step - loss: 12.6756 - mae: 12.6756\n",
      "Epoch 98/100\n",
      "2/2 [==============================] - 0s 8ms/step - loss: 8.6590 - mae: 8.6590\n",
      "Epoch 99/100\n",
      "2/2 [==============================] - 0s 11ms/step - loss: 9.4527 - mae: 9.4527\n",
      "Epoch 100/100\n",
      "2/2 [==============================] - 0s 9ms/step - loss: 8.6825 - mae: 8.6825\n"
     ]
    },
    {
     "data": {
      "text/plain": [
       "<keras.callbacks.History at 0x28aba7460>"
      ]
     },
     "execution_count": 46,
     "metadata": {},
     "output_type": "execute_result"
    }
   ],
   "source": [
    "# Set random seed\n",
    "tf.random.set_seed(42)\n",
    "\n",
    "# 1. Create the model\n",
    "model_1 = tf.keras.Sequential([\n",
    "    tf.keras.Input(shape=(1,)),\n",
    "    tf.keras.layers.Dense(1)\n",
    "])\n",
    "\n",
    "# 2. compile the model\n",
    "model_1.compile(loss=tf.keras.losses.mae,\n",
    "               optimizer=tf.keras.optimizers.SGD(),\n",
    "               metrics=['mae'])\n",
    "\n",
    "# 3. fit the model\n",
    "model_1.fit(X_train, y_train, epochs=100)"
   ]
  },
  {
   "cell_type": "code",
   "execution_count": 47,
   "id": "35ee8c10",
   "metadata": {},
   "outputs": [
    {
     "name": "stdout",
     "output_type": "stream",
     "text": [
      "WARNING:tensorflow:5 out of the last 5 calls to <function Model.make_predict_function.<locals>.predict_function at 0x2893b8280> triggered tf.function retracing. Tracing is expensive and the excessive number of tracings could be due to (1) creating @tf.function repeatedly in a loop, (2) passing tensors with different shapes, (3) passing Python objects instead of tensors. For (1), please define your @tf.function outside of the loop. For (2), @tf.function has reduce_retracing=True option that can avoid unnecessary retracing. For (3), please refer to https://www.tensorflow.org/guide/function#controlling_retracing and https://www.tensorflow.org/api_docs/python/tf/function for  more details.\n"
     ]
    },
    {
     "name": "stderr",
     "output_type": "stream",
     "text": [
      "WARNING:tensorflow:5 out of the last 5 calls to <function Model.make_predict_function.<locals>.predict_function at 0x2893b8280> triggered tf.function retracing. Tracing is expensive and the excessive number of tracings could be due to (1) creating @tf.function repeatedly in a loop, (2) passing tensors with different shapes, (3) passing Python objects instead of tensors. For (1), please define your @tf.function outside of the loop. For (2), @tf.function has reduce_retracing=True option that can avoid unnecessary retracing. For (3), please refer to https://www.tensorflow.org/guide/function#controlling_retracing and https://www.tensorflow.org/api_docs/python/tf/function for  more details.\n"
     ]
    },
    {
     "name": "stdout",
     "output_type": "stream",
     "text": [
      "1/1 [==============================] - 0s 34ms/step\n"
     ]
    },
    {
     "data": {
      "image/png": "[encoded data removed]",
      "text/plain": [
       "<Figure size 1000x700 with 1 Axes>"
      ]
     },
     "metadata": {},
     "output_type": "display_data"
    }
   ],
   "source": [
    "# make and plot predictions for model_1\n",
    "y_pred_1 = model_1.predict(X_test)\n",
    "plot_preictios(predictions=y_pred_1)"
   ]
  },
  {
   "cell_type": "code",
   "execution_count": 48,
   "id": "73714f07",
   "metadata": {},
   "outputs": [
    {
     "data": {
      "text/plain": [
       "(<tf.Tensor: shape=(), dtype=float32, numpy=18.669119>,\n",
       " <tf.Tensor: shape=(), dtype=float32, numpy=350.7015>)"
      ]
     },
     "execution_count": 48,
     "metadata": {},
     "output_type": "execute_result"
    }
   ],
   "source": [
    "# evaluate the model_1\n",
    "mae_1 = mae(y_test, y_pred_1) # squeeze remove the ,1 dimension\n",
    "mse_1 = mse(y_test, y_pred_1)\n",
    "mae_1, mse_1"
   ]
  },
  {
   "cell_type": "markdown",
   "id": "95fd24aa",
   "metadata": {},
   "source": [
    "**Build `model_2`**\n",
    "\n",
    "* 2 dense layers, trained for 100 epochs"
   ]
  },
  {
   "cell_type": "code",
   "execution_count": 49,
   "id": "b4a3728a",
   "metadata": {},
   "outputs": [
    {
     "name": "stderr",
     "output_type": "stream",
     "text": [
      "WARNING:absl:At this time, the v2.11+ optimizer `tf.keras.optimizers.SGD` runs slowly on M1/M2 Macs, please use the legacy Keras optimizer instead, located at `tf.keras.optimizers.legacy.SGD`.\n",
      "WARNING:absl:There is a known slowdown when using v2.11+ Keras optimizers on M1/M2 Macs. Falling back to the legacy Keras optimizer, i.e., `tf.keras.optimizers.legacy.SGD`.\n"
     ]
    },
    {
     "name": "stdout",
     "output_type": "stream",
     "text": [
      "Epoch 1/100\n",
      "2/2 [==============================] - 0s 38ms/step - loss: 18.4895 - mae: 18.4895\n",
      "Epoch 2/100\n",
      "2/2 [==============================] - 0s 10ms/step - loss: 9.9381 - mae: 9.9381\n",
      "Epoch 3/100\n",
      "2/2 [==============================] - 0s 11ms/step - loss: 21.5235 - mae: 21.5235\n",
      "Epoch 4/100\n",
      "2/2 [==============================] - 0s 11ms/step - loss: 12.4436 - mae: 12.4436\n",
      "Epoch 5/100\n",
      "2/2 [==============================] - 0s 12ms/step - loss: 13.5635 - mae: 13.5635\n",
      "Epoch 6/100\n",
      "2/2 [==============================] - 0s 12ms/step - loss: 10.8911 - mae: 10.8911\n",
      "Epoch 7/100\n",
      "2/2 [==============================] - 0s 10ms/step - loss: 11.8537 - mae: 11.8537\n",
      "Epoch 8/100\n",
      "2/2 [==============================] - 0s 10ms/step - loss: 10.7627 - mae: 10.7627\n",
      "Epoch 9/100\n",
      "2/2 [==============================] - 0s 10ms/step - loss: 36.7782 - mae: 36.7782\n",
      "Epoch 10/100\n",
      "2/2 [==============================] - 0s 11ms/step - loss: 24.5606 - mae: 24.5606\n",
      "Epoch 11/100\n",
      "2/2 [==============================] - 0s 11ms/step - loss: 11.0162 - mae: 11.0162\n",
      "Epoch 12/100\n",
      "2/2 [==============================] - 0s 11ms/step - loss: 24.4977 - mae: 24.4977\n",
      "Epoch 13/100\n",
      "2/2 [==============================] - 0s 10ms/step - loss: 19.0660 - mae: 19.0660\n",
      "Epoch 14/100\n",
      "2/2 [==============================] - 0s 15ms/step - loss: 23.2298 - mae: 23.2298\n",
      "Epoch 15/100\n",
      "2/2 [==============================] - 0s 24ms/step - loss: 15.1035 - mae: 15.1035\n",
      "Epoch 16/100\n",
      "2/2 [==============================] - 0s 13ms/step - loss: 11.2741 - mae: 11.2741\n",
      "Epoch 17/100\n",
      "2/2 [==============================] - 0s 12ms/step - loss: 22.9943 - mae: 22.9943\n",
      "Epoch 18/100\n",
      "2/2 [==============================] - 0s 13ms/step - loss: 11.3291 - mae: 11.3291\n",
      "Epoch 19/100\n",
      "2/2 [==============================] - 0s 11ms/step - loss: 13.9243 - mae: 13.9243\n",
      "Epoch 20/100\n",
      "2/2 [==============================] - 0s 10ms/step - loss: 11.1766 - mae: 11.1766\n",
      "Epoch 21/100\n",
      "2/2 [==============================] - 0s 12ms/step - loss: 17.2571 - mae: 17.2571\n",
      "Epoch 22/100\n",
      "2/2 [==============================] - 0s 11ms/step - loss: 15.4945 - mae: 15.4945\n",
      "Epoch 23/100\n",
      "2/2 [==============================] - 0s 10ms/step - loss: 9.2146 - mae: 9.2146\n",
      "Epoch 24/100\n",
      "2/2 [==============================] - 0s 11ms/step - loss: 17.2480 - mae: 17.2480\n",
      "Epoch 25/100\n",
      "2/2 [==============================] - 0s 10ms/step - loss: 15.9174 - mae: 15.9174\n",
      "Epoch 26/100\n",
      "2/2 [==============================] - 0s 10ms/step - loss: 20.9000 - mae: 20.9000\n",
      "Epoch 27/100\n",
      "2/2 [==============================] - 0s 11ms/step - loss: 26.0242 - mae: 26.0242\n",
      "Epoch 28/100\n",
      "2/2 [==============================] - 0s 10ms/step - loss: 18.5120 - mae: 18.5120\n",
      "Epoch 29/100\n",
      "2/2 [==============================] - 0s 11ms/step - loss: 9.2190 - mae: 9.2190\n",
      "Epoch 30/100\n",
      "2/2 [==============================] - 0s 11ms/step - loss: 29.1531 - mae: 29.1531\n",
      "Epoch 31/100\n",
      "2/2 [==============================] - 0s 11ms/step - loss: 52.8062 - mae: 52.8062\n",
      "Epoch 32/100\n",
      "2/2 [==============================] - 0s 12ms/step - loss: 11.9279 - mae: 11.9279\n",
      "Epoch 33/100\n",
      "2/2 [==============================] - 0s 9ms/step - loss: 15.5536 - mae: 15.5536\n",
      "Epoch 34/100\n",
      "2/2 [==============================] - 0s 10ms/step - loss: 12.6247 - mae: 12.6247\n",
      "Epoch 35/100\n",
      "2/2 [==============================] - 0s 12ms/step - loss: 9.1986 - mae: 9.1986\n",
      "Epoch 36/100\n",
      "2/2 [==============================] - 0s 12ms/step - loss: 16.5770 - mae: 16.5770\n",
      "Epoch 37/100\n",
      "2/2 [==============================] - 0s 10ms/step - loss: 11.0378 - mae: 11.0378\n",
      "Epoch 38/100\n",
      "2/2 [==============================] - 0s 10ms/step - loss: 18.1646 - mae: 18.1646\n",
      "Epoch 39/100\n",
      "2/2 [==============================] - 0s 11ms/step - loss: 19.0988 - mae: 19.0988\n",
      "Epoch 40/100\n",
      "2/2 [==============================] - 0s 9ms/step - loss: 20.4323 - mae: 20.4323\n",
      "Epoch 41/100\n",
      "2/2 [==============================] - 0s 10ms/step - loss: 14.8767 - mae: 14.8767\n",
      "Epoch 42/100\n",
      "2/2 [==============================] - 0s 10ms/step - loss: 12.2556 - mae: 12.2556\n",
      "Epoch 43/100\n",
      "2/2 [==============================] - 0s 10ms/step - loss: 10.7090 - mae: 10.7090\n",
      "Epoch 44/100\n",
      "2/2 [==============================] - 0s 12ms/step - loss: 23.0566 - mae: 23.0566\n",
      "Epoch 45/100\n",
      "2/2 [==============================] - 0s 10ms/step - loss: 10.3747 - mae: 10.3747\n",
      "Epoch 46/100\n",
      "2/2 [==============================] - 0s 11ms/step - loss: 11.7846 - mae: 11.7846\n",
      "Epoch 47/100\n",
      "2/2 [==============================] - 0s 10ms/step - loss: 9.6172 - mae: 9.6172\n",
      "Epoch 48/100\n",
      "2/2 [==============================] - 0s 9ms/step - loss: 17.1938 - mae: 17.1938\n",
      "Epoch 49/100\n",
      "2/2 [==============================] - 0s 11ms/step - loss: 9.5709 - mae: 9.5709\n",
      "Epoch 50/100\n",
      "2/2 [==============================] - 0s 11ms/step - loss: 13.8371 - mae: 13.8371\n",
      "Epoch 51/100\n",
      "2/2 [==============================] - 0s 9ms/step - loss: 11.5888 - mae: 11.5888\n",
      "Epoch 52/100\n",
      "2/2 [==============================] - 0s 9ms/step - loss: 30.7032 - mae: 30.7032\n",
      "Epoch 53/100\n",
      "2/2 [==============================] - 0s 10ms/step - loss: 14.4074 - mae: 14.4074\n",
      "Epoch 54/100\n",
      "2/2 [==============================] - 0s 9ms/step - loss: 24.0843 - mae: 24.0843\n",
      "Epoch 55/100\n",
      "2/2 [==============================] - 0s 9ms/step - loss: 23.3122 - mae: 23.3122\n",
      "Epoch 56/100\n",
      "2/2 [==============================] - 0s 9ms/step - loss: 10.8992 - mae: 10.8992\n",
      "Epoch 57/100\n",
      "2/2 [==============================] - 0s 11ms/step - loss: 12.7809 - mae: 12.7809\n",
      "Epoch 58/100\n",
      "2/2 [==============================] - 0s 10ms/step - loss: 9.6138 - mae: 9.6138\n",
      "Epoch 59/100\n",
      "2/2 [==============================] - 0s 9ms/step - loss: 12.9611 - mae: 12.9611\n",
      "Epoch 60/100\n",
      "2/2 [==============================] - 0s 10ms/step - loss: 10.6557 - mae: 10.6557\n",
      "Epoch 61/100\n",
      "2/2 [==============================] - 0s 10ms/step - loss: 17.4361 - mae: 17.4361\n",
      "Epoch 62/100\n",
      "2/2 [==============================] - 0s 10ms/step - loss: 10.5779 - mae: 10.5779\n",
      "Epoch 63/100\n",
      "2/2 [==============================] - 0s 11ms/step - loss: 10.4645 - mae: 10.4645\n",
      "Epoch 64/100\n",
      "2/2 [==============================] - 0s 10ms/step - loss: 24.8560 - mae: 24.8560\n",
      "Epoch 65/100\n",
      "2/2 [==============================] - 0s 11ms/step - loss: 10.6538 - mae: 10.6538\n",
      "Epoch 66/100\n",
      "2/2 [==============================] - 0s 9ms/step - loss: 21.9850 - mae: 21.9850\n",
      "Epoch 67/100\n",
      "2/2 [==============================] - 0s 17ms/step - loss: 10.1750 - mae: 10.1750\n",
      "Epoch 68/100\n",
      "2/2 [==============================] - 0s 10ms/step - loss: 13.3470 - mae: 13.3470\n",
      "Epoch 69/100\n",
      "2/2 [==============================] - 0s 10ms/step - loss: 11.3354 - mae: 11.3354\n",
      "Epoch 70/100\n",
      "2/2 [==============================] - 0s 9ms/step - loss: 13.5149 - mae: 13.5149\n",
      "Epoch 71/100\n",
      "2/2 [==============================] - 0s 10ms/step - loss: 15.5241 - mae: 15.5241\n",
      "Epoch 72/100\n",
      "2/2 [==============================] - 0s 10ms/step - loss: 11.7750 - mae: 11.7750\n",
      "Epoch 73/100\n",
      "2/2 [==============================] - 0s 11ms/step - loss: 16.5543 - mae: 16.5543\n",
      "Epoch 74/100\n",
      "2/2 [==============================] - 0s 10ms/step - loss: 24.0685 - mae: 24.0685\n",
      "Epoch 75/100\n",
      "2/2 [==============================] - 0s 10ms/step - loss: 9.5752 - mae: 9.5752\n",
      "Epoch 76/100\n",
      "2/2 [==============================] - 0s 9ms/step - loss: 12.4268 - mae: 12.4268\n",
      "Epoch 77/100\n",
      "2/2 [==============================] - 0s 9ms/step - loss: 16.6861 - mae: 16.6861\n",
      "Epoch 78/100\n",
      "2/2 [==============================] - 0s 9ms/step - loss: 9.0424 - mae: 9.0424\n",
      "Epoch 79/100\n",
      "2/2 [==============================] - 0s 9ms/step - loss: 24.0407 - mae: 24.0407\n",
      "Epoch 80/100\n",
      "2/2 [==============================] - 0s 9ms/step - loss: 26.8340 - mae: 26.8340\n",
      "Epoch 81/100\n",
      "2/2 [==============================] - 0s 11ms/step - loss: 11.6908 - mae: 11.6908\n",
      "Epoch 82/100\n",
      "2/2 [==============================] - 0s 9ms/step - loss: 11.9839 - mae: 11.9839\n",
      "Epoch 83/100\n",
      "2/2 [==============================] - 0s 9ms/step - loss: 17.3647 - mae: 17.3647\n",
      "Epoch 84/100\n",
      "2/2 [==============================] - 0s 9ms/step - loss: 7.2332 - mae: 7.2332\n",
      "Epoch 85/100\n",
      "2/2 [==============================] - 0s 10ms/step - loss: 14.9124 - mae: 14.9124\n",
      "Epoch 86/100\n",
      "2/2 [==============================] - 0s 9ms/step - loss: 15.2406 - mae: 15.2406\n",
      "Epoch 87/100\n",
      "2/2 [==============================] - 0s 10ms/step - loss: 19.0240 - mae: 19.0240\n",
      "Epoch 88/100\n",
      "2/2 [==============================] - 0s 9ms/step - loss: 30.0346 - mae: 30.0346\n",
      "Epoch 89/100\n",
      "2/2 [==============================] - 0s 9ms/step - loss: 10.1850 - mae: 10.1850\n",
      "Epoch 90/100\n",
      "2/2 [==============================] - 0s 10ms/step - loss: 21.7121 - mae: 21.7121\n",
      "Epoch 91/100\n",
      "2/2 [==============================] - 0s 9ms/step - loss: 10.5989 - mae: 10.5989\n",
      "Epoch 92/100\n",
      "2/2 [==============================] - 0s 9ms/step - loss: 18.5768 - mae: 18.5768\n",
      "Epoch 93/100\n",
      "2/2 [==============================] - 0s 11ms/step - loss: 8.1545 - mae: 8.1545\n",
      "Epoch 94/100\n",
      "2/2 [==============================] - 0s 9ms/step - loss: 11.3707 - mae: 11.3707\n",
      "Epoch 95/100\n",
      "2/2 [==============================] - 0s 10ms/step - loss: 25.5586 - mae: 25.5586\n",
      "Epoch 96/100\n",
      "2/2 [==============================] - 0s 9ms/step - loss: 10.9950 - mae: 10.9950\n",
      "Epoch 97/100\n",
      "2/2 [==============================] - 0s 10ms/step - loss: 16.3935 - mae: 16.3935\n",
      "Epoch 98/100\n",
      "2/2 [==============================] - 0s 9ms/step - loss: 6.8065 - mae: 6.8065\n",
      "Epoch 99/100\n",
      "2/2 [==============================] - 0s 9ms/step - loss: 11.6657 - mae: 11.6657\n",
      "Epoch 100/100\n",
      "2/2 [==============================] - 0s 11ms/step - loss: 23.4632 - mae: 23.4632\n"
     ]
    },
    {
     "data": {
      "text/plain": [
       "<keras.callbacks.History at 0x28e977550>"
      ]
     },
     "execution_count": 49,
     "metadata": {},
     "output_type": "execute_result"
    }
   ],
   "source": [
    "# Set the random seed\n",
    "tf.random.set_seed(42)\n",
    "\n",
    "# Create model_2\n",
    "model_2 = tf.keras.Sequential([\n",
    "    tf.keras.layers.Dense(1, input_shape=(1,)),\n",
    "    tf.keras.layers.Dense(1)\n",
    "])\n",
    "\n",
    "# compile model_2\n",
    "model_2.compile(loss=tf.keras.losses.mae,\n",
    "               optimizer=tf.keras.optimizers.SGD(),\n",
    "               metrics=['mae'])\n",
    "\n",
    "# fit the model\n",
    "model_2.fit(X_train, y_train, epochs=100)"
   ]
  },
  {
   "cell_type": "code",
   "execution_count": 50,
   "id": "5361a089",
   "metadata": {},
   "outputs": [
    {
     "name": "stdout",
     "output_type": "stream",
     "text": [
      "WARNING:tensorflow:6 out of the last 6 calls to <function Model.make_predict_function.<locals>.predict_function at 0x28e968a60> triggered tf.function retracing. Tracing is expensive and the excessive number of tracings could be due to (1) creating @tf.function repeatedly in a loop, (2) passing tensors with different shapes, (3) passing Python objects instead of tensors. For (1), please define your @tf.function outside of the loop. For (2), @tf.function has reduce_retracing=True option that can avoid unnecessary retracing. For (3), please refer to https://www.tensorflow.org/guide/function#controlling_retracing and https://www.tensorflow.org/api_docs/python/tf/function for  more details.\n"
     ]
    },
    {
     "name": "stderr",
     "output_type": "stream",
     "text": [
      "WARNING:tensorflow:6 out of the last 6 calls to <function Model.make_predict_function.<locals>.predict_function at 0x28e968a60> triggered tf.function retracing. Tracing is expensive and the excessive number of tracings could be due to (1) creating @tf.function repeatedly in a loop, (2) passing tensors with different shapes, (3) passing Python objects instead of tensors. For (1), please define your @tf.function outside of the loop. For (2), @tf.function has reduce_retracing=True option that can avoid unnecessary retracing. For (3), please refer to https://www.tensorflow.org/guide/function#controlling_retracing and https://www.tensorflow.org/api_docs/python/tf/function for  more details.\n"
     ]
    },
    {
     "name": "stdout",
     "output_type": "stream",
     "text": [
      "1/1 [==============================] - 0s 31ms/step\n"
     ]
    },
    {
     "data": {
      "image/png": "[encoded data removed]",
      "text/plain": [
       "<Figure size 1000x700 with 1 Axes>"
      ]
     },
     "metadata": {},
     "output_type": "display_data"
    }
   ],
   "source": [
    "# visualize the model_2\n",
    "y_pred_2 = model_2.predict(X_test)\n",
    "plot_preictios(predictions=y_pred_2)"
   ]
  },
  {
   "cell_type": "code",
   "execution_count": 51,
   "id": "b9166017",
   "metadata": {},
   "outputs": [
    {
     "data": {
      "text/plain": [
       "(<tf.Tensor: shape=(), dtype=float32, numpy=26.663862>,\n",
       " <tf.Tensor: shape=(), dtype=float32, numpy=737.21466>)"
      ]
     },
     "execution_count": 51,
     "metadata": {},
     "output_type": "execute_result"
    }
   ],
   "source": [
    "# evaluate the model\n",
    "mae_2 = mae(y_test, y_pred_2)\n",
    "mse_2 = mse(y_test, y_pred_2)\n",
    "mae_2, mse_2"
   ]
  },
  {
   "cell_type": "markdown",
   "id": "e218193f",
   "metadata": {},
   "source": [
    "**Build `model_3`**\n",
    "\n",
    "* 2 layers trained for 500 epochs"
   ]
  },
  {
   "cell_type": "code",
   "execution_count": 52,
   "id": "ed4c57c5",
   "metadata": {},
   "outputs": [
    {
     "name": "stderr",
     "output_type": "stream",
     "text": [
      "WARNING:absl:At this time, the v2.11+ optimizer `tf.keras.optimizers.SGD` runs slowly on M1/M2 Macs, please use the legacy Keras optimizer instead, located at `tf.keras.optimizers.legacy.SGD`.\n",
      "WARNING:absl:There is a known slowdown when using v2.11+ Keras optimizers on M1/M2 Macs. Falling back to the legacy Keras optimizer, i.e., `tf.keras.optimizers.legacy.SGD`.\n"
     ]
    },
    {
     "name": "stdout",
     "output_type": "stream",
     "text": [
      "Epoch 1/500\n",
      "2/2 [==============================] - 0s 36ms/step - loss: 41.8157 - mae: 41.8157\n",
      "Epoch 2/500\n",
      "2/2 [==============================] - 0s 11ms/step - loss: 23.9786 - mae: 23.9786\n",
      "Epoch 3/500\n",
      "2/2 [==============================] - 0s 11ms/step - loss: 14.2409 - mae: 14.2409\n",
      "Epoch 4/500\n",
      "2/2 [==============================] - 0s 10ms/step - loss: 18.5646 - mae: 18.5646\n",
      "Epoch 5/500\n",
      "2/2 [==============================] - 0s 10ms/step - loss: 14.3002 - mae: 14.3002\n",
      "Epoch 6/500\n",
      "2/2 [==============================] - 0s 9ms/step - loss: 11.4158 - mae: 11.4158\n",
      "Epoch 7/500\n",
      "2/2 [==============================] - 0s 10ms/step - loss: 12.4378 - mae: 12.4378\n",
      "Epoch 8/500\n",
      "2/2 [==============================] - 0s 10ms/step - loss: 10.9583 - mae: 10.9583\n",
      "Epoch 9/500\n",
      "2/2 [==============================] - 0s 10ms/step - loss: 38.7639 - mae: 38.7639\n",
      "Epoch 10/500\n",
      "2/2 [==============================] - 0s 9ms/step - loss: 26.3740 - mae: 26.3740\n",
      "Epoch 11/500\n",
      "2/2 [==============================] - 0s 10ms/step - loss: 11.8154 - mae: 11.8154\n",
      "Epoch 12/500\n",
      "2/2 [==============================] - 0s 10ms/step - loss: 23.6368 - mae: 23.6368\n",
      "Epoch 13/500\n",
      "2/2 [==============================] - 0s 11ms/step - loss: 21.0292 - mae: 21.0292\n",
      "Epoch 14/500\n",
      "2/2 [==============================] - 0s 9ms/step - loss: 23.4525 - mae: 23.4525\n",
      "Epoch 15/500\n",
      "2/2 [==============================] - 0s 11ms/step - loss: 15.2554 - mae: 15.2554\n",
      "Epoch 16/500\n",
      "2/2 [==============================] - 0s 9ms/step - loss: 11.3579 - mae: 11.3579\n",
      "Epoch 17/500\n",
      "2/2 [==============================] - 0s 9ms/step - loss: 23.1774 - mae: 23.1774\n",
      "Epoch 18/500\n",
      "2/2 [==============================] - 0s 11ms/step - loss: 11.7757 - mae: 11.7757\n",
      "Epoch 19/500\n",
      "2/2 [==============================] - 0s 10ms/step - loss: 16.4571 - mae: 16.4571\n",
      "Epoch 20/500\n",
      "2/2 [==============================] - 0s 10ms/step - loss: 8.2497 - mae: 8.2497\n",
      "Epoch 21/500\n",
      "2/2 [==============================] - 0s 10ms/step - loss: 14.4371 - mae: 14.4371\n",
      "Epoch 22/500\n",
      "2/2 [==============================] - 0s 9ms/step - loss: 12.8525 - mae: 12.8525\n",
      "Epoch 23/500\n",
      "2/2 [==============================] - 0s 10ms/step - loss: 15.4904 - mae: 15.4904\n",
      "Epoch 24/500\n",
      "2/2 [==============================] - 0s 8ms/step - loss: 15.2809 - mae: 15.2809\n",
      "Epoch 25/500\n",
      "2/2 [==============================] - 0s 10ms/step - loss: 14.3522 - mae: 14.3522\n",
      "Epoch 26/500\n",
      "2/2 [==============================] - 0s 11ms/step - loss: 19.3650 - mae: 19.3650\n",
      "Epoch 27/500\n",
      "2/2 [==============================] - 0s 9ms/step - loss: 11.4497 - mae: 11.4497\n",
      "Epoch 28/500\n",
      "2/2 [==============================] - 0s 9ms/step - loss: 29.0308 - mae: 29.0308\n",
      "Epoch 29/500\n",
      "2/2 [==============================] - 0s 9ms/step - loss: 9.2573 - mae: 9.2573\n",
      "Epoch 30/500\n",
      "2/2 [==============================] - 0s 9ms/step - loss: 29.7755 - mae: 29.7755\n",
      "Epoch 31/500\n",
      "2/2 [==============================] - 0s 9ms/step - loss: 54.0214 - mae: 54.0214\n",
      "Epoch 32/500\n",
      "2/2 [==============================] - 0s 10ms/step - loss: 9.5620 - mae: 9.5620\n",
      "Epoch 33/500\n",
      "2/2 [==============================] - 0s 11ms/step - loss: 12.1506 - mae: 12.1506\n",
      "Epoch 34/500\n",
      "2/2 [==============================] - 0s 10ms/step - loss: 23.8164 - mae: 23.8164\n",
      "Epoch 35/500\n",
      "2/2 [==============================] - 0s 10ms/step - loss: 12.6405 - mae: 12.6405\n",
      "Epoch 36/500\n",
      "2/2 [==============================] - 0s 10ms/step - loss: 21.5690 - mae: 21.5690\n",
      "Epoch 37/500\n",
      "2/2 [==============================] - 0s 9ms/step - loss: 11.3528 - mae: 11.3528\n",
      "Epoch 38/500\n",
      "2/2 [==============================] - 0s 10ms/step - loss: 13.4105 - mae: 13.4105\n",
      "Epoch 39/500\n",
      "2/2 [==============================] - 0s 10ms/step - loss: 10.7671 - mae: 10.7671\n",
      "Epoch 40/500\n",
      "2/2 [==============================] - 0s 9ms/step - loss: 16.5101 - mae: 16.5101\n",
      "Epoch 41/500\n",
      "2/2 [==============================] - 0s 12ms/step - loss: 10.9329 - mae: 10.9329\n",
      "Epoch 42/500\n",
      "2/2 [==============================] - 0s 9ms/step - loss: 9.2695 - mae: 9.2695\n",
      "Epoch 43/500\n",
      "2/2 [==============================] - 0s 10ms/step - loss: 9.5871 - mae: 9.5871\n",
      "Epoch 44/500\n",
      "2/2 [==============================] - 0s 10ms/step - loss: 27.8348 - mae: 27.8348\n",
      "Epoch 45/500\n",
      "2/2 [==============================] - 0s 10ms/step - loss: 11.2481 - mae: 11.2481\n",
      "Epoch 46/500\n",
      "2/2 [==============================] - 0s 10ms/step - loss: 13.8133 - mae: 13.8133\n",
      "Epoch 47/500\n",
      "2/2 [==============================] - 0s 9ms/step - loss: 11.9423 - mae: 11.9423\n",
      "Epoch 48/500\n",
      "2/2 [==============================] - 0s 10ms/step - loss: 16.9897 - mae: 16.9897\n",
      "Epoch 49/500\n",
      "2/2 [==============================] - 0s 9ms/step - loss: 9.7577 - mae: 9.7577\n",
      "Epoch 50/500\n",
      "2/2 [==============================] - 0s 11ms/step - loss: 14.1314 - mae: 14.1314\n",
      "Epoch 51/500\n",
      "2/2 [==============================] - 0s 11ms/step - loss: 11.7258 - mae: 11.7258\n",
      "Epoch 52/500\n",
      "2/2 [==============================] - 0s 10ms/step - loss: 31.2681 - mae: 31.2681\n",
      "Epoch 53/500\n",
      "2/2 [==============================] - 0s 10ms/step - loss: 14.6758 - mae: 14.6758\n",
      "Epoch 54/500\n",
      "2/2 [==============================] - 0s 9ms/step - loss: 24.5236 - mae: 24.5236\n",
      "Epoch 55/500\n",
      "2/2 [==============================] - 0s 9ms/step - loss: 23.7994 - mae: 23.7994\n",
      "Epoch 56/500\n",
      "2/2 [==============================] - 0s 10ms/step - loss: 11.0945 - mae: 11.0945\n",
      "Epoch 57/500\n",
      "2/2 [==============================] - 0s 9ms/step - loss: 13.0198 - mae: 13.0198\n",
      "Epoch 58/500\n",
      "2/2 [==============================] - 0s 10ms/step - loss: 9.7589 - mae: 9.7589\n",
      "Epoch 59/500\n",
      "2/2 [==============================] - 0s 9ms/step - loss: 13.1877 - mae: 13.1877\n",
      "Epoch 60/500\n",
      "2/2 [==============================] - 0s 9ms/step - loss: 10.8055 - mae: 10.8055\n",
      "Epoch 61/500\n",
      "2/2 [==============================] - 0s 10ms/step - loss: 13.3702 - mae: 13.3702\n",
      "Epoch 62/500\n",
      "2/2 [==============================] - 0s 9ms/step - loss: 17.2883 - mae: 17.2883\n",
      "Epoch 63/500\n",
      "2/2 [==============================] - 0s 10ms/step - loss: 9.1200 - mae: 9.1200\n",
      "Epoch 64/500\n",
      "2/2 [==============================] - 0s 9ms/step - loss: 17.9120 - mae: 17.9120\n",
      "Epoch 65/500\n",
      "2/2 [==============================] - 0s 9ms/step - loss: 10.6016 - mae: 10.6016\n",
      "Epoch 66/500\n",
      "2/2 [==============================] - 0s 9ms/step - loss: 21.4176 - mae: 21.4176\n",
      "Epoch 67/500\n",
      "2/2 [==============================] - 0s 10ms/step - loss: 10.6072 - mae: 10.6072\n",
      "Epoch 68/500\n",
      "2/2 [==============================] - 0s 9ms/step - loss: 14.8129 - mae: 14.8129\n",
      "Epoch 69/500\n",
      "2/2 [==============================] - 0s 8ms/step - loss: 10.7467 - mae: 10.7467\n",
      "Epoch 70/500\n",
      "2/2 [==============================] - 0s 10ms/step - loss: 12.8440 - mae: 12.8440\n",
      "Epoch 71/500\n",
      "2/2 [==============================] - 0s 9ms/step - loss: 13.2635 - mae: 13.2635\n",
      "Epoch 72/500\n",
      "2/2 [==============================] - 0s 9ms/step - loss: 19.8829 - mae: 19.8829\n",
      "Epoch 73/500\n",
      "2/2 [==============================] - 0s 9ms/step - loss: 11.2823 - mae: 11.2823\n",
      "Epoch 74/500\n",
      "2/2 [==============================] - 0s 10ms/step - loss: 22.1780 - mae: 22.1780\n",
      "Epoch 75/500\n",
      "2/2 [==============================] - 0s 10ms/step - loss: 6.9544 - mae: 6.9544\n",
      "Epoch 76/500\n",
      "2/2 [==============================] - 0s 8ms/step - loss: 11.4220 - mae: 11.4220\n",
      "Epoch 77/500\n",
      "2/2 [==============================] - 0s 10ms/step - loss: 21.5607 - mae: 21.5607\n",
      "Epoch 78/500\n",
      "2/2 [==============================] - 0s 11ms/step - loss: 18.6488 - mae: 18.6488\n",
      "Epoch 79/500\n",
      "2/2 [==============================] - 0s 9ms/step - loss: 15.9674 - mae: 15.9674\n",
      "Epoch 80/500\n",
      "2/2 [==============================] - 0s 10ms/step - loss: 23.6040 - mae: 23.6040\n",
      "Epoch 81/500\n",
      "2/2 [==============================] - 0s 10ms/step - loss: 10.9978 - mae: 10.9978\n",
      "Epoch 82/500\n",
      "2/2 [==============================] - 0s 10ms/step - loss: 12.7286 - mae: 12.7286\n",
      "Epoch 83/500\n",
      "2/2 [==============================] - 0s 9ms/step - loss: 17.4980 - mae: 17.4980\n",
      "Epoch 84/500\n",
      "2/2 [==============================] - 0s 10ms/step - loss: 7.3067 - mae: 7.3067\n",
      "Epoch 85/500\n",
      "2/2 [==============================] - 0s 9ms/step - loss: 15.0341 - mae: 15.0341\n",
      "Epoch 86/500\n",
      "2/2 [==============================] - 0s 9ms/step - loss: 15.3460 - mae: 15.3460\n",
      "Epoch 87/500\n"
     ]
    },
    {
     "name": "stdout",
     "output_type": "stream",
     "text": [
      "2/2 [==============================] - 0s 9ms/step - loss: 19.2168 - mae: 19.2168\n",
      "Epoch 88/500\n",
      "2/2 [==============================] - 0s 10ms/step - loss: 29.5511 - mae: 29.5511\n",
      "Epoch 89/500\n",
      "2/2 [==============================] - 0s 10ms/step - loss: 10.1655 - mae: 10.1655\n",
      "Epoch 90/500\n",
      "2/2 [==============================] - 0s 9ms/step - loss: 21.2851 - mae: 21.2851\n",
      "Epoch 91/500\n",
      "2/2 [==============================] - 0s 11ms/step - loss: 10.5422 - mae: 10.5422\n",
      "Epoch 92/500\n",
      "2/2 [==============================] - 0s 10ms/step - loss: 18.1726 - mae: 18.1726\n",
      "Epoch 93/500\n",
      "2/2 [==============================] - 0s 10ms/step - loss: 6.5683 - mae: 6.5683\n",
      "Epoch 94/500\n",
      "2/2 [==============================] - 0s 10ms/step - loss: 11.1929 - mae: 11.1929\n",
      "Epoch 95/500\n",
      "2/2 [==============================] - 0s 9ms/step - loss: 24.5827 - mae: 24.5827\n",
      "Epoch 96/500\n",
      "2/2 [==============================] - 0s 10ms/step - loss: 10.8007 - mae: 10.8007\n",
      "Epoch 97/500\n",
      "2/2 [==============================] - 0s 10ms/step - loss: 15.5002 - mae: 15.5002\n",
      "Epoch 98/500\n",
      "2/2 [==============================] - 0s 9ms/step - loss: 9.0624 - mae: 9.0624\n",
      "Epoch 99/500\n",
      "2/2 [==============================] - 0s 10ms/step - loss: 10.8801 - mae: 10.8801\n",
      "Epoch 100/500\n",
      "2/2 [==============================] - 0s 10ms/step - loss: 27.0596 - mae: 27.0596\n",
      "Epoch 101/500\n",
      "2/2 [==============================] - 0s 10ms/step - loss: 15.0467 - mae: 15.0467\n",
      "Epoch 102/500\n",
      "2/2 [==============================] - 0s 9ms/step - loss: 10.6400 - mae: 10.6400\n",
      "Epoch 103/500\n",
      "2/2 [==============================] - 0s 9ms/step - loss: 9.1388 - mae: 9.1388\n",
      "Epoch 104/500\n",
      "2/2 [==============================] - 0s 11ms/step - loss: 23.4709 - mae: 23.4709\n",
      "Epoch 105/500\n",
      "2/2 [==============================] - 0s 9ms/step - loss: 10.7379 - mae: 10.7379\n",
      "Epoch 106/500\n",
      "2/2 [==============================] - 0s 9ms/step - loss: 11.1983 - mae: 11.1983\n",
      "Epoch 107/500\n",
      "2/2 [==============================] - 0s 10ms/step - loss: 21.0108 - mae: 21.0108\n",
      "Epoch 108/500\n",
      "2/2 [==============================] - 0s 9ms/step - loss: 6.3388 - mae: 6.3388\n",
      "Epoch 109/500\n",
      "2/2 [==============================] - 0s 9ms/step - loss: 10.5071 - mae: 10.5071\n",
      "Epoch 110/500\n",
      "2/2 [==============================] - 0s 9ms/step - loss: 10.4659 - mae: 10.4659\n",
      "Epoch 111/500\n",
      "2/2 [==============================] - 0s 9ms/step - loss: 16.5290 - mae: 16.5290\n",
      "Epoch 112/500\n",
      "2/2 [==============================] - 0s 9ms/step - loss: 9.4684 - mae: 9.4684\n",
      "Epoch 113/500\n",
      "2/2 [==============================] - 0s 9ms/step - loss: 17.3846 - mae: 17.3846\n",
      "Epoch 114/500\n",
      "2/2 [==============================] - 0s 10ms/step - loss: 16.7547 - mae: 16.7547\n",
      "Epoch 115/500\n",
      "2/2 [==============================] - 0s 9ms/step - loss: 10.9897 - mae: 10.9897\n",
      "Epoch 116/500\n",
      "2/2 [==============================] - 0s 9ms/step - loss: 22.7289 - mae: 22.7289\n",
      "Epoch 117/500\n",
      "2/2 [==============================] - 0s 9ms/step - loss: 9.4511 - mae: 9.4511\n",
      "Epoch 118/500\n",
      "2/2 [==============================] - 0s 10ms/step - loss: 10.4919 - mae: 10.4919\n",
      "Epoch 119/500\n",
      "2/2 [==============================] - 0s 9ms/step - loss: 8.0326 - mae: 8.0326\n",
      "Epoch 120/500\n",
      "2/2 [==============================] - 0s 9ms/step - loss: 38.2431 - mae: 38.2431\n",
      "Epoch 121/500\n",
      "2/2 [==============================] - 0s 10ms/step - loss: 11.3691 - mae: 11.3691\n",
      "Epoch 122/500\n",
      "2/2 [==============================] - 0s 9ms/step - loss: 25.5016 - mae: 25.5016\n",
      "Epoch 123/500\n",
      "2/2 [==============================] - 0s 10ms/step - loss: 29.4335 - mae: 29.4335\n",
      "Epoch 124/500\n",
      "2/2 [==============================] - 0s 9ms/step - loss: 16.8952 - mae: 16.8952\n",
      "Epoch 125/500\n",
      "2/2 [==============================] - 0s 10ms/step - loss: 9.4242 - mae: 9.4242\n",
      "Epoch 126/500\n",
      "2/2 [==============================] - 0s 10ms/step - loss: 9.5149 - mae: 9.5149\n",
      "Epoch 127/500\n",
      "2/2 [==============================] - 0s 9ms/step - loss: 12.1701 - mae: 12.1701\n",
      "Epoch 128/500\n",
      "2/2 [==============================] - 0s 10ms/step - loss: 15.1608 - mae: 15.1608\n",
      "Epoch 129/500\n",
      "2/2 [==============================] - 0s 10ms/step - loss: 9.5942 - mae: 9.5942\n",
      "Epoch 130/500\n",
      "2/2 [==============================] - 0s 11ms/step - loss: 20.5099 - mae: 20.5099\n",
      "Epoch 131/500\n",
      "2/2 [==============================] - 0s 10ms/step - loss: 9.3003 - mae: 9.3003\n",
      "Epoch 132/500\n",
      "2/2 [==============================] - 0s 10ms/step - loss: 16.5768 - mae: 16.5768\n",
      "Epoch 133/500\n",
      "2/2 [==============================] - 0s 9ms/step - loss: 7.6856 - mae: 7.6856\n",
      "Epoch 134/500\n",
      "2/2 [==============================] - 0s 9ms/step - loss: 18.9405 - mae: 18.9405\n",
      "Epoch 135/500\n",
      "2/2 [==============================] - 0s 9ms/step - loss: 10.6965 - mae: 10.6965\n",
      "Epoch 136/500\n",
      "2/2 [==============================] - 0s 8ms/step - loss: 18.5537 - mae: 18.5537\n",
      "Epoch 137/500\n",
      "2/2 [==============================] - 0s 9ms/step - loss: 23.5517 - mae: 23.5517\n",
      "Epoch 138/500\n",
      "2/2 [==============================] - 0s 10ms/step - loss: 9.3142 - mae: 9.3142\n",
      "Epoch 139/500\n",
      "2/2 [==============================] - 0s 9ms/step - loss: 9.0381 - mae: 9.0381\n",
      "Epoch 140/500\n",
      "2/2 [==============================] - 0s 10ms/step - loss: 16.9813 - mae: 16.9813\n",
      "Epoch 141/500\n",
      "2/2 [==============================] - 0s 10ms/step - loss: 8.3434 - mae: 8.3434\n",
      "Epoch 142/500\n",
      "2/2 [==============================] - 0s 10ms/step - loss: 34.0204 - mae: 34.0204\n",
      "Epoch 143/500\n",
      "2/2 [==============================] - 0s 10ms/step - loss: 23.0990 - mae: 23.0990\n",
      "Epoch 144/500\n",
      "2/2 [==============================] - 0s 9ms/step - loss: 11.3517 - mae: 11.3517\n",
      "Epoch 145/500\n",
      "2/2 [==============================] - 0s 10ms/step - loss: 25.0466 - mae: 25.0466\n",
      "Epoch 146/500\n",
      "2/2 [==============================] - 0s 9ms/step - loss: 11.1610 - mae: 11.1610\n",
      "Epoch 147/500\n",
      "2/2 [==============================] - 0s 9ms/step - loss: 14.1107 - mae: 14.1107\n",
      "Epoch 148/500\n",
      "2/2 [==============================] - 0s 9ms/step - loss: 16.9634 - mae: 16.9634\n",
      "Epoch 149/500\n",
      "2/2 [==============================] - 0s 10ms/step - loss: 9.2505 - mae: 9.2505\n",
      "Epoch 150/500\n",
      "2/2 [==============================] - 0s 9ms/step - loss: 7.9498 - mae: 7.9498\n",
      "Epoch 151/500\n",
      "2/2 [==============================] - 0s 9ms/step - loss: 16.4410 - mae: 16.4410\n",
      "Epoch 152/500\n",
      "2/2 [==============================] - 0s 11ms/step - loss: 9.8015 - mae: 9.8015\n",
      "Epoch 153/500\n",
      "2/2 [==============================] - 0s 10ms/step - loss: 26.7232 - mae: 26.7232\n",
      "Epoch 154/500\n",
      "2/2 [==============================] - 0s 9ms/step - loss: 11.9591 - mae: 11.9591\n",
      "Epoch 155/500\n",
      "2/2 [==============================] - 0s 9ms/step - loss: 15.3202 - mae: 15.3202\n",
      "Epoch 156/500\n",
      "2/2 [==============================] - 0s 10ms/step - loss: 16.7180 - mae: 16.7180\n",
      "Epoch 157/500\n",
      "2/2 [==============================] - 0s 9ms/step - loss: 19.1513 - mae: 19.1513\n",
      "Epoch 158/500\n",
      "2/2 [==============================] - 0s 9ms/step - loss: 8.2350 - mae: 8.2350\n",
      "Epoch 159/500\n",
      "2/2 [==============================] - 0s 10ms/step - loss: 8.0116 - mae: 8.0116\n",
      "Epoch 160/500\n",
      "2/2 [==============================] - 0s 9ms/step - loss: 21.0349 - mae: 21.0349\n",
      "Epoch 161/500\n",
      "2/2 [==============================] - 0s 10ms/step - loss: 23.6266 - mae: 23.6266\n",
      "Epoch 162/500\n",
      "2/2 [==============================] - 0s 9ms/step - loss: 18.5749 - mae: 18.5749\n",
      "Epoch 163/500\n",
      "2/2 [==============================] - 0s 9ms/step - loss: 17.5333 - mae: 17.5333\n",
      "Epoch 164/500\n",
      "2/2 [==============================] - 0s 10ms/step - loss: 11.0004 - mae: 11.0004\n",
      "Epoch 165/500\n",
      "2/2 [==============================] - 0s 9ms/step - loss: 9.6510 - mae: 9.6510\n",
      "Epoch 166/500\n",
      "2/2 [==============================] - 0s 10ms/step - loss: 21.6492 - mae: 21.6492\n",
      "Epoch 167/500\n",
      "2/2 [==============================] - 0s 9ms/step - loss: 26.1498 - mae: 26.1498\n",
      "Epoch 168/500\n",
      "2/2 [==============================] - 0s 9ms/step - loss: 9.8646 - mae: 9.8646\n",
      "Epoch 169/500\n",
      "2/2 [==============================] - 0s 10ms/step - loss: 22.3984 - mae: 22.3984\n",
      "Epoch 170/500\n",
      "2/2 [==============================] - 0s 10ms/step - loss: 10.1964 - mae: 10.1964\n",
      "Epoch 171/500\n",
      "2/2 [==============================] - 0s 9ms/step - loss: 18.1286 - mae: 18.1286\n",
      "Epoch 172/500\n",
      "2/2 [==============================] - 0s 9ms/step - loss: 28.6443 - mae: 28.6443\n",
      "Epoch 173/500\n",
      "2/2 [==============================] - 0s 10ms/step - loss: 16.3870 - mae: 16.3870\n",
      "Epoch 174/500\n",
      "2/2 [==============================] - 0s 10ms/step - loss: 11.7514 - mae: 11.7514\n",
      "Epoch 175/500\n",
      "2/2 [==============================] - 0s 9ms/step - loss: 27.1908 - mae: 27.1908\n",
      "Epoch 176/500\n",
      "2/2 [==============================] - 0s 9ms/step - loss: 8.7602 - mae: 8.7602\n",
      "Epoch 177/500\n",
      "2/2 [==============================] - 0s 9ms/step - loss: 8.7822 - mae: 8.7822\n",
      "Epoch 178/500\n",
      "2/2 [==============================] - 0s 10ms/step - loss: 16.1439 - mae: 16.1439\n",
      "Epoch 179/500\n",
      "2/2 [==============================] - 0s 9ms/step - loss: 10.4399 - mae: 10.4399\n",
      "Epoch 180/500\n",
      "2/2 [==============================] - 0s 10ms/step - loss: 8.0017 - mae: 8.0017\n",
      "Epoch 181/500\n",
      "2/2 [==============================] - 0s 9ms/step - loss: 17.7042 - mae: 17.7042\n",
      "Epoch 182/500\n",
      "2/2 [==============================] - 0s 8ms/step - loss: 11.1828 - mae: 11.1828\n",
      "Epoch 183/500\n",
      "2/2 [==============================] - 0s 10ms/step - loss: 12.3614 - mae: 12.3614\n",
      "Epoch 184/500\n",
      "2/2 [==============================] - 0s 9ms/step - loss: 27.2514 - mae: 27.2514\n",
      "Epoch 185/500\n",
      "2/2 [==============================] - 0s 9ms/step - loss: 7.5913 - mae: 7.5913\n",
      "Epoch 186/500\n",
      "2/2 [==============================] - 0s 9ms/step - loss: 15.9991 - mae: 15.9991\n",
      "Epoch 187/500\n",
      "2/2 [==============================] - 0s 10ms/step - loss: 8.5995 - mae: 8.5995\n",
      "Epoch 188/500\n",
      "2/2 [==============================] - 0s 12ms/step - loss: 28.7121 - mae: 28.7121\n",
      "Epoch 189/500\n",
      "2/2 [==============================] - 0s 10ms/step - loss: 13.1889 - mae: 13.1889\n",
      "Epoch 190/500\n",
      "2/2 [==============================] - 0s 12ms/step - loss: 18.3344 - mae: 18.3344\n",
      "Epoch 191/500\n",
      "2/2 [==============================] - 0s 10ms/step - loss: 13.7677 - mae: 13.7677\n",
      "Epoch 192/500\n",
      "2/2 [==============================] - 0s 9ms/step - loss: 13.7372 - mae: 13.7372\n",
      "Epoch 193/500\n",
      "2/2 [==============================] - 0s 10ms/step - loss: 28.6069 - mae: 28.6069\n",
      "Epoch 194/500\n",
      "2/2 [==============================] - 0s 11ms/step - loss: 7.0795 - mae: 7.0795\n",
      "Epoch 195/500\n",
      "2/2 [==============================] - 0s 9ms/step - loss: 7.0900 - mae: 7.0900\n",
      "Epoch 196/500\n",
      "2/2 [==============================] - 0s 9ms/step - loss: 22.0630 - mae: 22.0630\n",
      "Epoch 197/500\n",
      "2/2 [==============================] - 0s 9ms/step - loss: 20.7347 - mae: 20.7347\n",
      "Epoch 198/500\n",
      "2/2 [==============================] - 0s 10ms/step - loss: 12.4188 - mae: 12.4188\n",
      "Epoch 199/500\n",
      "2/2 [==============================] - 0s 10ms/step - loss: 17.8117 - mae: 17.8117\n",
      "Epoch 200/500\n",
      "2/2 [==============================] - 0s 11ms/step - loss: 13.6599 - mae: 13.6599\n",
      "Epoch 201/500\n",
      "2/2 [==============================] - 0s 10ms/step - loss: 5.5146 - mae: 5.5146\n",
      "Epoch 202/500\n",
      "2/2 [==============================] - 0s 11ms/step - loss: 13.6096 - mae: 13.6096\n",
      "Epoch 203/500\n",
      "2/2 [==============================] - 0s 9ms/step - loss: 9.4150 - mae: 9.4150\n",
      "Epoch 204/500\n",
      "2/2 [==============================] - 0s 12ms/step - loss: 20.7922 - mae: 20.7922\n",
      "Epoch 205/500\n",
      "2/2 [==============================] - 0s 10ms/step - loss: 9.5180 - mae: 9.5180\n",
      "Epoch 206/500\n",
      "2/2 [==============================] - 0s 10ms/step - loss: 11.1541 - mae: 11.1541\n",
      "Epoch 207/500\n",
      "2/2 [==============================] - 0s 11ms/step - loss: 17.6760 - mae: 17.6760\n",
      "Epoch 208/500\n",
      "2/2 [==============================] - 0s 10ms/step - loss: 14.3897 - mae: 14.3897\n",
      "Epoch 209/500\n",
      "2/2 [==============================] - 0s 10ms/step - loss: 16.7023 - mae: 16.7023\n",
      "Epoch 210/500\n",
      "2/2 [==============================] - 0s 10ms/step - loss: 18.2155 - mae: 18.2155\n",
      "Epoch 211/500\n",
      "2/2 [==============================] - 0s 10ms/step - loss: 9.9651 - mae: 9.9651\n",
      "Epoch 212/500\n",
      "2/2 [==============================] - 0s 10ms/step - loss: 18.6821 - mae: 18.6821\n",
      "Epoch 213/500\n",
      "2/2 [==============================] - 0s 11ms/step - loss: 14.9630 - mae: 14.9630\n",
      "Epoch 214/500\n",
      "2/2 [==============================] - 0s 11ms/step - loss: 14.5428 - mae: 14.5428\n",
      "Epoch 215/500\n",
      "2/2 [==============================] - 0s 10ms/step - loss: 23.1979 - mae: 23.1979\n",
      "Epoch 216/500\n",
      "2/2 [==============================] - 0s 10ms/step - loss: 13.5559 - mae: 13.5559\n",
      "Epoch 217/500\n",
      "2/2 [==============================] - 0s 11ms/step - loss: 10.0348 - mae: 10.0348\n",
      "Epoch 218/500\n",
      "2/2 [==============================] - 0s 11ms/step - loss: 12.4530 - mae: 12.4530\n",
      "Epoch 219/500\n",
      "2/2 [==============================] - 0s 11ms/step - loss: 5.8609 - mae: 5.8609\n",
      "Epoch 220/500\n",
      "2/2 [==============================] - 0s 9ms/step - loss: 10.1834 - mae: 10.1834\n",
      "Epoch 221/500\n",
      "2/2 [==============================] - 0s 9ms/step - loss: 28.7996 - mae: 28.7996\n",
      "Epoch 222/500\n",
      "2/2 [==============================] - 0s 9ms/step - loss: 27.9660 - mae: 27.9660\n",
      "Epoch 223/500\n",
      "2/2 [==============================] - 0s 10ms/step - loss: 10.0993 - mae: 10.0993\n",
      "Epoch 224/500\n",
      "2/2 [==============================] - 0s 9ms/step - loss: 14.6489 - mae: 14.6489\n",
      "Epoch 225/500\n",
      "2/2 [==============================] - 0s 12ms/step - loss: 16.6690 - mae: 16.6690\n",
      "Epoch 226/500\n",
      "2/2 [==============================] - 0s 9ms/step - loss: 15.8893 - mae: 15.8893\n",
      "Epoch 227/500\n",
      "2/2 [==============================] - 0s 9ms/step - loss: 16.1109 - mae: 16.1109\n",
      "Epoch 228/500\n",
      "2/2 [==============================] - 0s 10ms/step - loss: 13.8865 - mae: 13.8865\n",
      "Epoch 229/500\n",
      "2/2 [==============================] - 0s 9ms/step - loss: 18.0103 - mae: 18.0103\n",
      "Epoch 230/500\n",
      "2/2 [==============================] - 0s 10ms/step - loss: 15.5984 - mae: 15.5984\n",
      "Epoch 231/500\n",
      "2/2 [==============================] - 0s 8ms/step - loss: 21.1426 - mae: 21.1426\n",
      "Epoch 232/500\n",
      "2/2 [==============================] - 0s 10ms/step - loss: 25.4137 - mae: 25.4137\n",
      "Epoch 233/500\n",
      "2/2 [==============================] - 0s 9ms/step - loss: 16.4356 - mae: 16.4356\n",
      "Epoch 234/500\n",
      "2/2 [==============================] - 0s 9ms/step - loss: 7.3455 - mae: 7.3455\n",
      "Epoch 235/500\n",
      "2/2 [==============================] - 0s 10ms/step - loss: 17.0720 - mae: 17.0720\n",
      "Epoch 236/500\n",
      "2/2 [==============================] - 0s 9ms/step - loss: 7.1961 - mae: 7.1961\n",
      "Epoch 237/500\n",
      "2/2 [==============================] - 0s 9ms/step - loss: 9.2823 - mae: 9.2823\n",
      "Epoch 238/500\n",
      "2/2 [==============================] - 0s 10ms/step - loss: 8.1572 - mae: 8.1572\n",
      "Epoch 239/500\n",
      "2/2 [==============================] - 0s 11ms/step - loss: 17.0777 - mae: 17.0777\n",
      "Epoch 240/500\n",
      "2/2 [==============================] - 0s 11ms/step - loss: 8.9159 - mae: 8.9159\n",
      "Epoch 241/500\n",
      "2/2 [==============================] - 0s 9ms/step - loss: 13.1953 - mae: 13.1953\n",
      "Epoch 242/500\n",
      "2/2 [==============================] - 0s 11ms/step - loss: 8.8342 - mae: 8.8342\n",
      "Epoch 243/500\n",
      "2/2 [==============================] - 0s 10ms/step - loss: 18.7796 - mae: 18.7796\n",
      "Epoch 244/500\n",
      "2/2 [==============================] - 0s 10ms/step - loss: 14.0891 - mae: 14.0891\n",
      "Epoch 245/500\n",
      "2/2 [==============================] - 0s 11ms/step - loss: 14.7131 - mae: 14.7131\n",
      "Epoch 246/500\n",
      "2/2 [==============================] - 0s 11ms/step - loss: 15.8442 - mae: 15.8442\n",
      "Epoch 247/500\n",
      "2/2 [==============================] - 0s 10ms/step - loss: 17.7333 - mae: 17.7333\n",
      "Epoch 248/500\n",
      "2/2 [==============================] - 0s 11ms/step - loss: 13.2885 - mae: 13.2885\n",
      "Epoch 249/500\n",
      "2/2 [==============================] - 0s 11ms/step - loss: 14.5490 - mae: 14.5490\n",
      "Epoch 250/500\n",
      "2/2 [==============================] - 0s 10ms/step - loss: 23.2937 - mae: 23.2937\n",
      "Epoch 251/500\n",
      "2/2 [==============================] - 0s 9ms/step - loss: 9.3143 - mae: 9.3143\n",
      "Epoch 252/500\n",
      "2/2 [==============================] - 0s 10ms/step - loss: 36.4387 - mae: 36.4387\n",
      "Epoch 253/500\n",
      "2/2 [==============================] - 0s 10ms/step - loss: 21.6687 - mae: 21.6687\n",
      "Epoch 254/500\n",
      "2/2 [==============================] - 0s 9ms/step - loss: 7.3042 - mae: 7.3042\n",
      "Epoch 255/500\n",
      "2/2 [==============================] - 0s 9ms/step - loss: 24.5278 - mae: 24.5278\n",
      "Epoch 256/500\n",
      "2/2 [==============================] - 0s 9ms/step - loss: 11.9579 - mae: 11.9579\n",
      "Epoch 257/500\n"
     ]
    },
    {
     "name": "stdout",
     "output_type": "stream",
     "text": [
      "2/2 [==============================] - 0s 9ms/step - loss: 14.4845 - mae: 14.4845\n",
      "Epoch 258/500\n",
      "2/2 [==============================] - 0s 10ms/step - loss: 5.8451 - mae: 5.8451\n",
      "Epoch 259/500\n",
      "2/2 [==============================] - 0s 9ms/step - loss: 14.8451 - mae: 14.8451\n",
      "Epoch 260/500\n",
      "2/2 [==============================] - 0s 10ms/step - loss: 14.9877 - mae: 14.9877\n",
      "Epoch 261/500\n",
      "2/2 [==============================] - 0s 9ms/step - loss: 17.4802 - mae: 17.4802\n",
      "Epoch 262/500\n",
      "2/2 [==============================] - 0s 10ms/step - loss: 15.5517 - mae: 15.5517\n",
      "Epoch 263/500\n",
      "2/2 [==============================] - 0s 9ms/step - loss: 10.1020 - mae: 10.1020\n",
      "Epoch 264/500\n",
      "2/2 [==============================] - 0s 11ms/step - loss: 20.2266 - mae: 20.2266\n",
      "Epoch 265/500\n",
      "2/2 [==============================] - 0s 9ms/step - loss: 9.7357 - mae: 9.7357\n",
      "Epoch 266/500\n",
      "2/2 [==============================] - 0s 9ms/step - loss: 7.8318 - mae: 7.8318\n",
      "Epoch 267/500\n",
      "2/2 [==============================] - 0s 10ms/step - loss: 7.6019 - mae: 7.6019\n",
      "Epoch 268/500\n",
      "2/2 [==============================] - 0s 11ms/step - loss: 18.3701 - mae: 18.3701\n",
      "Epoch 269/500\n",
      "2/2 [==============================] - 0s 11ms/step - loss: 21.7219 - mae: 21.7219\n",
      "Epoch 270/500\n",
      "2/2 [==============================] - 0s 11ms/step - loss: 5.4839 - mae: 5.4839\n",
      "Epoch 271/500\n",
      "2/2 [==============================] - 0s 10ms/step - loss: 12.1013 - mae: 12.1013\n",
      "Epoch 272/500\n",
      "2/2 [==============================] - 0s 9ms/step - loss: 26.1407 - mae: 26.1407\n",
      "Epoch 273/500\n",
      "2/2 [==============================] - 0s 10ms/step - loss: 12.1609 - mae: 12.1609\n",
      "Epoch 274/500\n",
      "2/2 [==============================] - 0s 10ms/step - loss: 13.3261 - mae: 13.3261\n",
      "Epoch 275/500\n",
      "2/2 [==============================] - 0s 10ms/step - loss: 29.3806 - mae: 29.3806\n",
      "Epoch 276/500\n",
      "2/2 [==============================] - 0s 9ms/step - loss: 7.3294 - mae: 7.3294\n",
      "Epoch 277/500\n",
      "2/2 [==============================] - 0s 10ms/step - loss: 31.1391 - mae: 31.1391\n",
      "Epoch 278/500\n",
      "2/2 [==============================] - 0s 11ms/step - loss: 12.3028 - mae: 12.3028\n",
      "Epoch 279/500\n",
      "2/2 [==============================] - 0s 10ms/step - loss: 16.4111 - mae: 16.4111\n",
      "Epoch 280/500\n",
      "2/2 [==============================] - 0s 10ms/step - loss: 21.9163 - mae: 21.9163\n",
      "Epoch 281/500\n",
      "2/2 [==============================] - 0s 11ms/step - loss: 22.1397 - mae: 22.1397\n",
      "Epoch 282/500\n",
      "2/2 [==============================] - 0s 10ms/step - loss: 7.7345 - mae: 7.7345\n",
      "Epoch 283/500\n",
      "2/2 [==============================] - 0s 11ms/step - loss: 8.1365 - mae: 8.1365\n",
      "Epoch 284/500\n",
      "2/2 [==============================] - 0s 11ms/step - loss: 24.9349 - mae: 24.9349\n",
      "Epoch 285/500\n",
      "2/2 [==============================] - 0s 13ms/step - loss: 13.6890 - mae: 13.6890\n",
      "Epoch 286/500\n",
      "2/2 [==============================] - 0s 11ms/step - loss: 6.8884 - mae: 6.8884\n",
      "Epoch 287/500\n",
      "2/2 [==============================] - 0s 10ms/step - loss: 24.5380 - mae: 24.5380\n",
      "Epoch 288/500\n",
      "2/2 [==============================] - 0s 13ms/step - loss: 20.1645 - mae: 20.1645\n",
      "Epoch 289/500\n",
      "2/2 [==============================] - 0s 10ms/step - loss: 11.9665 - mae: 11.9665\n",
      "Epoch 290/500\n",
      "2/2 [==============================] - 0s 9ms/step - loss: 16.5396 - mae: 16.5396\n",
      "Epoch 291/500\n",
      "2/2 [==============================] - 0s 11ms/step - loss: 16.8027 - mae: 16.8027\n",
      "Epoch 292/500\n",
      "2/2 [==============================] - 0s 10ms/step - loss: 9.4616 - mae: 9.4616\n",
      "Epoch 293/500\n",
      "2/2 [==============================] - 0s 10ms/step - loss: 15.2701 - mae: 15.2701\n",
      "Epoch 294/500\n",
      "2/2 [==============================] - 0s 13ms/step - loss: 22.7188 - mae: 22.7188\n",
      "Epoch 295/500\n",
      "2/2 [==============================] - 0s 11ms/step - loss: 17.9202 - mae: 17.9202\n",
      "Epoch 296/500\n",
      "2/2 [==============================] - 0s 13ms/step - loss: 6.1685 - mae: 6.1685\n",
      "Epoch 297/500\n",
      "2/2 [==============================] - 0s 10ms/step - loss: 10.9422 - mae: 10.9422\n",
      "Epoch 298/500\n",
      "2/2 [==============================] - 0s 11ms/step - loss: 23.1531 - mae: 23.1531\n",
      "Epoch 299/500\n",
      "2/2 [==============================] - 0s 10ms/step - loss: 17.7327 - mae: 17.7327\n",
      "Epoch 300/500\n",
      "2/2 [==============================] - 0s 13ms/step - loss: 6.9779 - mae: 6.9779\n",
      "Epoch 301/500\n",
      "2/2 [==============================] - 0s 17ms/step - loss: 25.1841 - mae: 25.1841\n",
      "Epoch 302/500\n",
      "2/2 [==============================] - 0s 12ms/step - loss: 8.8989 - mae: 8.8989\n",
      "Epoch 303/500\n",
      "2/2 [==============================] - 0s 10ms/step - loss: 17.7668 - mae: 17.7668\n",
      "Epoch 304/500\n",
      "2/2 [==============================] - 0s 10ms/step - loss: 10.9956 - mae: 10.9956\n",
      "Epoch 305/500\n",
      "2/2 [==============================] - 0s 9ms/step - loss: 12.9190 - mae: 12.9190\n",
      "Epoch 306/500\n",
      "2/2 [==============================] - 0s 9ms/step - loss: 8.3995 - mae: 8.3995\n",
      "Epoch 307/500\n",
      "2/2 [==============================] - 0s 10ms/step - loss: 13.6096 - mae: 13.6096\n",
      "Epoch 308/500\n",
      "2/2 [==============================] - 0s 12ms/step - loss: 7.4370 - mae: 7.4370\n",
      "Epoch 309/500\n",
      "2/2 [==============================] - 0s 10ms/step - loss: 9.4625 - mae: 9.4625\n",
      "Epoch 310/500\n",
      "2/2 [==============================] - 0s 10ms/step - loss: 10.7119 - mae: 10.7119\n",
      "Epoch 311/500\n",
      "2/2 [==============================] - 0s 10ms/step - loss: 13.2785 - mae: 13.2785\n",
      "Epoch 312/500\n",
      "2/2 [==============================] - 0s 11ms/step - loss: 29.9749 - mae: 29.9749\n",
      "Epoch 313/500\n",
      "2/2 [==============================] - 0s 8ms/step - loss: 7.6285 - mae: 7.6285\n",
      "Epoch 314/500\n",
      "2/2 [==============================] - 0s 11ms/step - loss: 9.9073 - mae: 9.9073\n",
      "Epoch 315/500\n",
      "2/2 [==============================] - 0s 9ms/step - loss: 23.7633 - mae: 23.7633\n",
      "Epoch 316/500\n",
      "2/2 [==============================] - 0s 9ms/step - loss: 16.4004 - mae: 16.4004\n",
      "Epoch 317/500\n",
      "2/2 [==============================] - 0s 9ms/step - loss: 21.0834 - mae: 21.0834\n",
      "Epoch 318/500\n",
      "2/2 [==============================] - 0s 8ms/step - loss: 7.9347 - mae: 7.9347\n",
      "Epoch 319/500\n",
      "2/2 [==============================] - 0s 10ms/step - loss: 17.9806 - mae: 17.9806\n",
      "Epoch 320/500\n",
      "2/2 [==============================] - 0s 8ms/step - loss: 10.5401 - mae: 10.5401\n",
      "Epoch 321/500\n",
      "2/2 [==============================] - 0s 10ms/step - loss: 6.9470 - mae: 6.9470\n",
      "Epoch 322/500\n",
      "2/2 [==============================] - 0s 10ms/step - loss: 9.2217 - mae: 9.2217\n",
      "Epoch 323/500\n",
      "2/2 [==============================] - 0s 9ms/step - loss: 17.8700 - mae: 17.8700\n",
      "Epoch 324/500\n",
      "2/2 [==============================] - 0s 9ms/step - loss: 15.9585 - mae: 15.9585\n",
      "Epoch 325/500\n",
      "2/2 [==============================] - 0s 10ms/step - loss: 17.6419 - mae: 17.6419\n",
      "Epoch 326/500\n",
      "2/2 [==============================] - 0s 10ms/step - loss: 23.8545 - mae: 23.8545\n",
      "Epoch 327/500\n",
      "2/2 [==============================] - 0s 9ms/step - loss: 10.2458 - mae: 10.2458\n",
      "Epoch 328/500\n",
      "2/2 [==============================] - 0s 10ms/step - loss: 13.1506 - mae: 13.1506\n",
      "Epoch 329/500\n",
      "2/2 [==============================] - 0s 9ms/step - loss: 16.0152 - mae: 16.0152\n",
      "Epoch 330/500\n",
      "2/2 [==============================] - 0s 9ms/step - loss: 14.3440 - mae: 14.3440\n",
      "Epoch 331/500\n",
      "2/2 [==============================] - 0s 10ms/step - loss: 25.7992 - mae: 25.7992\n",
      "Epoch 332/500\n",
      "2/2 [==============================] - 0s 9ms/step - loss: 16.9050 - mae: 16.9050\n",
      "Epoch 333/500\n",
      "2/2 [==============================] - 0s 10ms/step - loss: 10.5354 - mae: 10.5354\n",
      "Epoch 334/500\n",
      "2/2 [==============================] - 0s 10ms/step - loss: 7.4808 - mae: 7.4808\n",
      "Epoch 335/500\n",
      "2/2 [==============================] - 0s 9ms/step - loss: 12.4857 - mae: 12.4857\n",
      "Epoch 336/500\n",
      "2/2 [==============================] - 0s 9ms/step - loss: 32.1922 - mae: 32.1922\n",
      "Epoch 337/500\n",
      "2/2 [==============================] - 0s 10ms/step - loss: 10.4304 - mae: 10.4304\n",
      "Epoch 338/500\n",
      "2/2 [==============================] - 0s 9ms/step - loss: 19.6422 - mae: 19.6422\n",
      "Epoch 339/500\n",
      "2/2 [==============================] - 0s 8ms/step - loss: 35.1934 - mae: 35.1934\n",
      "Epoch 340/500\n",
      "2/2 [==============================] - 0s 9ms/step - loss: 10.4754 - mae: 10.4754\n",
      "Epoch 341/500\n",
      "2/2 [==============================] - 0s 10ms/step - loss: 10.0124 - mae: 10.0124\n",
      "Epoch 342/500\n",
      "2/2 [==============================] - 0s 10ms/step - loss: 13.3500 - mae: 13.3500\n",
      "Epoch 343/500\n",
      "2/2 [==============================] - 0s 10ms/step - loss: 11.1163 - mae: 11.1163\n",
      "Epoch 344/500\n",
      "2/2 [==============================] - 0s 9ms/step - loss: 9.9367 - mae: 9.9367\n",
      "Epoch 345/500\n",
      "2/2 [==============================] - 0s 13ms/step - loss: 31.0375 - mae: 31.0375\n",
      "Epoch 346/500\n",
      "2/2 [==============================] - 0s 10ms/step - loss: 10.7103 - mae: 10.7103\n",
      "Epoch 347/500\n",
      "2/2 [==============================] - 0s 10ms/step - loss: 25.7471 - mae: 25.7471\n",
      "Epoch 348/500\n",
      "2/2 [==============================] - 0s 13ms/step - loss: 12.8401 - mae: 12.8401\n",
      "Epoch 349/500\n",
      "2/2 [==============================] - 0s 11ms/step - loss: 13.1755 - mae: 13.1755\n",
      "Epoch 350/500\n",
      "2/2 [==============================] - 0s 10ms/step - loss: 15.4431 - mae: 15.4431\n",
      "Epoch 351/500\n",
      "2/2 [==============================] - 0s 10ms/step - loss: 32.9699 - mae: 32.9699\n",
      "Epoch 352/500\n",
      "2/2 [==============================] - 0s 11ms/step - loss: 14.2169 - mae: 14.2169\n",
      "Epoch 353/500\n",
      "2/2 [==============================] - 0s 10ms/step - loss: 15.9304 - mae: 15.9304\n",
      "Epoch 354/500\n",
      "2/2 [==============================] - 0s 12ms/step - loss: 19.1098 - mae: 19.1098\n",
      "Epoch 355/500\n",
      "2/2 [==============================] - 0s 10ms/step - loss: 34.0597 - mae: 34.0597\n",
      "Epoch 356/500\n",
      "2/2 [==============================] - 0s 11ms/step - loss: 7.6817 - mae: 7.6817\n",
      "Epoch 357/500\n",
      "2/2 [==============================] - 0s 10ms/step - loss: 25.1767 - mae: 25.1767\n",
      "Epoch 358/500\n",
      "2/2 [==============================] - 0s 9ms/step - loss: 22.6255 - mae: 22.6255\n",
      "Epoch 359/500\n",
      "2/2 [==============================] - 0s 11ms/step - loss: 9.5085 - mae: 9.5085\n",
      "Epoch 360/500\n",
      "2/2 [==============================] - 0s 11ms/step - loss: 20.6676 - mae: 20.6676\n",
      "Epoch 361/500\n",
      "2/2 [==============================] - 0s 9ms/step - loss: 10.0999 - mae: 10.0999\n",
      "Epoch 362/500\n",
      "2/2 [==============================] - 0s 9ms/step - loss: 7.0776 - mae: 7.0776\n",
      "Epoch 363/500\n",
      "2/2 [==============================] - 0s 9ms/step - loss: 25.9978 - mae: 25.9978\n",
      "Epoch 364/500\n",
      "2/2 [==============================] - 0s 10ms/step - loss: 32.4774 - mae: 32.4774\n",
      "Epoch 365/500\n",
      "2/2 [==============================] - 0s 10ms/step - loss: 10.4309 - mae: 10.4309\n",
      "Epoch 366/500\n",
      "2/2 [==============================] - 0s 8ms/step - loss: 11.8478 - mae: 11.8478\n",
      "Epoch 367/500\n",
      "2/2 [==============================] - 0s 11ms/step - loss: 30.1305 - mae: 30.1305\n",
      "Epoch 368/500\n",
      "2/2 [==============================] - 0s 10ms/step - loss: 9.8243 - mae: 9.8243\n",
      "Epoch 369/500\n",
      "2/2 [==============================] - 0s 11ms/step - loss: 15.0268 - mae: 15.0268\n",
      "Epoch 370/500\n",
      "2/2 [==============================] - 0s 10ms/step - loss: 14.6833 - mae: 14.6833\n",
      "Epoch 371/500\n",
      "2/2 [==============================] - 0s 9ms/step - loss: 23.4156 - mae: 23.4156\n",
      "Epoch 372/500\n",
      "2/2 [==============================] - 0s 11ms/step - loss: 13.0193 - mae: 13.0193\n",
      "Epoch 373/500\n",
      "2/2 [==============================] - 0s 10ms/step - loss: 9.1864 - mae: 9.1864\n",
      "Epoch 374/500\n",
      "2/2 [==============================] - 0s 9ms/step - loss: 9.7096 - mae: 9.7096\n",
      "Epoch 375/500\n",
      "2/2 [==============================] - 0s 11ms/step - loss: 13.0444 - mae: 13.0444\n",
      "Epoch 376/500\n",
      "2/2 [==============================] - 0s 9ms/step - loss: 14.9287 - mae: 14.9287\n",
      "Epoch 377/500\n",
      "2/2 [==============================] - 0s 10ms/step - loss: 14.8302 - mae: 14.8302\n",
      "Epoch 378/500\n",
      "2/2 [==============================] - 0s 9ms/step - loss: 16.3022 - mae: 16.3022\n",
      "Epoch 379/500\n",
      "2/2 [==============================] - 0s 10ms/step - loss: 20.8923 - mae: 20.8923\n",
      "Epoch 380/500\n",
      "2/2 [==============================] - 0s 11ms/step - loss: 33.3537 - mae: 33.3537\n",
      "Epoch 381/500\n",
      "2/2 [==============================] - 0s 9ms/step - loss: 8.1773 - mae: 8.1773\n",
      "Epoch 382/500\n",
      "2/2 [==============================] - 0s 9ms/step - loss: 12.9864 - mae: 12.9864\n",
      "Epoch 383/500\n",
      "2/2 [==============================] - 0s 10ms/step - loss: 8.4650 - mae: 8.4650\n",
      "Epoch 384/500\n",
      "2/2 [==============================] - 0s 8ms/step - loss: 7.0735 - mae: 7.0735\n",
      "Epoch 385/500\n",
      "2/2 [==============================] - 0s 10ms/step - loss: 10.9713 - mae: 10.9713\n",
      "Epoch 386/500\n",
      "2/2 [==============================] - 0s 9ms/step - loss: 19.8318 - mae: 19.8318\n",
      "Epoch 387/500\n",
      "2/2 [==============================] - 0s 10ms/step - loss: 24.7083 - mae: 24.7083\n",
      "Epoch 388/500\n",
      "2/2 [==============================] - 0s 10ms/step - loss: 8.6812 - mae: 8.6812\n",
      "Epoch 389/500\n",
      "2/2 [==============================] - 0s 9ms/step - loss: 5.9332 - mae: 5.9332\n",
      "Epoch 390/500\n",
      "2/2 [==============================] - 0s 9ms/step - loss: 24.2779 - mae: 24.2779\n",
      "Epoch 391/500\n",
      "2/2 [==============================] - 0s 9ms/step - loss: 5.9539 - mae: 5.9539\n",
      "Epoch 392/500\n",
      "2/2 [==============================] - 0s 10ms/step - loss: 16.0596 - mae: 16.0596\n",
      "Epoch 393/500\n",
      "2/2 [==============================] - 0s 9ms/step - loss: 6.4696 - mae: 6.4696\n",
      "Epoch 394/500\n",
      "2/2 [==============================] - 0s 9ms/step - loss: 12.5045 - mae: 12.5045\n",
      "Epoch 395/500\n",
      "2/2 [==============================] - 0s 10ms/step - loss: 12.3765 - mae: 12.3765\n",
      "Epoch 396/500\n",
      "2/2 [==============================] - 0s 10ms/step - loss: 7.3259 - mae: 7.3259\n",
      "Epoch 397/500\n",
      "2/2 [==============================] - 0s 12ms/step - loss: 7.5859 - mae: 7.5859\n",
      "Epoch 398/500\n",
      "2/2 [==============================] - 0s 9ms/step - loss: 20.2964 - mae: 20.2964\n",
      "Epoch 399/500\n",
      "2/2 [==============================] - 0s 10ms/step - loss: 5.8986 - mae: 5.8986\n",
      "Epoch 400/500\n",
      "2/2 [==============================] - 0s 11ms/step - loss: 24.6310 - mae: 24.6310\n",
      "Epoch 401/500\n",
      "2/2 [==============================] - 0s 10ms/step - loss: 13.1484 - mae: 13.1484\n",
      "Epoch 402/500\n",
      "2/2 [==============================] - 0s 11ms/step - loss: 8.3419 - mae: 8.3419\n",
      "Epoch 403/500\n",
      "2/2 [==============================] - 0s 10ms/step - loss: 9.8525 - mae: 9.8525\n",
      "Epoch 404/500\n",
      "2/2 [==============================] - 0s 10ms/step - loss: 12.6026 - mae: 12.6026\n",
      "Epoch 405/500\n",
      "2/2 [==============================] - 0s 10ms/step - loss: 8.7538 - mae: 8.7538\n",
      "Epoch 406/500\n",
      "2/2 [==============================] - 0s 10ms/step - loss: 21.6116 - mae: 21.6116\n",
      "Epoch 407/500\n",
      "2/2 [==============================] - 0s 11ms/step - loss: 20.4161 - mae: 20.4161\n",
      "Epoch 408/500\n",
      "2/2 [==============================] - 0s 12ms/step - loss: 10.3948 - mae: 10.3948\n",
      "Epoch 409/500\n",
      "2/2 [==============================] - 0s 11ms/step - loss: 9.4039 - mae: 9.4039\n",
      "Epoch 410/500\n",
      "2/2 [==============================] - 0s 10ms/step - loss: 13.3666 - mae: 13.3666\n",
      "Epoch 411/500\n",
      "2/2 [==============================] - 0s 11ms/step - loss: 15.8328 - mae: 15.8328\n",
      "Epoch 412/500\n",
      "2/2 [==============================] - 0s 10ms/step - loss: 23.5260 - mae: 23.5260\n",
      "Epoch 413/500\n",
      "2/2 [==============================] - 0s 11ms/step - loss: 16.4721 - mae: 16.4721\n",
      "Epoch 414/500\n",
      "2/2 [==============================] - 0s 10ms/step - loss: 4.9085 - mae: 4.9085\n",
      "Epoch 415/500\n",
      "2/2 [==============================] - 0s 10ms/step - loss: 13.9609 - mae: 13.9609\n",
      "Epoch 416/500\n",
      "2/2 [==============================] - 0s 11ms/step - loss: 28.9393 - mae: 28.9393\n",
      "Epoch 417/500\n",
      "2/2 [==============================] - 0s 9ms/step - loss: 5.9725 - mae: 5.9725\n",
      "Epoch 418/500\n",
      "2/2 [==============================] - 0s 12ms/step - loss: 12.5249 - mae: 12.5249\n",
      "Epoch 419/500\n",
      "2/2 [==============================] - 0s 11ms/step - loss: 11.4533 - mae: 11.4533\n",
      "Epoch 420/500\n",
      "2/2 [==============================] - 0s 9ms/step - loss: 23.8134 - mae: 23.8134\n",
      "Epoch 421/500\n",
      "2/2 [==============================] - 0s 11ms/step - loss: 19.8497 - mae: 19.8497\n",
      "Epoch 422/500\n",
      "2/2 [==============================] - 0s 12ms/step - loss: 4.9086 - mae: 4.9086\n",
      "Epoch 423/500\n",
      "2/2 [==============================] - 0s 9ms/step - loss: 28.0156 - mae: 28.0156\n",
      "Epoch 424/500\n",
      "2/2 [==============================] - 0s 10ms/step - loss: 8.5291 - mae: 8.5291\n",
      "Epoch 425/500\n",
      "2/2 [==============================] - 0s 10ms/step - loss: 16.2115 - mae: 16.2115\n",
      "Epoch 426/500\n",
      "2/2 [==============================] - 0s 9ms/step - loss: 7.6114 - mae: 7.6114\n",
      "Epoch 427/500\n"
     ]
    },
    {
     "name": "stdout",
     "output_type": "stream",
     "text": [
      "2/2 [==============================] - 0s 9ms/step - loss: 11.3342 - mae: 11.3342\n",
      "Epoch 428/500\n",
      "2/2 [==============================] - 0s 9ms/step - loss: 8.9469 - mae: 8.9469\n",
      "Epoch 429/500\n",
      "2/2 [==============================] - 0s 10ms/step - loss: 25.8033 - mae: 25.8033\n",
      "Epoch 430/500\n",
      "2/2 [==============================] - 0s 9ms/step - loss: 17.5528 - mae: 17.5528\n",
      "Epoch 431/500\n",
      "2/2 [==============================] - 0s 10ms/step - loss: 10.7127 - mae: 10.7127\n",
      "Epoch 432/500\n",
      "2/2 [==============================] - 0s 10ms/step - loss: 11.5787 - mae: 11.5787\n",
      "Epoch 433/500\n",
      "2/2 [==============================] - 0s 9ms/step - loss: 11.3661 - mae: 11.3661\n",
      "Epoch 434/500\n",
      "2/2 [==============================] - 0s 9ms/step - loss: 30.3572 - mae: 30.3572\n",
      "Epoch 435/500\n",
      "2/2 [==============================] - 0s 9ms/step - loss: 10.4840 - mae: 10.4840\n",
      "Epoch 436/500\n",
      "2/2 [==============================] - 0s 9ms/step - loss: 28.8343 - mae: 28.8343\n",
      "Epoch 437/500\n",
      "2/2 [==============================] - 0s 10ms/step - loss: 8.1122 - mae: 8.1122\n",
      "Epoch 438/500\n",
      "2/2 [==============================] - 0s 9ms/step - loss: 12.8283 - mae: 12.8283\n",
      "Epoch 439/500\n",
      "2/2 [==============================] - 0s 10ms/step - loss: 33.9445 - mae: 33.9445\n",
      "Epoch 440/500\n",
      "2/2 [==============================] - 0s 10ms/step - loss: 15.4874 - mae: 15.4874\n",
      "Epoch 441/500\n",
      "2/2 [==============================] - 0s 11ms/step - loss: 17.8643 - mae: 17.8643\n",
      "Epoch 442/500\n",
      "2/2 [==============================] - 0s 10ms/step - loss: 17.4915 - mae: 17.4915\n",
      "Epoch 443/500\n",
      "2/2 [==============================] - 0s 9ms/step - loss: 7.6676 - mae: 7.6676\n",
      "Epoch 444/500\n",
      "2/2 [==============================] - 0s 11ms/step - loss: 22.8690 - mae: 22.8690\n",
      "Epoch 445/500\n",
      "2/2 [==============================] - 0s 9ms/step - loss: 12.0799 - mae: 12.0799\n",
      "Epoch 446/500\n",
      "2/2 [==============================] - 0s 11ms/step - loss: 10.4982 - mae: 10.4982\n",
      "Epoch 447/500\n",
      "2/2 [==============================] - 0s 10ms/step - loss: 16.9622 - mae: 16.9622\n",
      "Epoch 448/500\n",
      "2/2 [==============================] - 0s 9ms/step - loss: 11.6645 - mae: 11.6645\n",
      "Epoch 449/500\n",
      "2/2 [==============================] - 0s 11ms/step - loss: 14.8523 - mae: 14.8523\n",
      "Epoch 450/500\n",
      "2/2 [==============================] - 0s 9ms/step - loss: 17.6022 - mae: 17.6022\n",
      "Epoch 451/500\n",
      "2/2 [==============================] - 0s 9ms/step - loss: 14.6372 - mae: 14.6372\n",
      "Epoch 452/500\n",
      "2/2 [==============================] - 0s 10ms/step - loss: 31.3168 - mae: 31.3168\n",
      "Epoch 453/500\n",
      "2/2 [==============================] - 0s 10ms/step - loss: 10.5848 - mae: 10.5848\n",
      "Epoch 454/500\n",
      "2/2 [==============================] - 0s 9ms/step - loss: 26.9148 - mae: 26.9148\n",
      "Epoch 455/500\n",
      "2/2 [==============================] - 0s 10ms/step - loss: 12.1525 - mae: 12.1525\n",
      "Epoch 456/500\n",
      "2/2 [==============================] - 0s 10ms/step - loss: 15.3765 - mae: 15.3765\n",
      "Epoch 457/500\n",
      "2/2 [==============================] - 0s 11ms/step - loss: 19.1177 - mae: 19.1177\n",
      "Epoch 458/500\n",
      "2/2 [==============================] - 0s 10ms/step - loss: 23.3565 - mae: 23.3565\n",
      "Epoch 459/500\n",
      "2/2 [==============================] - 0s 10ms/step - loss: 16.8082 - mae: 16.8082\n",
      "Epoch 460/500\n",
      "2/2 [==============================] - 0s 10ms/step - loss: 6.7769 - mae: 6.7769\n",
      "Epoch 461/500\n",
      "2/2 [==============================] - 0s 10ms/step - loss: 16.2441 - mae: 16.2441\n",
      "Epoch 462/500\n",
      "2/2 [==============================] - 0s 12ms/step - loss: 15.6631 - mae: 15.6631\n",
      "Epoch 463/500\n",
      "2/2 [==============================] - 0s 9ms/step - loss: 17.4855 - mae: 17.4855\n",
      "Epoch 464/500\n",
      "2/2 [==============================] - 0s 9ms/step - loss: 11.6372 - mae: 11.6372\n",
      "Epoch 465/500\n",
      "2/2 [==============================] - 0s 12ms/step - loss: 22.4281 - mae: 22.4281\n",
      "Epoch 466/500\n",
      "2/2 [==============================] - 0s 10ms/step - loss: 22.9433 - mae: 22.9433\n",
      "Epoch 467/500\n",
      "2/2 [==============================] - 0s 11ms/step - loss: 13.0160 - mae: 13.0160\n",
      "Epoch 468/500\n",
      "2/2 [==============================] - 0s 10ms/step - loss: 10.4299 - mae: 10.4299\n",
      "Epoch 469/500\n",
      "2/2 [==============================] - 0s 10ms/step - loss: 27.4798 - mae: 27.4798\n",
      "Epoch 470/500\n",
      "2/2 [==============================] - 0s 10ms/step - loss: 12.2315 - mae: 12.2315\n",
      "Epoch 471/500\n",
      "2/2 [==============================] - 0s 8ms/step - loss: 11.7235 - mae: 11.7235\n",
      "Epoch 472/500\n",
      "2/2 [==============================] - 0s 9ms/step - loss: 15.6176 - mae: 15.6176\n",
      "Epoch 473/500\n",
      "2/2 [==============================] - 0s 9ms/step - loss: 15.7043 - mae: 15.7043\n",
      "Epoch 474/500\n",
      "2/2 [==============================] - 0s 10ms/step - loss: 19.8277 - mae: 19.8277\n",
      "Epoch 475/500\n",
      "2/2 [==============================] - 0s 10ms/step - loss: 5.6607 - mae: 5.6607\n",
      "Epoch 476/500\n",
      "2/2 [==============================] - 0s 9ms/step - loss: 13.0911 - mae: 13.0911\n",
      "Epoch 477/500\n",
      "2/2 [==============================] - 0s 10ms/step - loss: 29.0243 - mae: 29.0243\n",
      "Epoch 478/500\n",
      "2/2 [==============================] - 0s 9ms/step - loss: 6.1822 - mae: 6.1822\n",
      "Epoch 479/500\n",
      "2/2 [==============================] - 0s 10ms/step - loss: 4.3073 - mae: 4.3073\n",
      "Epoch 480/500\n",
      "2/2 [==============================] - 0s 9ms/step - loss: 21.5198 - mae: 21.5198\n",
      "Epoch 481/500\n",
      "2/2 [==============================] - 0s 12ms/step - loss: 21.8222 - mae: 21.8222\n",
      "Epoch 482/500\n",
      "2/2 [==============================] - 0s 9ms/step - loss: 10.8251 - mae: 10.8251\n",
      "Epoch 483/500\n",
      "2/2 [==============================] - 0s 9ms/step - loss: 5.8444 - mae: 5.8444\n",
      "Epoch 484/500\n",
      "2/2 [==============================] - 0s 10ms/step - loss: 31.4780 - mae: 31.4780\n",
      "Epoch 485/500\n",
      "2/2 [==============================] - 0s 9ms/step - loss: 11.4440 - mae: 11.4440\n",
      "Epoch 486/500\n",
      "2/2 [==============================] - 0s 10ms/step - loss: 7.6544 - mae: 7.6544\n",
      "Epoch 487/500\n",
      "2/2 [==============================] - 0s 9ms/step - loss: 6.3842 - mae: 6.3842\n",
      "Epoch 488/500\n",
      "2/2 [==============================] - 0s 9ms/step - loss: 30.3550 - mae: 30.3550\n",
      "Epoch 489/500\n",
      "2/2 [==============================] - 0s 11ms/step - loss: 12.5297 - mae: 12.5297\n",
      "Epoch 490/500\n",
      "2/2 [==============================] - 0s 9ms/step - loss: 13.0418 - mae: 13.0418\n",
      "Epoch 491/500\n",
      "2/2 [==============================] - 0s 10ms/step - loss: 24.2262 - mae: 24.2262\n",
      "Epoch 492/500\n",
      "2/2 [==============================] - 0s 9ms/step - loss: 18.9554 - mae: 18.9554\n",
      "Epoch 493/500\n",
      "2/2 [==============================] - 0s 10ms/step - loss: 4.8954 - mae: 4.8954\n",
      "Epoch 494/500\n",
      "2/2 [==============================] - 0s 9ms/step - loss: 12.2706 - mae: 12.2706\n",
      "Epoch 495/500\n",
      "2/2 [==============================] - 0s 9ms/step - loss: 13.6149 - mae: 13.6149\n",
      "Epoch 496/500\n",
      "2/2 [==============================] - 0s 10ms/step - loss: 12.8406 - mae: 12.8406\n",
      "Epoch 497/500\n",
      "2/2 [==============================] - 0s 9ms/step - loss: 17.9249 - mae: 17.9249\n",
      "Epoch 498/500\n",
      "2/2 [==============================] - 0s 10ms/step - loss: 22.8926 - mae: 22.8926\n",
      "Epoch 499/500\n",
      "2/2 [==============================] - 0s 8ms/step - loss: 8.7422 - mae: 8.7422\n",
      "Epoch 500/500\n",
      "2/2 [==============================] - 0s 9ms/step - loss: 14.4465 - mae: 14.4465\n"
     ]
    },
    {
     "data": {
      "text/plain": [
       "<keras.callbacks.History at 0x28aff8790>"
      ]
     },
     "execution_count": 52,
     "metadata": {},
     "output_type": "execute_result"
    }
   ],
   "source": [
    "# set the random seed\n",
    "tf.random.set_seed(42)\n",
    "\n",
    "# Create a model\n",
    "model_3 = tf.keras.Sequential([\n",
    "    tf.keras.layers.Dense(10, input_shape=(1,)),\n",
    "    tf.keras.layers.Dense(1)\n",
    "])\n",
    "\n",
    "# Compile the model\n",
    "model_3.compile(loss=tf.keras.losses.mae,\n",
    "               optimizer=tf.keras.optimizers.SGD(),\n",
    "               metrics=['mae'])\n",
    "\n",
    "# Fit the model\n",
    "model_3.fit(X_train, y_train, epochs=500)"
   ]
  },
  {
   "cell_type": "code",
   "execution_count": 53,
   "id": "dc0a0fdb",
   "metadata": {},
   "outputs": [
    {
     "name": "stdout",
     "output_type": "stream",
     "text": [
      "1/1 [==============================] - 0s 29ms/step\n"
     ]
    },
    {
     "data": {
      "image/png": "[encoded data removed]",
      "text/plain": [
       "<Figure size 1000x700 with 1 Axes>"
      ]
     },
     "metadata": {},
     "output_type": "display_data"
    }
   ],
   "source": [
    "# Make and plot some predictions\n",
    "y_pred_3 = model_3.predict(X_test)\n",
    "plot_preictios(predictions=y_pred_3)"
   ]
  },
  {
   "cell_type": "code",
   "execution_count": 54,
   "id": "288b5cb2",
   "metadata": {},
   "outputs": [
    {
     "data": {
      "text/plain": [
       "(<tf.Tensor: shape=(), dtype=float32, numpy=68.12807>,\n",
       " <tf.Tensor: shape=(), dtype=float32, numpy=4726.285>)"
      ]
     },
     "execution_count": 54,
     "metadata": {},
     "output_type": "execute_result"
    }
   ],
   "source": [
    "# evaluate the model\n",
    "mae_3 = mae(y_test, y_pred_3)\n",
    "mse_3 = mse(y_test, y_pred_3)\n",
    "mae_3, mse_3"
   ]
  },
  {
   "cell_type": "markdown",
   "id": "e21817e9",
   "metadata": {},
   "source": [
    "🔑 **Note:** You want to start with small experiments and make sure they work and then increase their scale when necessary."
   ]
  },
  {
   "cell_type": "markdown",
   "id": "a91c32cf",
   "metadata": {},
   "source": [
    "## Comparing the results of our experiments\n",
    "\n",
    "We've runa few experiments, let's compare the result"
   ]
  },
  {
   "cell_type": "code",
   "execution_count": 55,
   "id": "62ea36a9",
   "metadata": {},
   "outputs": [
    {
     "data": {
      "text/html": [
       "<div>\n",
       "<style scoped>\n",
       "    .dataframe tbody tr th:only-of-type {\n",
       "        vertical-align: middle;\n",
       "    }\n",
       "\n",
       "    .dataframe tbody tr th {\n",
       "        vertical-align: top;\n",
       "    }\n",
       "\n",
       "    .dataframe thead th {\n",
       "        text-align: right;\n",
       "    }\n",
       "</style>\n",
       "<table border=\"1\" class=\"dataframe\">\n",
       "  <thead>\n",
       "    <tr style=\"text-align: right;\">\n",
       "      <th></th>\n",
       "      <th>model</th>\n",
       "      <th>mae</th>\n",
       "      <th>mse</th>\n",
       "    </tr>\n",
       "  </thead>\n",
       "  <tbody>\n",
       "    <tr>\n",
       "      <th>0</th>\n",
       "      <td>model</td>\n",
       "      <td>13.092954</td>\n",
       "      <td>181.338501</td>\n",
       "    </tr>\n",
       "    <tr>\n",
       "      <th>1</th>\n",
       "      <td>model_1</td>\n",
       "      <td>18.669119</td>\n",
       "      <td>350.701508</td>\n",
       "    </tr>\n",
       "    <tr>\n",
       "      <th>2</th>\n",
       "      <td>model_2</td>\n",
       "      <td>26.663862</td>\n",
       "      <td>737.214661</td>\n",
       "    </tr>\n",
       "    <tr>\n",
       "      <th>3</th>\n",
       "      <td>model_3</td>\n",
       "      <td>68.128067</td>\n",
       "      <td>4726.285156</td>\n",
       "    </tr>\n",
       "  </tbody>\n",
       "</table>\n",
       "</div>"
      ],
      "text/plain": [
       "     model        mae          mse\n",
       "0    model  13.092954   181.338501\n",
       "1  model_1  18.669119   350.701508\n",
       "2  model_2  26.663862   737.214661\n",
       "3  model_3  68.128067  4726.285156"
      ]
     },
     "execution_count": 55,
     "metadata": {},
     "output_type": "execute_result"
    }
   ],
   "source": [
    "# Let's compare our model's results using pandas DataFrame\n",
    "import pandas as pd\n",
    "\n",
    "model_results = [[\"model\", mae(y_test, y_pred).numpy(), mse(y_test, y_pred).numpy()],\n",
    "                 [\"model_1\", mae_1.numpy(), mse_1.numpy()],\n",
    "                [\"model_2\", mae_2.numpy(), mse_2.numpy()],\n",
    "                [\"model_3\", mae_3.numpy(), mse_3.numpy()]]\n",
    "\n",
    "all_results = pd.DataFrame(model_results, columns=[\"model\", \"mae\", \"mse\"])\n",
    "all_results"
   ]
  },
  {
   "cell_type": "code",
   "execution_count": 56,
   "id": "f441cabf",
   "metadata": {},
   "outputs": [
    {
     "name": "stdout",
     "output_type": "stream",
     "text": [
      "Model: \"model_1\"\n",
      "_________________________________________________________________\n",
      " Layer (type)                Output Shape              Param #   \n",
      "=================================================================\n",
      " input-layer (Dense)         (None, 10)                20        \n",
      "                                                                 \n",
      " output_layer (Dense)        (None, 1)                 11        \n",
      "                                                                 \n",
      "=================================================================\n",
      "Total params: 31\n",
      "Trainable params: 31\n",
      "Non-trainable params: 0\n",
      "_________________________________________________________________\n"
     ]
    }
   ],
   "source": [
    "model.summary()"
   ]
  },
  {
   "cell_type": "markdown",
   "id": "3e75b2dd",
   "metadata": {},
   "source": [
    "🔑 **Note:** One of your main goals should be to minimize the time between your experiments. Themore experiment you do, the more things you'll figure out which don't work and in turn, get closer to figuring out what does work. Remember the machine learning practioner's motto: \"experiment, experiment, experiment\"."
   ]
  },
  {
   "cell_type": "markdown",
   "id": "f503f27e",
   "metadata": {},
   "source": [
    "## Tracking your experiments\n",
    "\n",
    "One really good habit in machine learning modelling is to track the results of your experiments.\n",
    "\n",
    "And when doing so, it can be tedious if you're running lots of experiments.\n",
    "\n",
    "Luckily, there are tools to help us!\n",
    "\n",
    "📖 **Resource:** As you build more models, you'll want to look into using:\n",
    "\n",
    "* TensorBoard - a component of the TensorFlow library to help track modelling experiments (we'll see this one later).\n",
    "* Weights & Biases - a tool for tracking all kinds of machine learning experiments (plugs straight into tensorboard)."
   ]
  },
  {
   "cell_type": "markdown",
   "id": "7984531f",
   "metadata": {},
   "source": [
    "## Saving our models\n",
    "\n",
    "Saving our models allows us to use them outside of our local environment (or wherever they are trained) such as in a web applicatoin or a mobile app.\n",
    "\n",
    "Thre are two main formats we can save our model's too:\n",
    "\n",
    "1. The SavedModel format\n",
    "2. The HDF5 format"
   ]
  },
  {
   "cell_type": "code",
   "execution_count": 57,
   "id": "d5a7b631",
   "metadata": {},
   "outputs": [
    {
     "name": "stderr",
     "output_type": "stream",
     "text": [
      "WARNING:absl:Function `_wrapped_model` contains input name(s) input-layer_input with unsupported characters which will be renamed to input_layer_input in the SavedModel.\n",
      "WARNING:absl:`input-layer_input` is not a valid tf.function parameter name. Sanitizing to `input_layer_input`.\n",
      "WARNING:absl:`input-layer_input` is not a valid tf.function parameter name. Sanitizing to `input_layer_input`.\n",
      "WARNING:absl:`input-layer_input` is not a valid tf.function parameter name. Sanitizing to `input_layer_input`.\n"
     ]
    },
    {
     "name": "stdout",
     "output_type": "stream",
     "text": [
      "INFO:tensorflow:Assets written to: best_model_SavedModel_format/assets\n"
     ]
    },
    {
     "name": "stderr",
     "output_type": "stream",
     "text": [
      "INFO:tensorflow:Assets written to: best_model_SavedModel_format/assets\n"
     ]
    }
   ],
   "source": [
    "# Save a model using the SavedModel format\n",
    "model.save(\"best_model_SavedModel_format\")"
   ]
  },
  {
   "cell_type": "code",
   "execution_count": 58,
   "id": "3ba56ffc",
   "metadata": {},
   "outputs": [],
   "source": [
    "# Save a model using the HDF5 format\n",
    "model.save(\"best_model_HDF5_format.h5\")"
   ]
  },
  {
   "cell_type": "markdown",
   "id": "ea2e743b",
   "metadata": {},
   "source": [
    "## Loading in a saved model"
   ]
  },
  {
   "cell_type": "code",
   "execution_count": 59,
   "id": "418399e4",
   "metadata": {},
   "outputs": [
    {
     "name": "stdout",
     "output_type": "stream",
     "text": [
      "Model: \"model_1\"\n",
      "_________________________________________________________________\n",
      " Layer (type)                Output Shape              Param #   \n",
      "=================================================================\n",
      " input-layer (Dense)         (None, 10)                20        \n",
      "                                                                 \n",
      " output_layer (Dense)        (None, 1)                 11        \n",
      "                                                                 \n",
      "=================================================================\n",
      "Total params: 31\n",
      "Trainable params: 31\n",
      "Non-trainable params: 0\n",
      "_________________________________________________________________\n"
     ]
    }
   ],
   "source": [
    "# Load in the SavedModel format model\n",
    "loaded_SavedModel_format = tf.keras.models.load_model('best_model_SavedModel_format')\n",
    "loaded_SavedModel_format.summary()"
   ]
  },
  {
   "cell_type": "code",
   "execution_count": 60,
   "id": "61d0e9cd",
   "metadata": {},
   "outputs": [
    {
     "name": "stdout",
     "output_type": "stream",
     "text": [
      "1/1 [==============================] - 0s 25ms/step\n",
      "1/1 [==============================] - 0s 29ms/step\n"
     ]
    },
    {
     "data": {
      "text/plain": [
       "array([[ True],\n",
       "       [ True],\n",
       "       [ True],\n",
       "       [ True],\n",
       "       [ True],\n",
       "       [ True],\n",
       "       [ True],\n",
       "       [ True],\n",
       "       [ True],\n",
       "       [ True]])"
      ]
     },
     "execution_count": 60,
     "metadata": {},
     "output_type": "execute_result"
    }
   ],
   "source": [
    "# Compare model_2 predictions with SavedModel format model prediction\n",
    "model_preds = model.predict(X_test)\n",
    "loaded_SavedModel_format_preds = loaded_SavedModel_format.predict(X_test)\n",
    "\n",
    "model_preds == loaded_SavedModel_format_preds"
   ]
  },
  {
   "cell_type": "code",
   "execution_count": 61,
   "id": "9f6e4a13",
   "metadata": {},
   "outputs": [
    {
     "name": "stdout",
     "output_type": "stream",
     "text": [
      "Model: \"model_1\"\n",
      "_________________________________________________________________\n",
      " Layer (type)                Output Shape              Param #   \n",
      "=================================================================\n",
      " input-layer (Dense)         (None, 10)                20        \n",
      "                                                                 \n",
      " output_layer (Dense)        (None, 1)                 11        \n",
      "                                                                 \n",
      "=================================================================\n",
      "Total params: 31\n",
      "Trainable params: 31\n",
      "Non-trainable params: 0\n",
      "_________________________________________________________________\n"
     ]
    }
   ],
   "source": [
    "# Load in a model using the .h5 format\n",
    "loaded_h5_model = tf.keras.models.load_model('best_model_HDF5_format.h5')\n",
    "loaded_h5_model.summary()"
   ]
  },
  {
   "cell_type": "code",
   "execution_count": 62,
   "id": "93584fba",
   "metadata": {},
   "outputs": [
    {
     "name": "stdout",
     "output_type": "stream",
     "text": [
      "1/1 [==============================] - 0s 13ms/step\n",
      "1/1 [==============================] - 0s 30ms/step\n"
     ]
    },
    {
     "data": {
      "text/plain": [
       "array([[ True],\n",
       "       [ True],\n",
       "       [ True],\n",
       "       [ True],\n",
       "       [ True],\n",
       "       [ True],\n",
       "       [ True],\n",
       "       [ True],\n",
       "       [ True],\n",
       "       [ True]])"
      ]
     },
     "execution_count": 62,
     "metadata": {},
     "output_type": "execute_result"
    }
   ],
   "source": [
    "# Check to see if loaded .h5 model predictions match model_2\n",
    "model_preds = model.predict(X_test)\n",
    "loaded_h5_model_preds = loaded_h5_model.predict(X_test)\n",
    "model_preds == loaded_h5_model_preds"
   ]
  },
  {
   "cell_type": "markdown",
   "id": "52d52480",
   "metadata": {},
   "source": [
    "## A larger example"
   ]
  },
  {
   "cell_type": "code",
   "execution_count": 63,
   "id": "5cc9d463",
   "metadata": {},
   "outputs": [],
   "source": [
    "# import required librarlies\n",
    "import tensorflow as tf\n",
    "import pandas as pd\n",
    "import matplotlib.pyplot as plt"
   ]
  },
  {
   "cell_type": "code",
   "execution_count": 64,
   "id": "2e9f8134",
   "metadata": {},
   "outputs": [
    {
     "data": {
      "text/html": [
       "<div>\n",
       "<style scoped>\n",
       "    .dataframe tbody tr th:only-of-type {\n",
       "        vertical-align: middle;\n",
       "    }\n",
       "\n",
       "    .dataframe tbody tr th {\n",
       "        vertical-align: top;\n",
       "    }\n",
       "\n",
       "    .dataframe thead th {\n",
       "        text-align: right;\n",
       "    }\n",
       "</style>\n",
       "<table border=\"1\" class=\"dataframe\">\n",
       "  <thead>\n",
       "    <tr style=\"text-align: right;\">\n",
       "      <th></th>\n",
       "      <th>age</th>\n",
       "      <th>sex</th>\n",
       "      <th>bmi</th>\n",
       "      <th>children</th>\n",
       "      <th>smoker</th>\n",
       "      <th>region</th>\n",
       "      <th>charges</th>\n",
       "    </tr>\n",
       "  </thead>\n",
       "  <tbody>\n",
       "    <tr>\n",
       "      <th>0</th>\n",
       "      <td>19</td>\n",
       "      <td>female</td>\n",
       "      <td>27.900</td>\n",
       "      <td>0</td>\n",
       "      <td>yes</td>\n",
       "      <td>southwest</td>\n",
       "      <td>16884.92400</td>\n",
       "    </tr>\n",
       "    <tr>\n",
       "      <th>1</th>\n",
       "      <td>18</td>\n",
       "      <td>male</td>\n",
       "      <td>33.770</td>\n",
       "      <td>1</td>\n",
       "      <td>no</td>\n",
       "      <td>southeast</td>\n",
       "      <td>1725.55230</td>\n",
       "    </tr>\n",
       "    <tr>\n",
       "      <th>2</th>\n",
       "      <td>28</td>\n",
       "      <td>male</td>\n",
       "      <td>33.000</td>\n",
       "      <td>3</td>\n",
       "      <td>no</td>\n",
       "      <td>southeast</td>\n",
       "      <td>4449.46200</td>\n",
       "    </tr>\n",
       "    <tr>\n",
       "      <th>3</th>\n",
       "      <td>33</td>\n",
       "      <td>male</td>\n",
       "      <td>22.705</td>\n",
       "      <td>0</td>\n",
       "      <td>no</td>\n",
       "      <td>northwest</td>\n",
       "      <td>21984.47061</td>\n",
       "    </tr>\n",
       "    <tr>\n",
       "      <th>4</th>\n",
       "      <td>32</td>\n",
       "      <td>male</td>\n",
       "      <td>28.880</td>\n",
       "      <td>0</td>\n",
       "      <td>no</td>\n",
       "      <td>northwest</td>\n",
       "      <td>3866.85520</td>\n",
       "    </tr>\n",
       "    <tr>\n",
       "      <th>...</th>\n",
       "      <td>...</td>\n",
       "      <td>...</td>\n",
       "      <td>...</td>\n",
       "      <td>...</td>\n",
       "      <td>...</td>\n",
       "      <td>...</td>\n",
       "      <td>...</td>\n",
       "    </tr>\n",
       "    <tr>\n",
       "      <th>1333</th>\n",
       "      <td>50</td>\n",
       "      <td>male</td>\n",
       "      <td>30.970</td>\n",
       "      <td>3</td>\n",
       "      <td>no</td>\n",
       "      <td>northwest</td>\n",
       "      <td>10600.54830</td>\n",
       "    </tr>\n",
       "    <tr>\n",
       "      <th>1334</th>\n",
       "      <td>18</td>\n",
       "      <td>female</td>\n",
       "      <td>31.920</td>\n",
       "      <td>0</td>\n",
       "      <td>no</td>\n",
       "      <td>northeast</td>\n",
       "      <td>2205.98080</td>\n",
       "    </tr>\n",
       "    <tr>\n",
       "      <th>1335</th>\n",
       "      <td>18</td>\n",
       "      <td>female</td>\n",
       "      <td>36.850</td>\n",
       "      <td>0</td>\n",
       "      <td>no</td>\n",
       "      <td>southeast</td>\n",
       "      <td>1629.83350</td>\n",
       "    </tr>\n",
       "    <tr>\n",
       "      <th>1336</th>\n",
       "      <td>21</td>\n",
       "      <td>female</td>\n",
       "      <td>25.800</td>\n",
       "      <td>0</td>\n",
       "      <td>no</td>\n",
       "      <td>southwest</td>\n",
       "      <td>2007.94500</td>\n",
       "    </tr>\n",
       "    <tr>\n",
       "      <th>1337</th>\n",
       "      <td>61</td>\n",
       "      <td>female</td>\n",
       "      <td>29.070</td>\n",
       "      <td>0</td>\n",
       "      <td>yes</td>\n",
       "      <td>northwest</td>\n",
       "      <td>29141.36030</td>\n",
       "    </tr>\n",
       "  </tbody>\n",
       "</table>\n",
       "<p>1338 rows × 7 columns</p>\n",
       "</div>"
      ],
      "text/plain": [
       "      age     sex     bmi  children smoker     region      charges\n",
       "0      19  female  27.900         0    yes  southwest  16884.92400\n",
       "1      18    male  33.770         1     no  southeast   1725.55230\n",
       "2      28    male  33.000         3     no  southeast   4449.46200\n",
       "3      33    male  22.705         0     no  northwest  21984.47061\n",
       "4      32    male  28.880         0     no  northwest   3866.85520\n",
       "...   ...     ...     ...       ...    ...        ...          ...\n",
       "1333   50    male  30.970         3     no  northwest  10600.54830\n",
       "1334   18  female  31.920         0     no  northeast   2205.98080\n",
       "1335   18  female  36.850         0     no  southeast   1629.83350\n",
       "1336   21  female  25.800         0     no  southwest   2007.94500\n",
       "1337   61  female  29.070         0    yes  northwest  29141.36030\n",
       "\n",
       "[1338 rows x 7 columns]"
      ]
     },
     "execution_count": 64,
     "metadata": {},
     "output_type": "execute_result"
    }
   ],
   "source": [
    "insurance = pd.read_csv('./insurance.csv')\n",
    "insurance"
   ]
  },
  {
   "cell_type": "code",
   "execution_count": null,
   "id": "2542a3e6",
   "metadata": {},
   "outputs": [],
   "source": []
  },
  {
   "cell_type": "code",
   "execution_count": 65,
   "id": "8592ea82",
   "metadata": {},
   "outputs": [
    {
     "data": {
      "text/html": [
       "<div>\n",
       "<style scoped>\n",
       "    .dataframe tbody tr th:only-of-type {\n",
       "        vertical-align: middle;\n",
       "    }\n",
       "\n",
       "    .dataframe tbody tr th {\n",
       "        vertical-align: top;\n",
       "    }\n",
       "\n",
       "    .dataframe thead th {\n",
       "        text-align: right;\n",
       "    }\n",
       "</style>\n",
       "<table border=\"1\" class=\"dataframe\">\n",
       "  <thead>\n",
       "    <tr style=\"text-align: right;\">\n",
       "      <th></th>\n",
       "      <th>age</th>\n",
       "      <th>bmi</th>\n",
       "      <th>children</th>\n",
       "      <th>charges</th>\n",
       "      <th>sex_female</th>\n",
       "      <th>sex_male</th>\n",
       "      <th>smoker_no</th>\n",
       "      <th>smoker_yes</th>\n",
       "      <th>region_northeast</th>\n",
       "      <th>region_northwest</th>\n",
       "      <th>region_southeast</th>\n",
       "      <th>region_southwest</th>\n",
       "    </tr>\n",
       "  </thead>\n",
       "  <tbody>\n",
       "    <tr>\n",
       "      <th>0</th>\n",
       "      <td>19</td>\n",
       "      <td>27.900</td>\n",
       "      <td>0</td>\n",
       "      <td>16884.92400</td>\n",
       "      <td>1</td>\n",
       "      <td>0</td>\n",
       "      <td>0</td>\n",
       "      <td>1</td>\n",
       "      <td>0</td>\n",
       "      <td>0</td>\n",
       "      <td>0</td>\n",
       "      <td>1</td>\n",
       "    </tr>\n",
       "    <tr>\n",
       "      <th>1</th>\n",
       "      <td>18</td>\n",
       "      <td>33.770</td>\n",
       "      <td>1</td>\n",
       "      <td>1725.55230</td>\n",
       "      <td>0</td>\n",
       "      <td>1</td>\n",
       "      <td>1</td>\n",
       "      <td>0</td>\n",
       "      <td>0</td>\n",
       "      <td>0</td>\n",
       "      <td>1</td>\n",
       "      <td>0</td>\n",
       "    </tr>\n",
       "    <tr>\n",
       "      <th>2</th>\n",
       "      <td>28</td>\n",
       "      <td>33.000</td>\n",
       "      <td>3</td>\n",
       "      <td>4449.46200</td>\n",
       "      <td>0</td>\n",
       "      <td>1</td>\n",
       "      <td>1</td>\n",
       "      <td>0</td>\n",
       "      <td>0</td>\n",
       "      <td>0</td>\n",
       "      <td>1</td>\n",
       "      <td>0</td>\n",
       "    </tr>\n",
       "    <tr>\n",
       "      <th>3</th>\n",
       "      <td>33</td>\n",
       "      <td>22.705</td>\n",
       "      <td>0</td>\n",
       "      <td>21984.47061</td>\n",
       "      <td>0</td>\n",
       "      <td>1</td>\n",
       "      <td>1</td>\n",
       "      <td>0</td>\n",
       "      <td>0</td>\n",
       "      <td>1</td>\n",
       "      <td>0</td>\n",
       "      <td>0</td>\n",
       "    </tr>\n",
       "    <tr>\n",
       "      <th>4</th>\n",
       "      <td>32</td>\n",
       "      <td>28.880</td>\n",
       "      <td>0</td>\n",
       "      <td>3866.85520</td>\n",
       "      <td>0</td>\n",
       "      <td>1</td>\n",
       "      <td>1</td>\n",
       "      <td>0</td>\n",
       "      <td>0</td>\n",
       "      <td>1</td>\n",
       "      <td>0</td>\n",
       "      <td>0</td>\n",
       "    </tr>\n",
       "    <tr>\n",
       "      <th>...</th>\n",
       "      <td>...</td>\n",
       "      <td>...</td>\n",
       "      <td>...</td>\n",
       "      <td>...</td>\n",
       "      <td>...</td>\n",
       "      <td>...</td>\n",
       "      <td>...</td>\n",
       "      <td>...</td>\n",
       "      <td>...</td>\n",
       "      <td>...</td>\n",
       "      <td>...</td>\n",
       "      <td>...</td>\n",
       "    </tr>\n",
       "    <tr>\n",
       "      <th>1333</th>\n",
       "      <td>50</td>\n",
       "      <td>30.970</td>\n",
       "      <td>3</td>\n",
       "      <td>10600.54830</td>\n",
       "      <td>0</td>\n",
       "      <td>1</td>\n",
       "      <td>1</td>\n",
       "      <td>0</td>\n",
       "      <td>0</td>\n",
       "      <td>1</td>\n",
       "      <td>0</td>\n",
       "      <td>0</td>\n",
       "    </tr>\n",
       "    <tr>\n",
       "      <th>1334</th>\n",
       "      <td>18</td>\n",
       "      <td>31.920</td>\n",
       "      <td>0</td>\n",
       "      <td>2205.98080</td>\n",
       "      <td>1</td>\n",
       "      <td>0</td>\n",
       "      <td>1</td>\n",
       "      <td>0</td>\n",
       "      <td>1</td>\n",
       "      <td>0</td>\n",
       "      <td>0</td>\n",
       "      <td>0</td>\n",
       "    </tr>\n",
       "    <tr>\n",
       "      <th>1335</th>\n",
       "      <td>18</td>\n",
       "      <td>36.850</td>\n",
       "      <td>0</td>\n",
       "      <td>1629.83350</td>\n",
       "      <td>1</td>\n",
       "      <td>0</td>\n",
       "      <td>1</td>\n",
       "      <td>0</td>\n",
       "      <td>0</td>\n",
       "      <td>0</td>\n",
       "      <td>1</td>\n",
       "      <td>0</td>\n",
       "    </tr>\n",
       "    <tr>\n",
       "      <th>1336</th>\n",
       "      <td>21</td>\n",
       "      <td>25.800</td>\n",
       "      <td>0</td>\n",
       "      <td>2007.94500</td>\n",
       "      <td>1</td>\n",
       "      <td>0</td>\n",
       "      <td>1</td>\n",
       "      <td>0</td>\n",
       "      <td>0</td>\n",
       "      <td>0</td>\n",
       "      <td>0</td>\n",
       "      <td>1</td>\n",
       "    </tr>\n",
       "    <tr>\n",
       "      <th>1337</th>\n",
       "      <td>61</td>\n",
       "      <td>29.070</td>\n",
       "      <td>0</td>\n",
       "      <td>29141.36030</td>\n",
       "      <td>1</td>\n",
       "      <td>0</td>\n",
       "      <td>0</td>\n",
       "      <td>1</td>\n",
       "      <td>0</td>\n",
       "      <td>1</td>\n",
       "      <td>0</td>\n",
       "      <td>0</td>\n",
       "    </tr>\n",
       "  </tbody>\n",
       "</table>\n",
       "<p>1338 rows × 12 columns</p>\n",
       "</div>"
      ],
      "text/plain": [
       "      age     bmi  children      charges  sex_female  sex_male  smoker_no  \\\n",
       "0      19  27.900         0  16884.92400           1         0          0   \n",
       "1      18  33.770         1   1725.55230           0         1          1   \n",
       "2      28  33.000         3   4449.46200           0         1          1   \n",
       "3      33  22.705         0  21984.47061           0         1          1   \n",
       "4      32  28.880         0   3866.85520           0         1          1   \n",
       "...   ...     ...       ...          ...         ...       ...        ...   \n",
       "1333   50  30.970         3  10600.54830           0         1          1   \n",
       "1334   18  31.920         0   2205.98080           1         0          1   \n",
       "1335   18  36.850         0   1629.83350           1         0          1   \n",
       "1336   21  25.800         0   2007.94500           1         0          1   \n",
       "1337   61  29.070         0  29141.36030           1         0          0   \n",
       "\n",
       "      smoker_yes  region_northeast  region_northwest  region_southeast  \\\n",
       "0              1                 0                 0                 0   \n",
       "1              0                 0                 0                 1   \n",
       "2              0                 0                 0                 1   \n",
       "3              0                 0                 1                 0   \n",
       "4              0                 0                 1                 0   \n",
       "...          ...               ...               ...               ...   \n",
       "1333           0                 0                 1                 0   \n",
       "1334           0                 1                 0                 0   \n",
       "1335           0                 0                 0                 1   \n",
       "1336           0                 0                 0                 0   \n",
       "1337           1                 0                 1                 0   \n",
       "\n",
       "      region_southwest  \n",
       "0                    1  \n",
       "1                    0  \n",
       "2                    0  \n",
       "3                    0  \n",
       "4                    0  \n",
       "...                ...  \n",
       "1333                 0  \n",
       "1334                 0  \n",
       "1335                 0  \n",
       "1336                 1  \n",
       "1337                 0  \n",
       "\n",
       "[1338 rows x 12 columns]"
      ]
     },
     "execution_count": 65,
     "metadata": {},
     "output_type": "execute_result"
    }
   ],
   "source": [
    "# Let's try one-hot encode our Dataframe so it's all numbers\n",
    "insurance_one_hot = pd.get_dummies(insurance)\n",
    "insurance_one_hot"
   ]
  },
  {
   "cell_type": "code",
   "execution_count": 66,
   "id": "1c7d8a3f",
   "metadata": {},
   "outputs": [],
   "source": [
    "# Create X & y values (features and labels)\n",
    "X = insurance_one_hot.drop(columns=['charges'], axis=1)\n",
    "y = insurance_one_hot['charges']"
   ]
  },
  {
   "cell_type": "code",
   "execution_count": 67,
   "id": "1c5bd343",
   "metadata": {},
   "outputs": [
    {
     "data": {
      "text/html": [
       "<div>\n",
       "<style scoped>\n",
       "    .dataframe tbody tr th:only-of-type {\n",
       "        vertical-align: middle;\n",
       "    }\n",
       "\n",
       "    .dataframe tbody tr th {\n",
       "        vertical-align: top;\n",
       "    }\n",
       "\n",
       "    .dataframe thead th {\n",
       "        text-align: right;\n",
       "    }\n",
       "</style>\n",
       "<table border=\"1\" class=\"dataframe\">\n",
       "  <thead>\n",
       "    <tr style=\"text-align: right;\">\n",
       "      <th></th>\n",
       "      <th>age</th>\n",
       "      <th>bmi</th>\n",
       "      <th>children</th>\n",
       "      <th>sex_female</th>\n",
       "      <th>sex_male</th>\n",
       "      <th>smoker_no</th>\n",
       "      <th>smoker_yes</th>\n",
       "      <th>region_northeast</th>\n",
       "      <th>region_northwest</th>\n",
       "      <th>region_southeast</th>\n",
       "      <th>region_southwest</th>\n",
       "    </tr>\n",
       "  </thead>\n",
       "  <tbody>\n",
       "    <tr>\n",
       "      <th>0</th>\n",
       "      <td>19</td>\n",
       "      <td>27.900</td>\n",
       "      <td>0</td>\n",
       "      <td>1</td>\n",
       "      <td>0</td>\n",
       "      <td>0</td>\n",
       "      <td>1</td>\n",
       "      <td>0</td>\n",
       "      <td>0</td>\n",
       "      <td>0</td>\n",
       "      <td>1</td>\n",
       "    </tr>\n",
       "    <tr>\n",
       "      <th>1</th>\n",
       "      <td>18</td>\n",
       "      <td>33.770</td>\n",
       "      <td>1</td>\n",
       "      <td>0</td>\n",
       "      <td>1</td>\n",
       "      <td>1</td>\n",
       "      <td>0</td>\n",
       "      <td>0</td>\n",
       "      <td>0</td>\n",
       "      <td>1</td>\n",
       "      <td>0</td>\n",
       "    </tr>\n",
       "    <tr>\n",
       "      <th>2</th>\n",
       "      <td>28</td>\n",
       "      <td>33.000</td>\n",
       "      <td>3</td>\n",
       "      <td>0</td>\n",
       "      <td>1</td>\n",
       "      <td>1</td>\n",
       "      <td>0</td>\n",
       "      <td>0</td>\n",
       "      <td>0</td>\n",
       "      <td>1</td>\n",
       "      <td>0</td>\n",
       "    </tr>\n",
       "    <tr>\n",
       "      <th>3</th>\n",
       "      <td>33</td>\n",
       "      <td>22.705</td>\n",
       "      <td>0</td>\n",
       "      <td>0</td>\n",
       "      <td>1</td>\n",
       "      <td>1</td>\n",
       "      <td>0</td>\n",
       "      <td>0</td>\n",
       "      <td>1</td>\n",
       "      <td>0</td>\n",
       "      <td>0</td>\n",
       "    </tr>\n",
       "    <tr>\n",
       "      <th>4</th>\n",
       "      <td>32</td>\n",
       "      <td>28.880</td>\n",
       "      <td>0</td>\n",
       "      <td>0</td>\n",
       "      <td>1</td>\n",
       "      <td>1</td>\n",
       "      <td>0</td>\n",
       "      <td>0</td>\n",
       "      <td>1</td>\n",
       "      <td>0</td>\n",
       "      <td>0</td>\n",
       "    </tr>\n",
       "  </tbody>\n",
       "</table>\n",
       "</div>"
      ],
      "text/plain": [
       "   age     bmi  children  sex_female  sex_male  smoker_no  smoker_yes  \\\n",
       "0   19  27.900         0           1         0          0           1   \n",
       "1   18  33.770         1           0         1          1           0   \n",
       "2   28  33.000         3           0         1          1           0   \n",
       "3   33  22.705         0           0         1          1           0   \n",
       "4   32  28.880         0           0         1          1           0   \n",
       "\n",
       "   region_northeast  region_northwest  region_southeast  region_southwest  \n",
       "0                 0                 0                 0                 1  \n",
       "1                 0                 0                 1                 0  \n",
       "2                 0                 0                 1                 0  \n",
       "3                 0                 1                 0                 0  \n",
       "4                 0                 1                 0                 0  "
      ]
     },
     "execution_count": 67,
     "metadata": {},
     "output_type": "execute_result"
    }
   ],
   "source": [
    "# veiw X\n",
    "X.head()"
   ]
  },
  {
   "cell_type": "code",
   "execution_count": 68,
   "id": "9e22bc50",
   "metadata": {},
   "outputs": [
    {
     "data": {
      "text/plain": [
       "0    16884.92400\n",
       "1     1725.55230\n",
       "2     4449.46200\n",
       "3    21984.47061\n",
       "4     3866.85520\n",
       "Name: charges, dtype: float64"
      ]
     },
     "execution_count": 68,
     "metadata": {},
     "output_type": "execute_result"
    }
   ],
   "source": [
    "# view y\n",
    "y.head()"
   ]
  },
  {
   "cell_type": "code",
   "execution_count": 69,
   "id": "2bb46ebd",
   "metadata": {},
   "outputs": [
    {
     "data": {
      "text/plain": [
       "(1338, 1338, 1070, 268, 1070, 268)"
      ]
     },
     "execution_count": 69,
     "metadata": {},
     "output_type": "execute_result"
    }
   ],
   "source": [
    "# Create training and test sets\n",
    "from sklearn.model_selection import train_test_split\n",
    "\n",
    "X_train, X_test, y_train, y_test = train_test_split(X, y, test_size=0.2, random_state=42)\n",
    "len(X), len(y), len(X_train), len(X_test), len(y_train), len(y_test)"
   ]
  },
  {
   "cell_type": "code",
   "execution_count": 70,
   "id": "8ddba3da",
   "metadata": {},
   "outputs": [
    {
     "name": "stderr",
     "output_type": "stream",
     "text": [
      "WARNING:absl:At this time, the v2.11+ optimizer `tf.keras.optimizers.SGD` runs slowly on M1/M2 Macs, please use the legacy Keras optimizer instead, located at `tf.keras.optimizers.legacy.SGD`.\n",
      "WARNING:absl:There is a known slowdown when using v2.11+ Keras optimizers on M1/M2 Macs. Falling back to the legacy Keras optimizer, i.e., `tf.keras.optimizers.legacy.SGD`.\n"
     ]
    },
    {
     "name": "stdout",
     "output_type": "stream",
     "text": [
      "Epoch 1/100\n",
      "34/34 [==============================] - 1s 8ms/step - loss: 8561.1738 - mae: 8561.1738\n",
      "Epoch 2/100\n",
      "34/34 [==============================] - 0s 7ms/step - loss: 7881.1348 - mae: 7881.1348\n",
      "Epoch 3/100\n",
      "34/34 [==============================] - 0s 6ms/step - loss: 7584.2734 - mae: 7584.2734\n",
      "Epoch 4/100\n",
      "34/34 [==============================] - 0s 6ms/step - loss: 7735.1372 - mae: 7735.1372\n",
      "Epoch 5/100\n",
      "34/34 [==============================] - 0s 7ms/step - loss: 7801.2397 - mae: 7801.2397\n",
      "Epoch 6/100\n",
      "34/34 [==============================] - 0s 6ms/step - loss: 7599.5518 - mae: 7599.5518\n",
      "Epoch 7/100\n",
      "34/34 [==============================] - 0s 7ms/step - loss: 7531.3477 - mae: 7531.3477\n",
      "Epoch 8/100\n",
      "34/34 [==============================] - 0s 6ms/step - loss: 7781.4058 - mae: 7781.4058\n",
      "Epoch 9/100\n",
      "34/34 [==============================] - 0s 6ms/step - loss: 7477.0264 - mae: 7477.0264\n",
      "Epoch 10/100\n",
      "34/34 [==============================] - 0s 6ms/step - loss: 7738.5688 - mae: 7738.5688\n",
      "Epoch 11/100\n",
      "34/34 [==============================] - 0s 6ms/step - loss: 7631.8364 - mae: 7631.8364\n",
      "Epoch 12/100\n",
      "34/34 [==============================] - 0s 7ms/step - loss: 7552.6421 - mae: 7552.6421\n",
      "Epoch 13/100\n",
      "34/34 [==============================] - 0s 6ms/step - loss: 7690.9922 - mae: 7690.9922\n",
      "Epoch 14/100\n",
      "34/34 [==============================] - 0s 6ms/step - loss: 7774.8721 - mae: 7774.8721\n",
      "Epoch 15/100\n",
      "34/34 [==============================] - 0s 7ms/step - loss: 7670.5913 - mae: 7670.5913\n",
      "Epoch 16/100\n",
      "34/34 [==============================] - 0s 6ms/step - loss: 7689.1016 - mae: 7689.1016\n",
      "Epoch 17/100\n",
      "34/34 [==============================] - 0s 7ms/step - loss: 7517.4346 - mae: 7517.4346\n",
      "Epoch 18/100\n",
      "34/34 [==============================] - 0s 6ms/step - loss: 7668.6108 - mae: 7668.6108\n",
      "Epoch 19/100\n",
      "34/34 [==============================] - 0s 7ms/step - loss: 7715.7690 - mae: 7715.7690\n",
      "Epoch 20/100\n",
      "34/34 [==============================] - 0s 6ms/step - loss: 7868.4727 - mae: 7868.4727\n",
      "Epoch 21/100\n",
      "34/34 [==============================] - 0s 7ms/step - loss: 7529.8804 - mae: 7529.8804\n",
      "Epoch 22/100\n",
      "34/34 [==============================] - 0s 7ms/step - loss: 7888.2617 - mae: 7888.2617\n",
      "Epoch 23/100\n",
      "34/34 [==============================] - 0s 7ms/step - loss: 7654.0151 - mae: 7654.0151\n",
      "Epoch 24/100\n",
      "34/34 [==============================] - 0s 6ms/step - loss: 7555.0693 - mae: 7555.0693\n",
      "Epoch 25/100\n",
      "34/34 [==============================] - 0s 6ms/step - loss: 7638.2661 - mae: 7638.2661\n",
      "Epoch 26/100\n",
      "34/34 [==============================] - 0s 7ms/step - loss: 7648.7227 - mae: 7648.7227\n",
      "Epoch 27/100\n",
      "34/34 [==============================] - 0s 7ms/step - loss: 7710.2222 - mae: 7710.2222\n",
      "Epoch 28/100\n",
      "34/34 [==============================] - 0s 7ms/step - loss: 7293.0142 - mae: 7293.0142\n",
      "Epoch 29/100\n",
      "34/34 [==============================] - 0s 6ms/step - loss: 7601.7300 - mae: 7601.7300\n",
      "Epoch 30/100\n",
      "34/34 [==============================] - 0s 7ms/step - loss: 7357.3511 - mae: 7357.3511\n",
      "Epoch 31/100\n",
      "34/34 [==============================] - 0s 6ms/step - loss: 7500.2222 - mae: 7500.2222\n",
      "Epoch 32/100\n",
      "34/34 [==============================] - 0s 7ms/step - loss: 7479.7422 - mae: 7479.7422\n",
      "Epoch 33/100\n",
      "34/34 [==============================] - 0s 7ms/step - loss: 7386.4692 - mae: 7386.4692\n",
      "Epoch 34/100\n",
      "34/34 [==============================] - 0s 6ms/step - loss: 7384.3779 - mae: 7384.3779\n",
      "Epoch 35/100\n",
      "34/34 [==============================] - 0s 7ms/step - loss: 7398.4258 - mae: 7398.4258\n",
      "Epoch 36/100\n",
      "34/34 [==============================] - 0s 6ms/step - loss: 7604.6982 - mae: 7604.6982\n",
      "Epoch 37/100\n",
      "34/34 [==============================] - 0s 7ms/step - loss: 7699.5366 - mae: 7699.5366\n",
      "Epoch 38/100\n",
      "34/34 [==============================] - 0s 7ms/step - loss: 7549.2939 - mae: 7549.2939\n",
      "Epoch 39/100\n",
      "34/34 [==============================] - 0s 6ms/step - loss: 7466.1055 - mae: 7466.1055\n",
      "Epoch 40/100\n",
      "34/34 [==============================] - 0s 6ms/step - loss: 7464.8047 - mae: 7464.8047\n",
      "Epoch 41/100\n",
      "34/34 [==============================] - 0s 6ms/step - loss: 7699.4878 - mae: 7699.4878\n",
      "Epoch 42/100\n",
      "34/34 [==============================] - 0s 6ms/step - loss: 7742.3481 - mae: 7742.3481\n",
      "Epoch 43/100\n",
      "34/34 [==============================] - 0s 6ms/step - loss: 7673.9727 - mae: 7673.9727\n",
      "Epoch 44/100\n",
      "34/34 [==============================] - 0s 6ms/step - loss: 7499.2686 - mae: 7499.2686\n",
      "Epoch 45/100\n",
      "34/34 [==============================] - 0s 6ms/step - loss: 7525.2812 - mae: 7525.2812\n",
      "Epoch 46/100\n",
      "34/34 [==============================] - 0s 6ms/step - loss: 7428.5908 - mae: 7428.5908\n",
      "Epoch 47/100\n",
      "34/34 [==============================] - 0s 6ms/step - loss: 7375.0034 - mae: 7375.0034\n",
      "Epoch 48/100\n",
      "34/34 [==============================] - 0s 6ms/step - loss: 7395.8730 - mae: 7395.8730\n",
      "Epoch 49/100\n",
      "34/34 [==============================] - 0s 6ms/step - loss: 7548.8970 - mae: 7548.8970\n",
      "Epoch 50/100\n",
      "34/34 [==============================] - 0s 6ms/step - loss: 7487.1553 - mae: 7487.1553\n",
      "Epoch 51/100\n",
      "34/34 [==============================] - 0s 6ms/step - loss: 7382.2754 - mae: 7382.2754\n",
      "Epoch 52/100\n",
      "34/34 [==============================] - 0s 6ms/step - loss: 7527.2466 - mae: 7527.2466\n",
      "Epoch 53/100\n",
      "34/34 [==============================] - 0s 6ms/step - loss: 7300.5928 - mae: 7300.5928\n",
      "Epoch 54/100\n",
      "34/34 [==============================] - 0s 6ms/step - loss: 7421.2036 - mae: 7421.2036\n",
      "Epoch 55/100\n",
      "34/34 [==============================] - 0s 6ms/step - loss: 7280.0767 - mae: 7280.0767\n",
      "Epoch 56/100\n",
      "34/34 [==============================] - 0s 7ms/step - loss: 7164.0068 - mae: 7164.0068\n",
      "Epoch 57/100\n",
      "34/34 [==============================] - 0s 7ms/step - loss: 7427.9199 - mae: 7427.9199\n",
      "Epoch 58/100\n",
      "34/34 [==============================] - 0s 7ms/step - loss: 7442.6323 - mae: 7442.6323\n",
      "Epoch 59/100\n",
      "34/34 [==============================] - 0s 7ms/step - loss: 7630.8213 - mae: 7630.8213\n",
      "Epoch 60/100\n",
      "34/34 [==============================] - 0s 6ms/step - loss: 7659.8555 - mae: 7659.8555\n",
      "Epoch 61/100\n",
      "34/34 [==============================] - 0s 6ms/step - loss: 7577.1357 - mae: 7577.1357\n",
      "Epoch 62/100\n",
      "34/34 [==============================] - 0s 7ms/step - loss: 7536.2402 - mae: 7536.2402\n",
      "Epoch 63/100\n",
      "34/34 [==============================] - 0s 6ms/step - loss: 7361.9688 - mae: 7361.9688\n",
      "Epoch 64/100\n",
      "34/34 [==============================] - 0s 7ms/step - loss: 7446.2368 - mae: 7446.2368\n",
      "Epoch 65/100\n",
      "34/34 [==============================] - 0s 6ms/step - loss: 7383.8462 - mae: 7383.8462\n",
      "Epoch 66/100\n",
      "34/34 [==============================] - 0s 6ms/step - loss: 7378.5063 - mae: 7378.5063\n",
      "Epoch 67/100\n",
      "34/34 [==============================] - 0s 6ms/step - loss: 7381.4233 - mae: 7381.4233\n",
      "Epoch 68/100\n",
      "34/34 [==============================] - 0s 6ms/step - loss: 7478.4932 - mae: 7478.4932\n",
      "Epoch 69/100\n",
      "34/34 [==============================] - 0s 6ms/step - loss: 7450.3555 - mae: 7450.3555\n",
      "Epoch 70/100\n",
      "34/34 [==============================] - 0s 6ms/step - loss: 7592.8931 - mae: 7592.8931\n",
      "Epoch 71/100\n",
      "34/34 [==============================] - 0s 8ms/step - loss: 7273.1250 - mae: 7273.1250\n",
      "Epoch 72/100\n",
      "34/34 [==============================] - 0s 7ms/step - loss: 7359.8911 - mae: 7359.8911\n",
      "Epoch 73/100\n",
      "34/34 [==============================] - 0s 7ms/step - loss: 7320.0571 - mae: 7320.0571\n",
      "Epoch 74/100\n",
      "34/34 [==============================] - 0s 6ms/step - loss: 7405.7920 - mae: 7405.7920\n",
      "Epoch 75/100\n",
      "34/34 [==============================] - 0s 7ms/step - loss: 7327.2280 - mae: 7327.2280\n",
      "Epoch 76/100\n",
      "34/34 [==============================] - 0s 7ms/step - loss: 7058.7598 - mae: 7058.7598\n",
      "Epoch 77/100\n",
      "34/34 [==============================] - 0s 6ms/step - loss: 7372.1758 - mae: 7372.1758\n",
      "Epoch 78/100\n",
      "34/34 [==============================] - 0s 7ms/step - loss: 7083.3145 - mae: 7083.3145\n",
      "Epoch 79/100\n",
      "34/34 [==============================] - 0s 6ms/step - loss: 7496.8384 - mae: 7496.8384\n",
      "Epoch 80/100\n",
      "34/34 [==============================] - 0s 7ms/step - loss: 7244.3018 - mae: 7244.3018\n",
      "Epoch 81/100\n",
      "34/34 [==============================] - 0s 7ms/step - loss: 7266.1860 - mae: 7266.1860\n",
      "Epoch 82/100\n",
      "34/34 [==============================] - 0s 7ms/step - loss: 7209.1128 - mae: 7209.1128\n",
      "Epoch 83/100\n",
      "34/34 [==============================] - 0s 7ms/step - loss: 7358.5308 - mae: 7358.5308\n",
      "Epoch 84/100\n",
      "34/34 [==============================] - 0s 6ms/step - loss: 7361.3813 - mae: 7361.3813\n",
      "Epoch 85/100\n",
      "34/34 [==============================] - 0s 6ms/step - loss: 7679.8115 - mae: 7679.8115\n",
      "Epoch 86/100\n",
      "34/34 [==============================] - 0s 6ms/step - loss: 7486.9336 - mae: 7486.9336\n",
      "Epoch 87/100\n",
      "34/34 [==============================] - 0s 6ms/step - loss: 7266.2788 - mae: 7266.2788\n",
      "Epoch 88/100\n",
      "34/34 [==============================] - 0s 6ms/step - loss: 7165.4429 - mae: 7165.4429\n",
      "Epoch 89/100\n",
      "34/34 [==============================] - 0s 6ms/step - loss: 7434.0728 - mae: 7434.0728\n",
      "Epoch 90/100\n",
      "34/34 [==============================] - 0s 6ms/step - loss: 6986.4907 - mae: 6986.4907\n",
      "Epoch 91/100\n",
      "34/34 [==============================] - 0s 6ms/step - loss: 7181.8877 - mae: 7181.8877\n",
      "Epoch 92/100\n",
      "34/34 [==============================] - 0s 6ms/step - loss: 7241.0854 - mae: 7241.0854\n",
      "Epoch 93/100\n",
      "34/34 [==============================] - 0s 6ms/step - loss: 7510.8604 - mae: 7510.8604\n",
      "Epoch 94/100\n",
      "34/34 [==============================] - 0s 7ms/step - loss: 7268.2061 - mae: 7268.2061\n",
      "Epoch 95/100\n",
      "34/34 [==============================] - 0s 6ms/step - loss: 7398.0371 - mae: 7398.0371\n",
      "Epoch 96/100\n",
      "34/34 [==============================] - 0s 6ms/step - loss: 7325.2725 - mae: 7325.2725\n",
      "Epoch 97/100\n",
      "34/34 [==============================] - 0s 6ms/step - loss: 7139.4580 - mae: 7139.4580\n",
      "Epoch 98/100\n",
      "34/34 [==============================] - 0s 6ms/step - loss: 7407.0664 - mae: 7407.0664\n",
      "Epoch 99/100\n",
      "34/34 [==============================] - 0s 6ms/step - loss: 7402.1802 - mae: 7402.1802\n",
      "Epoch 100/100\n",
      "34/34 [==============================] - 0s 6ms/step - loss: 7297.2964 - mae: 7297.2964\n"
     ]
    },
    {
     "data": {
      "text/plain": [
       "<keras.callbacks.History at 0x295f1cb50>"
      ]
     },
     "execution_count": 70,
     "metadata": {},
     "output_type": "execute_result"
    }
   ],
   "source": [
    "# Build a neural network (sort of like model 2 above)\n",
    "\n",
    "# set random seed\n",
    "tf.random.set_seed(42)\n",
    "\n",
    "# Create a model\n",
    "\n",
    "insurance_model = tf.keras.Sequential([\n",
    "    tf.keras.layers.Dense(10),\n",
    "    tf.keras.layers.Dense(1)\n",
    "])\n",
    "\n",
    "# Compile the model\n",
    "insurance_model.compile(loss=tf.keras.losses.mae,\n",
    "                       optimizer=tf.keras.optimizers.SGD(),\n",
    "                       metrics=['mae'])\n",
    "\n",
    "# Fit the model\n",
    "insurance_model.fit(X_train, y_train, epochs=100)"
   ]
  },
  {
   "cell_type": "code",
   "execution_count": 71,
   "id": "54bd1a69",
   "metadata": {},
   "outputs": [
    {
     "name": "stdout",
     "output_type": "stream",
     "text": [
      "9/9 [==============================] - 0s 8ms/step - loss: 7060.9683 - mae: 7060.9683\n"
     ]
    },
    {
     "data": {
      "text/plain": [
       "[7060.96826171875, 7060.96826171875]"
      ]
     },
     "execution_count": 71,
     "metadata": {},
     "output_type": "execute_result"
    }
   ],
   "source": [
    "# Check the results of the insurance model on the test data\n",
    "insurance_model.evaluate(X_test, y_test)"
   ]
  },
  {
   "cell_type": "code",
   "execution_count": 72,
   "id": "2118ba17",
   "metadata": {},
   "outputs": [
    {
     "data": {
      "text/plain": [
       "(9575.4421, 13346.089736364485)"
      ]
     },
     "execution_count": 72,
     "metadata": {},
     "output_type": "execute_result"
    }
   ],
   "source": [
    "y_train.median(), y_train.mean()"
   ]
  },
  {
   "cell_type": "markdown",
   "id": "f37c1f3c",
   "metadata": {},
   "source": [
    "Right now it looks like our model isn't performing too well ... lets try and improve it\n",
    "\n",
    "To (try) improve our model, we'll run 2 experiments:\n",
    "\n",
    "    1. Add an extra layer with more hidden unts and use Adam optimizer\n",
    "    2. Same as above but train for longer(200 spochs)\n",
    "  "
   ]
  },
  {
   "cell_type": "code",
   "execution_count": 73,
   "id": "2960c3a9",
   "metadata": {},
   "outputs": [
    {
     "name": "stderr",
     "output_type": "stream",
     "text": [
      "WARNING:absl:At this time, the v2.11+ optimizer `tf.keras.optimizers.Adam` runs slowly on M1/M2 Macs, please use the legacy Keras optimizer instead, located at `tf.keras.optimizers.legacy.Adam`.\n",
      "WARNING:absl:There is a known slowdown when using v2.11+ Keras optimizers on M1/M2 Macs. Falling back to the legacy Keras optimizer, i.e., `tf.keras.optimizers.legacy.Adam`.\n"
     ]
    },
    {
     "data": {
      "text/plain": [
       "<keras.callbacks.History at 0x28e901b70>"
      ]
     },
     "execution_count": 73,
     "metadata": {},
     "output_type": "execute_result"
    }
   ],
   "source": [
    "# set random seed\n",
    "tf.random.set_seed(42)\n",
    "\n",
    "# Create the model\n",
    "insurance_model_2 = tf.keras.Sequential([\n",
    "    tf.keras.layers.Dense(100),\n",
    "    tf.keras.layers.Dense(10),\n",
    "    tf.keras.layers.Dense(1)\n",
    "])\n",
    "\n",
    "# Compile the model\n",
    "insurance_model_2.compile(loss=tf.keras.losses.mae,\n",
    "                         optimizer=tf.keras.optimizers.Adam(),\n",
    "                         metrics=[\"mae\"])\n",
    "\n",
    "# Fit the model\n",
    "insurance_model_2.fit(X_train, y_train, epochs=100, verbose=0)"
   ]
  },
  {
   "cell_type": "code",
   "execution_count": 74,
   "id": "a6a3ef69",
   "metadata": {},
   "outputs": [
    {
     "name": "stdout",
     "output_type": "stream",
     "text": [
      "9/9 [==============================] - 0s 7ms/step - loss: 4891.2520 - mae: 4891.2520\n"
     ]
    },
    {
     "data": {
      "text/plain": [
       "[4891.251953125, 4891.251953125]"
      ]
     },
     "execution_count": 74,
     "metadata": {},
     "output_type": "execute_result"
    }
   ],
   "source": [
    "# Evaluate the larger model\n",
    "insurance_model_2.evaluate(X_test, y_test)"
   ]
  },
  {
   "cell_type": "code",
   "execution_count": 75,
   "id": "f1bbe78e",
   "metadata": {},
   "outputs": [
    {
     "name": "stdout",
     "output_type": "stream",
     "text": [
      "9/9 [==============================] - 0s 6ms/step - loss: 7060.9683 - mae: 7060.9683\n"
     ]
    },
    {
     "data": {
      "text/plain": [
       "[7060.96826171875, 7060.96826171875]"
      ]
     },
     "execution_count": 75,
     "metadata": {},
     "output_type": "execute_result"
    }
   ],
   "source": [
    "insurance_model.evaluate(X_test, y_test)"
   ]
  },
  {
   "cell_type": "code",
   "execution_count": 76,
   "id": "daa693cd",
   "metadata": {},
   "outputs": [
    {
     "name": "stderr",
     "output_type": "stream",
     "text": [
      "WARNING:absl:At this time, the v2.11+ optimizer `tf.keras.optimizers.Adam` runs slowly on M1/M2 Macs, please use the legacy Keras optimizer instead, located at `tf.keras.optimizers.legacy.Adam`.\n",
      "WARNING:absl:There is a known slowdown when using v2.11+ Keras optimizers on M1/M2 Macs. Falling back to the legacy Keras optimizer, i.e., `tf.keras.optimizers.legacy.Adam`.\n"
     ]
    },
    {
     "name": "stdout",
     "output_type": "stream",
     "text": [
      "Epoch 1/200\n",
      "34/34 [==============================] - 1s 9ms/step - loss: 13290.2598 - mae: 13290.2598\n",
      "Epoch 2/200\n",
      "34/34 [==============================] - 0s 8ms/step - loss: 13127.4775 - mae: 13127.4775\n",
      "Epoch 3/200\n",
      "34/34 [==============================] - 0s 9ms/step - loss: 12778.3730 - mae: 12778.3730\n",
      "Epoch 4/200\n",
      "34/34 [==============================] - 0s 7ms/step - loss: 12091.8271 - mae: 12091.8271\n",
      "Epoch 5/200\n",
      "34/34 [==============================] - 0s 7ms/step - loss: 10951.2012 - mae: 10951.2012\n",
      "Epoch 6/200\n",
      "34/34 [==============================] - 0s 8ms/step - loss: 9511.6113 - mae: 9511.6113\n",
      "Epoch 7/200\n",
      "34/34 [==============================] - 0s 7ms/step - loss: 8200.4277 - mae: 8200.4277\n",
      "Epoch 8/200\n",
      "34/34 [==============================] - 0s 7ms/step - loss: 7566.1357 - mae: 7566.1357\n",
      "Epoch 9/200\n",
      "34/34 [==============================] - 0s 8ms/step - loss: 7456.6362 - mae: 7456.6362\n",
      "Epoch 10/200\n",
      "34/34 [==============================] - 0s 7ms/step - loss: 7434.9619 - mae: 7434.9619\n",
      "Epoch 11/200\n",
      "34/34 [==============================] - 0s 7ms/step - loss: 7416.4321 - mae: 7416.4321\n",
      "Epoch 12/200\n",
      "34/34 [==============================] - 0s 7ms/step - loss: 7394.5498 - mae: 7394.5498\n",
      "Epoch 13/200\n",
      "34/34 [==============================] - 0s 7ms/step - loss: 7374.5474 - mae: 7374.5474\n",
      "Epoch 14/200\n",
      "34/34 [==============================] - 0s 7ms/step - loss: 7352.2456 - mae: 7352.2456\n",
      "Epoch 15/200\n",
      "34/34 [==============================] - 0s 7ms/step - loss: 7333.3125 - mae: 7333.3125\n",
      "Epoch 16/200\n",
      "34/34 [==============================] - 0s 7ms/step - loss: 7310.9453 - mae: 7310.9453\n",
      "Epoch 17/200\n",
      "34/34 [==============================] - 0s 7ms/step - loss: 7291.3530 - mae: 7291.3530\n",
      "Epoch 18/200\n",
      "34/34 [==============================] - 0s 7ms/step - loss: 7268.1401 - mae: 7268.1401\n",
      "Epoch 19/200\n",
      "34/34 [==============================] - 0s 7ms/step - loss: 7246.0527 - mae: 7246.0527\n",
      "Epoch 20/200\n",
      "34/34 [==============================] - 0s 7ms/step - loss: 7223.2842 - mae: 7223.2842\n",
      "Epoch 21/200\n",
      "34/34 [==============================] - 0s 7ms/step - loss: 7204.5981 - mae: 7204.5981\n",
      "Epoch 22/200\n",
      "34/34 [==============================] - 0s 7ms/step - loss: 7178.1968 - mae: 7178.1968\n",
      "Epoch 23/200\n",
      "34/34 [==============================] - 0s 7ms/step - loss: 7153.6890 - mae: 7153.6890\n",
      "Epoch 24/200\n",
      "34/34 [==============================] - 0s 7ms/step - loss: 7129.9082 - mae: 7129.9082\n",
      "Epoch 25/200\n",
      "34/34 [==============================] - 0s 7ms/step - loss: 7112.8462 - mae: 7112.8462\n",
      "Epoch 26/200\n",
      "34/34 [==============================] - 0s 7ms/step - loss: 7080.9370 - mae: 7080.9370\n",
      "Epoch 27/200\n",
      "34/34 [==============================] - 0s 7ms/step - loss: 7053.3394 - mae: 7053.3394\n",
      "Epoch 28/200\n",
      "34/34 [==============================] - 0s 7ms/step - loss: 7025.9160 - mae: 7025.9160\n",
      "Epoch 29/200\n",
      "34/34 [==============================] - 0s 7ms/step - loss: 6999.1128 - mae: 6999.1128\n",
      "Epoch 30/200\n",
      "34/34 [==============================] - 0s 7ms/step - loss: 6972.4263 - mae: 6972.4263\n",
      "Epoch 31/200\n",
      "34/34 [==============================] - 0s 8ms/step - loss: 6942.2632 - mae: 6942.2632\n",
      "Epoch 32/200\n",
      "34/34 [==============================] - 0s 7ms/step - loss: 6914.8403 - mae: 6914.8403\n",
      "Epoch 33/200\n",
      "34/34 [==============================] - 0s 7ms/step - loss: 6883.9185 - mae: 6883.9185\n",
      "Epoch 34/200\n",
      "34/34 [==============================] - 0s 7ms/step - loss: 6852.5957 - mae: 6852.5957\n",
      "Epoch 35/200\n",
      "34/34 [==============================] - 0s 8ms/step - loss: 6820.5801 - mae: 6820.5801\n",
      "Epoch 36/200\n",
      "34/34 [==============================] - 0s 7ms/step - loss: 6787.5361 - mae: 6787.5361\n",
      "Epoch 37/200\n",
      "34/34 [==============================] - 0s 7ms/step - loss: 6752.7397 - mae: 6752.7397\n",
      "Epoch 38/200\n",
      "34/34 [==============================] - 0s 7ms/step - loss: 6720.3662 - mae: 6720.3662\n",
      "Epoch 39/200\n",
      "34/34 [==============================] - 0s 7ms/step - loss: 6682.2544 - mae: 6682.2544\n",
      "Epoch 40/200\n",
      "34/34 [==============================] - 0s 8ms/step - loss: 6646.5151 - mae: 6646.5151\n",
      "Epoch 41/200\n",
      "34/34 [==============================] - 0s 7ms/step - loss: 6612.7764 - mae: 6612.7764\n",
      "Epoch 42/200\n",
      "34/34 [==============================] - 0s 8ms/step - loss: 6581.0581 - mae: 6581.0581\n",
      "Epoch 43/200\n",
      "34/34 [==============================] - 0s 8ms/step - loss: 6548.8135 - mae: 6548.8135\n",
      "Epoch 44/200\n",
      "34/34 [==============================] - 0s 8ms/step - loss: 6521.4761 - mae: 6521.4761\n",
      "Epoch 45/200\n",
      "34/34 [==============================] - 0s 7ms/step - loss: 6502.7036 - mae: 6502.7036\n",
      "Epoch 46/200\n",
      "34/34 [==============================] - 0s 7ms/step - loss: 6482.0552 - mae: 6482.0552\n",
      "Epoch 47/200\n",
      "34/34 [==============================] - 0s 7ms/step - loss: 6465.4395 - mae: 6465.4395\n",
      "Epoch 48/200\n",
      "34/34 [==============================] - 0s 7ms/step - loss: 6449.1978 - mae: 6449.1978\n",
      "Epoch 49/200\n",
      "34/34 [==============================] - 0s 7ms/step - loss: 6435.5767 - mae: 6435.5767\n",
      "Epoch 50/200\n",
      "34/34 [==============================] - 0s 7ms/step - loss: 6421.7520 - mae: 6421.7520\n",
      "Epoch 51/200\n",
      "34/34 [==============================] - 0s 7ms/step - loss: 6408.2451 - mae: 6408.2451\n",
      "Epoch 52/200\n",
      "34/34 [==============================] - 0s 7ms/step - loss: 6396.9595 - mae: 6396.9595\n",
      "Epoch 53/200\n",
      "34/34 [==============================] - 0s 7ms/step - loss: 6381.9624 - mae: 6381.9624\n",
      "Epoch 54/200\n",
      "34/34 [==============================] - 0s 7ms/step - loss: 6368.2749 - mae: 6368.2749\n",
      "Epoch 55/200\n",
      "34/34 [==============================] - 0s 7ms/step - loss: 6355.3179 - mae: 6355.3179\n",
      "Epoch 56/200\n",
      "34/34 [==============================] - 0s 7ms/step - loss: 6341.0947 - mae: 6341.0947\n",
      "Epoch 57/200\n",
      "34/34 [==============================] - 0s 7ms/step - loss: 6328.5708 - mae: 6328.5708\n",
      "Epoch 58/200\n",
      "34/34 [==============================] - 0s 7ms/step - loss: 6314.5024 - mae: 6314.5024\n",
      "Epoch 59/200\n",
      "34/34 [==============================] - 0s 8ms/step - loss: 6299.3433 - mae: 6299.3433\n",
      "Epoch 60/200\n",
      "34/34 [==============================] - 0s 7ms/step - loss: 6289.1299 - mae: 6289.1299\n",
      "Epoch 61/200\n",
      "34/34 [==============================] - 0s 7ms/step - loss: 6269.6768 - mae: 6269.6768\n",
      "Epoch 62/200\n",
      "34/34 [==============================] - 0s 7ms/step - loss: 6257.2837 - mae: 6257.2837\n",
      "Epoch 63/200\n",
      "34/34 [==============================] - 0s 7ms/step - loss: 6239.5552 - mae: 6239.5552\n",
      "Epoch 64/200\n",
      "34/34 [==============================] - 0s 7ms/step - loss: 6222.2471 - mae: 6222.2471\n",
      "Epoch 65/200\n",
      "34/34 [==============================] - 0s 7ms/step - loss: 6205.7480 - mae: 6205.7480\n",
      "Epoch 66/200\n",
      "34/34 [==============================] - 0s 7ms/step - loss: 6188.7700 - mae: 6188.7700\n",
      "Epoch 67/200\n",
      "34/34 [==============================] - 0s 8ms/step - loss: 6176.5459 - mae: 6176.5459\n",
      "Epoch 68/200\n",
      "34/34 [==============================] - 0s 8ms/step - loss: 6154.3584 - mae: 6154.3584\n",
      "Epoch 69/200\n",
      "34/34 [==============================] - 0s 8ms/step - loss: 6137.7305 - mae: 6137.7305\n",
      "Epoch 70/200\n",
      "34/34 [==============================] - 0s 7ms/step - loss: 6117.8984 - mae: 6117.8984\n",
      "Epoch 71/200\n",
      "34/34 [==============================] - 0s 7ms/step - loss: 6098.4644 - mae: 6098.4644\n",
      "Epoch 72/200\n",
      "34/34 [==============================] - 0s 7ms/step - loss: 6080.3838 - mae: 6080.3838\n",
      "Epoch 73/200\n",
      "34/34 [==============================] - 0s 7ms/step - loss: 6065.0161 - mae: 6065.0161\n",
      "Epoch 74/200\n",
      "34/34 [==============================] - 0s 7ms/step - loss: 6038.1772 - mae: 6038.1772\n",
      "Epoch 75/200\n",
      "34/34 [==============================] - 0s 7ms/step - loss: 6016.5752 - mae: 6016.5752\n",
      "Epoch 76/200\n",
      "34/34 [==============================] - 0s 8ms/step - loss: 6004.7227 - mae: 6004.7227\n",
      "Epoch 77/200\n",
      "34/34 [==============================] - 0s 7ms/step - loss: 5970.8872 - mae: 5970.8872\n",
      "Epoch 78/200\n",
      "34/34 [==============================] - 0s 8ms/step - loss: 5947.9653 - mae: 5947.9653\n",
      "Epoch 79/200\n",
      "34/34 [==============================] - 0s 8ms/step - loss: 5924.1143 - mae: 5924.1143\n",
      "Epoch 80/200\n",
      "34/34 [==============================] - 0s 7ms/step - loss: 5897.3218 - mae: 5897.3218\n",
      "Epoch 81/200\n",
      "34/34 [==============================] - 0s 7ms/step - loss: 5871.5996 - mae: 5871.5996\n",
      "Epoch 82/200\n"
     ]
    },
    {
     "name": "stdout",
     "output_type": "stream",
     "text": [
      "34/34 [==============================] - 0s 7ms/step - loss: 5844.2852 - mae: 5844.2852\n",
      "Epoch 83/200\n",
      "34/34 [==============================] - 0s 7ms/step - loss: 5816.0605 - mae: 5816.0605\n",
      "Epoch 84/200\n",
      "34/34 [==============================] - 0s 7ms/step - loss: 5783.3125 - mae: 5783.3125\n",
      "Epoch 85/200\n",
      "34/34 [==============================] - 0s 7ms/step - loss: 5756.7402 - mae: 5756.7402\n",
      "Epoch 86/200\n",
      "34/34 [==============================] - 0s 8ms/step - loss: 5722.8140 - mae: 5722.8140\n",
      "Epoch 87/200\n",
      "34/34 [==============================] - 0s 9ms/step - loss: 5687.7090 - mae: 5687.7090\n",
      "Epoch 88/200\n",
      "34/34 [==============================] - 0s 7ms/step - loss: 5654.0093 - mae: 5654.0093\n",
      "Epoch 89/200\n",
      "34/34 [==============================] - 0s 8ms/step - loss: 5616.1162 - mae: 5616.1162\n",
      "Epoch 90/200\n",
      "34/34 [==============================] - 0s 8ms/step - loss: 5575.9009 - mae: 5575.9009\n",
      "Epoch 91/200\n",
      "34/34 [==============================] - 0s 8ms/step - loss: 5541.4609 - mae: 5541.4609\n",
      "Epoch 92/200\n",
      "34/34 [==============================] - 0s 8ms/step - loss: 5492.8291 - mae: 5492.8291\n",
      "Epoch 93/200\n",
      "34/34 [==============================] - 0s 8ms/step - loss: 5452.9487 - mae: 5452.9487\n",
      "Epoch 94/200\n",
      "34/34 [==============================] - 0s 8ms/step - loss: 5408.4629 - mae: 5408.4629\n",
      "Epoch 95/200\n",
      "34/34 [==============================] - 0s 8ms/step - loss: 5356.6973 - mae: 5356.6973\n",
      "Epoch 96/200\n",
      "34/34 [==============================] - 0s 7ms/step - loss: 5313.7642 - mae: 5313.7642\n",
      "Epoch 97/200\n",
      "34/34 [==============================] - 0s 8ms/step - loss: 5261.6421 - mae: 5261.6421\n",
      "Epoch 98/200\n",
      "34/34 [==============================] - 0s 8ms/step - loss: 5202.6104 - mae: 5202.6104\n",
      "Epoch 99/200\n",
      "34/34 [==============================] - 0s 7ms/step - loss: 5144.0869 - mae: 5144.0869\n",
      "Epoch 100/200\n",
      "34/34 [==============================] - 0s 8ms/step - loss: 5089.8271 - mae: 5089.8271\n",
      "Epoch 101/200\n",
      "34/34 [==============================] - 0s 8ms/step - loss: 5021.5200 - mae: 5021.5200\n",
      "Epoch 102/200\n",
      "34/34 [==============================] - 0s 8ms/step - loss: 4953.0762 - mae: 4953.0762\n",
      "Epoch 103/200\n",
      "34/34 [==============================] - 0s 8ms/step - loss: 4887.1479 - mae: 4887.1479\n",
      "Epoch 104/200\n",
      "34/34 [==============================] - 0s 8ms/step - loss: 4810.6997 - mae: 4810.6997\n",
      "Epoch 105/200\n",
      "34/34 [==============================] - 0s 8ms/step - loss: 4729.5522 - mae: 4729.5522\n",
      "Epoch 106/200\n",
      "34/34 [==============================] - 0s 7ms/step - loss: 4649.8604 - mae: 4649.8604\n",
      "Epoch 107/200\n",
      "34/34 [==============================] - 0s 7ms/step - loss: 4569.4668 - mae: 4569.4668\n",
      "Epoch 108/200\n",
      "34/34 [==============================] - 0s 7ms/step - loss: 4476.9663 - mae: 4476.9663\n",
      "Epoch 109/200\n",
      "34/34 [==============================] - 0s 7ms/step - loss: 4393.6177 - mae: 4393.6177\n",
      "Epoch 110/200\n",
      "34/34 [==============================] - 0s 7ms/step - loss: 4311.5352 - mae: 4311.5352\n",
      "Epoch 111/200\n",
      "34/34 [==============================] - 0s 7ms/step - loss: 4226.0996 - mae: 4226.0996\n",
      "Epoch 112/200\n",
      "34/34 [==============================] - 0s 7ms/step - loss: 4154.3130 - mae: 4154.3130\n",
      "Epoch 113/200\n",
      "34/34 [==============================] - 0s 7ms/step - loss: 4078.2500 - mae: 4078.2500\n",
      "Epoch 114/200\n",
      "34/34 [==============================] - 0s 7ms/step - loss: 4017.5505 - mae: 4017.5505\n",
      "Epoch 115/200\n",
      "34/34 [==============================] - 0s 8ms/step - loss: 3966.3118 - mae: 3966.3118\n",
      "Epoch 116/200\n",
      "34/34 [==============================] - 0s 7ms/step - loss: 3937.0190 - mae: 3937.0190\n",
      "Epoch 117/200\n",
      "34/34 [==============================] - 0s 7ms/step - loss: 3916.8438 - mae: 3916.8438\n",
      "Epoch 118/200\n",
      "34/34 [==============================] - 0s 7ms/step - loss: 3887.6772 - mae: 3887.6772\n",
      "Epoch 119/200\n",
      "34/34 [==============================] - 0s 7ms/step - loss: 3862.1609 - mae: 3862.1609\n",
      "Epoch 120/200\n",
      "34/34 [==============================] - 0s 7ms/step - loss: 3841.5417 - mae: 3841.5417\n",
      "Epoch 121/200\n",
      "34/34 [==============================] - 0s 7ms/step - loss: 3834.9062 - mae: 3834.9062\n",
      "Epoch 122/200\n",
      "34/34 [==============================] - 0s 7ms/step - loss: 3828.0042 - mae: 3828.0042\n",
      "Epoch 123/200\n",
      "34/34 [==============================] - 0s 7ms/step - loss: 3820.5725 - mae: 3820.5725\n",
      "Epoch 124/200\n",
      "34/34 [==============================] - 0s 7ms/step - loss: 3812.2266 - mae: 3812.2266\n",
      "Epoch 125/200\n",
      "34/34 [==============================] - 0s 7ms/step - loss: 3800.4734 - mae: 3800.4734\n",
      "Epoch 126/200\n",
      "34/34 [==============================] - 0s 7ms/step - loss: 3809.6658 - mae: 3809.6658\n",
      "Epoch 127/200\n",
      "34/34 [==============================] - 0s 7ms/step - loss: 3800.8181 - mae: 3800.8181\n",
      "Epoch 128/200\n",
      "34/34 [==============================] - 0s 8ms/step - loss: 3795.4778 - mae: 3795.4778\n",
      "Epoch 129/200\n",
      "34/34 [==============================] - 0s 7ms/step - loss: 3800.7625 - mae: 3800.7625\n",
      "Epoch 130/200\n",
      "34/34 [==============================] - 0s 7ms/step - loss: 3789.0024 - mae: 3789.0024\n",
      "Epoch 131/200\n",
      "34/34 [==============================] - 0s 7ms/step - loss: 3784.8718 - mae: 3784.8718\n",
      "Epoch 132/200\n",
      "34/34 [==============================] - 0s 7ms/step - loss: 3777.4026 - mae: 3777.4026\n",
      "Epoch 133/200\n",
      "34/34 [==============================] - 0s 7ms/step - loss: 3772.8506 - mae: 3772.8506\n",
      "Epoch 134/200\n",
      "34/34 [==============================] - 0s 7ms/step - loss: 3772.9954 - mae: 3772.9954\n",
      "Epoch 135/200\n",
      "34/34 [==============================] - 0s 7ms/step - loss: 3769.4482 - mae: 3769.4482\n",
      "Epoch 136/200\n",
      "34/34 [==============================] - 0s 7ms/step - loss: 3768.0754 - mae: 3768.0754\n",
      "Epoch 137/200\n",
      "34/34 [==============================] - 0s 7ms/step - loss: 3776.2512 - mae: 3776.2512\n",
      "Epoch 138/200\n",
      "34/34 [==============================] - 0s 7ms/step - loss: 3783.8640 - mae: 3783.8640\n",
      "Epoch 139/200\n",
      "34/34 [==============================] - 0s 7ms/step - loss: 3763.7126 - mae: 3763.7126\n",
      "Epoch 140/200\n",
      "34/34 [==============================] - 0s 7ms/step - loss: 3764.6479 - mae: 3764.6479\n",
      "Epoch 141/200\n",
      "34/34 [==============================] - 0s 7ms/step - loss: 3765.8542 - mae: 3765.8542\n",
      "Epoch 142/200\n",
      "34/34 [==============================] - 0s 7ms/step - loss: 3764.8765 - mae: 3764.8765\n",
      "Epoch 143/200\n",
      "34/34 [==============================] - 0s 7ms/step - loss: 3756.4617 - mae: 3756.4617\n",
      "Epoch 144/200\n",
      "34/34 [==============================] - 0s 8ms/step - loss: 3752.6694 - mae: 3752.6694\n",
      "Epoch 145/200\n",
      "34/34 [==============================] - 0s 7ms/step - loss: 3752.9128 - mae: 3752.9128\n",
      "Epoch 146/200\n",
      "34/34 [==============================] - 0s 7ms/step - loss: 3756.8003 - mae: 3756.8003\n",
      "Epoch 147/200\n",
      "34/34 [==============================] - 0s 7ms/step - loss: 3754.1240 - mae: 3754.1240\n",
      "Epoch 148/200\n",
      "34/34 [==============================] - 0s 7ms/step - loss: 3757.2979 - mae: 3757.2979\n",
      "Epoch 149/200\n",
      "34/34 [==============================] - 0s 7ms/step - loss: 3745.4326 - mae: 3745.4326\n",
      "Epoch 150/200\n",
      "34/34 [==============================] - 0s 7ms/step - loss: 3740.5684 - mae: 3740.5684\n",
      "Epoch 151/200\n",
      "34/34 [==============================] - 0s 7ms/step - loss: 3743.3179 - mae: 3743.3179\n",
      "Epoch 152/200\n",
      "34/34 [==============================] - 0s 8ms/step - loss: 3745.0459 - mae: 3745.0459\n",
      "Epoch 153/200\n",
      "34/34 [==============================] - 0s 7ms/step - loss: 3745.9951 - mae: 3745.9951\n",
      "Epoch 154/200\n",
      "34/34 [==============================] - 0s 8ms/step - loss: 3738.9854 - mae: 3738.9854\n",
      "Epoch 155/200\n",
      "34/34 [==============================] - 0s 7ms/step - loss: 3742.0918 - mae: 3742.0918\n",
      "Epoch 156/200\n",
      "34/34 [==============================] - 0s 7ms/step - loss: 3737.4556 - mae: 3737.4556\n",
      "Epoch 157/200\n",
      "34/34 [==============================] - 0s 8ms/step - loss: 3734.6711 - mae: 3734.6711\n",
      "Epoch 158/200\n",
      "34/34 [==============================] - 0s 7ms/step - loss: 3731.3433 - mae: 3731.3433\n",
      "Epoch 159/200\n",
      "34/34 [==============================] - 0s 8ms/step - loss: 3731.7048 - mae: 3731.7048\n",
      "Epoch 160/200\n",
      "34/34 [==============================] - 0s 7ms/step - loss: 3735.3459 - mae: 3735.3459\n",
      "Epoch 161/200\n",
      "34/34 [==============================] - 0s 8ms/step - loss: 3729.8958 - mae: 3729.8958\n",
      "Epoch 162/200\n",
      "34/34 [==============================] - 0s 8ms/step - loss: 3724.7112 - mae: 3724.7112\n",
      "Epoch 163/200\n",
      "34/34 [==============================] - 0s 8ms/step - loss: 3723.7168 - mae: 3723.7168\n",
      "Epoch 164/200\n",
      "34/34 [==============================] - 0s 8ms/step - loss: 3728.8438 - mae: 3728.8438\n",
      "Epoch 165/200\n",
      "34/34 [==============================] - 0s 8ms/step - loss: 3719.5068 - mae: 3719.5068\n",
      "Epoch 166/200\n",
      "34/34 [==============================] - 0s 8ms/step - loss: 3722.1458 - mae: 3722.1458\n",
      "Epoch 167/200\n",
      "34/34 [==============================] - 0s 8ms/step - loss: 3721.2708 - mae: 3721.2708\n",
      "Epoch 168/200\n",
      "34/34 [==============================] - 0s 8ms/step - loss: 3716.6135 - mae: 3716.6135\n",
      "Epoch 169/200\n",
      "34/34 [==============================] - 0s 7ms/step - loss: 3715.0872 - mae: 3715.0872\n",
      "Epoch 170/200\n",
      "34/34 [==============================] - 0s 7ms/step - loss: 3710.1992 - mae: 3710.1992\n",
      "Epoch 171/200\n",
      "34/34 [==============================] - 0s 7ms/step - loss: 3709.3806 - mae: 3709.3806\n",
      "Epoch 172/200\n",
      "34/34 [==============================] - 0s 8ms/step - loss: 3712.6609 - mae: 3712.6609\n",
      "Epoch 173/200\n",
      "34/34 [==============================] - 0s 7ms/step - loss: 3705.7424 - mae: 3705.7424\n",
      "Epoch 174/200\n",
      "34/34 [==============================] - 0s 7ms/step - loss: 3711.4417 - mae: 3711.4417\n",
      "Epoch 175/200\n",
      "34/34 [==============================] - 0s 7ms/step - loss: 3711.8315 - mae: 3711.8315\n",
      "Epoch 176/200\n",
      "34/34 [==============================] - 0s 7ms/step - loss: 3707.9509 - mae: 3707.9509\n",
      "Epoch 177/200\n",
      "34/34 [==============================] - 0s 7ms/step - loss: 3701.4238 - mae: 3701.4238\n",
      "Epoch 178/200\n",
      "34/34 [==============================] - 0s 8ms/step - loss: 3696.9067 - mae: 3696.9067\n",
      "Epoch 179/200\n",
      "34/34 [==============================] - 0s 8ms/step - loss: 3707.9849 - mae: 3707.9849\n",
      "Epoch 180/200\n",
      "34/34 [==============================] - 0s 8ms/step - loss: 3712.4075 - mae: 3712.4075\n",
      "Epoch 181/200\n",
      "34/34 [==============================] - 0s 8ms/step - loss: 3698.3604 - mae: 3698.3604\n",
      "Epoch 182/200\n",
      "34/34 [==============================] - 0s 7ms/step - loss: 3695.8682 - mae: 3695.8682\n",
      "Epoch 183/200\n",
      "34/34 [==============================] - 0s 7ms/step - loss: 3693.8809 - mae: 3693.8809\n",
      "Epoch 184/200\n",
      "34/34 [==============================] - 0s 7ms/step - loss: 3699.9617 - mae: 3699.9617\n",
      "Epoch 185/200\n",
      "34/34 [==============================] - 0s 8ms/step - loss: 3695.1750 - mae: 3695.1750\n",
      "Epoch 186/200\n",
      "34/34 [==============================] - 0s 8ms/step - loss: 3698.0044 - mae: 3698.0044\n",
      "Epoch 187/200\n",
      "34/34 [==============================] - 0s 7ms/step - loss: 3690.5188 - mae: 3690.5188\n",
      "Epoch 188/200\n",
      "34/34 [==============================] - 0s 7ms/step - loss: 3696.0183 - mae: 3696.0183\n",
      "Epoch 189/200\n",
      "34/34 [==============================] - 0s 7ms/step - loss: 3685.9756 - mae: 3685.9756\n",
      "Epoch 190/200\n",
      "34/34 [==============================] - 0s 7ms/step - loss: 3684.9795 - mae: 3684.9795\n",
      "Epoch 191/200\n",
      "34/34 [==============================] - 0s 8ms/step - loss: 3700.6426 - mae: 3700.6426\n",
      "Epoch 192/200\n",
      "34/34 [==============================] - 0s 8ms/step - loss: 3686.8450 - mae: 3686.8450\n",
      "Epoch 193/200\n",
      "34/34 [==============================] - 0s 8ms/step - loss: 3676.6873 - mae: 3676.6873\n",
      "Epoch 194/200\n",
      "34/34 [==============================] - 0s 8ms/step - loss: 3677.4709 - mae: 3677.4709\n",
      "Epoch 195/200\n",
      "34/34 [==============================] - 0s 8ms/step - loss: 3675.4539 - mae: 3675.4539\n",
      "Epoch 196/200\n",
      "34/34 [==============================] - 0s 7ms/step - loss: 3682.6179 - mae: 3682.6179\n",
      "Epoch 197/200\n",
      "34/34 [==============================] - 0s 7ms/step - loss: 3668.6350 - mae: 3668.6350\n",
      "Epoch 198/200\n",
      "34/34 [==============================] - 0s 7ms/step - loss: 3674.8713 - mae: 3674.8713\n",
      "Epoch 199/200\n",
      "34/34 [==============================] - 0s 8ms/step - loss: 3682.1018 - mae: 3682.1018\n",
      "Epoch 200/200\n",
      "34/34 [==============================] - 0s 9ms/step - loss: 3668.0828 - mae: 3668.0828\n"
     ]
    }
   ],
   "source": [
    "# set random seed\n",
    "tf.random.set_seed(42)\n",
    "\n",
    "# Create the model\n",
    "insurance_model_3 = tf.keras.Sequential([\n",
    "    tf.keras.layers.Dense(100),\n",
    "    tf.keras.layers.Dense(10),\n",
    "    tf.keras.layers.Dense(1)\n",
    "])\n",
    "\n",
    "# Compile the model\n",
    "insurance_model_3.compile(loss=tf.keras.losses.mae,\n",
    "                         optimizer=tf.keras.optimizers.Adam(),\n",
    "                         metrics=['mae'])\n",
    "\n",
    "# Fit the model\n",
    "history = insurance_model_3.fit(X_train, y_train, epochs=200)"
   ]
  },
  {
   "cell_type": "code",
   "execution_count": 77,
   "id": "0e875157",
   "metadata": {},
   "outputs": [
    {
     "name": "stdout",
     "output_type": "stream",
     "text": [
      "9/9 [==============================] - 0s 7ms/step - loss: 3494.5461 - mae: 3494.5461\n"
     ]
    },
    {
     "data": {
      "text/plain": [
       "[3494.546142578125, 3494.546142578125]"
      ]
     },
     "execution_count": 77,
     "metadata": {},
     "output_type": "execute_result"
    }
   ],
   "source": [
    "# Evaluate the model\n",
    "insurance_model_3.evaluate(X_test, y_test)"
   ]
  },
  {
   "cell_type": "code",
   "execution_count": 78,
   "id": "56e13f26",
   "metadata": {},
   "outputs": [
    {
     "name": "stdout",
     "output_type": "stream",
     "text": [
      "9/9 [==============================] - 0s 6ms/step - loss: 7060.9683 - mae: 7060.9683\n"
     ]
    },
    {
     "data": {
      "text/plain": [
       "[7060.96826171875, 7060.96826171875]"
      ]
     },
     "execution_count": 78,
     "metadata": {},
     "output_type": "execute_result"
    }
   ],
   "source": [
    "insurance_model.evaluate(X_test, y_test)"
   ]
  },
  {
   "cell_type": "code",
   "execution_count": 79,
   "id": "3898bcb3",
   "metadata": {},
   "outputs": [
    {
     "data": {
      "text/plain": [
       "Text(0.5, 0, 'epochs')"
      ]
     },
     "execution_count": 79,
     "metadata": {},
     "output_type": "execute_result"
    },
    {
     "data": {
      "image/png": "[encoded data removed]",
      "text/plain": [
       "<Figure size 640x480 with 1 Axes>"
      ]
     },
     "metadata": {},
     "output_type": "display_data"
    }
   ],
   "source": [
    "# Plot history 9also known as a loss curve or a training curve\n",
    "pd.DataFrame(history.history).plot()\n",
    "plt.ylabel(\"loss\")\n",
    "plt.xlabel(\"epochs\")"
   ]
  },
  {
   "cell_type": "markdown",
   "id": "1a0e6a86",
   "metadata": {},
   "source": [
    "## Preprocessing data (normalization and standardization)\n",
    "\n",
    "In terms of scaling values, neural networks tend to prefer normalizations.\n",
    "\n",
    "If your're not sure on which to use, you could try both and see which perform bettter\n"
   ]
  },
  {
   "cell_type": "code",
   "execution_count": 80,
   "id": "8e470783",
   "metadata": {},
   "outputs": [
    {
     "data": {
      "text/html": [
       "<div>\n",
       "<style scoped>\n",
       "    .dataframe tbody tr th:only-of-type {\n",
       "        vertical-align: middle;\n",
       "    }\n",
       "\n",
       "    .dataframe tbody tr th {\n",
       "        vertical-align: top;\n",
       "    }\n",
       "\n",
       "    .dataframe thead th {\n",
       "        text-align: right;\n",
       "    }\n",
       "</style>\n",
       "<table border=\"1\" class=\"dataframe\">\n",
       "  <thead>\n",
       "    <tr style=\"text-align: right;\">\n",
       "      <th></th>\n",
       "      <th>age</th>\n",
       "      <th>bmi</th>\n",
       "      <th>children</th>\n",
       "      <th>sex_female</th>\n",
       "      <th>sex_male</th>\n",
       "      <th>smoker_no</th>\n",
       "      <th>smoker_yes</th>\n",
       "      <th>region_northeast</th>\n",
       "      <th>region_northwest</th>\n",
       "      <th>region_southeast</th>\n",
       "      <th>region_southwest</th>\n",
       "    </tr>\n",
       "  </thead>\n",
       "  <tbody>\n",
       "    <tr>\n",
       "      <th>0</th>\n",
       "      <td>19</td>\n",
       "      <td>27.900</td>\n",
       "      <td>0</td>\n",
       "      <td>1</td>\n",
       "      <td>0</td>\n",
       "      <td>0</td>\n",
       "      <td>1</td>\n",
       "      <td>0</td>\n",
       "      <td>0</td>\n",
       "      <td>0</td>\n",
       "      <td>1</td>\n",
       "    </tr>\n",
       "    <tr>\n",
       "      <th>1</th>\n",
       "      <td>18</td>\n",
       "      <td>33.770</td>\n",
       "      <td>1</td>\n",
       "      <td>0</td>\n",
       "      <td>1</td>\n",
       "      <td>1</td>\n",
       "      <td>0</td>\n",
       "      <td>0</td>\n",
       "      <td>0</td>\n",
       "      <td>1</td>\n",
       "      <td>0</td>\n",
       "    </tr>\n",
       "    <tr>\n",
       "      <th>2</th>\n",
       "      <td>28</td>\n",
       "      <td>33.000</td>\n",
       "      <td>3</td>\n",
       "      <td>0</td>\n",
       "      <td>1</td>\n",
       "      <td>1</td>\n",
       "      <td>0</td>\n",
       "      <td>0</td>\n",
       "      <td>0</td>\n",
       "      <td>1</td>\n",
       "      <td>0</td>\n",
       "    </tr>\n",
       "    <tr>\n",
       "      <th>3</th>\n",
       "      <td>33</td>\n",
       "      <td>22.705</td>\n",
       "      <td>0</td>\n",
       "      <td>0</td>\n",
       "      <td>1</td>\n",
       "      <td>1</td>\n",
       "      <td>0</td>\n",
       "      <td>0</td>\n",
       "      <td>1</td>\n",
       "      <td>0</td>\n",
       "      <td>0</td>\n",
       "    </tr>\n",
       "    <tr>\n",
       "      <th>4</th>\n",
       "      <td>32</td>\n",
       "      <td>28.880</td>\n",
       "      <td>0</td>\n",
       "      <td>0</td>\n",
       "      <td>1</td>\n",
       "      <td>1</td>\n",
       "      <td>0</td>\n",
       "      <td>0</td>\n",
       "      <td>1</td>\n",
       "      <td>0</td>\n",
       "      <td>0</td>\n",
       "    </tr>\n",
       "    <tr>\n",
       "      <th>...</th>\n",
       "      <td>...</td>\n",
       "      <td>...</td>\n",
       "      <td>...</td>\n",
       "      <td>...</td>\n",
       "      <td>...</td>\n",
       "      <td>...</td>\n",
       "      <td>...</td>\n",
       "      <td>...</td>\n",
       "      <td>...</td>\n",
       "      <td>...</td>\n",
       "      <td>...</td>\n",
       "    </tr>\n",
       "    <tr>\n",
       "      <th>1333</th>\n",
       "      <td>50</td>\n",
       "      <td>30.970</td>\n",
       "      <td>3</td>\n",
       "      <td>0</td>\n",
       "      <td>1</td>\n",
       "      <td>1</td>\n",
       "      <td>0</td>\n",
       "      <td>0</td>\n",
       "      <td>1</td>\n",
       "      <td>0</td>\n",
       "      <td>0</td>\n",
       "    </tr>\n",
       "    <tr>\n",
       "      <th>1334</th>\n",
       "      <td>18</td>\n",
       "      <td>31.920</td>\n",
       "      <td>0</td>\n",
       "      <td>1</td>\n",
       "      <td>0</td>\n",
       "      <td>1</td>\n",
       "      <td>0</td>\n",
       "      <td>1</td>\n",
       "      <td>0</td>\n",
       "      <td>0</td>\n",
       "      <td>0</td>\n",
       "    </tr>\n",
       "    <tr>\n",
       "      <th>1335</th>\n",
       "      <td>18</td>\n",
       "      <td>36.850</td>\n",
       "      <td>0</td>\n",
       "      <td>1</td>\n",
       "      <td>0</td>\n",
       "      <td>1</td>\n",
       "      <td>0</td>\n",
       "      <td>0</td>\n",
       "      <td>0</td>\n",
       "      <td>1</td>\n",
       "      <td>0</td>\n",
       "    </tr>\n",
       "    <tr>\n",
       "      <th>1336</th>\n",
       "      <td>21</td>\n",
       "      <td>25.800</td>\n",
       "      <td>0</td>\n",
       "      <td>1</td>\n",
       "      <td>0</td>\n",
       "      <td>1</td>\n",
       "      <td>0</td>\n",
       "      <td>0</td>\n",
       "      <td>0</td>\n",
       "      <td>0</td>\n",
       "      <td>1</td>\n",
       "    </tr>\n",
       "    <tr>\n",
       "      <th>1337</th>\n",
       "      <td>61</td>\n",
       "      <td>29.070</td>\n",
       "      <td>0</td>\n",
       "      <td>1</td>\n",
       "      <td>0</td>\n",
       "      <td>0</td>\n",
       "      <td>1</td>\n",
       "      <td>0</td>\n",
       "      <td>1</td>\n",
       "      <td>0</td>\n",
       "      <td>0</td>\n",
       "    </tr>\n",
       "  </tbody>\n",
       "</table>\n",
       "<p>1338 rows × 11 columns</p>\n",
       "</div>"
      ],
      "text/plain": [
       "      age     bmi  children  sex_female  sex_male  smoker_no  smoker_yes  \\\n",
       "0      19  27.900         0           1         0          0           1   \n",
       "1      18  33.770         1           0         1          1           0   \n",
       "2      28  33.000         3           0         1          1           0   \n",
       "3      33  22.705         0           0         1          1           0   \n",
       "4      32  28.880         0           0         1          1           0   \n",
       "...   ...     ...       ...         ...       ...        ...         ...   \n",
       "1333   50  30.970         3           0         1          1           0   \n",
       "1334   18  31.920         0           1         0          1           0   \n",
       "1335   18  36.850         0           1         0          1           0   \n",
       "1336   21  25.800         0           1         0          1           0   \n",
       "1337   61  29.070         0           1         0          0           1   \n",
       "\n",
       "      region_northeast  region_northwest  region_southeast  region_southwest  \n",
       "0                    0                 0                 0                 1  \n",
       "1                    0                 0                 1                 0  \n",
       "2                    0                 0                 1                 0  \n",
       "3                    0                 1                 0                 0  \n",
       "4                    0                 1                 0                 0  \n",
       "...                ...               ...               ...               ...  \n",
       "1333                 0                 1                 0                 0  \n",
       "1334                 1                 0                 0                 0  \n",
       "1335                 0                 0                 1                 0  \n",
       "1336                 0                 0                 0                 1  \n",
       "1337                 0                 1                 0                 0  \n",
       "\n",
       "[1338 rows x 11 columns]"
      ]
     },
     "execution_count": 80,
     "metadata": {},
     "output_type": "execute_result"
    }
   ],
   "source": [
    "X"
   ]
  },
  {
   "cell_type": "code",
   "execution_count": 81,
   "id": "83975c31",
   "metadata": {},
   "outputs": [
    {
     "data": {
      "text/plain": [
       "<Axes: >"
      ]
     },
     "execution_count": 81,
     "metadata": {},
     "output_type": "execute_result"
    },
    {
     "data": {
      "image/png": "[encoded data removed]",
      "text/plain": [
       "<Figure size 640x480 with 1 Axes>"
      ]
     },
     "metadata": {},
     "output_type": "display_data"
    }
   ],
   "source": [
    "X['age'].plot()"
   ]
  },
  {
   "cell_type": "code",
   "execution_count": 82,
   "id": "35c1511a",
   "metadata": {},
   "outputs": [
    {
     "data": {
      "text/plain": [
       "<Axes: ylabel='Frequency'>"
      ]
     },
     "execution_count": 82,
     "metadata": {},
     "output_type": "execute_result"
    },
    {
     "data": {
      "image/png": "[encoded data removed]",
      "text/plain": [
       "<Figure size 640x480 with 1 Axes>"
      ]
     },
     "metadata": {},
     "output_type": "display_data"
    }
   ],
   "source": [
    "X['age'].plot(kind=\"hist\")"
   ]
  },
  {
   "cell_type": "code",
   "execution_count": 83,
   "id": "aa3d20f6",
   "metadata": {},
   "outputs": [
    {
     "data": {
      "text/plain": [
       "<Axes: ylabel='Frequency'>"
      ]
     },
     "execution_count": 83,
     "metadata": {},
     "output_type": "execute_result"
    },
    {
     "data": {
      "image/png": "[encoded data removed]",
      "text/plain": [
       "<Figure size 640x480 with 1 Axes>"
      ]
     },
     "metadata": {},
     "output_type": "display_data"
    }
   ],
   "source": [
    "X['bmi'].plot(kind=\"hist\")"
   ]
  },
  {
   "cell_type": "code",
   "execution_count": 86,
   "id": "95b9fdd5",
   "metadata": {},
   "outputs": [
    {
     "data": {
      "text/plain": [
       "0    574\n",
       "1    324\n",
       "2    240\n",
       "3    157\n",
       "4     25\n",
       "5     18\n",
       "Name: children, dtype: int64"
      ]
     },
     "execution_count": 86,
     "metadata": {},
     "output_type": "execute_result"
    }
   ],
   "source": [
    "X[\"children\"].value_counts()"
   ]
  },
  {
   "cell_type": "code",
   "execution_count": 87,
   "id": "71ee8bab",
   "metadata": {},
   "outputs": [
    {
     "data": {
      "text/html": [
       "<div>\n",
       "<style scoped>\n",
       "    .dataframe tbody tr th:only-of-type {\n",
       "        vertical-align: middle;\n",
       "    }\n",
       "\n",
       "    .dataframe tbody tr th {\n",
       "        vertical-align: top;\n",
       "    }\n",
       "\n",
       "    .dataframe thead th {\n",
       "        text-align: right;\n",
       "    }\n",
       "</style>\n",
       "<table border=\"1\" class=\"dataframe\">\n",
       "  <thead>\n",
       "    <tr style=\"text-align: right;\">\n",
       "      <th></th>\n",
       "      <th>age</th>\n",
       "      <th>sex</th>\n",
       "      <th>bmi</th>\n",
       "      <th>children</th>\n",
       "      <th>smoker</th>\n",
       "      <th>region</th>\n",
       "      <th>charges</th>\n",
       "    </tr>\n",
       "  </thead>\n",
       "  <tbody>\n",
       "    <tr>\n",
       "      <th>0</th>\n",
       "      <td>19</td>\n",
       "      <td>female</td>\n",
       "      <td>27.900</td>\n",
       "      <td>0</td>\n",
       "      <td>yes</td>\n",
       "      <td>southwest</td>\n",
       "      <td>16884.92400</td>\n",
       "    </tr>\n",
       "    <tr>\n",
       "      <th>1</th>\n",
       "      <td>18</td>\n",
       "      <td>male</td>\n",
       "      <td>33.770</td>\n",
       "      <td>1</td>\n",
       "      <td>no</td>\n",
       "      <td>southeast</td>\n",
       "      <td>1725.55230</td>\n",
       "    </tr>\n",
       "    <tr>\n",
       "      <th>2</th>\n",
       "      <td>28</td>\n",
       "      <td>male</td>\n",
       "      <td>33.000</td>\n",
       "      <td>3</td>\n",
       "      <td>no</td>\n",
       "      <td>southeast</td>\n",
       "      <td>4449.46200</td>\n",
       "    </tr>\n",
       "    <tr>\n",
       "      <th>3</th>\n",
       "      <td>33</td>\n",
       "      <td>male</td>\n",
       "      <td>22.705</td>\n",
       "      <td>0</td>\n",
       "      <td>no</td>\n",
       "      <td>northwest</td>\n",
       "      <td>21984.47061</td>\n",
       "    </tr>\n",
       "    <tr>\n",
       "      <th>4</th>\n",
       "      <td>32</td>\n",
       "      <td>male</td>\n",
       "      <td>28.880</td>\n",
       "      <td>0</td>\n",
       "      <td>no</td>\n",
       "      <td>northwest</td>\n",
       "      <td>3866.85520</td>\n",
       "    </tr>\n",
       "    <tr>\n",
       "      <th>...</th>\n",
       "      <td>...</td>\n",
       "      <td>...</td>\n",
       "      <td>...</td>\n",
       "      <td>...</td>\n",
       "      <td>...</td>\n",
       "      <td>...</td>\n",
       "      <td>...</td>\n",
       "    </tr>\n",
       "    <tr>\n",
       "      <th>1333</th>\n",
       "      <td>50</td>\n",
       "      <td>male</td>\n",
       "      <td>30.970</td>\n",
       "      <td>3</td>\n",
       "      <td>no</td>\n",
       "      <td>northwest</td>\n",
       "      <td>10600.54830</td>\n",
       "    </tr>\n",
       "    <tr>\n",
       "      <th>1334</th>\n",
       "      <td>18</td>\n",
       "      <td>female</td>\n",
       "      <td>31.920</td>\n",
       "      <td>0</td>\n",
       "      <td>no</td>\n",
       "      <td>northeast</td>\n",
       "      <td>2205.98080</td>\n",
       "    </tr>\n",
       "    <tr>\n",
       "      <th>1335</th>\n",
       "      <td>18</td>\n",
       "      <td>female</td>\n",
       "      <td>36.850</td>\n",
       "      <td>0</td>\n",
       "      <td>no</td>\n",
       "      <td>southeast</td>\n",
       "      <td>1629.83350</td>\n",
       "    </tr>\n",
       "    <tr>\n",
       "      <th>1336</th>\n",
       "      <td>21</td>\n",
       "      <td>female</td>\n",
       "      <td>25.800</td>\n",
       "      <td>0</td>\n",
       "      <td>no</td>\n",
       "      <td>southwest</td>\n",
       "      <td>2007.94500</td>\n",
       "    </tr>\n",
       "    <tr>\n",
       "      <th>1337</th>\n",
       "      <td>61</td>\n",
       "      <td>female</td>\n",
       "      <td>29.070</td>\n",
       "      <td>0</td>\n",
       "      <td>yes</td>\n",
       "      <td>northwest</td>\n",
       "      <td>29141.36030</td>\n",
       "    </tr>\n",
       "  </tbody>\n",
       "</table>\n",
       "<p>1338 rows × 7 columns</p>\n",
       "</div>"
      ],
      "text/plain": [
       "      age     sex     bmi  children smoker     region      charges\n",
       "0      19  female  27.900         0    yes  southwest  16884.92400\n",
       "1      18    male  33.770         1     no  southeast   1725.55230\n",
       "2      28    male  33.000         3     no  southeast   4449.46200\n",
       "3      33    male  22.705         0     no  northwest  21984.47061\n",
       "4      32    male  28.880         0     no  northwest   3866.85520\n",
       "...   ...     ...     ...       ...    ...        ...          ...\n",
       "1333   50    male  30.970         3     no  northwest  10600.54830\n",
       "1334   18  female  31.920         0     no  northeast   2205.98080\n",
       "1335   18  female  36.850         0     no  southeast   1629.83350\n",
       "1336   21  female  25.800         0     no  southwest   2007.94500\n",
       "1337   61  female  29.070         0    yes  northwest  29141.36030\n",
       "\n",
       "[1338 rows x 7 columns]"
      ]
     },
     "execution_count": 87,
     "metadata": {},
     "output_type": "execute_result"
    }
   ],
   "source": [
    "import pandas as pd\n",
    "import matplotlib.pyplot as plt\n",
    "import tensorflow as tf\n",
    "\n",
    "# Read in the insurance dataframe\n",
    "insurance = pd.read_csv('./insurance.csv')\n",
    "insurance"
   ]
  },
  {
   "cell_type": "markdown",
   "id": "2de5b636",
   "metadata": {},
   "source": [
    "To prepare our data, we can borrow a few classes from Scikit-Learn"
   ]
  },
  {
   "cell_type": "code",
   "execution_count": 94,
   "id": "7111417e",
   "metadata": {},
   "outputs": [],
   "source": [
    "from sklearn.compose import make_column_transformer\n",
    "from sklearn.preprocessing import MinMaxScaler, OneHotEncoder\n",
    "from sklearn.model_selection import train_test_split\n",
    "\n",
    "# Create a column transformer\n",
    "ct = make_column_transformer(\n",
    "    (MinMaxScaler(), [\"age\", \"bmi\", \"children\"]), # turn all values in these columns between o and 1\n",
    "    (OneHotEncoder(handle_unknown=\"ignore\"), [\"sex\", \"smoker\", \"region\"])\n",
    ")\n",
    "\n",
    "# Create X & y \n",
    "X = insurance.drop(\"charges\", axis=1)\n",
    "y = insurance['charges']\n",
    "\n",
    "# Build our train and test sets\n",
    "X_train, X_test, y_train, y_test = train_test_split(X, y, test_size=0.2, random_state=42)\n",
    "\n",
    "\n",
    "# Fit the column transformer to our training data\n",
    "ct.fit(X_train)\n",
    "\n",
    "# Transform training and test data with normalization (MinMaxScalar) and OneHotEncoder\n",
    "X_train_normal = ct.transform(X_train)\n",
    "X_test_normal = ct.transform(X_test)"
   ]
  },
  {
   "cell_type": "code",
   "execution_count": 95,
   "id": "8e8a176f",
   "metadata": {},
   "outputs": [
    {
     "data": {
      "text/plain": [
       "age                19\n",
       "sex            female\n",
       "bmi              27.9\n",
       "children            0\n",
       "smoker            yes\n",
       "region      southwest\n",
       "Name: 0, dtype: object"
      ]
     },
     "execution_count": 95,
     "metadata": {},
     "output_type": "execute_result"
    }
   ],
   "source": [
    "# What does our data look like now?\n",
    "X_train.loc[0]"
   ]
  },
  {
   "cell_type": "code",
   "execution_count": 96,
   "id": "21af5c96",
   "metadata": {},
   "outputs": [
    {
     "data": {
      "text/plain": [
       "array([0.60869565, 0.10734463, 0.4       , 1.        , 0.        ,\n",
       "       1.        , 0.        , 0.        , 1.        , 0.        ,\n",
       "       0.        ])"
      ]
     },
     "execution_count": 96,
     "metadata": {},
     "output_type": "execute_result"
    }
   ],
   "source": [
    "X_train_normal[0]"
   ]
  },
  {
   "cell_type": "code",
   "execution_count": 97,
   "id": "084769c4",
   "metadata": {},
   "outputs": [
    {
     "data": {
      "text/plain": [
       "((1070, 6), (1070, 11))"
      ]
     },
     "execution_count": 97,
     "metadata": {},
     "output_type": "execute_result"
    }
   ],
   "source": [
    "X_train.shape, X_train_normal.shape"
   ]
  },
  {
   "cell_type": "markdown",
   "id": "a58ed636",
   "metadata": {},
   "source": [
    "Alright! Our data has been normalized and one hot encoded. Now let's build a neural network model on it and see how it goes."
   ]
  },
  {
   "cell_type": "code",
   "execution_count": 98,
   "id": "6d95130a",
   "metadata": {},
   "outputs": [
    {
     "name": "stderr",
     "output_type": "stream",
     "text": [
      "WARNING:absl:At this time, the v2.11+ optimizer `tf.keras.optimizers.Adam` runs slowly on M1/M2 Macs, please use the legacy Keras optimizer instead, located at `tf.keras.optimizers.legacy.Adam`.\n",
      "WARNING:absl:There is a known slowdown when using v2.11+ Keras optimizers on M1/M2 Macs. Falling back to the legacy Keras optimizer, i.e., `tf.keras.optimizers.legacy.Adam`.\n"
     ]
    },
    {
     "name": "stdout",
     "output_type": "stream",
     "text": [
      "Epoch 1/100\n",
      "34/34 [==============================] - 1s 8ms/step - loss: 13343.2871 - mae: 13343.2871\n",
      "Epoch 2/100\n",
      "34/34 [==============================] - 0s 7ms/step - loss: 13334.5869 - mae: 13334.5869\n",
      "Epoch 3/100\n",
      "34/34 [==============================] - 0s 7ms/step - loss: 13312.9688 - mae: 13312.9688\n",
      "Epoch 4/100\n",
      "34/34 [==============================] - 0s 7ms/step - loss: 13267.3555 - mae: 13267.3555\n",
      "Epoch 5/100\n",
      "34/34 [==============================] - 0s 7ms/step - loss: 13186.2461 - mae: 13186.2461\n",
      "Epoch 6/100\n",
      "34/34 [==============================] - 0s 7ms/step - loss: 13058.6416 - mae: 13058.6416\n",
      "Epoch 7/100\n",
      "34/34 [==============================] - 0s 7ms/step - loss: 12874.4902 - mae: 12874.4902\n",
      "Epoch 8/100\n",
      "34/34 [==============================] - 0s 7ms/step - loss: 12623.8545 - mae: 12623.8545\n",
      "Epoch 9/100\n",
      "34/34 [==============================] - 0s 7ms/step - loss: 12296.6084 - mae: 12296.6084\n",
      "Epoch 10/100\n",
      "34/34 [==============================] - 0s 7ms/step - loss: 11889.5625 - mae: 11889.5625\n",
      "Epoch 11/100\n",
      "34/34 [==============================] - 0s 7ms/step - loss: 11412.9727 - mae: 11412.9727\n",
      "Epoch 12/100\n",
      "34/34 [==============================] - 0s 7ms/step - loss: 10907.1797 - mae: 10907.1797\n",
      "Epoch 13/100\n",
      "34/34 [==============================] - 0s 7ms/step - loss: 10405.6084 - mae: 10405.6084\n",
      "Epoch 14/100\n",
      "34/34 [==============================] - 0s 7ms/step - loss: 9914.9736 - mae: 9914.9736\n",
      "Epoch 15/100\n",
      "34/34 [==============================] - 0s 7ms/step - loss: 9451.0557 - mae: 9451.0557\n",
      "Epoch 16/100\n",
      "34/34 [==============================] - 0s 8ms/step - loss: 9039.3242 - mae: 9039.3242\n",
      "Epoch 17/100\n",
      "34/34 [==============================] - 0s 8ms/step - loss: 8700.8066 - mae: 8700.8066\n",
      "Epoch 18/100\n",
      "34/34 [==============================] - 0s 8ms/step - loss: 8426.0547 - mae: 8426.0547\n",
      "Epoch 19/100\n",
      "34/34 [==============================] - 0s 7ms/step - loss: 8220.3311 - mae: 8220.3311\n",
      "Epoch 20/100\n",
      "34/34 [==============================] - 0s 8ms/step - loss: 8078.5908 - mae: 8078.5908\n",
      "Epoch 21/100\n",
      "34/34 [==============================] - 0s 8ms/step - loss: 7973.0747 - mae: 7973.0747\n",
      "Epoch 22/100\n",
      "34/34 [==============================] - 0s 8ms/step - loss: 7899.9102 - mae: 7899.9102\n",
      "Epoch 23/100\n",
      "34/34 [==============================] - 0s 8ms/step - loss: 7842.0962 - mae: 7842.0962\n",
      "Epoch 24/100\n",
      "34/34 [==============================] - 0s 8ms/step - loss: 7789.8057 - mae: 7789.8057\n",
      "Epoch 25/100\n",
      "34/34 [==============================] - 0s 9ms/step - loss: 7750.7510 - mae: 7750.7510\n",
      "Epoch 26/100\n",
      "34/34 [==============================] - 0s 8ms/step - loss: 7699.4688 - mae: 7699.4688\n",
      "Epoch 27/100\n",
      "34/34 [==============================] - 0s 7ms/step - loss: 7657.1763 - mae: 7657.1763\n",
      "Epoch 28/100\n",
      "34/34 [==============================] - 0s 8ms/step - loss: 7614.7300 - mae: 7614.7300\n",
      "Epoch 29/100\n",
      "34/34 [==============================] - 0s 7ms/step - loss: 7572.0854 - mae: 7572.0854\n",
      "Epoch 30/100\n",
      "34/34 [==============================] - 0s 7ms/step - loss: 7528.3872 - mae: 7528.3872\n",
      "Epoch 31/100\n",
      "34/34 [==============================] - 0s 7ms/step - loss: 7484.0005 - mae: 7484.0005\n",
      "Epoch 32/100\n",
      "34/34 [==============================] - 0s 8ms/step - loss: 7439.5508 - mae: 7439.5508\n",
      "Epoch 33/100\n",
      "34/34 [==============================] - 0s 7ms/step - loss: 7394.8569 - mae: 7394.8569\n",
      "Epoch 34/100\n",
      "34/34 [==============================] - 0s 7ms/step - loss: 7346.3315 - mae: 7346.3315\n",
      "Epoch 35/100\n",
      "34/34 [==============================] - 0s 8ms/step - loss: 7299.2173 - mae: 7299.2173\n",
      "Epoch 36/100\n",
      "34/34 [==============================] - 0s 7ms/step - loss: 7248.7017 - mae: 7248.7017\n",
      "Epoch 37/100\n",
      "34/34 [==============================] - 0s 7ms/step - loss: 7198.0005 - mae: 7198.0005\n",
      "Epoch 38/100\n",
      "34/34 [==============================] - 0s 7ms/step - loss: 7146.3877 - mae: 7146.3877\n",
      "Epoch 39/100\n",
      "34/34 [==============================] - 0s 7ms/step - loss: 7090.9209 - mae: 7090.9209\n",
      "Epoch 40/100\n",
      "34/34 [==============================] - 0s 7ms/step - loss: 7035.0459 - mae: 7035.0459\n",
      "Epoch 41/100\n",
      "34/34 [==============================] - 0s 7ms/step - loss: 6977.9121 - mae: 6977.9121\n",
      "Epoch 42/100\n",
      "34/34 [==============================] - 0s 7ms/step - loss: 6918.4482 - mae: 6918.4482\n",
      "Epoch 43/100\n",
      "34/34 [==============================] - 0s 8ms/step - loss: 6855.0493 - mae: 6855.0493\n",
      "Epoch 44/100\n",
      "34/34 [==============================] - 0s 7ms/step - loss: 6788.0996 - mae: 6788.0996\n",
      "Epoch 45/100\n",
      "34/34 [==============================] - 0s 8ms/step - loss: 6720.1978 - mae: 6720.1978\n",
      "Epoch 46/100\n",
      "34/34 [==============================] - 0s 7ms/step - loss: 6649.9507 - mae: 6649.9507\n",
      "Epoch 47/100\n",
      "34/34 [==============================] - 0s 8ms/step - loss: 6577.9312 - mae: 6577.9312\n",
      "Epoch 48/100\n",
      "34/34 [==============================] - 0s 7ms/step - loss: 6498.0547 - mae: 6498.0547\n",
      "Epoch 49/100\n",
      "34/34 [==============================] - 0s 8ms/step - loss: 6418.0322 - mae: 6418.0322\n",
      "Epoch 50/100\n",
      "34/34 [==============================] - 0s 7ms/step - loss: 6331.2417 - mae: 6331.2417\n",
      "Epoch 51/100\n",
      "34/34 [==============================] - 0s 7ms/step - loss: 6245.4233 - mae: 6245.4233\n",
      "Epoch 52/100\n",
      "34/34 [==============================] - 0s 7ms/step - loss: 6151.0156 - mae: 6151.0156\n",
      "Epoch 53/100\n",
      "34/34 [==============================] - 0s 9ms/step - loss: 6053.6421 - mae: 6053.6421\n",
      "Epoch 54/100\n",
      "34/34 [==============================] - 0s 8ms/step - loss: 5953.5298 - mae: 5953.5298\n",
      "Epoch 55/100\n",
      "34/34 [==============================] - 0s 7ms/step - loss: 5844.7539 - mae: 5844.7539\n",
      "Epoch 56/100\n",
      "34/34 [==============================] - 0s 8ms/step - loss: 5734.7012 - mae: 5734.7012\n",
      "Epoch 57/100\n",
      "34/34 [==============================] - 0s 8ms/step - loss: 5617.5537 - mae: 5617.5537\n",
      "Epoch 58/100\n",
      "34/34 [==============================] - 0s 8ms/step - loss: 5499.4634 - mae: 5499.4634\n",
      "Epoch 59/100\n",
      "34/34 [==============================] - 0s 7ms/step - loss: 5379.3389 - mae: 5379.3389\n",
      "Epoch 60/100\n",
      "34/34 [==============================] - 0s 8ms/step - loss: 5255.1167 - mae: 5255.1167\n",
      "Epoch 61/100\n",
      "34/34 [==============================] - 0s 8ms/step - loss: 5128.3096 - mae: 5128.3096\n",
      "Epoch 62/100\n",
      "34/34 [==============================] - 0s 8ms/step - loss: 4997.2773 - mae: 4997.2773\n",
      "Epoch 63/100\n",
      "34/34 [==============================] - 0s 7ms/step - loss: 4868.3223 - mae: 4868.3223\n",
      "Epoch 64/100\n",
      "34/34 [==============================] - 0s 7ms/step - loss: 4735.0293 - mae: 4735.0293\n",
      "Epoch 65/100\n",
      "34/34 [==============================] - 0s 8ms/step - loss: 4608.0327 - mae: 4608.0327\n",
      "Epoch 66/100\n",
      "34/34 [==============================] - 0s 7ms/step - loss: 4484.2627 - mae: 4484.2627\n",
      "Epoch 67/100\n",
      "34/34 [==============================] - 0s 7ms/step - loss: 4375.5518 - mae: 4375.5518\n",
      "Epoch 68/100\n",
      "34/34 [==============================] - 0s 7ms/step - loss: 4268.7593 - mae: 4268.7593\n",
      "Epoch 69/100\n",
      "34/34 [==============================] - 0s 8ms/step - loss: 4167.7490 - mae: 4167.7490\n",
      "Epoch 70/100\n",
      "34/34 [==============================] - 0s 8ms/step - loss: 4076.0359 - mae: 4076.0359\n",
      "Epoch 71/100\n",
      "34/34 [==============================] - 0s 7ms/step - loss: 3991.5630 - mae: 3991.5630\n",
      "Epoch 72/100\n",
      "34/34 [==============================] - 0s 7ms/step - loss: 3918.6355 - mae: 3918.6355\n",
      "Epoch 73/100\n",
      "34/34 [==============================] - 0s 8ms/step - loss: 3857.4539 - mae: 3857.4539\n",
      "Epoch 74/100\n",
      "34/34 [==============================] - 0s 7ms/step - loss: 3805.8984 - mae: 3805.8984\n",
      "Epoch 75/100\n",
      "34/34 [==============================] - 0s 7ms/step - loss: 3767.0249 - mae: 3767.0249\n",
      "Epoch 76/100\n",
      "34/34 [==============================] - 0s 8ms/step - loss: 3738.9885 - mae: 3738.9885\n",
      "Epoch 77/100\n",
      "34/34 [==============================] - 0s 8ms/step - loss: 3715.5986 - mae: 3715.5986\n",
      "Epoch 78/100\n",
      "34/34 [==============================] - 0s 7ms/step - loss: 3700.2874 - mae: 3700.2874\n",
      "Epoch 79/100\n",
      "34/34 [==============================] - 0s 7ms/step - loss: 3689.5134 - mae: 3689.5134\n",
      "Epoch 80/100\n",
      "34/34 [==============================] - 0s 8ms/step - loss: 3680.7942 - mae: 3680.7942\n",
      "Epoch 81/100\n",
      "34/34 [==============================] - 0s 7ms/step - loss: 3674.9290 - mae: 3674.9290\n",
      "Epoch 82/100\n",
      "34/34 [==============================] - 0s 8ms/step - loss: 3672.0547 - mae: 3672.0547\n",
      "Epoch 83/100\n",
      "34/34 [==============================] - 0s 8ms/step - loss: 3666.0068 - mae: 3666.0068\n",
      "Epoch 84/100\n",
      "34/34 [==============================] - 0s 7ms/step - loss: 3663.0872 - mae: 3663.0872\n",
      "Epoch 85/100\n",
      "34/34 [==============================] - 0s 7ms/step - loss: 3660.9812 - mae: 3660.9812\n",
      "Epoch 86/100\n",
      "34/34 [==============================] - 0s 7ms/step - loss: 3659.7803 - mae: 3659.7803\n",
      "Epoch 87/100\n",
      "34/34 [==============================] - 0s 7ms/step - loss: 3656.3674 - mae: 3656.3674\n",
      "Epoch 88/100\n",
      "34/34 [==============================] - 0s 8ms/step - loss: 3654.2527 - mae: 3654.2527\n",
      "Epoch 89/100\n",
      "34/34 [==============================] - 0s 7ms/step - loss: 3652.8481 - mae: 3652.8481\n",
      "Epoch 90/100\n",
      "34/34 [==============================] - 0s 7ms/step - loss: 3651.0547 - mae: 3651.0547\n",
      "Epoch 91/100\n",
      "34/34 [==============================] - 0s 7ms/step - loss: 3647.9509 - mae: 3647.9509\n",
      "Epoch 92/100\n",
      "34/34 [==============================] - 0s 8ms/step - loss: 3647.3179 - mae: 3647.3179\n",
      "Epoch 93/100\n",
      "34/34 [==============================] - 0s 7ms/step - loss: 3645.1252 - mae: 3645.1252\n",
      "Epoch 94/100\n",
      "34/34 [==============================] - 0s 8ms/step - loss: 3643.3152 - mae: 3643.3152\n",
      "Epoch 95/100\n",
      "34/34 [==============================] - 0s 7ms/step - loss: 3644.5623 - mae: 3644.5623\n",
      "Epoch 96/100\n",
      "34/34 [==============================] - 0s 7ms/step - loss: 3641.1995 - mae: 3641.1995\n",
      "Epoch 97/100\n",
      "34/34 [==============================] - 0s 7ms/step - loss: 3638.7019 - mae: 3638.7019\n",
      "Epoch 98/100\n",
      "34/34 [==============================] - 0s 8ms/step - loss: 3636.6108 - mae: 3636.6108\n",
      "Epoch 99/100\n",
      "34/34 [==============================] - 0s 7ms/step - loss: 3636.2092 - mae: 3636.2092\n",
      "Epoch 100/100\n",
      "34/34 [==============================] - 0s 7ms/step - loss: 3634.6047 - mae: 3634.6047\n"
     ]
    }
   ],
   "source": [
    "# Build a neural network model to fit on our normalized data\n",
    "\n",
    "# set random seed\n",
    "tf.random.set_seed(42)\n",
    "\n",
    "# Create the model\n",
    "insurance_model_4 = tf.keras.Sequential([\n",
    "    tf.keras.layers.Dense(100),\n",
    "    tf.keras.layers.Dense(10),\n",
    "    tf.keras.layers.Dense(1),\n",
    "])\n",
    "\n",
    "# Compile the model\n",
    "insurance_model_4.compile(loss=tf.keras.losses.mae,\n",
    "                       optimizer=tf.keras.optimizers.Adam(),\n",
    "                       metrics=['mae'])\n",
    "\n",
    "# fit the model\n",
    "history = insurance_model_4.fit(X_train_normal, y_train, epochs=100)"
   ]
  },
  {
   "cell_type": "code",
   "execution_count": 99,
   "id": "ba1f8eb3",
   "metadata": {},
   "outputs": [
    {
     "name": "stdout",
     "output_type": "stream",
     "text": [
      "9/9 [==============================] - 0s 7ms/step - loss: 3437.3848 - mae: 3437.3848\n"
     ]
    },
    {
     "data": {
      "text/plain": [
       "[3437.384765625, 3437.384765625]"
      ]
     },
     "execution_count": 99,
     "metadata": {},
     "output_type": "execute_result"
    }
   ],
   "source": [
    "# Evaluate our insurance model trained on normalized data\n",
    "insurance_model_4.evaluate(X_test_normal, y_test)"
   ]
  },
  {
   "cell_type": "code",
   "execution_count": null,
   "id": "7ba5c0f5",
   "metadata": {},
   "outputs": [],
   "source": []
  }
 ],
 "metadata": {
  "kernelspec": {
   "display_name": "Python 3.10 (nn)",
   "language": "python",
   "name": "nn"
  },
  "language_info": {
   "codemirror_mode": {
    "name": "ipython",
    "version": 3
   },
   "file_extension": ".py",
   "mimetype": "text/x-python",
   "name": "python",
   "nbconvert_exporter": "python",
   "pygments_lexer": "ipython3",
   "version": "3.10.11"
  }
 },
 "nbformat": 4,
 "nbformat_minor": 5
}

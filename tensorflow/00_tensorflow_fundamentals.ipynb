{
 "cells": [
  {
   "cell_type": "markdown",
   "id": "5a1ec64b",
   "metadata": {},
   "source": [
    "# fundamentals concepts of tensors using Tensorflow\n",
    "\n",
    "More specific:\n",
    "* Introduction to tensors\n",
    "* Getting information from tensors\n",
    "* Manipulating tensors\n",
    "* Tensors & NumPy\n",
    "* Using @tf.functions (a way to speed up your regular Python functions)\n",
    "* Using GPUs with TensorFlow(or TPYs)\n",
    "* Exercises"
   ]
  },
  {
   "cell_type": "markdown",
   "id": "6214b58a",
   "metadata": {},
   "source": [
    "## Introduction to Tensors"
   ]
  },
  {
   "cell_type": "code",
   "execution_count": 1,
   "id": "9ccd3ea7",
   "metadata": {},
   "outputs": [
    {
     "name": "stdout",
     "output_type": "stream",
     "text": [
      "2.12.0\n"
     ]
    }
   ],
   "source": [
    "# Import Tensorflow\n",
    "import tensorflow as tf\n",
    "print(tf.__version__)"
   ]
  },
  {
   "cell_type": "code",
   "execution_count": 2,
   "id": "978e4fe4",
   "metadata": {},
   "outputs": [
    {
     "data": {
      "text/plain": [
       "<tf.Tensor: shape=(), dtype=int32, numpy=10>"
      ]
     },
     "execution_count": 2,
     "metadata": {},
     "output_type": "execute_result"
    }
   ],
   "source": [
    "# create tensors with tf.constant()\n",
    "scalar = tf.constant(10)\n",
    "scalar"
   ]
  },
  {
   "cell_type": "code",
   "execution_count": 3,
   "id": "bfe39f3c",
   "metadata": {},
   "outputs": [
    {
     "data": {
      "text/plain": [
       "0"
      ]
     },
     "execution_count": 3,
     "metadata": {},
     "output_type": "execute_result"
    }
   ],
   "source": [
    "# check the number of dimensions of a tensor (ndim stands for number of dimensions)\n",
    "scalar.ndim"
   ]
  },
  {
   "cell_type": "code",
   "execution_count": 4,
   "id": "64b6ec57",
   "metadata": {},
   "outputs": [
    {
     "data": {
      "text/plain": [
       "<tf.Tensor: shape=(2,), dtype=int32, numpy=array([10, 10], dtype=int32)>"
      ]
     },
     "execution_count": 4,
     "metadata": {},
     "output_type": "execute_result"
    }
   ],
   "source": [
    "# create a vector \n",
    "vector = tf.constant([10,10])\n",
    "vector"
   ]
  },
  {
   "cell_type": "code",
   "execution_count": 5,
   "id": "248bf21a",
   "metadata": {},
   "outputs": [
    {
     "data": {
      "text/plain": [
       "1"
      ]
     },
     "execution_count": 5,
     "metadata": {},
     "output_type": "execute_result"
    }
   ],
   "source": [
    "# check the dimension of our vector\n",
    "vector.ndim"
   ]
  },
  {
   "cell_type": "code",
   "execution_count": 6,
   "id": "8007eefd",
   "metadata": {},
   "outputs": [
    {
     "data": {
      "text/plain": [
       "<tf.Tensor: shape=(2, 2), dtype=int32, numpy=\n",
       "array([[10,  7],\n",
       "       [ 7, 10]], dtype=int32)>"
      ]
     },
     "execution_count": 6,
     "metadata": {},
     "output_type": "execute_result"
    }
   ],
   "source": [
    "# create a matrix (hare more than one dimension)\n",
    "matrix = tf.constant([[10, 7],\n",
    "                      [7, 10]])\n",
    "matrix"
   ]
  },
  {
   "cell_type": "code",
   "execution_count": 7,
   "id": "2a6510a6",
   "metadata": {},
   "outputs": [
    {
     "data": {
      "text/plain": [
       "<tf.Tensor: shape=(3, 2), dtype=float32, numpy=\n",
       "array([[10.,  7.],\n",
       "       [ 3.,  2.],\n",
       "       [ 5., 10.]], dtype=float32)>"
      ]
     },
     "execution_count": 7,
     "metadata": {},
     "output_type": "execute_result"
    }
   ],
   "source": [
    "# create another matrix\n",
    "another_matrix = tf.constant([[10., 7.],\n",
    "                               [3., 2.],\n",
    "                               [5., 10.]], dtype=float)\n",
    "another_matrix"
   ]
  },
  {
   "cell_type": "code",
   "execution_count": 8,
   "id": "59080f40",
   "metadata": {},
   "outputs": [
    {
     "data": {
      "text/plain": [
       "2"
      ]
     },
     "execution_count": 8,
     "metadata": {},
     "output_type": "execute_result"
    }
   ],
   "source": [
    "# what's the number of another matrix\n",
    "another_matrix.ndim"
   ]
  },
  {
   "cell_type": "code",
   "execution_count": 9,
   "id": "d210f396",
   "metadata": {},
   "outputs": [
    {
     "data": {
      "text/plain": [
       "TensorShape([3, 2])"
      ]
     },
     "execution_count": 9,
     "metadata": {},
     "output_type": "execute_result"
    }
   ],
   "source": [
    "another_matrix.shape"
   ]
  },
  {
   "cell_type": "code",
   "execution_count": 10,
   "id": "b98c0788",
   "metadata": {},
   "outputs": [
    {
     "data": {
      "text/plain": [
       "<tf.Tensor: shape=(3, 2, 3), dtype=int32, numpy=\n",
       "array([[[ 1,  2,  3],\n",
       "        [ 4,  5,  6]],\n",
       "\n",
       "       [[ 7,  8,  9],\n",
       "        [10, 11, 12]],\n",
       "\n",
       "       [[13, 14, 15],\n",
       "        [16, 16, 18]]], dtype=int32)>"
      ]
     },
     "execution_count": 10,
     "metadata": {},
     "output_type": "execute_result"
    }
   ],
   "source": [
    "# Let's create a tensor\n",
    "tensor = tf.constant([[[1, 2, 3],\n",
    "                       [4, 5, 6]],\n",
    "                      [[7, 8, 9],\n",
    "                      [10, 11, 12]],\n",
    "                       [[13, 14, 15],\n",
    "                       [16, 16, 18]]\n",
    "                     ])\n",
    "tensor"
   ]
  },
  {
   "cell_type": "code",
   "execution_count": 11,
   "id": "b7dbe543",
   "metadata": {},
   "outputs": [
    {
     "data": {
      "text/plain": [
       "3"
      ]
     },
     "execution_count": 11,
     "metadata": {},
     "output_type": "execute_result"
    }
   ],
   "source": [
    "tensor.ndim"
   ]
  },
  {
   "cell_type": "markdown",
   "id": "888de4ae",
   "metadata": {},
   "source": [
    "What we've created so far:\n",
    "\n",
    "* Scalar: a single number\n",
    "* vector: a number with directions (e.g. wind speed and direction)\n",
    "* Matrix: a 2-dimensional array of numbers\n",
    "* Tensor: an n-dimensional array of numbers (where n can by any number,\n",
    "                                            a 0-dimensional tensor is scalar,\n",
    "                                            a 1-dimensional tensor is vector)"
   ]
  },
  {
   "cell_type": "markdown",
   "id": "025136b8",
   "metadata": {},
   "source": [
    " ### Creating tensors with `tf.Variable`"
   ]
  },
  {
   "cell_type": "code",
   "execution_count": 12,
   "id": "42c0d4ee",
   "metadata": {},
   "outputs": [
    {
     "data": {
      "text/plain": [
       "(<tf.Variable 'Variable:0' shape=(2,) dtype=int32, numpy=array([10,  7], dtype=int32)>,\n",
       " <tf.Tensor: shape=(2,), dtype=int32, numpy=array([10,  7], dtype=int32)>)"
      ]
     },
     "execution_count": 12,
     "metadata": {},
     "output_type": "execute_result"
    }
   ],
   "source": [
    "# Create the same tensor with tf.Variable() as above\n",
    "changeable_tensor = tf.Variable([10, 7])\n",
    "unchangeable_tensor = tf.constant([10, 7])\n",
    "changeable_tensor, unchangeable_tensor"
   ]
  },
  {
   "cell_type": "code",
   "execution_count": 13,
   "id": "2ad5a1fe",
   "metadata": {},
   "outputs": [
    {
     "ename": "TypeError",
     "evalue": "'ResourceVariable' object does not support item assignment",
     "output_type": "error",
     "traceback": [
      "\u001b[0;31m---------------------------------------------------------------------------\u001b[0m",
      "\u001b[0;31mTypeError\u001b[0m                                 Traceback (most recent call last)",
      "Cell \u001b[0;32mIn[13], line 2\u001b[0m\n\u001b[1;32m      1\u001b[0m \u001b[38;5;66;03m# Let's try change one of teh elements in our changable tensor\u001b[39;00m\n\u001b[0;32m----> 2\u001b[0m \u001b[43mchangeable_tensor\u001b[49m\u001b[43m[\u001b[49m\u001b[38;5;241;43m0\u001b[39;49m\u001b[43m]\u001b[49m \u001b[38;5;241m=\u001b[39m \u001b[38;5;241m7\u001b[39m\n\u001b[1;32m      3\u001b[0m changeable_tensor\n",
      "\u001b[0;31mTypeError\u001b[0m: 'ResourceVariable' object does not support item assignment"
     ]
    }
   ],
   "source": [
    "# Let's try change one of teh elements in our changable tensor\n",
    "changeable_tensor[0] = 7\n",
    "changeable_tensor"
   ]
  },
  {
   "cell_type": "code",
   "execution_count": 14,
   "id": "a3321921",
   "metadata": {},
   "outputs": [
    {
     "data": {
      "text/plain": [
       "<tf.Variable 'Variable:0' shape=(2,) dtype=int32, numpy=array([10, 11], dtype=int32)>"
      ]
     },
     "execution_count": 14,
     "metadata": {},
     "output_type": "execute_result"
    }
   ],
   "source": [
    "# how about we try .assign()\n",
    "changeable_tensor[1].assign(11)\n",
    "changeable_tensor"
   ]
  },
  {
   "cell_type": "code",
   "execution_count": 15,
   "id": "0b6525a0",
   "metadata": {},
   "outputs": [
    {
     "ename": "AttributeError",
     "evalue": "'tensorflow.python.framework.ops.EagerTensor' object has no attribute 'assign'",
     "output_type": "error",
     "traceback": [
      "\u001b[0;31m---------------------------------------------------------------------------\u001b[0m",
      "\u001b[0;31mAttributeError\u001b[0m                            Traceback (most recent call last)",
      "Cell \u001b[0;32mIn[15], line 2\u001b[0m\n\u001b[1;32m      1\u001b[0m \u001b[38;5;66;03m# Let's try chane our unchangeable tensor\u001b[39;00m\n\u001b[0;32m----> 2\u001b[0m \u001b[43munchangeable_tensor\u001b[49m\u001b[43m[\u001b[49m\u001b[38;5;241;43m0\u001b[39;49m\u001b[43m]\u001b[49m\u001b[38;5;241;43m.\u001b[39;49m\u001b[43massign\u001b[49m[\u001b[38;5;241m9\u001b[39m]\n\u001b[1;32m      3\u001b[0m unchangeable_tensor\n",
      "File \u001b[0;32m~/opt/miniconda3/envs/ml/lib/python3.9/site-packages/tensorflow/python/framework/ops.py:443\u001b[0m, in \u001b[0;36mTensor.__getattr__\u001b[0;34m(self, name)\u001b[0m\n\u001b[1;32m    434\u001b[0m \u001b[38;5;28;01mif\u001b[39;00m name \u001b[38;5;129;01min\u001b[39;00m {\u001b[38;5;124m\"\u001b[39m\u001b[38;5;124mT\u001b[39m\u001b[38;5;124m\"\u001b[39m, \u001b[38;5;124m\"\u001b[39m\u001b[38;5;124mastype\u001b[39m\u001b[38;5;124m\"\u001b[39m, \u001b[38;5;124m\"\u001b[39m\u001b[38;5;124mravel\u001b[39m\u001b[38;5;124m\"\u001b[39m, \u001b[38;5;124m\"\u001b[39m\u001b[38;5;124mtranspose\u001b[39m\u001b[38;5;124m\"\u001b[39m, \u001b[38;5;124m\"\u001b[39m\u001b[38;5;124mreshape\u001b[39m\u001b[38;5;124m\"\u001b[39m, \u001b[38;5;124m\"\u001b[39m\u001b[38;5;124mclip\u001b[39m\u001b[38;5;124m\"\u001b[39m, \u001b[38;5;124m\"\u001b[39m\u001b[38;5;124msize\u001b[39m\u001b[38;5;124m\"\u001b[39m,\n\u001b[1;32m    435\u001b[0m             \u001b[38;5;124m\"\u001b[39m\u001b[38;5;124mtolist\u001b[39m\u001b[38;5;124m\"\u001b[39m, \u001b[38;5;124m\"\u001b[39m\u001b[38;5;124mdata\u001b[39m\u001b[38;5;124m\"\u001b[39m}:\n\u001b[1;32m    436\u001b[0m   \u001b[38;5;66;03m# TODO(wangpeng): Export the enable_numpy_behavior knob\u001b[39;00m\n\u001b[1;32m    437\u001b[0m   \u001b[38;5;28;01mraise\u001b[39;00m \u001b[38;5;167;01mAttributeError\u001b[39;00m(\n\u001b[1;32m    438\u001b[0m       \u001b[38;5;124mf\u001b[39m\u001b[38;5;124m\"\u001b[39m\u001b[38;5;132;01m{\u001b[39;00m\u001b[38;5;28mtype\u001b[39m(\u001b[38;5;28mself\u001b[39m)\u001b[38;5;241m.\u001b[39m\u001b[38;5;18m__name__\u001b[39m\u001b[38;5;132;01m}\u001b[39;00m\u001b[38;5;124m object has no attribute \u001b[39m\u001b[38;5;124m'\u001b[39m\u001b[38;5;132;01m{\u001b[39;00mname\u001b[38;5;132;01m}\u001b[39;00m\u001b[38;5;124m'\u001b[39m\u001b[38;5;124m. \u001b[39m\u001b[38;5;124m\"\u001b[39m \u001b[38;5;241m+\u001b[39m \u001b[38;5;124m\"\"\"\u001b[39m\n\u001b[1;32m    439\u001b[0m \u001b[38;5;124m    If you are looking for numpy-related methods, please run the following:\u001b[39m\n\u001b[1;32m    440\u001b[0m \u001b[38;5;124m    from tensorflow.python.ops.numpy_ops import np_config\u001b[39m\n\u001b[1;32m    441\u001b[0m \u001b[38;5;124m    np_config.enable_numpy_behavior()\u001b[39m\n\u001b[1;32m    442\u001b[0m \u001b[38;5;124m  \u001b[39m\u001b[38;5;124m\"\"\"\u001b[39m)\n\u001b[0;32m--> 443\u001b[0m \u001b[38;5;28;43mself\u001b[39;49m\u001b[38;5;241;43m.\u001b[39;49m\u001b[38;5;21;43m__getattribute__\u001b[39;49m\u001b[43m(\u001b[49m\u001b[43mname\u001b[49m\u001b[43m)\u001b[49m\n",
      "\u001b[0;31mAttributeError\u001b[0m: 'tensorflow.python.framework.ops.EagerTensor' object has no attribute 'assign'"
     ]
    }
   ],
   "source": [
    "# Let's try chane our unchangeable tensor\n",
    "unchangeable_tensor[0].assign[9]\n",
    "unchangeable_tensor"
   ]
  },
  {
   "cell_type": "markdown",
   "id": "402e1cbd",
   "metadata": {},
   "source": [
    "### creating random tensors\n",
    "Random tensors are tensors of some abitrary size which contain random numbers"
   ]
  },
  {
   "cell_type": "code",
   "execution_count": 16,
   "id": "bba28b75",
   "metadata": {},
   "outputs": [
    {
     "data": {
      "text/plain": [
       "(<tf.Tensor: shape=(3, 2), dtype=float32, numpy=\n",
       " array([[-0.75658023, -0.06854693],\n",
       "        [ 0.07595028, -1.2573844 ],\n",
       "        [-0.23193759, -1.8107857 ]], dtype=float32)>,\n",
       " <tf.Tensor: shape=(3, 2), dtype=float32, numpy=\n",
       " array([[-0.75658023, -0.06854693],\n",
       "        [ 0.07595028, -1.2573844 ],\n",
       "        [-0.23193759, -1.8107857 ]], dtype=float32)>,\n",
       " <tf.Tensor: shape=(3, 2), dtype=bool, numpy=\n",
       " array([[ True,  True],\n",
       "        [ True,  True],\n",
       "        [ True,  True]])>)"
      ]
     },
     "execution_count": 16,
     "metadata": {},
     "output_type": "execute_result"
    }
   ],
   "source": [
    "# create two random (but the same) tensors\n",
    "random_1 = tf.random.Generator.from_seed(42) # set seed for reproductibility\n",
    "random_1 = random_1.normal(shape=(3,2))\n",
    "random_2 = tf.random.Generator.from_seed(42)\n",
    "random_2 = random_2.normal(shape=(3, 2))\n",
    "\n",
    "# Are they equal?\n",
    "random_1, random_2, random_1 == random_2"
   ]
  },
  {
   "cell_type": "code",
   "execution_count": 17,
   "id": "ca537760",
   "metadata": {},
   "outputs": [
    {
     "data": {
      "text/plain": [
       "(<tf.Tensor: shape=(3, 2), dtype=float32, numpy=\n",
       " array([[-1.3240397 ,  0.28785658],\n",
       "        [-0.87579006, -0.08856997],\n",
       "        [ 0.6921164 ,  0.842157  ]], dtype=float32)>,\n",
       " <tf.Tensor: shape=(3, 2), dtype=bool, numpy=\n",
       " array([[False, False],\n",
       "        [False, False],\n",
       "        [False, False]])>)"
      ]
     },
     "execution_count": 17,
     "metadata": {},
     "output_type": "execute_result"
    }
   ],
   "source": [
    "random_3 = tf.random.Generator.from_seed(7)\n",
    "random_3 = random_3.normal(shape=(3, 2))\n",
    "random_3, random_1 == random_3"
   ]
  },
  {
   "cell_type": "markdown",
   "id": "0b33344e",
   "metadata": {},
   "source": [
    "### shufle the order of elements in tensor"
   ]
  },
  {
   "cell_type": "code",
   "execution_count": 18,
   "id": "035ad13c",
   "metadata": {},
   "outputs": [
    {
     "data": {
      "text/plain": [
       "(<tf.Tensor: shape=(3, 2), dtype=int32, numpy=\n",
       " array([[10,  7],\n",
       "        [ 3,  4],\n",
       "        [ 2,  4]], dtype=int32)>,\n",
       " <tf.Tensor: shape=(3, 2), dtype=int32, numpy=\n",
       " array([[ 2,  4],\n",
       "        [10,  7],\n",
       "        [ 3,  4]], dtype=int32)>)"
      ]
     },
     "execution_count": 18,
     "metadata": {},
     "output_type": "execute_result"
    }
   ],
   "source": [
    "# shuffle a tensor (valuable for when you want to shuffle you data so the inherent order doesn't effect learning)\n",
    "not_shuffled = tf.constant([[10, 7],\n",
    "                           [3, 4],\n",
    "                           [2, 4]])\n",
    "\n",
    "# shuffle our non_shuffled tensor\n",
    "shuffled = tf.random.shuffle(not_shuffled)\n",
    "\n",
    "not_shuffled, shuffled"
   ]
  },
  {
   "cell_type": "code",
   "execution_count": 19,
   "id": "dee015e9",
   "metadata": {},
   "outputs": [
    {
     "data": {
      "text/plain": [
       "(<tf.Tensor: shape=(3, 2), dtype=int32, numpy=\n",
       " array([[10,  7],\n",
       "        [ 3,  4],\n",
       "        [ 2,  4]], dtype=int32)>,\n",
       " <tf.Tensor: shape=(3, 2), dtype=int32, numpy=\n",
       " array([[10,  7],\n",
       "        [ 2,  4],\n",
       "        [ 3,  4]], dtype=int32)>)"
      ]
     },
     "execution_count": 19,
     "metadata": {},
     "output_type": "execute_result"
    }
   ],
   "source": [
    "# shuffle our non_shuffled tensor\n",
    "shuffled = tf.random.shuffle(shuffled)\n",
    "\n",
    "not_shuffled, shuffled"
   ]
  },
  {
   "cell_type": "code",
   "execution_count": 20,
   "id": "f7feb6a3",
   "metadata": {},
   "outputs": [
    {
     "data": {
      "text/plain": [
       "(<tf.Tensor: shape=(3, 2), dtype=int32, numpy=\n",
       " array([[10,  7],\n",
       "        [ 3,  4],\n",
       "        [ 2,  4]], dtype=int32)>,\n",
       " <tf.Tensor: shape=(3, 2), dtype=int32, numpy=\n",
       " array([[ 3,  4],\n",
       "        [ 2,  4],\n",
       "        [10,  7]], dtype=int32)>)"
      ]
     },
     "execution_count": 20,
     "metadata": {},
     "output_type": "execute_result"
    }
   ],
   "source": [
    "# shuffle our non_shuffled tensor\n",
    "shuffled = tf.random.shuffle(shuffled, seed=42)\n",
    "\n",
    "not_shuffled, shuffled"
   ]
  },
  {
   "cell_type": "markdown",
   "id": "20b14db4",
   "metadata": {},
   "source": [
    "# Exercise\n",
    "create random seed and suffle them"
   ]
  },
  {
   "cell_type": "code",
   "execution_count": 21,
   "id": "778ca171",
   "metadata": {},
   "outputs": [
    {
     "data": {
      "text/plain": [
       "<tf.Tensor: shape=(5, 3), dtype=float32, numpy=\n",
       "array([[ 1.0019135 ,  0.6735137 ,  0.06987705],\n",
       "       [-1.4077919 ,  1.0278524 ,  0.2797411 ],\n",
       "       [-0.01347954,  1.8451811 ,  0.9706112 ],\n",
       "       [-1.0242516 , -0.6544423 , -0.29738778],\n",
       "       [-1.3240397 ,  0.28785658, -0.87579006]], dtype=float32)>"
      ]
     },
     "execution_count": 21,
     "metadata": {},
     "output_type": "execute_result"
    }
   ],
   "source": [
    "# create random seed using tensor\n",
    "\n",
    "random_e1 = tf.random.Generator.from_seed(4)\n",
    "random_e1 = random_e1.normal(shape=(5,3))\n",
    "random_e1"
   ]
  },
  {
   "cell_type": "code",
   "execution_count": 22,
   "id": "d674b0ff",
   "metadata": {},
   "outputs": [
    {
     "data": {
      "text/plain": [
       "<tf.Tensor: shape=(5, 3), dtype=float32, numpy=\n",
       "array([[-1.0242516 , -0.6544423 , -0.29738778],\n",
       "       [-1.3240397 ,  0.28785658, -0.87579006],\n",
       "       [-0.01347954,  1.8451811 ,  0.9706112 ],\n",
       "       [-1.4077919 ,  1.0278524 ,  0.2797411 ],\n",
       "       [ 1.0019135 ,  0.6735137 ,  0.06987705]], dtype=float32)>"
      ]
     },
     "execution_count": 22,
     "metadata": {},
     "output_type": "execute_result"
    }
   ],
   "source": [
    "tf.random.shuffle(random_e1)"
   ]
  },
  {
   "cell_type": "code",
   "execution_count": 23,
   "id": "b2817ebe",
   "metadata": {},
   "outputs": [
    {
     "data": {
      "text/plain": [
       "<tf.Tensor: shape=(3, 4), dtype=float32, numpy=\n",
       "array([[-1.3240397 ,  0.28785658, -0.87579006, -0.08856997],\n",
       "       [ 0.6921164 ,  0.842157  , -0.06378508,  0.9280078 ],\n",
       "       [-0.6039788 , -0.17669262,  0.04221032,  0.29037958]],\n",
       "      dtype=float32)>"
      ]
     },
     "execution_count": 23,
     "metadata": {},
     "output_type": "execute_result"
    }
   ],
   "source": [
    "random_e2 = tf.random.Generator.from_seed(7)\n",
    "random_e2 = random_e2.normal(shape=(3, 4))\n",
    "random_e2"
   ]
  },
  {
   "cell_type": "code",
   "execution_count": 24,
   "id": "5019da8e",
   "metadata": {},
   "outputs": [
    {
     "data": {
      "text/plain": [
       "<tf.Tensor: shape=(3, 4), dtype=float32, numpy=\n",
       "array([[-0.6039788 , -0.17669262,  0.04221032,  0.29037958],\n",
       "       [ 0.6921164 ,  0.842157  , -0.06378508,  0.9280078 ],\n",
       "       [-1.3240397 ,  0.28785658, -0.87579006, -0.08856997]],\n",
       "      dtype=float32)>"
      ]
     },
     "execution_count": 24,
     "metadata": {},
     "output_type": "execute_result"
    }
   ],
   "source": [
    "tf.random.shuffle(random_e2)"
   ]
  },
  {
   "cell_type": "code",
   "execution_count": 25,
   "id": "76f939c7",
   "metadata": {},
   "outputs": [
    {
     "data": {
      "text/plain": [
       "<tf.Tensor: shape=(3, 4), dtype=float32, numpy=\n",
       "array([[-1.3240397 ,  0.28785658, -0.87579006, -0.08856997],\n",
       "       [ 0.6921164 ,  0.842157  , -0.06378508,  0.9280078 ],\n",
       "       [-0.6039788 , -0.17669262,  0.04221032,  0.29037958]],\n",
       "      dtype=float32)>"
      ]
     },
     "execution_count": 25,
     "metadata": {},
     "output_type": "execute_result"
    }
   ],
   "source": [
    "# global and random seed\n",
    "tf.random.set_seed(42) # global level random seed | random but similar every other time\n",
    "tf.random.shuffle(random_e2, seed=42) # operational level random seed | different each time"
   ]
  },
  {
   "cell_type": "markdown",
   "id": "92626bb8",
   "metadata": {},
   "source": [
    "### Other ways to make tensors"
   ]
  },
  {
   "cell_type": "code",
   "execution_count": 26,
   "id": "9de6585c",
   "metadata": {},
   "outputs": [
    {
     "data": {
      "text/plain": [
       "<tf.Tensor: shape=(10, 7), dtype=float32, numpy=\n",
       "array([[1., 1., 1., 1., 1., 1., 1.],\n",
       "       [1., 1., 1., 1., 1., 1., 1.],\n",
       "       [1., 1., 1., 1., 1., 1., 1.],\n",
       "       [1., 1., 1., 1., 1., 1., 1.],\n",
       "       [1., 1., 1., 1., 1., 1., 1.],\n",
       "       [1., 1., 1., 1., 1., 1., 1.],\n",
       "       [1., 1., 1., 1., 1., 1., 1.],\n",
       "       [1., 1., 1., 1., 1., 1., 1.],\n",
       "       [1., 1., 1., 1., 1., 1., 1.],\n",
       "       [1., 1., 1., 1., 1., 1., 1.]], dtype=float32)>"
      ]
     },
     "execution_count": 26,
     "metadata": {},
     "output_type": "execute_result"
    }
   ],
   "source": [
    "# create a tensor of all ones\n",
    "tf.ones([10, 7])"
   ]
  },
  {
   "cell_type": "code",
   "execution_count": 27,
   "id": "a74d0d03",
   "metadata": {},
   "outputs": [
    {
     "data": {
      "text/plain": [
       "<tf.Tensor: shape=(4, 5), dtype=float32, numpy=\n",
       "array([[0., 0., 0., 0., 0.],\n",
       "       [0., 0., 0., 0., 0.],\n",
       "       [0., 0., 0., 0., 0.],\n",
       "       [0., 0., 0., 0., 0.]], dtype=float32)>"
      ]
     },
     "execution_count": 27,
     "metadata": {},
     "output_type": "execute_result"
    }
   ],
   "source": [
    "# create a tensor of all zeroes\n",
    "tf.zeros(shape=(4,5))"
   ]
  },
  {
   "cell_type": "markdown",
   "id": "60ed7fa1",
   "metadata": {},
   "source": [
    "### Turn NumPy arrays into tensors\n",
    "\n",
    "The man difference between NumPy arrays and TensorFlow is that tensors can be run on a GPY computing.\n"
   ]
  },
  {
   "cell_type": "code",
   "execution_count": 28,
   "id": "23128980",
   "metadata": {},
   "outputs": [
    {
     "data": {
      "text/plain": [
       "array([ 1,  2,  3,  4,  5,  6,  7,  8,  9, 10, 11, 12, 13, 14, 15, 16, 17,\n",
       "       18, 19, 20, 21, 22, 23, 24], dtype=int32)"
      ]
     },
     "execution_count": 28,
     "metadata": {},
     "output_type": "execute_result"
    }
   ],
   "source": [
    "# you can also turn NumPy arrays into tensors\n",
    "import numpy as np\n",
    "numpy_A = np.arange(1, 25, dtype=np.int32)\n",
    "numpy_A\n",
    "\n",
    "# X = tf.constant(some_matrix) # capital for matrix or tensor\n",
    "# y = tf.constant(vector) # non-capital for vector"
   ]
  },
  {
   "cell_type": "code",
   "execution_count": 29,
   "id": "16ef6bea",
   "metadata": {},
   "outputs": [
    {
     "data": {
      "text/plain": [
       "<tf.Tensor: shape=(24,), dtype=int32, numpy=\n",
       "array([ 1,  2,  3,  4,  5,  6,  7,  8,  9, 10, 11, 12, 13, 14, 15, 16, 17,\n",
       "       18, 19, 20, 21, 22, 23, 24], dtype=int32)>"
      ]
     },
     "execution_count": 29,
     "metadata": {},
     "output_type": "execute_result"
    }
   ],
   "source": [
    "A = tf.constant(numpy_A)\n",
    "A"
   ]
  },
  {
   "cell_type": "code",
   "execution_count": 30,
   "id": "26ae86a9",
   "metadata": {},
   "outputs": [
    {
     "data": {
      "text/plain": [
       "<tf.Tensor: shape=(2, 3, 4), dtype=int32, numpy=\n",
       "array([[[ 1,  2,  3,  4],\n",
       "        [ 5,  6,  7,  8],\n",
       "        [ 9, 10, 11, 12]],\n",
       "\n",
       "       [[13, 14, 15, 16],\n",
       "        [17, 18, 19, 20],\n",
       "        [21, 22, 23, 24]]], dtype=int32)>"
      ]
     },
     "execution_count": 30,
     "metadata": {},
     "output_type": "execute_result"
    }
   ],
   "source": [
    "A = tf.constant(A, shape=(2, 3, 4))\n",
    "A"
   ]
  },
  {
   "cell_type": "code",
   "execution_count": 31,
   "id": "9bafbace",
   "metadata": {},
   "outputs": [
    {
     "data": {
      "text/plain": [
       "<tf.Tensor: shape=(4, 3, 2), dtype=int32, numpy=\n",
       "array([[[ 1,  2],\n",
       "        [ 3,  4],\n",
       "        [ 5,  6]],\n",
       "\n",
       "       [[ 7,  8],\n",
       "        [ 9, 10],\n",
       "        [11, 12]],\n",
       "\n",
       "       [[13, 14],\n",
       "        [15, 16],\n",
       "        [17, 18]],\n",
       "\n",
       "       [[19, 20],\n",
       "        [21, 22],\n",
       "        [23, 24]]], dtype=int32)>"
      ]
     },
     "execution_count": 31,
     "metadata": {},
     "output_type": "execute_result"
    }
   ],
   "source": [
    "B = tf.constant(A, shape=(4, 3, 2))\n",
    "B"
   ]
  },
  {
   "cell_type": "code",
   "execution_count": 32,
   "id": "dac76e3e",
   "metadata": {},
   "outputs": [
    {
     "data": {
      "text/plain": [
       "<tf.Tensor: shape=(8, 3), dtype=int32, numpy=\n",
       "array([[ 1,  2,  3],\n",
       "       [ 4,  5,  6],\n",
       "       [ 7,  8,  9],\n",
       "       [10, 11, 12],\n",
       "       [13, 14, 15],\n",
       "       [16, 17, 18],\n",
       "       [19, 20, 21],\n",
       "       [22, 23, 24]], dtype=int32)>"
      ]
     },
     "execution_count": 32,
     "metadata": {},
     "output_type": "execute_result"
    }
   ],
   "source": [
    "C = tf.constant(A, shape=(8, 3))\n",
    "C"
   ]
  },
  {
   "cell_type": "markdown",
   "id": "a354745d",
   "metadata": {},
   "source": [
    "# Getting information from tensors\n",
    "* Shape `tensor.shape`\n",
    "* Rank `tensor.ndim`\n",
    "* Axis or dimension `tensor.[0]`, `tensor[:, 1]`, ....\n",
    "* Size `tf.size(tensor)`"
   ]
  },
  {
   "cell_type": "code",
   "execution_count": 33,
   "id": "c4b6a562",
   "metadata": {},
   "outputs": [
    {
     "data": {
      "text/plain": [
       "<tf.Tensor: shape=(2, 3, 4, 5), dtype=float32, numpy=\n",
       "array([[[[0., 0., 0., 0., 0.],\n",
       "         [0., 0., 0., 0., 0.],\n",
       "         [0., 0., 0., 0., 0.],\n",
       "         [0., 0., 0., 0., 0.]],\n",
       "\n",
       "        [[0., 0., 0., 0., 0.],\n",
       "         [0., 0., 0., 0., 0.],\n",
       "         [0., 0., 0., 0., 0.],\n",
       "         [0., 0., 0., 0., 0.]],\n",
       "\n",
       "        [[0., 0., 0., 0., 0.],\n",
       "         [0., 0., 0., 0., 0.],\n",
       "         [0., 0., 0., 0., 0.],\n",
       "         [0., 0., 0., 0., 0.]]],\n",
       "\n",
       "\n",
       "       [[[0., 0., 0., 0., 0.],\n",
       "         [0., 0., 0., 0., 0.],\n",
       "         [0., 0., 0., 0., 0.],\n",
       "         [0., 0., 0., 0., 0.]],\n",
       "\n",
       "        [[0., 0., 0., 0., 0.],\n",
       "         [0., 0., 0., 0., 0.],\n",
       "         [0., 0., 0., 0., 0.],\n",
       "         [0., 0., 0., 0., 0.]],\n",
       "\n",
       "        [[0., 0., 0., 0., 0.],\n",
       "         [0., 0., 0., 0., 0.],\n",
       "         [0., 0., 0., 0., 0.],\n",
       "         [0., 0., 0., 0., 0.]]]], dtype=float32)>"
      ]
     },
     "execution_count": 33,
     "metadata": {},
     "output_type": "execute_result"
    }
   ],
   "source": [
    "# Create a rank 4 tensor (4 dimension)\n",
    "rank_4_tensor = tf.zeros(shape=(2, 3, 4, 5))\n",
    "rank_4_tensor"
   ]
  },
  {
   "cell_type": "code",
   "execution_count": 34,
   "id": "864571d3",
   "metadata": {},
   "outputs": [
    {
     "data": {
      "text/plain": [
       "4"
      ]
     },
     "execution_count": 34,
     "metadata": {},
     "output_type": "execute_result"
    }
   ],
   "source": [
    "rank_4_tensor.ndim"
   ]
  },
  {
   "cell_type": "code",
   "execution_count": 35,
   "id": "989d5518",
   "metadata": {},
   "outputs": [
    {
     "data": {
      "text/plain": [
       "<tf.Tensor: shape=(3, 4, 5), dtype=float32, numpy=\n",
       "array([[[0., 0., 0., 0., 0.],\n",
       "        [0., 0., 0., 0., 0.],\n",
       "        [0., 0., 0., 0., 0.],\n",
       "        [0., 0., 0., 0., 0.]],\n",
       "\n",
       "       [[0., 0., 0., 0., 0.],\n",
       "        [0., 0., 0., 0., 0.],\n",
       "        [0., 0., 0., 0., 0.],\n",
       "        [0., 0., 0., 0., 0.]],\n",
       "\n",
       "       [[0., 0., 0., 0., 0.],\n",
       "        [0., 0., 0., 0., 0.],\n",
       "        [0., 0., 0., 0., 0.],\n",
       "        [0., 0., 0., 0., 0.]]], dtype=float32)>"
      ]
     },
     "execution_count": 35,
     "metadata": {},
     "output_type": "execute_result"
    }
   ],
   "source": [
    "rank_4_tensor[0]"
   ]
  },
  {
   "cell_type": "code",
   "execution_count": 36,
   "id": "35543c76",
   "metadata": {},
   "outputs": [
    {
     "data": {
      "text/plain": [
       "<tf.Tensor: shape=(3, 4, 5), dtype=float32, numpy=\n",
       "array([[[0., 0., 0., 0., 0.],\n",
       "        [0., 0., 0., 0., 0.],\n",
       "        [0., 0., 0., 0., 0.],\n",
       "        [0., 0., 0., 0., 0.]],\n",
       "\n",
       "       [[0., 0., 0., 0., 0.],\n",
       "        [0., 0., 0., 0., 0.],\n",
       "        [0., 0., 0., 0., 0.],\n",
       "        [0., 0., 0., 0., 0.]],\n",
       "\n",
       "       [[0., 0., 0., 0., 0.],\n",
       "        [0., 0., 0., 0., 0.],\n",
       "        [0., 0., 0., 0., 0.],\n",
       "        [0., 0., 0., 0., 0.]]], dtype=float32)>"
      ]
     },
     "execution_count": 36,
     "metadata": {},
     "output_type": "execute_result"
    }
   ],
   "source": [
    "rank_4_tensor[1]"
   ]
  },
  {
   "cell_type": "code",
   "execution_count": 37,
   "id": "de46380a",
   "metadata": {},
   "outputs": [
    {
     "data": {
      "text/plain": [
       "(TensorShape([2, 3, 4, 5]), 4, <tf.Tensor: shape=(), dtype=int32, numpy=120>)"
      ]
     },
     "execution_count": 37,
     "metadata": {},
     "output_type": "execute_result"
    }
   ],
   "source": [
    "rank_4_tensor.shape, rank_4_tensor.ndim, tf.size(rank_4_tensor)"
   ]
  },
  {
   "cell_type": "code",
   "execution_count": 38,
   "id": "c3127d25",
   "metadata": {},
   "outputs": [
    {
     "name": "stdout",
     "output_type": "stream",
     "text": [
      "Datatype of every element: <dtype: 'float32'>\n",
      "Number of dimensions (rank): 4\n",
      "Shape of tensor: (2, 3, 4, 5)\n",
      "Element along the 0 axis: 2\n",
      "Elements along the last axis: 5\n",
      "Total number of elements in our tensor; tf.Tensor(120, shape=(), dtype=int32)\n",
      "Total number of elements in our tensor; 120\n"
     ]
    }
   ],
   "source": [
    "# Get various attributes of our tensor\n",
    "print(\"Datatype of every element:\", rank_4_tensor.dtype)\n",
    "print('Number of dimensions (rank):', rank_4_tensor.ndim)\n",
    "print('Shape of tensor:', rank_4_tensor.shape)\n",
    "print('Element along the 0 axis:', rank_4_tensor.shape[0])\n",
    "print('Elements along the last axis:', rank_4_tensor.shape[-1])\n",
    "print('Total number of elements in our tensor;', tf.size(rank_4_tensor))\n",
    "print('Total number of elements in our tensor;', tf.size(rank_4_tensor).numpy())"
   ]
  },
  {
   "cell_type": "markdown",
   "id": "d69e3c98",
   "metadata": {},
   "source": [
    "### Indexing tensors\n",
    "\n",
    "Tensors can be index like python list"
   ]
  },
  {
   "cell_type": "code",
   "execution_count": 39,
   "id": "0ab794b0",
   "metadata": {},
   "outputs": [
    {
     "data": {
      "text/plain": [
       "<tf.Tensor: shape=(2, 2, 2, 2), dtype=float32, numpy=\n",
       "array([[[[0., 0.],\n",
       "         [0., 0.]],\n",
       "\n",
       "        [[0., 0.],\n",
       "         [0., 0.]]],\n",
       "\n",
       "\n",
       "       [[[0., 0.],\n",
       "         [0., 0.]],\n",
       "\n",
       "        [[0., 0.],\n",
       "         [0., 0.]]]], dtype=float32)>"
      ]
     },
     "execution_count": 39,
     "metadata": {},
     "output_type": "execute_result"
    }
   ],
   "source": [
    "# get the first element of each dimension\n",
    "rank_4_tensor[:2, :2, :2, :2]"
   ]
  },
  {
   "cell_type": "code",
   "execution_count": 40,
   "id": "ebc4039c",
   "metadata": {},
   "outputs": [
    {
     "data": {
      "text/plain": [
       "[1, 2]"
      ]
     },
     "execution_count": 40,
     "metadata": {},
     "output_type": "execute_result"
    }
   ],
   "source": [
    "some_list = [1, 2, 3, 4]\n",
    "some_list[:2]"
   ]
  },
  {
   "cell_type": "code",
   "execution_count": 41,
   "id": "0e5f8984",
   "metadata": {},
   "outputs": [
    {
     "data": {
      "text/plain": [
       "<tf.Tensor: shape=(1, 1, 1, 5), dtype=float32, numpy=array([[[[0., 0., 0., 0., 0.]]]], dtype=float32)>"
      ]
     },
     "execution_count": 41,
     "metadata": {},
     "output_type": "execute_result"
    }
   ],
   "source": [
    "# get the first element from each dimensoin from each index except for the final one\n",
    "rank_4_tensor[:1, :1, :1]"
   ]
  },
  {
   "cell_type": "code",
   "execution_count": 42,
   "id": "addb4b9e",
   "metadata": {},
   "outputs": [
    {
     "data": {
      "text/plain": [
       "(TensorShape([2, 2]), 2)"
      ]
     },
     "execution_count": 42,
     "metadata": {},
     "output_type": "execute_result"
    }
   ],
   "source": [
    "# create a rank 2 tensor (2 dimensions)\n",
    "rank_2_tensor = tf.constant([[10, 7],\n",
    "                            [3, 4]])\n",
    "rank_2_tensor.shape, rank_2_tensor.ndim"
   ]
  },
  {
   "cell_type": "code",
   "execution_count": 43,
   "id": "dd650fec",
   "metadata": {},
   "outputs": [
    {
     "data": {
      "text/plain": [
       "<tf.Tensor: shape=(2, 2), dtype=int32, numpy=\n",
       "array([[10,  7],\n",
       "       [ 3,  4]], dtype=int32)>"
      ]
     },
     "execution_count": 43,
     "metadata": {},
     "output_type": "execute_result"
    }
   ],
   "source": [
    "rank_2_tensor"
   ]
  },
  {
   "cell_type": "code",
   "execution_count": 44,
   "id": "1cdb7d68",
   "metadata": {},
   "outputs": [
    {
     "data": {
      "text/plain": [
       "([1, 2, 3, 4], 4)"
      ]
     },
     "execution_count": 44,
     "metadata": {},
     "output_type": "execute_result"
    }
   ],
   "source": [
    "some_list, some_list[-1]"
   ]
  },
  {
   "cell_type": "code",
   "execution_count": 45,
   "id": "4302fbba",
   "metadata": {},
   "outputs": [
    {
     "data": {
      "text/plain": [
       "<tf.Tensor: shape=(2,), dtype=int32, numpy=array([7, 4], dtype=int32)>"
      ]
     },
     "execution_count": 45,
     "metadata": {},
     "output_type": "execute_result"
    }
   ],
   "source": [
    "# Get the last item of each of row of rank 2 tensor\n",
    "rank_2_tensor[:, -1]"
   ]
  },
  {
   "cell_type": "code",
   "execution_count": 46,
   "id": "07ee15e3",
   "metadata": {},
   "outputs": [
    {
     "data": {
      "text/plain": [
       "<tf.Tensor: shape=(2,), dtype=int32, numpy=array([3, 4], dtype=int32)>"
      ]
     },
     "execution_count": 46,
     "metadata": {},
     "output_type": "execute_result"
    }
   ],
   "source": [
    "rank_2_tensor[1, :]"
   ]
  },
  {
   "cell_type": "code",
   "execution_count": 47,
   "id": "58351f89",
   "metadata": {},
   "outputs": [
    {
     "data": {
      "text/plain": [
       "<tf.Tensor: shape=(1, 2), dtype=int32, numpy=array([[10,  7]], dtype=int32)>"
      ]
     },
     "execution_count": 47,
     "metadata": {},
     "output_type": "execute_result"
    }
   ],
   "source": [
    "rank_2_tensor[:1, :]"
   ]
  },
  {
   "cell_type": "code",
   "execution_count": 48,
   "id": "e2ed4ad9",
   "metadata": {},
   "outputs": [
    {
     "data": {
      "text/plain": [
       "<tf.Tensor: shape=(2, 2, 1), dtype=int32, numpy=\n",
       "array([[[10],\n",
       "        [ 7]],\n",
       "\n",
       "       [[ 3],\n",
       "        [ 4]]], dtype=int32)>"
      ]
     },
     "execution_count": 48,
     "metadata": {},
     "output_type": "execute_result"
    }
   ],
   "source": [
    "# add in extra dimension to rank 2 tensor\n",
    "rank_3_tensor = rank_2_tensor[..., tf.newaxis]\n",
    "rank_3_tensor"
   ]
  },
  {
   "cell_type": "code",
   "execution_count": 49,
   "id": "07233b58",
   "metadata": {},
   "outputs": [
    {
     "data": {
      "text/plain": [
       "<tf.Tensor: shape=(2, 2, 1), dtype=int32, numpy=\n",
       "array([[[10],\n",
       "        [ 7]],\n",
       "\n",
       "       [[ 3],\n",
       "        [ 4]]], dtype=int32)>"
      ]
     },
     "execution_count": 49,
     "metadata": {},
     "output_type": "execute_result"
    }
   ],
   "source": [
    "# alternative o tf.newaxis\n",
    "tf.expand_dims(rank_2_tensor, axis=-1) # -1 means expand the final axis"
   ]
  },
  {
   "cell_type": "code",
   "execution_count": 50,
   "id": "aa39e043",
   "metadata": {},
   "outputs": [
    {
     "data": {
      "text/plain": [
       "<tf.Tensor: shape=(2, 1, 2), dtype=int32, numpy=\n",
       "array([[[10,  7]],\n",
       "\n",
       "       [[ 3,  4]]], dtype=int32)>"
      ]
     },
     "execution_count": 50,
     "metadata": {},
     "output_type": "execute_result"
    }
   ],
   "source": [
    "tf.expand_dims(rank_2_tensor, axis=1) # expand the 0-axis"
   ]
  },
  {
   "cell_type": "markdown",
   "id": "a45c6b5a",
   "metadata": {},
   "source": [
    "### Manipulating tensors (tensors operations)\n",
    "**Basic Operations**\n",
    "\n",
    "`+`, `-`, `/`"
   ]
  },
  {
   "cell_type": "code",
   "execution_count": 51,
   "id": "64bb9c39",
   "metadata": {},
   "outputs": [
    {
     "data": {
      "text/plain": [
       "<tf.Tensor: shape=(2, 2), dtype=int32, numpy=\n",
       "array([[20, 17],\n",
       "       [13, 15]], dtype=int32)>"
      ]
     },
     "execution_count": 51,
     "metadata": {},
     "output_type": "execute_result"
    }
   ],
   "source": [
    "# you can add values to a tensor using the addition operator\n",
    "tensor = tf.constant([[10, 7],[3, 5]])\n",
    "tensor + 10"
   ]
  },
  {
   "cell_type": "code",
   "execution_count": 52,
   "id": "af485d2e",
   "metadata": {
    "scrolled": true
   },
   "outputs": [
    {
     "data": {
      "text/plain": [
       "<tf.Tensor: shape=(2, 2), dtype=int32, numpy=\n",
       "array([[10,  7],\n",
       "       [ 3,  5]], dtype=int32)>"
      ]
     },
     "execution_count": 52,
     "metadata": {},
     "output_type": "execute_result"
    }
   ],
   "source": [
    "# original tensor is unchanged\n",
    "tensor"
   ]
  },
  {
   "cell_type": "code",
   "execution_count": 53,
   "id": "19bda5f0",
   "metadata": {},
   "outputs": [
    {
     "data": {
      "text/plain": [
       "<tf.Tensor: shape=(2, 2), dtype=int32, numpy=\n",
       "array([[100,  70],\n",
       "       [ 30,  50]], dtype=int32)>"
      ]
     },
     "execution_count": 53,
     "metadata": {},
     "output_type": "execute_result"
    }
   ],
   "source": [
    "# Multiplicaton also works\n",
    "tensor * 10"
   ]
  },
  {
   "cell_type": "code",
   "execution_count": 54,
   "id": "a10a6e89",
   "metadata": {},
   "outputs": [
    {
     "data": {
      "text/plain": [
       "<tf.Tensor: shape=(2, 2), dtype=int32, numpy=\n",
       "array([[ 0, -3],\n",
       "       [-7, -5]], dtype=int32)>"
      ]
     },
     "execution_count": 54,
     "metadata": {},
     "output_type": "execute_result"
    }
   ],
   "source": [
    "# Substraction \n",
    "tensor - 10"
   ]
  },
  {
   "cell_type": "code",
   "execution_count": 55,
   "id": "0b7a1dc3",
   "metadata": {},
   "outputs": [
    {
     "data": {
      "text/plain": [
       "<tf.Tensor: shape=(2, 2), dtype=int32, numpy=\n",
       "array([[100,  70],\n",
       "       [ 30,  50]], dtype=int32)>"
      ]
     },
     "execution_count": 55,
     "metadata": {},
     "output_type": "execute_result"
    }
   ],
   "source": [
    "# we can use the tensorflow built-in function too\n",
    "tf.multiply(tensor, 10)"
   ]
  },
  {
   "cell_type": "code",
   "execution_count": 56,
   "id": "c8d53245",
   "metadata": {},
   "outputs": [
    {
     "data": {
      "text/plain": [
       "<tf.Tensor: shape=(2, 2), dtype=int32, numpy=\n",
       "array([[14, 11],\n",
       "       [ 7,  9]], dtype=int32)>"
      ]
     },
     "execution_count": 56,
     "metadata": {},
     "output_type": "execute_result"
    }
   ],
   "source": [
    "tf.add(tensor, 4)"
   ]
  },
  {
   "cell_type": "markdown",
   "id": "be45e8c4",
   "metadata": {},
   "source": [
    "**Matrix Multiplication**\n",
    "\n",
    "In machine learning, matrix multiplication is one of the most common tensor operation"
   ]
  },
  {
   "cell_type": "code",
   "execution_count": 57,
   "id": "9fda3768",
   "metadata": {},
   "outputs": [
    {
     "name": "stdout",
     "output_type": "stream",
     "text": [
      "tf.Tensor(\n",
      "[[10  7]\n",
      " [ 3  5]], shape=(2, 2), dtype=int32)\n"
     ]
    },
    {
     "data": {
      "text/plain": [
       "<tf.Tensor: shape=(2, 2), dtype=int32, numpy=\n",
       "array([[121, 105],\n",
       "       [ 45,  46]], dtype=int32)>"
      ]
     },
     "execution_count": 57,
     "metadata": {},
     "output_type": "execute_result"
    }
   ],
   "source": [
    "# Matrix multiplication in tensorflow\n",
    "print(tensor)\n",
    "tf.matmul(tensor, tensor)"
   ]
  },
  {
   "cell_type": "code",
   "execution_count": 58,
   "id": "30e8378e",
   "metadata": {},
   "outputs": [
    {
     "data": {
      "text/plain": [
       "<tf.Tensor: shape=(2, 2), dtype=int32, numpy=\n",
       "array([[121, 105],\n",
       "       [ 45,  46]], dtype=int32)>"
      ]
     },
     "execution_count": 58,
     "metadata": {},
     "output_type": "execute_result"
    }
   ],
   "source": [
    "# Matrix multiplication with python operator \"@\"\n",
    "tensor @ tensor"
   ]
  },
  {
   "cell_type": "code",
   "execution_count": 59,
   "id": "9f68fb66",
   "metadata": {},
   "outputs": [
    {
     "data": {
      "text/plain": [
       "<tf.Tensor: shape=(2, 2), dtype=int32, numpy=\n",
       "array([[100,  49],\n",
       "       [  9,  25]], dtype=int32)>"
      ]
     },
     "execution_count": 59,
     "metadata": {},
     "output_type": "execute_result"
    }
   ],
   "source": [
    "tensor * tensor"
   ]
  },
  {
   "cell_type": "code",
   "execution_count": 60,
   "id": "7be2d95e",
   "metadata": {},
   "outputs": [
    {
     "data": {
      "text/plain": [
       "(<tf.Tensor: shape=(3, 3), dtype=int32, numpy=\n",
       " array([[1, 2, 5],\n",
       "        [7, 2, 1],\n",
       "        [3, 3, 3]], dtype=int32)>,\n",
       " <tf.Tensor: shape=(3, 2), dtype=int32, numpy=\n",
       " array([[3, 5],\n",
       "        [6, 7],\n",
       "        [1, 8]], dtype=int32)>)"
      ]
     },
     "execution_count": 60,
     "metadata": {},
     "output_type": "execute_result"
    }
   ],
   "source": [
    "X = tf.constant([[1, 2, 5],\n",
    "                       [7, 2, 1],\n",
    "                       [3, 3, 3]])\n",
    "Y = tf.constant([[3, 5],\n",
    "                       [6, 7],\n",
    "                       [1, 8]])\n",
    "X, Y"
   ]
  },
  {
   "cell_type": "code",
   "execution_count": 61,
   "id": "7de426d5",
   "metadata": {},
   "outputs": [
    {
     "data": {
      "text/plain": [
       "<tf.Tensor: shape=(3, 2), dtype=int32, numpy=\n",
       "array([[20, 59],\n",
       "       [34, 57],\n",
       "       [30, 60]], dtype=int32)>"
      ]
     },
     "execution_count": 61,
     "metadata": {},
     "output_type": "execute_result"
    }
   ],
   "source": [
    "# tensorflow matrix multiplication\n",
    "tf.matmul(X, Y)"
   ]
  },
  {
   "cell_type": "code",
   "execution_count": 62,
   "id": "3a50f404",
   "metadata": {},
   "outputs": [
    {
     "data": {
      "text/plain": [
       "<tf.Tensor: shape=(3, 2), dtype=int32, numpy=\n",
       "array([[20, 59],\n",
       "       [34, 57],\n",
       "       [30, 60]], dtype=int32)>"
      ]
     },
     "execution_count": 62,
     "metadata": {},
     "output_type": "execute_result"
    }
   ],
   "source": [
    "# python matrix multiplicaion \n",
    "X @ Y"
   ]
  },
  {
   "cell_type": "code",
   "execution_count": 63,
   "id": "842e9c8c",
   "metadata": {},
   "outputs": [
    {
     "data": {
      "text/plain": [
       "<tf.Tensor: shape=(3, 2), dtype=int32, numpy=\n",
       "array([[3, 5],\n",
       "       [6, 7],\n",
       "       [1, 8]], dtype=int32)>"
      ]
     },
     "execution_count": 63,
     "metadata": {},
     "output_type": "execute_result"
    }
   ],
   "source": [
    "Y"
   ]
  },
  {
   "cell_type": "code",
   "execution_count": 64,
   "id": "e0641607",
   "metadata": {},
   "outputs": [
    {
     "data": {
      "text/plain": [
       "(TensorShape([3, 3]), TensorShape([3, 2]))"
      ]
     },
     "execution_count": 64,
     "metadata": {},
     "output_type": "execute_result"
    }
   ],
   "source": [
    "X.shape, Y.shape"
   ]
  },
  {
   "cell_type": "code",
   "execution_count": 65,
   "id": "d7587372",
   "metadata": {},
   "outputs": [
    {
     "data": {
      "text/plain": [
       "<tf.Tensor: shape=(2, 3), dtype=int32, numpy=\n",
       "array([[3, 5, 6],\n",
       "       [7, 1, 8]], dtype=int32)>"
      ]
     },
     "execution_count": 65,
     "metadata": {},
     "output_type": "execute_result"
    }
   ],
   "source": [
    "# Let's change the spahe of Y\n",
    "tf.reshape(Y, shape=(2, 3))"
   ]
  },
  {
   "cell_type": "code",
   "execution_count": 66,
   "id": "96361917",
   "metadata": {},
   "outputs": [
    {
     "data": {
      "text/plain": [
       "TensorShape([2, 2])"
      ]
     },
     "execution_count": 66,
     "metadata": {},
     "output_type": "execute_result"
    }
   ],
   "source": [
    "tensor.shape"
   ]
  },
  {
   "cell_type": "code",
   "execution_count": 67,
   "id": "2f19b3bb",
   "metadata": {},
   "outputs": [
    {
     "data": {
      "text/plain": [
       "<tf.Tensor: shape=(2, 3), dtype=int32, numpy=\n",
       "array([[ 79,  57, 116],\n",
       "       [ 44,  20,  58]], dtype=int32)>"
      ]
     },
     "execution_count": 67,
     "metadata": {},
     "output_type": "execute_result"
    }
   ],
   "source": [
    "tensor @ tf.reshape(Y, shape=(2, 3))"
   ]
  },
  {
   "cell_type": "code",
   "execution_count": 68,
   "id": "c742d3e6",
   "metadata": {},
   "outputs": [
    {
     "data": {
      "text/plain": [
       "<tf.Tensor: shape=(3, 2), dtype=int32, numpy=\n",
       "array([[1, 2],\n",
       "       [3, 4],\n",
       "       [5, 6]], dtype=int32)>"
      ]
     },
     "execution_count": 68,
     "metadata": {},
     "output_type": "execute_result"
    }
   ],
   "source": [
    "X = tf.constant([[1, 2], \n",
    "                [3, 4], \n",
    "                [5, 6]])\n",
    "X"
   ]
  },
  {
   "cell_type": "code",
   "execution_count": 69,
   "id": "1dd47c18",
   "metadata": {},
   "outputs": [
    {
     "data": {
      "text/plain": [
       "(<tf.Tensor: shape=(3, 2), dtype=int32, numpy=\n",
       " array([[1, 2],\n",
       "        [3, 4],\n",
       "        [5, 6]], dtype=int32)>,\n",
       " <tf.Tensor: shape=(2, 3), dtype=int32, numpy=\n",
       " array([[1, 3, 5],\n",
       "        [2, 4, 6]], dtype=int32)>,\n",
       " <tf.Tensor: shape=(2, 3), dtype=int32, numpy=\n",
       " array([[1, 2, 3],\n",
       "        [4, 5, 6]], dtype=int32)>)"
      ]
     },
     "execution_count": 69,
     "metadata": {},
     "output_type": "execute_result"
    }
   ],
   "source": [
    "# can do the same with transpose\n",
    "X, tf.transpose(X), tf.reshape(X, shape=(2, 3))\n"
   ]
  },
  {
   "cell_type": "code",
   "execution_count": 70,
   "id": "b434e0c6",
   "metadata": {},
   "outputs": [
    {
     "data": {
      "text/plain": [
       "<tf.Tensor: shape=(2, 2), dtype=int32, numpy=\n",
       "array([[26, 66],\n",
       "       [36, 86]], dtype=int32)>"
      ]
     },
     "execution_count": 70,
     "metadata": {},
     "output_type": "execute_result"
    }
   ],
   "source": [
    "# matrix multiplication with transpose rather than reshape\n",
    "tf.matmul(tf.transpose(X), Y)"
   ]
  },
  {
   "cell_type": "markdown",
   "id": "39c1ea67",
   "metadata": {},
   "source": [
    "**The dot Product**\n",
    "\n",
    "Matrix Multiplication is also referred to as the dot product.\n",
    "\n",
    "You can perform matrix multiplictaion using:\n",
    "* `tf.matmul()`\n",
    "* `tf.tensordot()`"
   ]
  },
  {
   "cell_type": "code",
   "execution_count": 71,
   "id": "fd4d9ddc",
   "metadata": {},
   "outputs": [
    {
     "data": {
      "text/plain": [
       "<tf.Tensor: shape=(3, 3), dtype=int32, numpy=\n",
       "array([[13, 20, 17],\n",
       "       [29, 46, 35],\n",
       "       [45, 72, 53]], dtype=int32)>"
      ]
     },
     "execution_count": 71,
     "metadata": {},
     "output_type": "execute_result"
    }
   ],
   "source": [
    "# perform matrix multiplication between X and Y (transposed)\n",
    "tf.matmul(X, tf.transpose(Y))"
   ]
  },
  {
   "cell_type": "code",
   "execution_count": 72,
   "id": "104d22b6",
   "metadata": {},
   "outputs": [
    {
     "data": {
      "text/plain": [
       "<tf.Tensor: shape=(3, 3), dtype=int32, numpy=\n",
       "array([[17,  7, 22],\n",
       "       [37, 19, 50],\n",
       "       [57, 31, 78]], dtype=int32)>"
      ]
     },
     "execution_count": 72,
     "metadata": {},
     "output_type": "execute_result"
    }
   ],
   "source": [
    "# perform matrix multiplication between X and Y (reshaped)\n",
    "tf.matmul(X, tf.reshape(Y, shape=(2, 3)))"
   ]
  },
  {
   "cell_type": "code",
   "execution_count": 73,
   "id": "cc90f043",
   "metadata": {},
   "outputs": [
    {
     "name": "stdout",
     "output_type": "stream",
     "text": [
      "Normal Y:  tf.Tensor(\n",
      "[[3 5]\n",
      " [6 7]\n",
      " [1 8]], shape=(3, 2), dtype=int32)\n",
      "y reshaped to (2, 3):  tf.Tensor(\n",
      "[[3 5 6]\n",
      " [7 1 8]], shape=(2, 3), dtype=int32)\n",
      "Y transposed:  tf.Tensor(\n",
      "[[3 6 1]\n",
      " [5 7 8]], shape=(2, 3), dtype=int32)\n"
     ]
    }
   ],
   "source": [
    "# Check the values of Y, reshape Y and transposed Y\n",
    "print(f\"Normal Y: \", Y)\n",
    "print(f\"y reshaped to (2, 3): \", tf.reshape(Y, (2, 3)))\n",
    "print(f\"Y transposed: \", tf.transpose(Y))"
   ]
  },
  {
   "cell_type": "code",
   "execution_count": 74,
   "id": "8237bac3",
   "metadata": {},
   "outputs": [
    {
     "data": {
      "text/plain": [
       "<tf.Tensor: shape=(3, 3), dtype=int32, numpy=\n",
       "array([[13, 20, 17],\n",
       "       [29, 46, 35],\n",
       "       [45, 72, 53]], dtype=int32)>"
      ]
     },
     "execution_count": 74,
     "metadata": {},
     "output_type": "execute_result"
    }
   ],
   "source": [
    "tf.matmul(X, tf.transpose(Y))"
   ]
  },
  {
   "cell_type": "markdown",
   "id": "18680c3a",
   "metadata": {},
   "source": [
    "### Changing the datatype of tensor"
   ]
  },
  {
   "cell_type": "code",
   "execution_count": 75,
   "id": "831544a0",
   "metadata": {},
   "outputs": [
    {
     "data": {
      "text/plain": [
       "(<tf.Tensor: shape=(2,), dtype=float32, numpy=array([1.7, 7.4], dtype=float32)>,\n",
       " tf.float32)"
      ]
     },
     "execution_count": 75,
     "metadata": {},
     "output_type": "execute_result"
    }
   ],
   "source": [
    "# create a new tensor with default datatype (float32)\n",
    "B = tf.constant([1.7, 7.4])\n",
    "B, B.dtype\n"
   ]
  },
  {
   "cell_type": "code",
   "execution_count": 76,
   "id": "3c90b52c",
   "metadata": {},
   "outputs": [
    {
     "data": {
      "text/plain": [
       "(<tf.Tensor: shape=(2,), dtype=int32, numpy=array([10,  7], dtype=int32)>,\n",
       " tf.int32)"
      ]
     },
     "execution_count": 76,
     "metadata": {},
     "output_type": "execute_result"
    }
   ],
   "source": [
    "C = tf.constant([10, 7])\n",
    "C, C.dtype"
   ]
  },
  {
   "cell_type": "code",
   "execution_count": 77,
   "id": "bf8002ab",
   "metadata": {},
   "outputs": [
    {
     "data": {
      "text/plain": [
       "'2.12.0'"
      ]
     },
     "execution_count": 77,
     "metadata": {},
     "output_type": "execute_result"
    }
   ],
   "source": [
    "tf.__version__"
   ]
  },
  {
   "cell_type": "code",
   "execution_count": 78,
   "id": "ca116f12",
   "metadata": {},
   "outputs": [
    {
     "data": {
      "text/plain": [
       "(<tf.Tensor: shape=(2,), dtype=float16, numpy=array([1.7, 7.4], dtype=float16)>,\n",
       " tf.float16)"
      ]
     },
     "execution_count": 78,
     "metadata": {},
     "output_type": "execute_result"
    }
   ],
   "source": [
    "# Change from float32 to float16\n",
    "D = tf.cast(B, dtype=tf.float16)\n",
    "D, D.dtype"
   ]
  },
  {
   "cell_type": "code",
   "execution_count": 79,
   "id": "a9f7a9b0",
   "metadata": {},
   "outputs": [
    {
     "data": {
      "text/plain": [
       "(<tf.Tensor: shape=(2,), dtype=float32, numpy=array([10.,  7.], dtype=float32)>,\n",
       " tf.float32)"
      ]
     },
     "execution_count": 79,
     "metadata": {},
     "output_type": "execute_result"
    }
   ],
   "source": [
    " # Change from int32 to float32\n",
    "E = tf.cast(C, dtype=tf.float32)\n",
    "E, E.dtype"
   ]
  },
  {
   "cell_type": "markdown",
   "id": "530f8d0f",
   "metadata": {},
   "source": [
    "### Aggregation tensors\n",
    "Aggregating tensors = condensing them from multiple values down to a smaller amount of values."
   ]
  },
  {
   "cell_type": "code",
   "execution_count": 80,
   "id": "2c1f6c44",
   "metadata": {},
   "outputs": [
    {
     "data": {
      "text/plain": [
       "<tf.Tensor: shape=(2,), dtype=int32, numpy=array([-10, -11], dtype=int32)>"
      ]
     },
     "execution_count": 80,
     "metadata": {},
     "output_type": "execute_result"
    }
   ],
   "source": [
    "# Get the absolute values\n",
    "D = tf.constant([-10, -11])\n",
    "D"
   ]
  },
  {
   "cell_type": "code",
   "execution_count": 81,
   "id": "5494e9fe",
   "metadata": {},
   "outputs": [
    {
     "data": {
      "text/plain": [
       "<tf.Tensor: shape=(2,), dtype=int32, numpy=array([10, 11], dtype=int32)>"
      ]
     },
     "execution_count": 81,
     "metadata": {},
     "output_type": "execute_result"
    }
   ],
   "source": [
    "# get the absolurte values\n",
    "tf.abs(D)"
   ]
  },
  {
   "cell_type": "markdown",
   "id": "a9320033",
   "metadata": {},
   "source": [
    "Let's go through the following forms of aggregation:\n",
    "* Get the minimum\n",
    "* Get the maximum\n",
    "* Get the mean of tensor\n",
    "* Get the sum of tensor"
   ]
  },
  {
   "cell_type": "code",
   "execution_count": 82,
   "id": "93cf9ca9",
   "metadata": {},
   "outputs": [
    {
     "data": {
      "text/plain": [
       "<tf.Tensor: shape=(50,), dtype=int64, numpy=\n",
       "array([52, 15, 51,  1, 13, 48, 76, 58, 74,  4, 17, 47, 66, 20,  3, 71, 39,\n",
       "       53,  9, 43,  2, 94, 79, 97, 41, 11, 66, 98, 41, 63, 91, 25, 29,  3,\n",
       "       94, 25, 19, 38,  1, 40, 84, 86, 73, 70, 41, 35, 91, 87, 79, 33])>"
      ]
     },
     "execution_count": 82,
     "metadata": {},
     "output_type": "execute_result"
    }
   ],
   "source": [
    "# Creating a random tensor with values between 0 and 100 of size 50\n",
    "E = tf.constant(np.random.randint(0, 100, size=50))\n",
    "E"
   ]
  },
  {
   "cell_type": "code",
   "execution_count": 83,
   "id": "fa024690",
   "metadata": {},
   "outputs": [
    {
     "data": {
      "text/plain": [
       "(<tf.Tensor: shape=(), dtype=int32, numpy=50>, TensorShape([50]), 1, tf.int64)"
      ]
     },
     "execution_count": 83,
     "metadata": {},
     "output_type": "execute_result"
    }
   ],
   "source": [
    "tf.size(E, ), E.shape, E.ndim, E.dtype"
   ]
  },
  {
   "cell_type": "code",
   "execution_count": 84,
   "id": "cc901411",
   "metadata": {},
   "outputs": [
    {
     "data": {
      "text/plain": [
       "<tf.Tensor: shape=(), dtype=int64, numpy=1>"
      ]
     },
     "execution_count": 84,
     "metadata": {},
     "output_type": "execute_result"
    }
   ],
   "source": [
    "tf.reduce_min(E)"
   ]
  },
  {
   "cell_type": "code",
   "execution_count": 85,
   "id": "6bb82b33",
   "metadata": {},
   "outputs": [
    {
     "data": {
      "text/plain": [
       "<tf.Tensor: shape=(), dtype=int64, numpy=98>"
      ]
     },
     "execution_count": 85,
     "metadata": {},
     "output_type": "execute_result"
    }
   ],
   "source": [
    "tf.reduce_max(E)"
   ]
  },
  {
   "cell_type": "code",
   "execution_count": 86,
   "id": "686021ae",
   "metadata": {},
   "outputs": [
    {
     "data": {
      "text/plain": [
       "<tf.Tensor: shape=(), dtype=int64, numpy=2396>"
      ]
     },
     "execution_count": 86,
     "metadata": {},
     "output_type": "execute_result"
    }
   ],
   "source": [
    "tf.reduce_sum(E)"
   ]
  },
  {
   "cell_type": "code",
   "execution_count": 87,
   "id": "e77ae1eb",
   "metadata": {},
   "outputs": [
    {
     "data": {
      "text/plain": [
       "<tf.Tensor: shape=(), dtype=int64, numpy=47>"
      ]
     },
     "execution_count": 87,
     "metadata": {},
     "output_type": "execute_result"
    }
   ],
   "source": [
    "tf.reduce_mean(E)"
   ]
  },
  {
   "cell_type": "markdown",
   "id": "b4fc4890",
   "metadata": {},
   "source": [
    "***Exercise:** with what we've just learned, find the variance and standard deviation of tensor using tensorflow method"
   ]
  },
  {
   "cell_type": "code",
   "execution_count": 88,
   "id": "f7d6f1db",
   "metadata": {},
   "outputs": [
    {
     "data": {
      "text/plain": [
       "<tf.Tensor: shape=(70,), dtype=int64, numpy=\n",
       "array([850, 251, 916, 726, 477, 505, 166, 726, 664, 761,  60, 256, 866,\n",
       "       595, 402, 770, 725, 360, 737, 754, 769, 379, 873, 544, 318, 985,\n",
       "       348, 313, 620, 632, 946, 315, 581, 916, 656,  51, 682,  42, 179,\n",
       "       381, 415, 908, 234, 232, 175, 836, 528, 653, 583,  20, 180, 211,\n",
       "        13, 551, 348, 213,  40, 888, 974, 141, 667, 722, 856, 719, 724,\n",
       "       841, 203, 690, 108, 156])>"
      ]
     },
     "execution_count": 88,
     "metadata": {},
     "output_type": "execute_result"
    }
   ],
   "source": [
    "E = tf.constant(np.random.randint(0, 1000, size=70))\n",
    "E"
   ]
  },
  {
   "cell_type": "code",
   "execution_count": 89,
   "id": "9d95593b",
   "metadata": {},
   "outputs": [
    {
     "data": {
      "text/plain": [
       "(<tf.Tensor: shape=(), dtype=int32, numpy=70>, 1, TensorShape([70]))"
      ]
     },
     "execution_count": 89,
     "metadata": {},
     "output_type": "execute_result"
    }
   ],
   "source": [
    "tf.size(E), E.ndim, E.shape"
   ]
  },
  {
   "cell_type": "code",
   "execution_count": 90,
   "id": "79749ea0",
   "metadata": {},
   "outputs": [
    {
     "data": {
      "text/plain": [
       "<tf.Tensor: shape=(), dtype=int64, numpy=13>"
      ]
     },
     "execution_count": 90,
     "metadata": {},
     "output_type": "execute_result"
    }
   ],
   "source": [
    "tf.reduce_min(E)"
   ]
  },
  {
   "cell_type": "code",
   "execution_count": 91,
   "id": "47bd212a",
   "metadata": {},
   "outputs": [
    {
     "data": {
      "text/plain": [
       "<tf.Tensor: shape=(), dtype=int64, numpy=985>"
      ]
     },
     "execution_count": 91,
     "metadata": {},
     "output_type": "execute_result"
    }
   ],
   "source": [
    "tf.reduce_max(E)"
   ]
  },
  {
   "cell_type": "code",
   "execution_count": 92,
   "id": "7235ed22",
   "metadata": {},
   "outputs": [
    {
     "data": {
      "text/plain": [
       "<tf.Tensor: shape=(), dtype=int64, numpy=35926>"
      ]
     },
     "execution_count": 92,
     "metadata": {},
     "output_type": "execute_result"
    }
   ],
   "source": [
    "tf.reduce_sum(E)"
   ]
  },
  {
   "cell_type": "code",
   "execution_count": 93,
   "id": "fa5680f7",
   "metadata": {},
   "outputs": [
    {
     "data": {
      "text/plain": [
       "<tf.Tensor: shape=(), dtype=int64, numpy=513>"
      ]
     },
     "execution_count": 93,
     "metadata": {},
     "output_type": "execute_result"
    }
   ],
   "source": [
    "tf.reduce_mean(E)"
   ]
  },
  {
   "cell_type": "code",
   "execution_count": 96,
   "id": "7a2e1b47",
   "metadata": {},
   "outputs": [
    {
     "data": {
      "text/plain": [
       "<tf.Tensor: shape=(), dtype=int64, numpy=82385>"
      ]
     },
     "execution_count": 96,
     "metadata": {},
     "output_type": "execute_result"
    }
   ],
   "source": [
    "import tensorflow_probability as tfp\n",
    "\n",
    "# variance using tensorflow-probability\n",
    "tfp.stats.variance(E)"
   ]
  },
  {
   "cell_type": "code",
   "execution_count": 97,
   "id": "0c83fb68",
   "metadata": {},
   "outputs": [
    {
     "data": {
      "text/plain": [
       "<tf.Tensor: shape=(), dtype=float32, numpy=287.02884>"
      ]
     },
     "execution_count": 97,
     "metadata": {},
     "output_type": "execute_result"
    }
   ],
   "source": [
    "# Find the standard deviation\n",
    "tf.math.reduce_std(tf.cast(E, dtype=tf.float32))"
   ]
  },
  {
   "cell_type": "code",
   "execution_count": 100,
   "id": "6bb577e8",
   "metadata": {},
   "outputs": [
    {
     "data": {
      "text/plain": [
       "<tf.Tensor: shape=(), dtype=float32, numpy=82385.555>"
      ]
     },
     "execution_count": 100,
     "metadata": {},
     "output_type": "execute_result"
    }
   ],
   "source": [
    "# find the variance of tensor\n",
    "tf.math.reduce_variance(tf.cast(E, dtype=tf.float32))"
   ]
  },
  {
   "cell_type": "markdown",
   "id": "fe349880",
   "metadata": {},
   "source": [
    " ### Find the positional maximum and minimum"
   ]
  },
  {
   "cell_type": "code",
   "execution_count": 101,
   "id": "4088d605",
   "metadata": {},
   "outputs": [
    {
     "data": {
      "text/plain": [
       "<tf.Tensor: shape=(50,), dtype=float32, numpy=\n",
       "array([0.6645621 , 0.44100678, 0.3528825 , 0.46448255, 0.03366041,\n",
       "       0.68467236, 0.74011743, 0.8724445 , 0.22632635, 0.22319686,\n",
       "       0.3103881 , 0.7223358 , 0.13318717, 0.5480639 , 0.5746088 ,\n",
       "       0.8996835 , 0.00946367, 0.5212307 , 0.6345445 , 0.1993283 ,\n",
       "       0.72942245, 0.54583454, 0.10756552, 0.6767061 , 0.6602763 ,\n",
       "       0.33695042, 0.60141766, 0.21062577, 0.8527372 , 0.44062173,\n",
       "       0.9485276 , 0.23752594, 0.81179297, 0.5263394 , 0.494308  ,\n",
       "       0.21612847, 0.8457197 , 0.8718841 , 0.3083862 , 0.6868038 ,\n",
       "       0.23764038, 0.7817228 , 0.9671384 , 0.06870162, 0.79873943,\n",
       "       0.66028714, 0.5871513 , 0.16461694, 0.7381023 , 0.32054043],\n",
       "      dtype=float32)>"
      ]
     },
     "execution_count": 101,
     "metadata": {},
     "output_type": "execute_result"
    }
   ],
   "source": [
    "# Create a new tensor for finding positional minimum and maximum\n",
    "tf.random.set_seed(42)\n",
    "F = tf.random.uniform(shape=[50])\n",
    "F"
   ]
  },
  {
   "cell_type": "code",
   "execution_count": 103,
   "id": "ba2f000e",
   "metadata": {},
   "outputs": [
    {
     "data": {
      "text/plain": [
       "<tf.Tensor: shape=(), dtype=int64, numpy=42>"
      ]
     },
     "execution_count": 103,
     "metadata": {},
     "output_type": "execute_result"
    }
   ],
   "source": [
    "# find the positional maximum\n",
    "tf.argmax(F)"
   ]
  },
  {
   "cell_type": "code",
   "execution_count": 104,
   "id": "4ad75f24",
   "metadata": {},
   "outputs": [
    {
     "data": {
      "text/plain": [
       "<tf.Tensor: shape=(), dtype=float32, numpy=0.9671384>"
      ]
     },
     "execution_count": 104,
     "metadata": {},
     "output_type": "execute_result"
    }
   ],
   "source": [
    "# Index on our largest value position\n",
    "F[tf.argmax(F)]"
   ]
  },
  {
   "cell_type": "code",
   "execution_count": 105,
   "id": "f0392f34",
   "metadata": {},
   "outputs": [
    {
     "data": {
      "text/plain": [
       "<tf.Tensor: shape=(), dtype=float32, numpy=0.9671384>"
      ]
     },
     "execution_count": 105,
     "metadata": {},
     "output_type": "execute_result"
    }
   ],
   "source": [
    "# Find the max value of F\n",
    "tf.reduce_max(F)"
   ]
  },
  {
   "cell_type": "code",
   "execution_count": 107,
   "id": "fc0aa235",
   "metadata": {},
   "outputs": [
    {
     "data": {
      "text/plain": [
       "<tf.Tensor: shape=(), dtype=bool, numpy=True>"
      ]
     },
     "execution_count": 107,
     "metadata": {},
     "output_type": "execute_result"
    }
   ],
   "source": [
    "# Check for equality\n",
    "F[tf.argmax(F)] == tf.reduce_max(F)"
   ]
  },
  {
   "cell_type": "code",
   "execution_count": 108,
   "id": "fb316bc5",
   "metadata": {},
   "outputs": [
    {
     "data": {
      "text/plain": [
       "<tf.Tensor: shape=(), dtype=int64, numpy=16>"
      ]
     },
     "execution_count": 108,
     "metadata": {},
     "output_type": "execute_result"
    }
   ],
   "source": [
    "# find minimum position\n",
    "tf.argmin(F)"
   ]
  },
  {
   "cell_type": "code",
   "execution_count": 110,
   "id": "6fee9dc1",
   "metadata": {},
   "outputs": [
    {
     "data": {
      "text/plain": [
       "<tf.Tensor: shape=(), dtype=float32, numpy=0.009463668>"
      ]
     },
     "execution_count": 110,
     "metadata": {},
     "output_type": "execute_result"
    }
   ],
   "source": [
    "# find the minimum positional value in F\n",
    "F[tf.argmin(F)]"
   ]
  },
  {
   "cell_type": "markdown",
   "id": "f0d26a67",
   "metadata": {},
   "source": [
    "### Exercise"
   ]
  },
  {
   "cell_type": "code",
   "execution_count": 111,
   "id": "33a6b0fa",
   "metadata": {},
   "outputs": [
    {
     "data": {
      "text/plain": [
       "<tf.Tensor: shape=(1000,), dtype=float32, numpy=\n",
       "array([6.64562106e-01, 4.41006780e-01, 3.52882504e-01, 4.64482546e-01,\n",
       "       3.36604118e-02, 6.84672356e-01, 7.40117431e-01, 8.72444510e-01,\n",
       "       2.26326346e-01, 2.23196864e-01, 3.10388088e-01, 7.22335815e-01,\n",
       "       1.33187175e-01, 5.48063874e-01, 5.74608803e-01, 8.99683475e-01,\n",
       "       9.46366787e-03, 5.21230698e-01, 6.34544492e-01, 1.99328303e-01,\n",
       "       7.29422450e-01, 5.45834541e-01, 1.07565522e-01, 6.76706076e-01,\n",
       "       6.60276294e-01, 3.36950421e-01, 6.01417661e-01, 2.10625768e-01,\n",
       "       8.52737188e-01, 4.40621734e-01, 9.48527575e-01, 2.37525940e-01,\n",
       "       8.11792970e-01, 5.26339412e-01, 4.94307995e-01, 2.16128469e-01,\n",
       "       8.45719695e-01, 8.71884108e-01, 3.08386207e-01, 6.86803818e-01,\n",
       "       2.37640381e-01, 7.81722784e-01, 9.67138410e-01, 6.87016249e-02,\n",
       "       7.98739433e-01, 6.60287142e-01, 5.87151289e-01, 1.64616942e-01,\n",
       "       7.38102317e-01, 3.20540428e-01, 6.07389927e-01, 4.65234756e-01,\n",
       "       9.78035450e-01, 7.22314477e-01, 3.23470473e-01, 8.25773358e-01,\n",
       "       4.97691512e-01, 1.94836736e-01, 7.58874774e-01, 3.38044405e-01,\n",
       "       2.81280637e-01, 3.15135717e-01, 6.06709242e-01, 7.49859810e-01,\n",
       "       5.01605511e-01, 1.82821631e-01, 1.31798148e-01, 6.46361232e-01,\n",
       "       9.55947518e-01, 6.67073488e-01, 3.07555318e-01, 3.68921876e-01,\n",
       "       4.47358966e-01, 1.83594584e-01, 5.28825521e-01, 7.05275416e-01,\n",
       "       8.98633003e-01, 3.13862920e-01, 6.23382568e-01, 9.68155265e-01,\n",
       "       1.12079263e-01, 2.95905352e-01, 9.35660481e-01, 1.34126306e-01,\n",
       "       3.19379330e-01, 2.62277007e-01, 3.14875841e-02, 9.00455236e-01,\n",
       "       6.40937924e-01, 5.82185507e-01, 2.09170938e-01, 7.17360854e-01,\n",
       "       3.63523006e-01, 4.67091799e-02, 1.49777889e-01, 8.43617558e-01,\n",
       "       9.35558677e-01, 9.51731205e-02, 8.61787796e-02, 6.24783874e-01,\n",
       "       3.70506525e-01, 5.13904214e-01, 6.23320699e-01, 8.02468181e-01,\n",
       "       1.66513801e-01, 2.20904469e-01, 6.24227166e-01, 8.71914625e-02,\n",
       "       9.21426654e-01, 9.34801698e-01, 6.04552269e-01, 4.79404330e-01,\n",
       "       1.44301414e-01, 3.26000333e-01, 9.25575256e-01, 7.75734186e-01,\n",
       "       6.36765003e-01, 6.28235102e-01, 3.54018331e-01, 4.14467335e-01,\n",
       "       1.10513091e-01, 1.41147017e-01, 1.88759089e-01, 6.89479351e-01,\n",
       "       7.21327543e-01, 2.48816133e-01, 5.91238141e-01, 4.97590303e-01,\n",
       "       8.97795200e-01, 1.21739745e-01, 1.35371685e-01, 2.55092502e-01,\n",
       "       4.98424768e-01, 7.22025394e-01, 5.16298056e-01, 5.60348749e-01,\n",
       "       5.85157037e-01, 2.37988710e-01, 9.10159945e-01, 8.71589184e-01,\n",
       "       7.39756584e-01, 5.28111339e-01, 2.29509354e-01, 1.29852295e-02,\n",
       "       6.45794272e-01, 5.59551001e-01, 2.66551614e-01, 8.58113170e-01,\n",
       "       9.37789679e-01, 9.18607473e-01, 8.24570298e-01, 4.90800142e-02,\n",
       "       9.26041842e-01, 8.39813471e-01, 3.18757534e-01, 1.46048665e-01,\n",
       "       7.95421839e-01, 7.55674243e-01, 1.65451884e-01, 9.27273750e-01,\n",
       "       4.20115471e-01, 9.38370228e-02, 4.35516596e-01, 5.23240447e-01,\n",
       "       6.70362949e-01, 8.64512086e-01, 2.37714291e-01, 8.49811792e-01,\n",
       "       1.94028497e-01, 7.57699728e-01, 7.78489113e-02, 7.65458226e-01,\n",
       "       2.80743599e-01, 1.53843045e-01, 5.07532597e-01, 6.42734528e-01,\n",
       "       6.02753878e-01, 6.88616037e-02, 1.02666378e-01, 4.03337359e-01,\n",
       "       6.03217721e-01, 9.88178253e-02, 3.11079979e-01, 3.76679897e-01,\n",
       "       7.72163153e-01, 3.76711130e-01, 2.49591231e-01, 2.84426212e-02,\n",
       "       5.55852294e-01, 4.19859648e-01, 8.05886507e-01, 3.07664752e-01,\n",
       "       8.24464560e-02, 1.34579182e-01, 7.22905397e-02, 4.66081977e-01,\n",
       "       7.73729086e-02, 7.40726948e-01, 6.27444148e-01, 4.73128796e-01,\n",
       "       8.15838575e-01, 9.82328415e-01, 7.94029713e-01, 5.63603163e-01,\n",
       "       6.71966672e-01, 8.90760899e-01, 2.50846982e-01, 4.16575789e-01,\n",
       "       8.88121724e-01, 5.38204908e-02, 8.74045491e-01, 2.58771658e-01,\n",
       "       3.46157908e-01, 8.98408890e-01, 9.26119089e-02, 8.17077994e-01,\n",
       "       7.58855343e-02, 1.56425357e-01, 8.02173376e-01, 9.43266988e-01,\n",
       "       5.42430401e-01, 3.79512548e-01, 4.78692412e-01, 2.33194590e-01,\n",
       "       9.61435914e-01, 3.55799198e-02, 7.51993179e-01, 4.96015549e-02,\n",
       "       1.83660388e-01, 2.15391636e-01, 6.27629638e-01, 7.93842912e-01,\n",
       "       8.43758821e-01, 5.97348213e-01, 3.13925862e-01, 8.51092696e-01,\n",
       "       3.03745270e-04, 6.98393822e-01, 5.64218521e-01, 5.37219763e-01,\n",
       "       6.57612681e-01, 6.59148574e-01, 8.04002285e-02, 7.77734160e-01,\n",
       "       5.61987519e-01, 2.73092151e-01, 4.77590322e-01, 7.89592028e-01,\n",
       "       9.37701821e-01, 1.62235737e-01, 5.90783954e-01, 3.86544704e-01,\n",
       "       2.08954215e-01, 5.23625255e-01, 8.33262920e-01, 7.80366778e-01,\n",
       "       7.50480413e-01, 7.77090549e-01, 6.54260874e-01, 5.08923173e-01,\n",
       "       4.47006226e-01, 2.07176447e-01, 5.70797801e-01, 1.07951641e-01,\n",
       "       8.95293355e-01, 2.44748473e-01, 5.40809751e-01, 5.25819898e-01,\n",
       "       4.14843082e-01, 7.09676504e-01, 7.83967376e-01, 1.83576465e-01,\n",
       "       7.42677927e-01, 3.99876237e-01, 6.27220511e-01, 1.59457445e-01,\n",
       "       4.28255796e-01, 7.18959451e-01, 1.97481990e-01, 3.25790882e-01,\n",
       "       2.89935112e-01, 6.01494193e-01, 8.85725379e-01, 8.43307257e-01,\n",
       "       9.15816307e-01, 6.46649480e-01, 8.83325219e-01, 3.99675131e-01,\n",
       "       9.82843399e-01, 3.70094538e-01, 7.43501902e-01, 6.11330271e-01,\n",
       "       9.91554976e-01, 5.44617057e-01, 4.80071425e-01, 7.55506396e-01,\n",
       "       6.12909436e-01, 3.14104676e-01, 7.59353518e-01, 3.69905233e-02,\n",
       "       5.32024026e-01, 2.91299462e-01, 1.05717659e-01, 6.61171436e-01,\n",
       "       1.11482143e-02, 3.43029022e-01, 5.31695724e-01, 2.20229387e-01,\n",
       "       3.95542383e-02, 6.44699931e-01, 2.91131377e-01, 9.30353880e-01,\n",
       "       6.87904358e-02, 6.19318604e-01, 9.84482884e-01, 9.57346797e-01,\n",
       "       8.67504001e-01, 3.84593010e-03, 3.00601482e-01, 4.55374479e-01,\n",
       "       3.04681420e-01, 5.61056256e-01, 1.93073630e-01, 2.47406960e-01,\n",
       "       8.60715985e-01, 7.47316718e-01, 9.51113105e-01, 3.77564907e-01,\n",
       "       2.84974813e-01, 4.88168120e-01, 1.64063573e-01, 4.80426431e-01,\n",
       "       8.06042790e-01, 5.04736543e-01, 3.24818850e-01, 3.34890842e-01,\n",
       "       8.14333081e-01, 4.18797135e-01, 2.88328528e-01, 9.15313363e-01,\n",
       "       6.93983078e-01, 8.90595436e-01, 5.10337234e-01, 4.96513605e-01,\n",
       "       6.31462812e-01, 2.23637104e-01, 3.83034706e-01, 1.87504292e-03,\n",
       "       7.96918273e-01, 3.02139878e-01, 5.85623980e-02, 6.75392151e-01,\n",
       "       6.09300733e-01, 9.58349586e-01, 3.19930553e-01, 3.48771811e-02,\n",
       "       6.55321240e-01, 1.81141496e-01, 5.52661419e-02, 8.54308724e-01,\n",
       "       4.84429121e-01, 1.97193623e-01, 3.97889614e-01, 8.96393895e-01,\n",
       "       4.84473348e-01, 1.76216960e-01, 3.13841105e-01, 2.96390057e-02,\n",
       "       1.57928109e-01, 1.20287180e-01, 3.35657597e-03, 6.20776534e-01,\n",
       "       3.08728218e-03, 3.46839190e-01, 7.17709064e-02, 7.89966583e-02,\n",
       "       8.74260306e-01, 2.79082298e-01, 9.98287916e-01, 7.24780679e-01,\n",
       "       5.03728867e-01, 3.87997627e-02, 2.07559943e-01, 4.66828942e-01,\n",
       "       7.15986490e-02, 3.51020217e-01, 3.40504050e-01, 2.73694992e-01,\n",
       "       9.29895878e-01, 3.17676067e-02, 4.73646998e-01, 6.12326741e-01,\n",
       "       1.56903386e-01, 4.80909109e-01, 7.86759377e-01, 7.97016978e-01,\n",
       "       7.49829531e-01, 5.81493735e-01, 9.49331403e-01, 9.41391587e-01,\n",
       "       4.42236662e-01, 8.14148188e-01, 5.96607089e-01, 9.62654352e-02,\n",
       "       8.76519918e-01, 3.26718450e-01, 2.25218058e-01, 2.00654626e-01,\n",
       "       2.01878428e-01, 8.08926940e-01, 2.73997307e-01, 4.87507105e-01,\n",
       "       6.73254371e-01, 2.81962395e-01, 1.86976790e-01, 9.90135670e-02,\n",
       "       8.66400599e-01, 3.97137284e-01, 1.77786827e-01, 5.37820220e-01,\n",
       "       2.46481895e-01, 4.49487090e-01, 7.52268195e-01, 3.66640925e-01,\n",
       "       8.91151071e-01, 4.90804434e-01, 7.86012292e-01, 6.24036789e-02,\n",
       "       6.29674196e-01, 7.63852000e-01, 1.03766918e-02, 2.52397060e-02,\n",
       "       9.65364814e-01, 6.48552895e-01, 3.86594534e-02, 5.20974517e-01,\n",
       "       4.72845912e-01, 8.08244467e-01, 9.20092821e-01, 1.12167597e-02,\n",
       "       2.71654129e-03, 2.45671988e-01, 8.89242291e-01, 2.95375228e-01,\n",
       "       6.02819920e-02, 1.54500961e-01, 2.12293983e-01, 8.04050565e-01,\n",
       "       8.97567868e-01, 7.00901985e-01, 7.90293217e-02, 8.10301661e-01,\n",
       "       2.92803168e-01, 4.03263450e-01, 2.24554300e-01, 9.36973333e-01,\n",
       "       6.16210580e-01, 6.39240623e-01, 2.63535976e-03, 3.87102246e-01,\n",
       "       8.09740424e-01, 1.43919587e-01, 3.96360636e-01, 6.25688195e-01,\n",
       "       7.78078556e-01, 4.16707397e-01, 4.15263534e-01, 1.32778406e-01,\n",
       "       7.70842910e-01, 1.16272211e-01, 7.18493819e-01, 1.15862250e-01,\n",
       "       3.16998959e-01, 3.97582054e-01, 6.09584689e-01, 7.50272989e-01,\n",
       "       3.45735192e-01, 3.22713256e-01, 3.78697991e-01, 9.17565584e-01,\n",
       "       7.18983054e-01, 5.32789469e-01, 7.87661433e-01, 9.70232964e-01,\n",
       "       2.82839060e-01, 8.21032643e-01, 1.40201926e-01, 9.38648462e-01,\n",
       "       2.41260648e-01, 2.12129235e-01, 5.67178726e-01, 3.85913253e-01,\n",
       "       3.15451145e-01, 5.40165782e-01, 6.12389803e-01, 9.43518996e-01,\n",
       "       3.24784517e-01, 3.33598852e-01, 3.29300880e-01, 7.20570087e-01,\n",
       "       4.89585638e-01, 8.92369986e-01, 1.91368103e-01, 3.03513408e-01,\n",
       "       4.52231407e-01, 4.69738960e-01, 6.10451937e-01, 2.19153285e-01,\n",
       "       2.40218043e-01, 3.83389354e-01, 8.06106210e-01, 6.97214842e-01,\n",
       "       6.35572672e-02, 7.43740439e-01, 1.30398870e-01, 6.25270724e-01,\n",
       "       8.80215287e-01, 5.70111156e-01, 5.75333238e-01, 2.19152570e-01,\n",
       "       4.77205634e-01, 9.93877292e-01, 8.36292624e-01, 2.79752254e-01,\n",
       "       2.29352951e-01, 1.21700525e-01, 3.76791120e-01, 4.51524138e-01,\n",
       "       7.59770393e-01, 1.54511571e-01, 6.47561431e-01, 7.67946482e-01,\n",
       "       8.31937313e-01, 2.94494033e-01, 8.09475780e-01, 7.63909221e-01,\n",
       "       6.76474571e-01, 7.42445350e-01, 6.45293713e-01, 3.84683609e-02,\n",
       "       3.44598889e-01, 1.49612188e-01, 3.84681702e-01, 2.68229127e-01,\n",
       "       4.42056417e-01, 8.35673690e-01, 6.88197732e-01, 8.83131981e-01,\n",
       "       6.77796721e-01, 5.33472896e-01, 4.34622288e-01, 7.07362771e-01,\n",
       "       9.58942652e-01, 9.72431898e-02, 9.23009038e-01, 8.20951700e-01,\n",
       "       5.98269343e-01, 4.39569950e-02, 5.63204288e-01, 4.07490134e-01,\n",
       "       8.05483699e-01, 6.58221483e-01, 7.25603461e-01, 1.20811582e-01,\n",
       "       6.74722075e-01, 5.00416160e-01, 2.88746953e-01, 6.51597381e-01,\n",
       "       5.72819114e-01, 6.05705976e-02, 5.09917259e-01, 9.84695911e-01,\n",
       "       2.78531075e-01, 7.32813835e-01, 4.47030544e-01, 3.21379423e-01,\n",
       "       7.96833396e-01, 1.34955525e-01, 3.36693645e-01, 2.56603122e-01,\n",
       "       3.43170047e-01, 5.74227214e-01, 3.73062968e-01, 5.20042181e-02,\n",
       "       9.47783113e-01, 1.03007555e-01, 6.89700365e-01, 4.43751574e-01,\n",
       "       2.79294252e-02, 1.74478173e-01, 7.10755587e-01, 8.93620133e-01,\n",
       "       9.14541245e-01, 1.44609451e-01, 9.70289469e-01, 2.33456969e-01,\n",
       "       8.29093933e-01, 5.40522933e-01, 3.14257264e-01, 2.20061898e-01,\n",
       "       8.40420723e-02, 3.61460447e-02, 9.77321267e-01, 6.31716728e-01,\n",
       "       5.09356618e-01, 9.98908639e-01, 5.31542063e-01, 2.44253159e-01,\n",
       "       8.95121813e-01, 7.35368729e-02, 6.69131398e-01, 5.44777989e-01,\n",
       "       3.13302398e-01, 2.22096562e-01, 8.21612716e-01, 5.70430994e-01,\n",
       "       2.03006625e-01, 3.94195080e-01, 3.03100348e-01, 7.92211413e-01,\n",
       "       8.17860007e-01, 5.36519766e-01, 5.30623794e-01, 4.96233582e-01,\n",
       "       4.87947464e-01, 5.42176008e-01, 7.13597894e-01, 3.16970706e-01,\n",
       "       6.78414702e-01, 9.84060287e-01, 5.32258987e-01, 5.31153679e-02,\n",
       "       9.72766757e-01, 4.60217953e-01, 2.90165305e-01, 5.80861568e-02,\n",
       "       6.81358576e-01, 2.36606598e-02, 7.93145895e-01, 5.68560958e-01,\n",
       "       1.47831678e-01, 4.01860118e-01, 4.71550941e-01, 9.11468983e-01,\n",
       "       1.32551432e-01, 5.46683073e-01, 8.21951032e-01, 3.27178955e-01,\n",
       "       5.07380247e-01, 8.78006339e-01, 1.53937817e-01, 2.30940700e-01,\n",
       "       4.04889584e-01, 6.20433211e-01, 8.67421389e-01, 8.22346330e-01,\n",
       "       6.26553535e-01, 8.73068213e-01, 2.21382141e-01, 5.51040053e-01,\n",
       "       2.14535236e-01, 9.85509753e-01, 6.02496862e-02, 4.26122665e-01,\n",
       "       9.68601704e-02, 1.61052585e-01, 1.48709893e-01, 4.51388359e-02,\n",
       "       9.49748278e-01, 4.39310312e-01, 2.85279751e-01, 9.69710946e-01,\n",
       "       7.33085155e-01, 5.65704584e-01, 3.32389355e-01, 8.83817792e-01,\n",
       "       8.75447631e-01, 5.67112446e-01, 8.87934685e-01, 4.76619959e-01,\n",
       "       4.20418143e-01, 7.76960731e-01, 9.96860266e-01, 3.68890166e-01,\n",
       "       2.65336037e-01, 7.34175205e-01, 2.29510546e-01, 2.65501499e-01,\n",
       "       8.36030245e-02, 5.31025052e-01, 7.57075310e-01, 6.67456388e-01,\n",
       "       5.20334363e-01, 5.79932809e-01, 6.09677434e-01, 6.37446046e-01,\n",
       "       5.95386863e-01, 8.41215968e-01, 3.57005477e-01, 9.76312637e-01,\n",
       "       2.56120801e-01, 8.30716372e-01, 8.77970338e-01, 9.53154087e-01,\n",
       "       2.14655638e-01, 4.55756783e-01, 8.03147554e-01, 8.34625363e-01,\n",
       "       4.75296736e-01, 5.41333318e-01, 5.34952402e-01, 3.36271644e-01,\n",
       "       3.87498140e-02, 4.40319657e-01, 6.21281862e-01, 9.63194489e-01,\n",
       "       5.67726016e-01, 3.36394191e-01, 8.88184547e-01, 7.75898814e-01,\n",
       "       2.22448945e-01, 5.23141980e-01, 2.92712927e-01, 1.49932742e-01,\n",
       "       9.57433462e-01, 6.78555965e-02, 3.37558746e-01, 2.58683205e-01,\n",
       "       3.16822648e-01, 1.29320860e-01, 6.52154922e-01, 6.95165396e-01,\n",
       "       2.62411475e-01, 3.69427919e-01, 5.33266664e-01, 2.04039693e-01,\n",
       "       2.15218782e-01, 4.88515615e-01, 5.41047096e-01, 5.55480957e-01,\n",
       "       4.64405417e-01, 3.28496933e-01, 9.73563552e-01, 7.84613132e-01,\n",
       "       4.55798388e-01, 9.63066220e-01, 8.14793468e-01, 4.32200313e-01,\n",
       "       1.67453170e-01, 5.29950619e-01, 3.14082146e-01, 7.74295926e-01,\n",
       "       7.93179989e-01, 8.98064733e-01, 6.47637010e-01, 7.25376725e-01,\n",
       "       4.28899288e-01, 2.40393639e-01, 8.05114865e-01, 9.52736735e-01,\n",
       "       8.43633056e-01, 7.86979914e-01, 1.62328005e-01, 1.36345744e-01,\n",
       "       2.65538692e-02, 2.07266808e-02, 3.33574772e-01, 1.70636773e-01,\n",
       "       5.25702834e-01, 7.56663084e-02, 2.65656590e-01, 5.80344796e-01,\n",
       "       5.10745168e-01, 3.20709705e-01, 7.89772630e-01, 4.86021996e-01,\n",
       "       3.41894269e-01, 1.92730427e-01, 8.09611678e-01, 4.89486694e-01,\n",
       "       9.67709661e-01, 2.42945075e-01, 9.74816322e-01, 6.61341786e-01,\n",
       "       7.78947234e-01, 4.06705499e-01, 7.31515646e-01, 1.31963849e-01,\n",
       "       1.47501349e-01, 2.51397014e-01, 5.12418628e-01, 8.72825742e-01,\n",
       "       2.76889205e-01, 4.04831171e-01, 2.62572289e-01, 7.57829070e-01,\n",
       "       8.80155206e-01, 1.79775238e-01, 4.57472086e-01, 4.17254806e-01,\n",
       "       4.99261618e-01, 4.05011058e-01, 5.67463875e-01, 1.45236254e-02,\n",
       "       3.55766892e-01, 2.42878795e-01, 9.55803394e-01, 3.11242461e-01,\n",
       "       6.94737911e-01, 2.43180871e-01, 2.36105442e-01, 1.53911829e-01,\n",
       "       5.43781757e-01, 4.57011223e-01, 3.03833961e-01, 1.66334271e-01,\n",
       "       1.33482456e-01, 7.15556622e-01, 4.69163299e-01, 8.61400366e-01,\n",
       "       5.63757658e-01, 5.77042341e-01, 5.51750660e-02, 6.45482421e-01,\n",
       "       3.16953301e-01, 5.74930310e-01, 6.50661826e-01, 8.64758492e-01,\n",
       "       6.16269708e-01, 4.73039389e-01, 3.87334466e-01, 3.87095094e-01,\n",
       "       6.86062813e-01, 2.70758867e-02, 3.49065065e-01, 3.30870748e-01,\n",
       "       1.56413317e-01, 5.33407927e-02, 6.93466544e-01, 3.52200747e-01,\n",
       "       7.24014044e-02, 9.92763519e-01, 5.08714318e-01, 1.69924378e-01,\n",
       "       4.31776047e-04, 8.61164689e-01, 9.67103243e-02, 2.85152793e-01,\n",
       "       4.61590409e-01, 6.77271128e-01, 5.25041938e-01, 4.81122136e-01,\n",
       "       7.16253638e-01, 3.64280224e-01, 5.83489299e-01, 9.68450427e-01,\n",
       "       9.73465085e-01, 1.24965191e-01, 7.53219962e-01, 2.99394250e-01,\n",
       "       3.64772081e-01, 5.45044780e-01, 7.30886936e-01, 2.33306170e-01,\n",
       "       1.37705922e-01, 7.34511614e-02, 2.17994571e-01, 4.21730399e-01,\n",
       "       9.27703142e-01, 9.22817469e-01, 6.04028463e-01, 5.19751072e-01,\n",
       "       6.59010410e-02, 2.13839412e-01, 3.51648331e-02, 2.70349979e-02,\n",
       "       4.27935362e-01, 9.89359617e-02, 3.90849352e-01, 7.98403025e-01,\n",
       "       2.79475689e-01, 8.75821471e-01, 2.48915315e-01, 9.03854132e-01,\n",
       "       9.20681953e-01, 4.43564057e-01, 7.95826912e-01, 6.33266926e-01,\n",
       "       8.95528078e-01, 5.76060772e-01, 2.34647274e-01, 9.85607743e-01,\n",
       "       6.75864935e-01, 4.86664414e-01, 9.66313362e-01, 5.03541708e-01,\n",
       "       7.24848747e-01, 2.15166450e-01, 9.78609800e-01, 7.26747513e-03,\n",
       "       7.39694476e-01, 6.65317178e-01, 7.87827969e-02, 7.34782815e-01,\n",
       "       8.37826848e-01, 3.69833231e-01, 3.00883055e-01, 9.13453937e-01,\n",
       "       9.24488664e-01, 3.62811446e-01, 7.62849808e-01, 4.16303873e-02,\n",
       "       8.07335854e-01, 2.97272086e-01, 8.23081017e-01, 9.64849234e-01,\n",
       "       1.39389277e-01, 4.45810318e-01, 8.24229717e-01, 9.22085047e-01,\n",
       "       8.79009247e-01, 2.27624297e-01, 1.67660594e-01, 1.63841724e-01,\n",
       "       5.02857208e-01, 8.16037774e-01, 8.16189289e-01, 1.44074082e-01,\n",
       "       9.21212554e-01, 4.02429819e-01, 1.55514121e-01, 9.88980532e-02,\n",
       "       4.99765158e-01, 1.23145342e-01, 2.47643828e-01, 2.76862383e-01,\n",
       "       4.03589010e-02, 7.91262031e-01, 5.91873050e-01, 2.98424363e-01,\n",
       "       2.95830965e-02, 7.39054084e-01, 6.64473295e-01, 5.58972239e-01,\n",
       "       3.73557806e-01, 5.20694017e-01, 4.09433842e-01, 3.31817031e-01,\n",
       "       6.51273727e-01, 5.95932841e-01, 4.75347638e-01, 2.88528919e-01,\n",
       "       7.56977081e-01, 4.60743546e-01, 6.34385824e-01, 6.44845605e-01,\n",
       "       3.33799005e-01, 3.91207099e-01, 2.06871152e-01, 5.49320459e-01,\n",
       "       6.71336293e-01, 6.54014349e-01, 2.97577977e-01, 4.29177046e-01,\n",
       "       1.33965135e-01, 7.29660273e-01, 4.62059021e-01, 6.35857821e-01,\n",
       "       4.18436050e-01, 3.60210538e-01, 4.56658244e-01, 3.02790403e-01,\n",
       "       7.32295275e-01, 1.17274523e-02, 9.03018951e-01, 1.54780269e-01,\n",
       "       8.09780955e-01, 4.39697623e-01, 8.79528522e-01, 2.61664391e-03,\n",
       "       6.11004472e-01, 6.96967840e-01, 3.55133891e-01, 3.45763445e-01,\n",
       "       9.13689852e-01, 9.20026183e-01, 7.97169685e-01, 6.96445346e-01,\n",
       "       4.46120620e-01, 1.88479304e-01, 8.41932058e-01, 4.82594371e-01,\n",
       "       3.52348208e-01, 3.69012237e-01, 2.59659529e-01, 9.66701508e-01,\n",
       "       1.61755323e-01, 4.94693160e-01, 1.91926956e-04, 1.21395588e-01],\n",
       "      dtype=float32)>"
      ]
     },
     "execution_count": 111,
     "metadata": {},
     "output_type": "execute_result"
    }
   ],
   "source": [
    "# create one big tensor\n",
    "tf.random.set_seed(42)\n",
    "EX1 = tf.random.uniform(shape=[1000])\n",
    "EX1"
   ]
  },
  {
   "cell_type": "code",
   "execution_count": 112,
   "id": "6866ae8e",
   "metadata": {},
   "outputs": [
    {
     "data": {
      "text/plain": [
       "<tf.Tensor: shape=(), dtype=float32, numpy=0.99890864>"
      ]
     },
     "execution_count": 112,
     "metadata": {},
     "output_type": "execute_result"
    }
   ],
   "source": [
    "# find the maximum\n",
    "tf.reduce_max(EX1)"
   ]
  },
  {
   "cell_type": "code",
   "execution_count": 113,
   "id": "3199f134",
   "metadata": {},
   "outputs": [
    {
     "data": {
      "text/plain": [
       "<tf.Tensor: shape=(), dtype=int64, numpy=605>"
      ]
     },
     "execution_count": 113,
     "metadata": {},
     "output_type": "execute_result"
    }
   ],
   "source": [
    "# find the maximum data's position\n",
    "tf.argmax(EX1)"
   ]
  },
  {
   "cell_type": "code",
   "execution_count": 114,
   "id": "f47cb192",
   "metadata": {},
   "outputs": [
    {
     "data": {
      "text/plain": [
       "<tf.Tensor: shape=(), dtype=float32, numpy=0.99890864>"
      ]
     },
     "execution_count": 114,
     "metadata": {},
     "output_type": "execute_result"
    }
   ],
   "source": [
    "# Let's find the data using positional index\n",
    "EX1[tf.argmax(EX1)]"
   ]
  },
  {
   "cell_type": "code",
   "execution_count": 115,
   "id": "3eef7087",
   "metadata": {},
   "outputs": [
    {
     "data": {
      "text/plain": [
       "<tf.Tensor: shape=(), dtype=float32, numpy=0.00019192696>"
      ]
     },
     "execution_count": 115,
     "metadata": {},
     "output_type": "execute_result"
    }
   ],
   "source": [
    "# find the minimum\n",
    "tf.reduce_min(EX1)"
   ]
  },
  {
   "cell_type": "code",
   "execution_count": 116,
   "id": "869ab360",
   "metadata": {},
   "outputs": [
    {
     "data": {
      "text/plain": [
       "<tf.Tensor: shape=(), dtype=int64, numpy=998>"
      ]
     },
     "execution_count": 116,
     "metadata": {},
     "output_type": "execute_result"
    }
   ],
   "source": [
    "# find the minmum data index\n",
    "tf.argmin(EX1)"
   ]
  },
  {
   "cell_type": "code",
   "execution_count": 117,
   "id": "1bdc6f5e",
   "metadata": {},
   "outputs": [
    {
     "data": {
      "text/plain": [
       "<tf.Tensor: shape=(), dtype=float32, numpy=0.00019192696>"
      ]
     },
     "execution_count": 117,
     "metadata": {},
     "output_type": "execute_result"
    }
   ],
   "source": [
    "# find the minium data using the positional index\n",
    "EX1[tf.argmin(EX1)]"
   ]
  },
  {
   "cell_type": "markdown",
   "id": "54162d58",
   "metadata": {},
   "source": [
    "### Squeezing a tensor (removing all single dimensions)"
   ]
  },
  {
   "cell_type": "code",
   "execution_count": 119,
   "id": "0958dc04",
   "metadata": {},
   "outputs": [
    {
     "data": {
      "text/plain": [
       "<tf.Tensor: shape=(1, 1, 1, 1, 50), dtype=float32, numpy=\n",
       "array([[[[[0.7413678 , 0.62854624, 0.01738465, 0.3431449 , 0.51063764,\n",
       "           0.3777541 , 0.07321596, 0.02137029, 0.2871771 , 0.4710616 ,\n",
       "           0.6936141 , 0.07321334, 0.93251204, 0.20843053, 0.70105827,\n",
       "           0.45856392, 0.8596262 , 0.92934334, 0.20291913, 0.76865506,\n",
       "           0.60016024, 0.27039742, 0.88180614, 0.05365038, 0.42274463,\n",
       "           0.89037776, 0.7887033 , 0.10165584, 0.19408834, 0.27896714,\n",
       "           0.39512634, 0.12235212, 0.38412368, 0.9455296 , 0.77594674,\n",
       "           0.94442344, 0.04296565, 0.4746096 , 0.6548251 , 0.5657116 ,\n",
       "           0.13858628, 0.3004663 , 0.3311677 , 0.12907016, 0.6435652 ,\n",
       "           0.45473957, 0.68881893, 0.30203617, 0.49152803, 0.26529062]]]]],\n",
       "      dtype=float32)>"
      ]
     },
     "execution_count": 119,
     "metadata": {},
     "output_type": "execute_result"
    }
   ],
   "source": [
    "# create a tensor to get started\n",
    "G = tf.constant(tf.random.uniform(shape=[50]), shape=(1, 1, 1, 1, 50))\n",
    "G"
   ]
  },
  {
   "cell_type": "code",
   "execution_count": 120,
   "id": "8111ee9d",
   "metadata": {},
   "outputs": [
    {
     "data": {
      "text/plain": [
       "TensorShape([1, 1, 1, 1, 50])"
      ]
     },
     "execution_count": 120,
     "metadata": {},
     "output_type": "execute_result"
    }
   ],
   "source": [
    "G.shape"
   ]
  },
  {
   "cell_type": "code",
   "execution_count": 121,
   "id": "d74161cd",
   "metadata": {},
   "outputs": [
    {
     "data": {
      "text/plain": [
       "(<tf.Tensor: shape=(50,), dtype=float32, numpy=\n",
       " array([0.7413678 , 0.62854624, 0.01738465, 0.3431449 , 0.51063764,\n",
       "        0.3777541 , 0.07321596, 0.02137029, 0.2871771 , 0.4710616 ,\n",
       "        0.6936141 , 0.07321334, 0.93251204, 0.20843053, 0.70105827,\n",
       "        0.45856392, 0.8596262 , 0.92934334, 0.20291913, 0.76865506,\n",
       "        0.60016024, 0.27039742, 0.88180614, 0.05365038, 0.42274463,\n",
       "        0.89037776, 0.7887033 , 0.10165584, 0.19408834, 0.27896714,\n",
       "        0.39512634, 0.12235212, 0.38412368, 0.9455296 , 0.77594674,\n",
       "        0.94442344, 0.04296565, 0.4746096 , 0.6548251 , 0.5657116 ,\n",
       "        0.13858628, 0.3004663 , 0.3311677 , 0.12907016, 0.6435652 ,\n",
       "        0.45473957, 0.68881893, 0.30203617, 0.49152803, 0.26529062],\n",
       "       dtype=float32)>,\n",
       " TensorShape([50]))"
      ]
     },
     "execution_count": 121,
     "metadata": {},
     "output_type": "execute_result"
    }
   ],
   "source": [
    "G_squeezed = tf.squeeze(G)\n",
    "G_squeezed, G_squeezed.shape"
   ]
  },
  {
   "cell_type": "markdown",
   "id": "6c9ac66f",
   "metadata": {},
   "source": [
    "### One-hot encoding Tensor"
   ]
  },
  {
   "cell_type": "code",
   "execution_count": 122,
   "id": "e2c6a7f2",
   "metadata": {},
   "outputs": [
    {
     "data": {
      "text/plain": [
       "<tf.Tensor: shape=(4, 4), dtype=float32, numpy=\n",
       "array([[1., 0., 0., 0.],\n",
       "       [0., 1., 0., 0.],\n",
       "       [0., 0., 1., 0.],\n",
       "       [0., 0., 0., 1.]], dtype=float32)>"
      ]
     },
     "execution_count": 122,
     "metadata": {},
     "output_type": "execute_result"
    }
   ],
   "source": [
    "# create a list of indices\n",
    "some_list = [0, 1, 2, 3]  # could be red, green, blue, purple\n",
    "\n",
    "# One hot encode our list of indices\n",
    "tf.one_hot(some_list, depth=4)"
   ]
  },
  {
   "cell_type": "code",
   "execution_count": 123,
   "id": "b85213ae",
   "metadata": {},
   "outputs": [
    {
     "data": {
      "text/plain": [
       "<tf.Tensor: shape=(4, 4), dtype=string, numpy=\n",
       "array([[b'yo I love deep learning', b'I also like ML', b'I also like ML',\n",
       "        b'I also like ML'],\n",
       "       [b'I also like ML', b'yo I love deep learning', b'I also like ML',\n",
       "        b'I also like ML'],\n",
       "       [b'I also like ML', b'I also like ML', b'yo I love deep learning',\n",
       "        b'I also like ML'],\n",
       "       [b'I also like ML', b'I also like ML', b'I also like ML',\n",
       "        b'yo I love deep learning']], dtype=object)>"
      ]
     },
     "execution_count": 123,
     "metadata": {},
     "output_type": "execute_result"
    }
   ],
   "source": [
    "# Specify custom values for one hot encoding\n",
    "tf.one_hot(some_list, depth=4, on_value=\"yo I love deep learning\", off_value=\"I also like ML\")\n"
   ]
  },
  {
   "cell_type": "markdown",
   "id": "9a840f20",
   "metadata": {},
   "source": [
    "### Exercise"
   ]
  },
  {
   "cell_type": "code",
   "execution_count": 128,
   "id": "e234f29b",
   "metadata": {},
   "outputs": [
    {
     "data": {
      "text/plain": [
       "<tf.Tensor: shape=(7, 6), dtype=string, numpy=\n",
       "array([[b'AI 2023', b'ML 2020', b'AI 2023', b'AI 2023', b'AI 2023',\n",
       "        b'AI 2023'],\n",
       "       [b'AI 2023', b'AI 2023', b'ML 2020', b'AI 2023', b'AI 2023',\n",
       "        b'AI 2023'],\n",
       "       [b'AI 2023', b'AI 2023', b'AI 2023', b'ML 2020', b'AI 2023',\n",
       "        b'AI 2023'],\n",
       "       [b'AI 2023', b'AI 2023', b'AI 2023', b'AI 2023', b'ML 2020',\n",
       "        b'AI 2023'],\n",
       "       [b'AI 2023', b'AI 2023', b'AI 2023', b'AI 2023', b'AI 2023',\n",
       "        b'ML 2020'],\n",
       "       [b'AI 2023', b'AI 2023', b'AI 2023', b'AI 2023', b'AI 2023',\n",
       "        b'AI 2023'],\n",
       "       [b'AI 2023', b'AI 2023', b'AI 2023', b'AI 2023', b'AI 2023',\n",
       "        b'AI 2023']], dtype=object)>"
      ]
     },
     "execution_count": 128,
     "metadata": {},
     "output_type": "execute_result"
    }
   ],
   "source": [
    "# create another list\n",
    "another_list = [1, 2, 3, 4, 5, 6, 7]\n",
    "\n",
    "# One hot encoding \n",
    "tf.one_hot(another_list, depth=6, on_value=\"ML 2020\", off_value=\"AI 2023\")"
   ]
  },
  {
   "cell_type": "markdown",
   "id": "309d35c6",
   "metadata": {},
   "source": [
    "### square, log, sqrt"
   ]
  },
  {
   "cell_type": "code",
   "execution_count": 129,
   "id": "12c9f6a7",
   "metadata": {},
   "outputs": [
    {
     "data": {
      "text/plain": [
       "<tf.Tensor: shape=(9,), dtype=int32, numpy=array([1, 2, 3, 4, 5, 6, 7, 8, 9], dtype=int32)>"
      ]
     },
     "execution_count": 129,
     "metadata": {},
     "output_type": "execute_result"
    }
   ],
   "source": [
    "# create a new tensor \n",
    "H = tf.range(1, 10)\n",
    "H"
   ]
  },
  {
   "cell_type": "code",
   "execution_count": 130,
   "id": "0ffb9230",
   "metadata": {},
   "outputs": [
    {
     "data": {
      "text/plain": [
       "<tf.Tensor: shape=(9,), dtype=int32, numpy=array([ 1,  4,  9, 16, 25, 36, 49, 64, 81], dtype=int32)>"
      ]
     },
     "execution_count": 130,
     "metadata": {},
     "output_type": "execute_result"
    }
   ],
   "source": [
    "# square it\n",
    "tf.square(H)"
   ]
  },
  {
   "cell_type": "code",
   "execution_count": 132,
   "id": "936e839c",
   "metadata": {},
   "outputs": [
    {
     "data": {
      "text/plain": [
       "<tf.Tensor: shape=(9,), dtype=float32, numpy=\n",
       "array([1.       , 1.4142135, 1.7320508, 2.       , 2.236068 , 2.4494898,\n",
       "       2.6457512, 2.828427 , 3.       ], dtype=float32)>"
      ]
     },
     "execution_count": 132,
     "metadata": {},
     "output_type": "execute_result"
    }
   ],
   "source": [
    "# square root\n",
    "tf.sqrt(tf.cast(H, dtype=tf.float32))"
   ]
  },
  {
   "cell_type": "code",
   "execution_count": 134,
   "id": "45952429",
   "metadata": {},
   "outputs": [
    {
     "data": {
      "text/plain": [
       "<tf.Tensor: shape=(9,), dtype=float32, numpy=\n",
       "array([0.       , 0.6931472, 1.0986123, 1.3862944, 1.609438 , 1.7917595,\n",
       "       1.9459102, 2.0794415, 2.1972246], dtype=float32)>"
      ]
     },
     "execution_count": 134,
     "metadata": {},
     "output_type": "execute_result"
    }
   ],
   "source": [
    "# log\n",
    "tf.math.log(tf.cast(H, dtype=tf.float32))"
   ]
  },
  {
   "cell_type": "markdown",
   "id": "5c3185f5",
   "metadata": {},
   "source": [
    "### Tensors and NumPy\n",
    "\n",
    "TensorFlow interacts beautifully with NumPy arrays."
   ]
  },
  {
   "cell_type": "code",
   "execution_count": 135,
   "id": "3d16a7db",
   "metadata": {},
   "outputs": [
    {
     "data": {
      "text/plain": [
       "<tf.Tensor: shape=(3,), dtype=float64, numpy=array([ 1.,  7., 10.])>"
      ]
     },
     "execution_count": 135,
     "metadata": {},
     "output_type": "execute_result"
    }
   ],
   "source": [
    "# Create a tensor directly from a NumPy array\n",
    "J = tf.constant(np.array([1., 7., 10.]))\n",
    "J"
   ]
  },
  {
   "cell_type": "code",
   "execution_count": 136,
   "id": "bf7ce0f5",
   "metadata": {},
   "outputs": [
    {
     "data": {
      "text/plain": [
       "(array([ 1.,  7., 10.]), numpy.ndarray)"
      ]
     },
     "execution_count": 136,
     "metadata": {},
     "output_type": "execute_result"
    }
   ],
   "source": [
    "# Convert our tensor back to a NumPy array\n",
    "np.array(J), type(np.array(J))"
   ]
  },
  {
   "cell_type": "code",
   "execution_count": 137,
   "id": "fb24c087",
   "metadata": {},
   "outputs": [
    {
     "data": {
      "text/plain": [
       "3.0"
      ]
     },
     "execution_count": 137,
     "metadata": {},
     "output_type": "execute_result"
    }
   ],
   "source": [
    "J = tf.constant([3.])\n",
    "J.numpy()[0]"
   ]
  },
  {
   "cell_type": "code",
   "execution_count": 139,
   "id": "9acc1e9f",
   "metadata": {},
   "outputs": [
    {
     "data": {
      "text/plain": [
       "(tf.float64, tf.float32)"
      ]
     },
     "execution_count": 139,
     "metadata": {},
     "output_type": "execute_result"
    }
   ],
   "source": [
    "# The default types of each are slightly different\n",
    "numpy_J = tf.constant(np.array([3., 7., 10,]))\n",
    "tensor_J = tf.constant([3., 7., 10.])\n",
    "\n",
    "# check the datatypes of each\n",
    "numpy_J.dtype, tensor_J.dtype"
   ]
  },
  {
   "cell_type": "code",
   "execution_count": null,
   "id": "41b6dff5",
   "metadata": {},
   "outputs": [],
   "source": []
  }
 ],
 "metadata": {
  "kernelspec": {
   "display_name": "Python 3.9 (ml)",
   "language": "python",
   "name": "ml"
  },
  "language_info": {
   "codemirror_mode": {
    "name": "ipython",
    "version": 3
   },
   "file_extension": ".py",
   "mimetype": "text/x-python",
   "name": "python",
   "nbconvert_exporter": "python",
   "pygments_lexer": "ipython3",
   "version": "3.9.16"
  }
 },
 "nbformat": 4,
 "nbformat_minor": 5
}

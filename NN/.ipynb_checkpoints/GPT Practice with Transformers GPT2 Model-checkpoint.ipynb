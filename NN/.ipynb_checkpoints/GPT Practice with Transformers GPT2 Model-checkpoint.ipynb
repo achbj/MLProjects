{
 "cells": [
  {
   "cell_type": "code",
   "execution_count": 1,
   "id": "1bb297e1",
   "metadata": {},
   "outputs": [],
   "source": [
    "from transformers import GPT2LMHeadModel, GPT2Tokenizer"
   ]
  },
  {
   "cell_type": "code",
   "execution_count": 2,
   "id": "6afeb9fe",
   "metadata": {},
   "outputs": [],
   "source": [
    "# Load pre-trained model tokenizer (vocabulary)\n",
    "tokenizer = GPT2Tokenizer.from_pretrained('gpt2')"
   ]
  },
  {
   "cell_type": "code",
   "execution_count": 3,
   "id": "fd8c2d37",
   "metadata": {},
   "outputs": [],
   "source": [
    "# Load pre-trained model (weights)\n",
    "model = GPT2LMHeadModel.from_pretrained('gpt2')"
   ]
  },
  {
   "cell_type": "code",
   "execution_count": 17,
   "id": "cbaa4dc3",
   "metadata": {},
   "outputs": [],
   "source": [
    "# Encode a text prompt\n",
    "def generate_response(prompt):\n",
    "    encoded_prompt = tokenizer.encode(prompt, add_special_tokens=False, return_tensors='pt')\n",
    "    \n",
    "    # Generate a response to the prompt\n",
    "    output_sequences = model.generate(\n",
    "        input_ids = encoded_prompt,\n",
    "        max_length = 100,\n",
    "        temperature = 0.7,\n",
    "        top_k=20,\n",
    "        top_p=0.9,\n",
    "        repetition_penalty=1.2\n",
    "    )\n",
    "    \n",
    "    # Decode the generated text\n",
    "    generated_text = tokenizer.decode(output_sequences[0], clean_up_tokenization_spaces=True)\n",
    "    return generated_text.strip()"
   ]
  },
  {
   "cell_type": "code",
   "execution_count": 19,
   "id": "c4c6e4d2",
   "metadata": {},
   "outputs": [
    {
     "name": "stderr",
     "output_type": "stream",
     "text": [
      "The attention mask and the pad token id were not set. As a consequence, you may observe unexpected behavior. Please pass your input's `attention_mask` to obtain reliable results.\n",
      "Setting `pad_token_id` to `eos_token_id`:50256 for open-end generation.\n"
     ]
    },
    {
     "name": "stdout",
     "output_type": "stream",
     "text": [
      "what is the capital of Nepal?\"\n",
      "The answer was \"Nepal\". The Nepalese government has been trying to get a deal with India for years, but it's not clear if that will happen. In fact there are no plans at all on how much money they can raise from Indian investors in Kathmandu and other parts of Central Asia or even China as part-time workers who have little experience working here.\"<|endoftext|>\n"
     ]
    }
   ],
   "source": [
    "# Example use\n",
    "user_input = \"what is the capital of Nepal\"\n",
    "print(generate_response(user_input))"
   ]
  },
  {
   "cell_type": "code",
   "execution_count": null,
   "id": "8b35114b",
   "metadata": {},
   "outputs": [],
   "source": []
  }
 ],
 "metadata": {
  "kernelspec": {
   "display_name": "Python 3.10 (nn)",
   "language": "python",
   "name": "nn"
  },
  "language_info": {
   "codemirror_mode": {
    "name": "ipython",
    "version": 3
   },
   "file_extension": ".py",
   "mimetype": "text/x-python",
   "name": "python",
   "nbconvert_exporter": "python",
   "pygments_lexer": "ipython3",
   "version": "3.10.11"
  }
 },
 "nbformat": 4,
 "nbformat_minor": 5
}

{
 "cells": [
  {
   "cell_type": "code",
   "execution_count": 1,
   "id": "d782339a",
   "metadata": {},
   "outputs": [],
   "source": [
    "import nltk"
   ]
  },
  {
   "cell_type": "code",
   "execution_count": 2,
   "id": "5792b2a6",
   "metadata": {},
   "outputs": [],
   "source": [
    "text1 = \"So, in short, super(RegressionModel, self).__init__() is not making RegressionModel the main class. Instead, it's ensuring that the initialization code of its parent class (nn.Module) is properly executed when an instance of RegressionModel is created. This is a standard practice in object-oriented programming for proper inheritance.\""
   ]
  },
  {
   "cell_type": "code",
   "execution_count": 3,
   "id": "fe6a3743",
   "metadata": {},
   "outputs": [
    {
     "name": "stdout",
     "output_type": "stream",
     "text": [
      "So, in short, super(RegressionModel, self).__init__() is not making RegressionModel the main class. Instead, it's ensuring that the initialization code of its parent class (nn.Module) is properly executed when an instance of RegressionModel is created. This is a standard practice in object-oriented programming for proper inheritance.\n"
     ]
    }
   ],
   "source": [
    "print(text1)"
   ]
  },
  {
   "cell_type": "code",
   "execution_count": 4,
   "id": "00ab1324",
   "metadata": {},
   "outputs": [
    {
     "data": {
      "text/plain": [
       "['So,',\n",
       " 'in',\n",
       " 'short,',\n",
       " 'super(RegressionModel,',\n",
       " 'self).__init__()',\n",
       " 'is',\n",
       " 'not',\n",
       " 'making',\n",
       " 'RegressionModel',\n",
       " 'the',\n",
       " 'main',\n",
       " 'class.',\n",
       " 'Instead,',\n",
       " \"it's\",\n",
       " 'ensuring',\n",
       " 'that',\n",
       " 'the',\n",
       " 'initialization',\n",
       " 'code',\n",
       " 'of',\n",
       " 'its',\n",
       " 'parent',\n",
       " 'class',\n",
       " '(nn.Module)',\n",
       " 'is',\n",
       " 'properly',\n",
       " 'executed',\n",
       " 'when',\n",
       " 'an',\n",
       " 'instance',\n",
       " 'of',\n",
       " 'RegressionModel',\n",
       " 'is',\n",
       " 'created.',\n",
       " 'This',\n",
       " 'is',\n",
       " 'a',\n",
       " 'standard',\n",
       " 'practice',\n",
       " 'in',\n",
       " 'object-oriented',\n",
       " 'programming',\n",
       " 'for',\n",
       " 'proper',\n",
       " 'inheritance.']"
      ]
     },
     "execution_count": 4,
     "metadata": {},
     "output_type": "execute_result"
    }
   ],
   "source": [
    "text1.split(' ')"
   ]
  },
  {
   "cell_type": "code",
   "execution_count": 5,
   "id": "105e6293",
   "metadata": {},
   "outputs": [
    {
     "data": {
      "text/plain": [
       "45"
      ]
     },
     "execution_count": 5,
     "metadata": {},
     "output_type": "execute_result"
    }
   ],
   "source": [
    "len(text1.split(' '))"
   ]
  },
  {
   "cell_type": "code",
   "execution_count": 7,
   "id": "835defbc",
   "metadata": {},
   "outputs": [
    {
     "data": {
      "text/plain": [
       "['So',\n",
       " ',',\n",
       " 'in',\n",
       " 'short',\n",
       " ',',\n",
       " 'super',\n",
       " '(',\n",
       " 'RegressionModel',\n",
       " ',',\n",
       " 'self',\n",
       " ')',\n",
       " '.__init__',\n",
       " '(',\n",
       " ')',\n",
       " 'is',\n",
       " 'not',\n",
       " 'making',\n",
       " 'RegressionModel',\n",
       " 'the',\n",
       " 'main',\n",
       " 'class',\n",
       " '.',\n",
       " 'Instead',\n",
       " ',',\n",
       " 'it',\n",
       " \"'s\",\n",
       " 'ensuring',\n",
       " 'that',\n",
       " 'the',\n",
       " 'initialization',\n",
       " 'code',\n",
       " 'of',\n",
       " 'its',\n",
       " 'parent',\n",
       " 'class',\n",
       " '(',\n",
       " 'nn.Module',\n",
       " ')',\n",
       " 'is',\n",
       " 'properly',\n",
       " 'executed',\n",
       " 'when',\n",
       " 'an',\n",
       " 'instance',\n",
       " 'of',\n",
       " 'RegressionModel',\n",
       " 'is',\n",
       " 'created',\n",
       " '.',\n",
       " 'This',\n",
       " 'is',\n",
       " 'a',\n",
       " 'standard',\n",
       " 'practice',\n",
       " 'in',\n",
       " 'object-oriented',\n",
       " 'programming',\n",
       " 'for',\n",
       " 'proper',\n",
       " 'inheritance',\n",
       " '.']"
      ]
     },
     "execution_count": 7,
     "metadata": {},
     "output_type": "execute_result"
    }
   ],
   "source": [
    "nltk.word_tokenize(text1)"
   ]
  },
  {
   "cell_type": "code",
   "execution_count": 8,
   "id": "f630c808",
   "metadata": {},
   "outputs": [
    {
     "data": {
      "text/plain": [
       "61"
      ]
     },
     "execution_count": 8,
     "metadata": {},
     "output_type": "execute_result"
    }
   ],
   "source": [
    "len(nltk.word_tokenize(text1))"
   ]
  },
  {
   "cell_type": "code",
   "execution_count": 9,
   "id": "196afc5e",
   "metadata": {},
   "outputs": [
    {
     "data": {
      "text/plain": [
       "['So, in short, super(RegressionModel, self).__init__() is not making RegressionModel the main class.',\n",
       " \"Instead, it's ensuring that the initialization code of its parent class (nn.Module) is properly executed when an instance of RegressionModel is created.\",\n",
       " 'This is a standard practice in object-oriented programming for proper inheritance.']"
      ]
     },
     "execution_count": 9,
     "metadata": {},
     "output_type": "execute_result"
    }
   ],
   "source": [
    "nltk.sent_tokenize(text1)"
   ]
  },
  {
   "cell_type": "code",
   "execution_count": 10,
   "id": "9bd8b71d",
   "metadata": {},
   "outputs": [
    {
     "data": {
      "text/plain": [
       "3"
      ]
     },
     "execution_count": 10,
     "metadata": {},
     "output_type": "execute_result"
    }
   ],
   "source": [
    "len(nltk.sent_tokenize(text1))"
   ]
  },
  {
   "cell_type": "code",
   "execution_count": null,
   "id": "8d5f6e22",
   "metadata": {},
   "outputs": [],
   "source": []
  }
 ],
 "metadata": {
  "kernelspec": {
   "display_name": "Python 3.10 (nn)",
   "language": "python",
   "name": "nn"
  },
  "language_info": {
   "codemirror_mode": {
    "name": "ipython",
    "version": 3
   },
   "file_extension": ".py",
   "mimetype": "text/x-python",
   "name": "python",
   "nbconvert_exporter": "python",
   "pygments_lexer": "ipython3",
   "version": "3.10.11"
  }
 },
 "nbformat": 4,
 "nbformat_minor": 5
}

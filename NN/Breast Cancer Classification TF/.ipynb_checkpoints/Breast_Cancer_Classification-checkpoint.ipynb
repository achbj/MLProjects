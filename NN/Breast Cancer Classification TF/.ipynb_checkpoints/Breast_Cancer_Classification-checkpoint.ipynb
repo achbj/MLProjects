{
 "cells": [
  {
   "cell_type": "markdown",
   "id": "7dbb63c8",
   "metadata": {},
   "source": [
    "# Breast Cancer Classification with NN"
   ]
  },
  {
   "cell_type": "markdown",
   "id": "2cda65cb",
   "metadata": {},
   "source": [
    "### Importing Dependencies"
   ]
  },
  {
   "cell_type": "code",
   "execution_count": 1,
   "id": "67fab22d",
   "metadata": {},
   "outputs": [],
   "source": [
    "import numpy as np\n",
    "import pandas as pd\n",
    "import matplotlib.pyplot as plt\n",
    "import sklearn.datasets\n",
    "from sklearn.model_selection import train_test_split"
   ]
  },
  {
   "cell_type": "markdown",
   "id": "7a224747",
   "metadata": {},
   "source": [
    "### Data Collection and Processing"
   ]
  },
  {
   "cell_type": "code",
   "execution_count": 2,
   "id": "f5cc06e5",
   "metadata": {},
   "outputs": [],
   "source": [
    "breast_cancer_dataset = sklearn.datasets.load_breast_cancer()"
   ]
  },
  {
   "cell_type": "code",
   "execution_count": 3,
   "id": "185c187a",
   "metadata": {},
   "outputs": [],
   "source": [
    "print(breast_cancer_dataset)"
   ]
  },
  {
   "cell_type": "code",
   "execution_count": 4,
   "id": "254e372c",
   "metadata": {},
   "outputs": [],
   "source": [
    "# loading data to dataframe \n",
    "data_frame = pd.DataFrame(breast_cancer_dataset.data, columns = breast_cancer_dataset.feature_names)"
   ]
  },
  {
   "cell_type": "code",
   "execution_count": 5,
   "id": "bfd6a727",
   "metadata": {},
   "outputs": [],
   "source": [
    "data_frame.head()"
   ]
  },
  {
   "cell_type": "code",
   "execution_count": 6,
   "id": "b9995d57",
   "metadata": {},
   "outputs": [],
   "source": [
    "# adding target column to dataframe\n",
    "data_frame[\"label\"] = breast_cancer_dataset.target"
   ]
  },
  {
   "cell_type": "code",
   "execution_count": 7,
   "id": "548a7537",
   "metadata": {},
   "outputs": [],
   "source": [
    "data_frame.tail()"
   ]
  },
  {
   "cell_type": "code",
   "execution_count": 8,
   "id": "abd815ef",
   "metadata": {},
   "outputs": [],
   "source": [
    "data_frame.shape"
   ]
  },
  {
   "cell_type": "code",
   "execution_count": 9,
   "id": "fb0b4f10",
   "metadata": {},
   "outputs": [],
   "source": [
    "# getting information of dataset\n",
    "data_frame.info()"
   ]
  },
  {
   "cell_type": "code",
   "execution_count": 10,
   "id": "7310971a",
   "metadata": {},
   "outputs": [],
   "source": [
    "# checking null values\n",
    "data_frame.isnull().sum()"
   ]
  },
  {
   "cell_type": "code",
   "execution_count": 11,
   "id": "2cbe26fc",
   "metadata": {},
   "outputs": [],
   "source": [
    "# statistical measures of dataset\n",
    "data_frame.describe()"
   ]
  },
  {
   "cell_type": "code",
   "execution_count": 12,
   "id": "b7177f0a",
   "metadata": {},
   "outputs": [],
   "source": [
    "# distribution of data\n",
    "data_frame[\"label\"].value_counts()"
   ]
  },
  {
   "cell_type": "code",
   "execution_count": 13,
   "id": "19911c84",
   "metadata": {},
   "outputs": [],
   "source": [
    "# mean values\n",
    "data_frame.groupby(\"label\").mean()"
   ]
  },
  {
   "cell_type": "code",
   "execution_count": 14,
   "id": "52e48efe",
   "metadata": {},
   "outputs": [],
   "source": [
    "# separating features and target\n",
    "X = data_frame.drop(columns = \"label\", axis = 1)\n",
    "Y = data_frame[\"label\"]"
   ]
  },
  {
   "cell_type": "code",
   "execution_count": 15,
   "id": "d3b94af9",
   "metadata": {},
   "outputs": [],
   "source": [
    "print(X)\n",
    "print(Y)"
   ]
  },
  {
   "cell_type": "markdown",
   "id": "b882a92b",
   "metadata": {},
   "source": [
    "#### Data Standardization"
   ]
  },
  {
   "cell_type": "code",
   "execution_count": 16,
   "id": "9a40be69",
   "metadata": {},
   "outputs": [],
   "source": [
    "from sklearn.preprocessing import StandardScaler"
   ]
  },
  {
   "cell_type": "code",
   "execution_count": 17,
   "id": "1e2f152e",
   "metadata": {},
   "outputs": [],
   "source": [
    "scaler = StandardScaler()"
   ]
  },
  {
   "cell_type": "code",
   "execution_count": 18,
   "id": "83a72223",
   "metadata": {},
   "outputs": [],
   "source": [
    "standardized_data = scaler.fit_transform(X)"
   ]
  },
  {
   "cell_type": "code",
   "execution_count": 19,
   "id": "4a0720ca",
   "metadata": {},
   "outputs": [],
   "source": [
    "print(standardized_data)"
   ]
  },
  {
   "cell_type": "code",
   "execution_count": 20,
   "id": "87980ccc",
   "metadata": {},
   "outputs": [],
   "source": [
    "# updating features with standardized data\n",
    "X = standardized_data\n",
    "print(X)"
   ]
  },
  {
   "cell_type": "code",
   "execution_count": 21,
   "id": "096d41d3",
   "metadata": {},
   "outputs": [],
   "source": [
    "print(Y)"
   ]
  },
  {
   "cell_type": "markdown",
   "id": "79bf7648",
   "metadata": {},
   "source": [
    "### Split Train and Test data"
   ]
  },
  {
   "cell_type": "code",
   "execution_count": 22,
   "id": "a4b5e395",
   "metadata": {},
   "outputs": [],
   "source": [
    "X_train, X_test, Y_train, Y_test = train_test_split(X, Y, test_size = 0.2, random_state = 2)"
   ]
  },
  {
   "cell_type": "code",
   "execution_count": 23,
   "id": "ba92150d",
   "metadata": {},
   "outputs": [],
   "source": [
    "print(\"Total data: \", X.shape)\n",
    "print(\"Train data: \", X_train.shape)\n",
    "print(\"Test data: \", X_test.shape)"
   ]
  },
  {
   "cell_type": "markdown",
   "id": "f81c4e85",
   "metadata": {},
   "source": [
    "### Building Neural Network"
   ]
  },
  {
   "cell_type": "markdown",
   "id": "012dd59e",
   "metadata": {},
   "source": [
    "#### Importing Tensorflow and Keras"
   ]
  },
  {
   "cell_type": "code",
   "execution_count": 24,
   "id": "17fdc50c",
   "metadata": {},
   "outputs": [],
   "source": [
    "import tensorflow as tf\n",
    "tf.random.set_seed(3)\n",
    "from tensorflow import keras"
   ]
  },
  {
   "cell_type": "code",
   "execution_count": 25,
   "id": "292c2393",
   "metadata": {},
   "outputs": [],
   "source": [
    "# setting up the layers of Neural Network\n",
    "\n",
    "model = keras.Sequential([\n",
    "    \n",
    "    keras.layers.Flatten(input_shape = (30,)),\n",
    "    keras.layers.Dense(20, activation = 'relu'),\n",
    "    keras.layers.Dense(2, activation = \"sigmoid\")\n",
    "])"
   ]
  },
  {
   "cell_type": "code",
   "execution_count": 26,
   "id": "03b1f4e3",
   "metadata": {},
   "outputs": [],
   "source": [
    "# compiling the Neural Network\n",
    "\n",
    "model.compile(optimizer = \"adam\",\n",
    "             loss = \"sparse_categorical_crossentropy\",\n",
    "             metrics = [\"accuracy\"])"
   ]
  },
  {
   "cell_type": "code",
   "execution_count": 27,
   "id": "ba0a717f",
   "metadata": {},
   "outputs": [],
   "source": [
    "# training the Neural Network\n",
    "\n",
    "history = model.fit(X_train, Y_train, validation_split = 0.1, epochs = 10)"
   ]
  },
  {
   "cell_type": "code",
   "execution_count": 28,
   "id": "30a2c0fa",
   "metadata": {},
   "outputs": [],
   "source": [
    "# visualize train validation accuracy\n",
    "\n",
    "plt.plot(history.history[\"accuracy\"])\n",
    "plt.plot(history.history[\"val_accuracy\"])\n",
    "\n",
    "plt.title(\"Model Accuracy\")\n",
    "plt.ylabel(\"accuracy\")\n",
    "plt.xlabel(\"epoch\")\n",
    "\n",
    "plt.legend([\"training\", \"validation\"], loc = \"lower right\")"
   ]
  },
  {
   "cell_type": "code",
   "execution_count": 29,
   "id": "f33a8681",
   "metadata": {},
   "outputs": [],
   "source": [
    "# visualize train validation loss\n",
    "\n",
    "plt.plot(history.history[\"loss\"])\n",
    "plt.plot(history.history[\"val_loss\"])\n",
    "\n",
    "plt.title(\"Model Accuracy\")\n",
    "plt.ylabel(\"loss\")\n",
    "plt.xlabel(\"epoch\")\n",
    "\n",
    "plt.legend([\"training\", \"validation\"], loc = \"upper right\")"
   ]
  },
  {
   "cell_type": "markdown",
   "id": "a3da5f45",
   "metadata": {},
   "source": [
    "### Accuracy on test data"
   ]
  },
  {
   "cell_type": "code",
   "execution_count": 30,
   "id": "718e3596",
   "metadata": {},
   "outputs": [],
   "source": [
    "loss, accuracy = model.evaluate(X_test, Y_test)"
   ]
  },
  {
   "cell_type": "code",
   "execution_count": 31,
   "id": "7d48070a",
   "metadata": {},
   "outputs": [],
   "source": [
    "print(accuracy)"
   ]
  },
  {
   "cell_type": "code",
   "execution_count": 32,
   "id": "446d9e4b",
   "metadata": {},
   "outputs": [],
   "source": [
    "print(X_test.shape)"
   ]
  },
  {
   "cell_type": "code",
   "execution_count": 33,
   "id": "3d6f5662",
   "metadata": {},
   "outputs": [],
   "source": [
    "print(X_test[0])"
   ]
  },
  {
   "cell_type": "code",
   "execution_count": 34,
   "id": "6516d2d1",
   "metadata": {},
   "outputs": [],
   "source": [
    "Y_pred = model.predict(X_test)"
   ]
  },
  {
   "cell_type": "code",
   "execution_count": 35,
   "id": "6608d010",
   "metadata": {},
   "outputs": [],
   "source": [
    "print(Y_pred.shape)"
   ]
  },
  {
   "cell_type": "code",
   "execution_count": 36,
   "id": "4a8d8292",
   "metadata": {
    "scrolled": false
   },
   "outputs": [],
   "source": [
    "print(Y_pred)"
   ]
  },
  {
   "cell_type": "code",
   "execution_count": 37,
   "id": "38e856d1",
   "metadata": {},
   "outputs": [],
   "source": [
    "# converting the prediction probability to class labels\n",
    "Y_pred_labels = [np.argmax(i) for i in Y_pred]\n",
    "print(Y_pred_labels)"
   ]
  },
  {
   "cell_type": "markdown",
   "id": "85ac4191",
   "metadata": {},
   "source": [
    "### Predictive System"
   ]
  },
  {
   "cell_type": "markdown",
   "id": "273cd4ea",
   "metadata": {},
   "source": [
    "#### taking data directly from dataset so we need to do some preprocessing"
   ]
  },
  {
   "cell_type": "code",
   "execution_count": 38,
   "id": "a9bfcd06",
   "metadata": {},
   "outputs": [],
   "source": [
    "sample = data_frame.drop(\"label\", axis = 1).iloc[0].values"
   ]
  },
  {
   "cell_type": "code",
   "execution_count": 39,
   "id": "6bcbab6b",
   "metadata": {},
   "outputs": [],
   "source": [
    "input_data = (sample)\n",
    "print(input_data)\n",
    "\n",
    "# reshape the array as we are predicting for one instance\n",
    "input_data_reshaped = input_data.reshape(1, -1)\n",
    "\n",
    "# standardize the input data as model is trained as such\n",
    "std_data = scaler.transform(input_data_reshaped)\n",
    "print(std_data)\n",
    "\n",
    "prediction = model.predict(std_data)\n",
    "print(prediction)\n"
   ]
  },
  {
   "cell_type": "code",
   "execution_count": 40,
   "id": "3cf4d2ea",
   "metadata": {},
   "outputs": [],
   "source": [
    "predictin_label = [np.argmax(prediction)]\n",
    "print(predictin_label)\n",
    "\n",
    "if(predictin_label[0] == 0):\n",
    "    print(\"The tumor is Malignant.\")\n",
    "else:\n",
    "    print(\"The tumor is Benign.\")"
   ]
  },
  {
   "cell_type": "markdown",
   "id": "ac060dd2",
   "metadata": {},
   "source": [
    "##### data was standardised before split so we can use it directly after reshaping"
   ]
  },
  {
   "cell_type": "code",
   "execution_count": 41,
   "id": "903ca0aa",
   "metadata": {},
   "outputs": [],
   "source": [
    "input_data = X_test[0]\n",
    "print(input_data)\n",
    "\n",
    "# reshape the array as we are predicting for one instance\n",
    "input_data_reshaped = input_data.reshape(1, -1)\n",
    "\n",
    "print(input_data_reshaped)\n",
    "\n",
    "prediction = model.predict(input_data_reshaped)\n",
    "print(prediction)"
   ]
  },
  {
   "cell_type": "code",
   "execution_count": 42,
   "id": "02232014",
   "metadata": {},
   "outputs": [],
   "source": [
    "predictin_label = [np.argmax(prediction)]\n",
    "print(predictin_label)\n",
    "\n",
    "if(predictin_label[0] == 0):\n",
    "    print(\"The tumor is Malignant.\")\n",
    "else:\n",
    "    print(\"The tumor is Benign.\")"
   ]
  },
  {
   "cell_type": "code",
   "execution_count": null,
   "id": "965857ca",
   "metadata": {},
   "outputs": [],
   "source": []
  }
 ],
 "metadata": {
  "kernelspec": {
   "display_name": "Python 3 (ipykernel)",
   "language": "python",
   "name": "python3"
  },
  "language_info": {
   "codemirror_mode": {
    "name": "ipython",
    "version": 3
   },
   "file_extension": ".py",
   "mimetype": "text/x-python",
   "name": "python",
   "nbconvert_exporter": "python",
   "pygments_lexer": "ipython3",
   "version": "3.10.11"
  }
 },
 "nbformat": 4,
 "nbformat_minor": 5
}

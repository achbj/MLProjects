{
 "cells": [
  {
   "cell_type": "code",
   "execution_count": 1,
   "id": "f48ef567",
   "metadata": {},
   "outputs": [],
   "source": [
    "import tensorflow as tf\n",
    "from sklearn.datasets import fetch_california_housing\n",
    "from sklearn.model_selection import train_test_split\n",
    "from sklearn.preprocessing import StandardScaler"
   ]
  },
  {
   "cell_type": "code",
   "execution_count": 2,
   "id": "94630b82",
   "metadata": {},
   "outputs": [],
   "source": [
    "# Load and preprocess the dataset\n",
    "housing = fetch_california_housing()\n",
    "X_train_full, X_test_full, y_train, y_test = train_test_split(housing.data, housing.target, random_state=42)\n",
    "scaler = StandardScaler()\n",
    "X_train = scaler.fit_transform(X_train_full)\n",
    "X_test = scaler.fit_transform(X_test_full)"
   ]
  },
  {
   "cell_type": "code",
   "execution_count": 3,
   "id": "ecc62931",
   "metadata": {
    "scrolled": true
   },
   "outputs": [
    {
     "name": "stdout",
     "output_type": "stream",
     "text": [
      "Epoch 1/20\n"
     ]
    },
    {
     "name": "stderr",
     "output_type": "stream",
     "text": [
      "2024-01-04 15:45:44.541548: W tensorflow/tsl/platform/profile_utils/cpu_utils.cc:128] Failed to get CPU frequency: 0 Hz\n"
     ]
    },
    {
     "name": "stdout",
     "output_type": "stream",
     "text": [
      "83/83 [==============================] - 1s 7ms/step - loss: 1.2100 - val_loss: 0.5958\n",
      "Epoch 2/20\n",
      "83/83 [==============================] - 0s 5ms/step - loss: 0.5817 - val_loss: 0.5980\n",
      "Epoch 3/20\n",
      "83/83 [==============================] - 0s 5ms/step - loss: 0.5389 - val_loss: 0.5504\n",
      "Epoch 4/20\n",
      "83/83 [==============================] - 0s 5ms/step - loss: 0.5354 - val_loss: 0.5530\n",
      "Epoch 5/20\n",
      "83/83 [==============================] - 0s 5ms/step - loss: 0.5289 - val_loss: 0.5485\n",
      "Epoch 6/20\n",
      "83/83 [==============================] - 0s 5ms/step - loss: 0.5376 - val_loss: 0.5561\n",
      "Epoch 7/20\n",
      "83/83 [==============================] - 0s 5ms/step - loss: 0.5223 - val_loss: 0.5471\n",
      "Epoch 8/20\n",
      "83/83 [==============================] - 0s 5ms/step - loss: 0.5256 - val_loss: 0.5446\n",
      "Epoch 9/20\n",
      "83/83 [==============================] - 0s 5ms/step - loss: 0.5302 - val_loss: 0.5491\n",
      "Epoch 10/20\n",
      "83/83 [==============================] - 0s 5ms/step - loss: 0.5255 - val_loss: 0.5529\n",
      "Epoch 11/20\n",
      "83/83 [==============================] - 0s 5ms/step - loss: 0.5359 - val_loss: 0.5540\n",
      "Epoch 12/20\n",
      "83/83 [==============================] - 0s 5ms/step - loss: 0.5218 - val_loss: 0.5500\n",
      "Epoch 13/20\n",
      "83/83 [==============================] - 0s 5ms/step - loss: 0.5240 - val_loss: 0.5483\n",
      "Epoch 14/20\n",
      "83/83 [==============================] - 0s 5ms/step - loss: 0.5247 - val_loss: 0.5433\n",
      "Epoch 15/20\n",
      "83/83 [==============================] - 0s 5ms/step - loss: 0.5746 - val_loss: 0.5635\n",
      "Epoch 16/20\n",
      "83/83 [==============================] - 0s 5ms/step - loss: 0.5298 - val_loss: 0.5547\n",
      "Epoch 17/20\n",
      "83/83 [==============================] - 0s 5ms/step - loss: 0.5246 - val_loss: 0.5602\n",
      "Epoch 18/20\n",
      "83/83 [==============================] - 0s 5ms/step - loss: 0.5340 - val_loss: 0.5580\n",
      "Epoch 19/20\n",
      "83/83 [==============================] - 0s 5ms/step - loss: 0.5281 - val_loss: 0.5583\n",
      "Epoch 20/20\n",
      "83/83 [==============================] - 0s 5ms/step - loss: 0.5298 - val_loss: 0.5527\n"
     ]
    },
    {
     "data": {
      "text/plain": [
       "<keras.callbacks.History at 0x29ce8a500>"
      ]
     },
     "execution_count": 3,
     "metadata": {},
     "output_type": "execute_result"
    }
   ],
   "source": [
    "# Building the TensorFlow Model\n",
    "model_tf = tf.keras.models.Sequential([\n",
    "    tf.keras.layers.Dense(30, activation='relu', input_shape=X_train.shape[1:]),\n",
    "    tf.keras.layers.Dense(30, activation='relu'),\n",
    "    \n",
    "    \n",
    "    \n",
    "#     tf.keras.layers.Dense(600, activation='relu'),\n",
    "    \n",
    "    tf.keras.layers.Dense(1)\n",
    "])\n",
    "\n",
    "# Compiling the model\n",
    "model_tf.compile(optimizer='sgd', loss='mean_squared_error')\n",
    "\n",
    "# Training the TensorFlow model\n",
    "model_tf.fit(X_train, y_train, epochs=20, validation_split=0.1, batch_size=168)"
   ]
  },
  {
   "cell_type": "code",
   "execution_count": 4,
   "id": "6986702c",
   "metadata": {},
   "outputs": [
    {
     "name": "stdout",
     "output_type": "stream",
     "text": [
      "162/162 [==============================] - 1s 3ms/step - loss: 0.5327\n"
     ]
    }
   ],
   "source": [
    "# Evaluate model\n",
    "mse_test = model_tf.evaluate(X_test, y_test)"
   ]
  },
  {
   "cell_type": "code",
   "execution_count": 5,
   "id": "4c3938a3",
   "metadata": {},
   "outputs": [
    {
     "name": "stdout",
     "output_type": "stream",
     "text": [
      "162/162 [==============================] - 0s 2ms/step\n"
     ]
    }
   ],
   "source": [
    "import numpy as np\n",
    "\n",
    "# Predictions in test sets\n",
    "prediction = model_tf.predict(X_test)"
   ]
  },
  {
   "cell_type": "code",
   "execution_count": 6,
   "id": "32284201",
   "metadata": {},
   "outputs": [
    {
     "name": "stdout",
     "output_type": "stream",
     "text": [
      "Mean Squared Error: 2.170025351128788\n"
     ]
    }
   ],
   "source": [
    "# MSE \n",
    "mse = np.mean(np.square(prediction - y_test))\n",
    "print(f'Mean Squared Error: {mse}')"
   ]
  },
  {
   "cell_type": "markdown",
   "id": "1fbdf802",
   "metadata": {},
   "source": [
    "# PyTorch"
   ]
  },
  {
   "cell_type": "code",
   "execution_count": 7,
   "id": "4cf327df",
   "metadata": {},
   "outputs": [],
   "source": [
    "import torch\n",
    "import torch.nn as nn\n",
    "import torch.optim as optim\n",
    "from torch.utils.data import TensorDataset, DataLoader"
   ]
  },
  {
   "cell_type": "code",
   "execution_count": 8,
   "id": "51af7458",
   "metadata": {},
   "outputs": [],
   "source": [
    "# Transform train and test test to torch tensors\n",
    "X_train_torch = torch.tensor(X_train, dtype=torch.float32)\n",
    "y_train_torch = torch.tensor(y_train, dtype=torch.float32)\n",
    "X_test_torch = torch.tensor(X_test, dtype=torch.float32)\n",
    "y_test_torch = torch.tensor(y_test, dtype=torch.float32)\n",
    "\n",
    "train_data = TensorDataset(X_train_torch, y_train_torch)\n",
    "train_loader = DataLoader(train_data, batch_size=32, shuffle=True)"
   ]
  },
  {
   "cell_type": "code",
   "execution_count": 9,
   "id": "bf7951c7",
   "metadata": {},
   "outputs": [],
   "source": [
    "# Building the PyTorch model\n",
    "class RegressionModel(nn.Module):\n",
    "    def __init__(self):\n",
    "        super(RegressionModel, self).__init__()\n",
    "        self.linear1 = nn.Linear(X_train_torch.shape[1], 30)\n",
    "        self.linear2 = nn.Linear(30, 1)\n",
    "    \n",
    "    def forward(self, x):\n",
    "        x = torch.relu(self.linear1(x))\n",
    "        return self.linear2(x)\n",
    "\n",
    "model_torch = RegressionModel()\n",
    "criterion = nn.MSELoss()\n",
    "optimizer = optim.SGD(model_torch.parameters(), lr=0.01)"
   ]
  },
  {
   "cell_type": "code",
   "execution_count": 10,
   "id": "af822602",
   "metadata": {},
   "outputs": [],
   "source": [
    "# Training the PyTorch model\n",
    "model_torch.train()\n",
    "for epoch in range(20):\n",
    "    for x_batch, y_batch in train_loader:\n",
    "        optimizer.zero_grad()\n",
    "        output = model_torch(x_batch)\n",
    "        loss = criterion(output, y_batch.unsqueeze(1))\n",
    "        loss.backward()\n",
    "        optimizer.step()"
   ]
  },
  {
   "cell_type": "code",
   "execution_count": 11,
   "id": "98edc3f6",
   "metadata": {},
   "outputs": [
    {
     "name": "stdout",
     "output_type": "stream",
     "text": [
      "MSE Test (TensorFlow): 0.5326807498931885\n",
      "MSE Test (PyTorch): 1.5519731044769287\n"
     ]
    }
   ],
   "source": [
    "# Evaluate the PyTorch model\n",
    "model_torch.eval()\n",
    "with torch.no_grad():\n",
    "    predictions = model_torch(X_test_torch)\n",
    "    mse_test_torch = criterion(predictions, y_test_torch.unsqueeze(1)).item()\n",
    "\n",
    "print(\"MSE Test (TensorFlow):\", mse_test)\n",
    "print(\"MSE Test (PyTorch):\", mse_test_torch)"
   ]
  }
 ],
 "metadata": {
  "kernelspec": {
   "display_name": "Python 3.10 (nn)",
   "language": "python",
   "name": "nn"
  },
  "language_info": {
   "codemirror_mode": {
    "name": "ipython",
    "version": 3
   },
   "file_extension": ".py",
   "mimetype": "text/x-python",
   "name": "python",
   "nbconvert_exporter": "python",
   "pygments_lexer": "ipython3",
   "version": "3.10.11"
  }
 },
 "nbformat": 4,
 "nbformat_minor": 5
}
